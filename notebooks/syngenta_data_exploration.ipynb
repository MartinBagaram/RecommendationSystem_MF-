{
 "cells": [
  {
   "cell_type": "code",
   "execution_count": 1,
   "metadata": {
    "colab": {
     "base_uri": "https://localhost:8080/",
     "height": 139
    },
    "colab_type": "code",
    "id": "MO_GPKaibAji",
    "outputId": "e1dc802a-5a47-48cc-9295-e4605bb86bbd"
   },
   "outputs": [
    {
     "ename": "ModuleNotFoundError",
     "evalue": "No module named 'google.colab'",
     "output_type": "error",
     "traceback": [
      "\u001b[1;31m---------------------------------------------------------------------------\u001b[0m",
      "\u001b[1;31mModuleNotFoundError\u001b[0m                       Traceback (most recent call last)",
      "\u001b[1;32m<ipython-input-1-286dcffc6698>\u001b[0m in \u001b[0;36m<module>\u001b[1;34m\u001b[0m\n\u001b[1;32m----> 1\u001b[1;33m \u001b[1;32mfrom\u001b[0m \u001b[0mgoogle\u001b[0m\u001b[1;33m.\u001b[0m\u001b[0mcolab\u001b[0m \u001b[1;32mimport\u001b[0m \u001b[0mdrive\u001b[0m\u001b[1;33m\u001b[0m\u001b[1;33m\u001b[0m\u001b[0m\n\u001b[0m\u001b[0;32m      2\u001b[0m \u001b[0mdrive\u001b[0m\u001b[1;33m.\u001b[0m\u001b[0mmount\u001b[0m\u001b[1;33m(\u001b[0m\u001b[1;34m'/gdrive'\u001b[0m\u001b[1;33m)\u001b[0m\u001b[1;33m\u001b[0m\u001b[1;33m\u001b[0m\u001b[0m\n\u001b[0;32m      3\u001b[0m \u001b[0mget_ipython\u001b[0m\u001b[1;33m(\u001b[0m\u001b[1;33m)\u001b[0m\u001b[1;33m.\u001b[0m\u001b[0msystem\u001b[0m\u001b[1;33m(\u001b[0m\u001b[1;34m'ls /gdrive'\u001b[0m\u001b[1;33m)\u001b[0m\u001b[1;33m\u001b[0m\u001b[1;33m\u001b[0m\u001b[0m\n",
      "\u001b[1;31mModuleNotFoundError\u001b[0m: No module named 'google.colab'"
     ]
    }
   ],
   "source": [
    "from google.colab import drive\n",
    "drive.mount('/gdrive')\n",
    "!ls /gdrive"
   ]
  },
  {
   "cell_type": "code",
   "execution_count": 1,
   "metadata": {
    "colab": {},
    "colab_type": "code",
    "id": "CaR1PUrubPeA"
   },
   "outputs": [],
   "source": [
    "import os\n",
    "# import numpy as np\n",
    "import matplotlib.pyplot as plt\n",
    "import pandas as pd\n",
    "# from sklearn.metrics import mean_squared_error\n"
   ]
  },
  {
   "cell_type": "code",
   "execution_count": 2,
   "metadata": {},
   "outputs": [],
   "source": [
    "###  This is a hack to allow sibling import\n",
    "import os,sys,inspect\n",
    "currentdir = os.path.dirname(os.path.abspath(inspect.getfile(inspect.currentframe())))\n",
    "parentdir = os.path.dirname(currentdir)\n",
    "sys.path.insert(0,parentdir)\n",
    "from matrix_completion.mat_fact import MatrixFactorization\n",
    "from matrix_completion.utilis import test_train_split, is_split_good"
   ]
  },
  {
   "cell_type": "code",
   "execution_count": null,
   "metadata": {},
   "outputs": [],
   "source": []
  },
  {
   "cell_type": "code",
   "execution_count": 3,
   "metadata": {
    "colab": {
     "base_uri": "https://localhost:8080/",
     "height": 204
    },
    "colab_type": "code",
    "id": "B3U1bCq9bmKC",
    "outputId": "d06df611-c878-4036-f39f-e1151dea13d8"
   },
   "outputs": [
    {
     "data": {
      "text/html": [
       "<div>\n",
       "<style scoped>\n",
       "    .dataframe tbody tr th:only-of-type {\n",
       "        vertical-align: middle;\n",
       "    }\n",
       "\n",
       "    .dataframe tbody tr th {\n",
       "        vertical-align: top;\n",
       "    }\n",
       "\n",
       "    .dataframe thead th {\n",
       "        text-align: right;\n",
       "    }\n",
       "</style>\n",
       "<table border=\"1\" class=\"dataframe\">\n",
       "  <thead>\n",
       "    <tr style=\"text-align: right;\">\n",
       "      <th></th>\n",
       "      <th>INBRED</th>\n",
       "      <th>TESTER</th>\n",
       "      <th>mean</th>\n",
       "    </tr>\n",
       "  </thead>\n",
       "  <tbody>\n",
       "    <tr>\n",
       "      <th>0</th>\n",
       "      <td>Inbred_1071</td>\n",
       "      <td>Tester_1345</td>\n",
       "      <td>0.986544</td>\n",
       "    </tr>\n",
       "    <tr>\n",
       "      <th>1</th>\n",
       "      <td>Inbred_1071</td>\n",
       "      <td>Tester_4373</td>\n",
       "      <td>1.057704</td>\n",
       "    </tr>\n",
       "    <tr>\n",
       "      <th>2</th>\n",
       "      <td>Inbred_1071</td>\n",
       "      <td>Tester_4473</td>\n",
       "      <td>1.023704</td>\n",
       "    </tr>\n",
       "    <tr>\n",
       "      <th>3</th>\n",
       "      <td>Inbred_1071</td>\n",
       "      <td>Tester_4541</td>\n",
       "      <td>1.014735</td>\n",
       "    </tr>\n",
       "    <tr>\n",
       "      <th>4</th>\n",
       "      <td>Inbred_1071</td>\n",
       "      <td>Tester_5305</td>\n",
       "      <td>1.062727</td>\n",
       "    </tr>\n",
       "  </tbody>\n",
       "</table>\n",
       "</div>"
      ],
      "text/plain": [
       "        INBRED       TESTER      mean\n",
       "0  Inbred_1071  Tester_1345  0.986544\n",
       "1  Inbred_1071  Tester_4373  1.057704\n",
       "2  Inbred_1071  Tester_4473  1.023704\n",
       "3  Inbred_1071  Tester_4541  1.014735\n",
       "4  Inbred_1071  Tester_5305  1.062727"
      ]
     },
     "execution_count": 3,
     "metadata": {},
     "output_type": "execute_result"
    }
   ],
   "source": [
    "grp_df = pd.read_csv(\"../data/input/grouped_data.csv\")\n",
    "grp_df.drop(labels=grp_df.columns[0], axis=1, inplace=True)\n",
    "grp_df.head()"
   ]
  },
  {
   "cell_type": "code",
   "execution_count": 4,
   "metadata": {
    "colab": {},
    "colab_type": "code",
    "id": "ZeBAQe5ObmKI"
   },
   "outputs": [],
   "source": [
    "train_df = grp_df.pivot(index='INBRED', columns='TESTER', values='mean')"
   ]
  },
  {
   "cell_type": "code",
   "execution_count": 5,
   "metadata": {
    "colab": {},
    "colab_type": "code",
    "id": "bZJVQ9XcbmKa"
   },
   "outputs": [],
   "source": [
    "test_, train_ = test_train_split(train_df=train_df, seed=6)"
   ]
  },
  {
   "cell_type": "code",
   "execution_count": 6,
   "metadata": {},
   "outputs": [],
   "source": [
    "mat_fac = MatrixFactorization(train_)"
   ]
  },
  {
   "cell_type": "code",
   "execution_count": 7,
   "metadata": {},
   "outputs": [],
   "source": [
    "\n",
    "kmax = 3\n",
    "\n",
    "parameters = {\n",
    "    'alphas': [10**i for i in range(-2,0)],\n",
    "    'betas': [10**i for i in range(-2,0)],\n",
    "    'lambdas': [0.1, 0.001],\n",
    "    'ks': list(range(2, kmax+1, 2))\n",
    "}\n",
    "\n",
    "bests = mat_fac.grid_search(parameters=parameters, kfold=2, iter_max=10)\n"
   ]
  },
  {
   "cell_type": "code",
   "execution_count": 8,
   "metadata": {},
   "outputs": [
    {
     "data": {
      "image/png": "[encoded data removed]",
      "text/plain": [
       "<Figure size 432x288 with 1 Axes>"
      ]
     },
     "metadata": {
      "needs_background": "light"
     },
     "output_type": "display_data"
    },
    {
     "name": "stdout",
     "output_type": "stream",
     "text": [
      "coefficient of determination: 0.7264125918852397\n",
      "y=0.23596519750208478 + [0.7634398] * x\n"
     ]
    }
   ],
   "source": [
    "mat_fac.fit()\n",
    "pred = mat_fac.predict(test_)\n",
    "# plot some results\n",
    "mat_fac.plot_predicted_actual(test_)"
   ]
  },
  {
   "cell_type": "code",
   "execution_count": 10,
   "metadata": {},
   "outputs": [
    {
     "data": {
      "text/plain": [
       "{(2, 0.01, 0.01, 0.1): {'mse': [0.032200955505045654, 0.03508908124561152],\n",
       "  'iter': [10, 10],\n",
       "  'mean': 0.033645018375328586,\n",
       "  'sd': 0.001444062870282932},\n",
       " (2, 0.01, 0.01, 0.001): {'mse': [0.03132077070114164, 0.03384671340604497],\n",
       "  'iter': [10, 10],\n",
       "  'mean': 0.03258374205359331,\n",
       "  'sd': 0.0012629713524516632},\n",
       " (2, 0.01, 0.1, 0.1): {'mse': [0.015875516951981784, 0.018848636056477762],\n",
       "  'iter': [10, 10],\n",
       "  'mean': 0.017362076504229773,\n",
       "  'sd': 0.0014865595522479888},\n",
       " (2, 0.01, 0.1, 0.001): {'mse': [0.02238089874429514, 0.019987023245810552],\n",
       "  'iter': [10, 10],\n",
       "  'mean': 0.021183960995052847,\n",
       "  'sd': 0.0011969377492422936},\n",
       " (2, 0.1, 0.01, 0.1): {'mse': [0.005383025215499293, 0.008173649964594064],\n",
       "  'iter': [10, 10],\n",
       "  'mean': 0.006778337590046679,\n",
       "  'sd': 0.0013953123745473854},\n",
       " (2, 0.1, 0.01, 0.001): {'mse': [0.0050565754287626, 0.007251613283439181],\n",
       "  'iter': [10, 10],\n",
       "  'mean': 0.006154094356100891,\n",
       "  'sd': 0.0010975189273382904},\n",
       " (2, 0.1, 0.1, 0.1): {'mse': [0.0029489082978754037, 0.003448049672332824],\n",
       "  'iter': [10, 10],\n",
       "  'mean': 0.003198478985104114,\n",
       "  'sd': 0.0002495706872287101},\n",
       " (2, 0.1, 0.1, 0.001): {'mse': [0.0030525765029446855, 0.003465276860435678],\n",
       "  'iter': [10, 10],\n",
       "  'mean': 0.003258926681690182,\n",
       "  'sd': 0.00020635017874549638}}"
      ]
     },
     "execution_count": 10,
     "metadata": {},
     "output_type": "execute_result"
    }
   ],
   "source": [
    "mat_fac.best_param"
   ]
  },
  {
   "cell_type": "code",
   "execution_count": 11,
   "metadata": {},
   "outputs": [
    {
     "data": {
      "text/plain": [
       "{(2, 0.1, 0.1, 0.1): {'mean': 0.003198478985104114,\n",
       "  'sd': 0.0002495706872287101,\n",
       "  'iter': 10}}"
      ]
     },
     "execution_count": 11,
     "metadata": {},
     "output_type": "execute_result"
    }
   ],
   "source": [
    "mat_fac.global_best"
   ]
  },
  {
   "cell_type": "code",
   "execution_count": 12,
   "metadata": {},
   "outputs": [],
   "source": [
    "def correction(y):\n",
    "    return (y - 0.23596519750208478) / 0.7634398"
   ]
  },
  {
   "cell_type": "code",
   "execution_count": 14,
   "metadata": {},
   "outputs": [
    {
     "data": {
      "text/html": [
       "<div>\n",
       "<style scoped>\n",
       "    .dataframe tbody tr th:only-of-type {\n",
       "        vertical-align: middle;\n",
       "    }\n",
       "\n",
       "    .dataframe tbody tr th {\n",
       "        vertical-align: top;\n",
       "    }\n",
       "\n",
       "    .dataframe thead th {\n",
       "        text-align: right;\n",
       "    }\n",
       "</style>\n",
       "<table border=\"1\" class=\"dataframe\">\n",
       "  <thead>\n",
       "    <tr style=\"text-align: right;\">\n",
       "      <th>TESTER</th>\n",
       "      <th>Tester_1345</th>\n",
       "      <th>Tester_1349</th>\n",
       "      <th>Tester_1397</th>\n",
       "      <th>Tester_2636</th>\n",
       "      <th>Tester_2652</th>\n",
       "      <th>Tester_2683</th>\n",
       "      <th>Tester_2689</th>\n",
       "      <th>Tester_2690</th>\n",
       "      <th>Tester_2721</th>\n",
       "      <th>Tester_2724</th>\n",
       "      <th>...</th>\n",
       "      <th>Tester_821</th>\n",
       "      <th>Tester_8218</th>\n",
       "      <th>Tester_8246</th>\n",
       "      <th>Tester_8248</th>\n",
       "      <th>Tester_8249</th>\n",
       "      <th>Tester_8250</th>\n",
       "      <th>Tester_8253</th>\n",
       "      <th>Tester_8254</th>\n",
       "      <th>Tester_828</th>\n",
       "      <th>Tester_829</th>\n",
       "    </tr>\n",
       "    <tr>\n",
       "      <th>INBRED</th>\n",
       "      <th></th>\n",
       "      <th></th>\n",
       "      <th></th>\n",
       "      <th></th>\n",
       "      <th></th>\n",
       "      <th></th>\n",
       "      <th></th>\n",
       "      <th></th>\n",
       "      <th></th>\n",
       "      <th></th>\n",
       "      <th></th>\n",
       "      <th></th>\n",
       "      <th></th>\n",
       "      <th></th>\n",
       "      <th></th>\n",
       "      <th></th>\n",
       "      <th></th>\n",
       "      <th></th>\n",
       "      <th></th>\n",
       "      <th></th>\n",
       "      <th></th>\n",
       "    </tr>\n",
       "  </thead>\n",
       "  <tbody>\n",
       "    <tr>\n",
       "      <th>Inbred_1071</th>\n",
       "      <td>0.969057</td>\n",
       "      <td>1.055028</td>\n",
       "      <td>0.887558</td>\n",
       "      <td>0.964557</td>\n",
       "      <td>0.984964</td>\n",
       "      <td>0.962251</td>\n",
       "      <td>0.927634</td>\n",
       "      <td>1.001486</td>\n",
       "      <td>0.795414</td>\n",
       "      <td>0.928092</td>\n",
       "      <td>...</td>\n",
       "      <td>1.052383</td>\n",
       "      <td>1.099251</td>\n",
       "      <td>0.905158</td>\n",
       "      <td>1.030662</td>\n",
       "      <td>1.100013</td>\n",
       "      <td>1.232359</td>\n",
       "      <td>0.986168</td>\n",
       "      <td>0.882199</td>\n",
       "      <td>1.015173</td>\n",
       "      <td>1.030522</td>\n",
       "    </tr>\n",
       "    <tr>\n",
       "      <th>Inbred_122</th>\n",
       "      <td>0.992539</td>\n",
       "      <td>1.211582</td>\n",
       "      <td>0.975549</td>\n",
       "      <td>1.131133</td>\n",
       "      <td>1.112436</td>\n",
       "      <td>1.009887</td>\n",
       "      <td>0.891741</td>\n",
       "      <td>0.956553</td>\n",
       "      <td>1.153938</td>\n",
       "      <td>0.628051</td>\n",
       "      <td>...</td>\n",
       "      <td>1.137648</td>\n",
       "      <td>1.058705</td>\n",
       "      <td>0.898117</td>\n",
       "      <td>1.139900</td>\n",
       "      <td>0.914537</td>\n",
       "      <td>1.192899</td>\n",
       "      <td>1.137947</td>\n",
       "      <td>0.671808</td>\n",
       "      <td>1.070798</td>\n",
       "      <td>0.974690</td>\n",
       "    </tr>\n",
       "    <tr>\n",
       "      <th>Inbred_1337</th>\n",
       "      <td>1.088146</td>\n",
       "      <td>1.057429</td>\n",
       "      <td>1.053145</td>\n",
       "      <td>0.859304</td>\n",
       "      <td>1.150580</td>\n",
       "      <td>0.618195</td>\n",
       "      <td>0.988879</td>\n",
       "      <td>1.124274</td>\n",
       "      <td>0.696774</td>\n",
       "      <td>1.114465</td>\n",
       "      <td>...</td>\n",
       "      <td>1.099850</td>\n",
       "      <td>0.818615</td>\n",
       "      <td>0.872485</td>\n",
       "      <td>0.972389</td>\n",
       "      <td>1.101683</td>\n",
       "      <td>1.209382</td>\n",
       "      <td>0.864690</td>\n",
       "      <td>1.087930</td>\n",
       "      <td>0.949592</td>\n",
       "      <td>0.830219</td>\n",
       "    </tr>\n",
       "    <tr>\n",
       "      <th>Inbred_1339</th>\n",
       "      <td>0.998598</td>\n",
       "      <td>1.063302</td>\n",
       "      <td>1.044683</td>\n",
       "      <td>0.838954</td>\n",
       "      <td>1.182137</td>\n",
       "      <td>0.396613</td>\n",
       "      <td>0.819615</td>\n",
       "      <td>0.966646</td>\n",
       "      <td>0.873175</td>\n",
       "      <td>0.719803</td>\n",
       "      <td>...</td>\n",
       "      <td>1.048709</td>\n",
       "      <td>0.529103</td>\n",
       "      <td>0.700722</td>\n",
       "      <td>0.909809</td>\n",
       "      <td>0.760702</td>\n",
       "      <td>1.008042</td>\n",
       "      <td>0.823863</td>\n",
       "      <td>0.790659</td>\n",
       "      <td>0.830212</td>\n",
       "      <td>0.552364</td>\n",
       "    </tr>\n",
       "    <tr>\n",
       "      <th>Inbred_1340</th>\n",
       "      <td>0.995254</td>\n",
       "      <td>1.025777</td>\n",
       "      <td>0.752717</td>\n",
       "      <td>1.059824</td>\n",
       "      <td>0.788568</td>\n",
       "      <td>1.553692</td>\n",
       "      <td>1.121638</td>\n",
       "      <td>1.129466</td>\n",
       "      <td>0.582996</td>\n",
       "      <td>1.370789</td>\n",
       "      <td>...</td>\n",
       "      <td>1.075545</td>\n",
       "      <td>1.745535</td>\n",
       "      <td>1.176461</td>\n",
       "      <td>1.154114</td>\n",
       "      <td>1.604635</td>\n",
       "      <td>1.541554</td>\n",
       "      <td>1.125608</td>\n",
       "      <td>1.160014</td>\n",
       "      <td>1.231674</td>\n",
       "      <td>1.596053</td>\n",
       "    </tr>\n",
       "  </tbody>\n",
       "</table>\n",
       "<p>5 rows × 496 columns</p>\n",
       "</div>"
      ],
      "text/plain": [
       "TESTER       Tester_1345  Tester_1349  Tester_1397  Tester_2636  Tester_2652  \\\n",
       "INBRED                                                                         \n",
       "Inbred_1071     0.969057     1.055028     0.887558     0.964557     0.984964   \n",
       "Inbred_122      0.992539     1.211582     0.975549     1.131133     1.112436   \n",
       "Inbred_1337     1.088146     1.057429     1.053145     0.859304     1.150580   \n",
       "Inbred_1339     0.998598     1.063302     1.044683     0.838954     1.182137   \n",
       "Inbred_1340     0.995254     1.025777     0.752717     1.059824     0.788568   \n",
       "\n",
       "TESTER       Tester_2683  Tester_2689  Tester_2690  Tester_2721  Tester_2724  \\\n",
       "INBRED                                                                         \n",
       "Inbred_1071     0.962251     0.927634     1.001486     0.795414     0.928092   \n",
       "Inbred_122      1.009887     0.891741     0.956553     1.153938     0.628051   \n",
       "Inbred_1337     0.618195     0.988879     1.124274     0.696774     1.114465   \n",
       "Inbred_1339     0.396613     0.819615     0.966646     0.873175     0.719803   \n",
       "Inbred_1340     1.553692     1.121638     1.129466     0.582996     1.370789   \n",
       "\n",
       "TESTER          ...      Tester_821  Tester_8218  Tester_8246  Tester_8248  \\\n",
       "INBRED          ...                                                          \n",
       "Inbred_1071     ...        1.052383     1.099251     0.905158     1.030662   \n",
       "Inbred_122      ...        1.137648     1.058705     0.898117     1.139900   \n",
       "Inbred_1337     ...        1.099850     0.818615     0.872485     0.972389   \n",
       "Inbred_1339     ...        1.048709     0.529103     0.700722     0.909809   \n",
       "Inbred_1340     ...        1.075545     1.745535     1.176461     1.154114   \n",
       "\n",
       "TESTER       Tester_8249  Tester_8250  Tester_8253  Tester_8254  Tester_828  \\\n",
       "INBRED                                                                        \n",
       "Inbred_1071     1.100013     1.232359     0.986168     0.882199    1.015173   \n",
       "Inbred_122      0.914537     1.192899     1.137947     0.671808    1.070798   \n",
       "Inbred_1337     1.101683     1.209382     0.864690     1.087930    0.949592   \n",
       "Inbred_1339     0.760702     1.008042     0.823863     0.790659    0.830212   \n",
       "Inbred_1340     1.604635     1.541554     1.125608     1.160014    1.231674   \n",
       "\n",
       "TESTER       Tester_829  \n",
       "INBRED                   \n",
       "Inbred_1071    1.030522  \n",
       "Inbred_122     0.974690  \n",
       "Inbred_1337    0.830219  \n",
       "Inbred_1339    0.552364  \n",
       "Inbred_1340    1.596053  \n",
       "\n",
       "[5 rows x 496 columns]"
      ]
     },
     "execution_count": 14,
     "metadata": {},
     "output_type": "execute_result"
    }
   ],
   "source": [
    "pred.head()"
   ]
  },
  {
   "cell_type": "code",
   "execution_count": 15,
   "metadata": {},
   "outputs": [
    {
     "data": {
      "text/html": [
       "<div>\n",
       "<style scoped>\n",
       "    .dataframe tbody tr th:only-of-type {\n",
       "        vertical-align: middle;\n",
       "    }\n",
       "\n",
       "    .dataframe tbody tr th {\n",
       "        vertical-align: top;\n",
       "    }\n",
       "\n",
       "    .dataframe thead th {\n",
       "        text-align: right;\n",
       "    }\n",
       "</style>\n",
       "<table border=\"1\" class=\"dataframe\">\n",
       "  <thead>\n",
       "    <tr style=\"text-align: right;\">\n",
       "      <th>TESTER</th>\n",
       "      <th>Tester_1345</th>\n",
       "      <th>Tester_1349</th>\n",
       "      <th>Tester_1397</th>\n",
       "      <th>Tester_2636</th>\n",
       "      <th>Tester_2652</th>\n",
       "      <th>Tester_2683</th>\n",
       "      <th>Tester_2689</th>\n",
       "      <th>Tester_2690</th>\n",
       "      <th>Tester_2721</th>\n",
       "      <th>Tester_2724</th>\n",
       "      <th>...</th>\n",
       "      <th>Tester_821</th>\n",
       "      <th>Tester_8218</th>\n",
       "      <th>Tester_8246</th>\n",
       "      <th>Tester_8248</th>\n",
       "      <th>Tester_8249</th>\n",
       "      <th>Tester_8250</th>\n",
       "      <th>Tester_8253</th>\n",
       "      <th>Tester_8254</th>\n",
       "      <th>Tester_828</th>\n",
       "      <th>Tester_829</th>\n",
       "    </tr>\n",
       "    <tr>\n",
       "      <th>INBRED</th>\n",
       "      <th></th>\n",
       "      <th></th>\n",
       "      <th></th>\n",
       "      <th></th>\n",
       "      <th></th>\n",
       "      <th></th>\n",
       "      <th></th>\n",
       "      <th></th>\n",
       "      <th></th>\n",
       "      <th></th>\n",
       "      <th></th>\n",
       "      <th></th>\n",
       "      <th></th>\n",
       "      <th></th>\n",
       "      <th></th>\n",
       "      <th></th>\n",
       "      <th></th>\n",
       "      <th></th>\n",
       "      <th></th>\n",
       "      <th></th>\n",
       "      <th></th>\n",
       "    </tr>\n",
       "  </thead>\n",
       "  <tbody>\n",
       "    <tr>\n",
       "      <th>Inbred_1071</th>\n",
       "      <td>0.960248</td>\n",
       "      <td>1.072859</td>\n",
       "      <td>0.853497</td>\n",
       "      <td>0.954354</td>\n",
       "      <td>0.981084</td>\n",
       "      <td>0.951334</td>\n",
       "      <td>0.905989</td>\n",
       "      <td>1.002726</td>\n",
       "      <td>0.732800</td>\n",
       "      <td>0.906590</td>\n",
       "      <td>...</td>\n",
       "      <td>1.069394</td>\n",
       "      <td>1.130785</td>\n",
       "      <td>0.876549</td>\n",
       "      <td>1.040942</td>\n",
       "      <td>1.131783</td>\n",
       "      <td>1.305137</td>\n",
       "      <td>0.982661</td>\n",
       "      <td>0.846477</td>\n",
       "      <td>1.020654</td>\n",
       "      <td>1.040759</td>\n",
       "    </tr>\n",
       "    <tr>\n",
       "      <th>Inbred_122</th>\n",
       "      <td>0.991007</td>\n",
       "      <td>1.277923</td>\n",
       "      <td>0.968752</td>\n",
       "      <td>1.172546</td>\n",
       "      <td>1.148055</td>\n",
       "      <td>1.013730</td>\n",
       "      <td>0.858975</td>\n",
       "      <td>0.943870</td>\n",
       "      <td>1.202416</td>\n",
       "      <td>0.513578</td>\n",
       "      <td>...</td>\n",
       "      <td>1.181079</td>\n",
       "      <td>1.077675</td>\n",
       "      <td>0.867327</td>\n",
       "      <td>1.184029</td>\n",
       "      <td>0.888835</td>\n",
       "      <td>1.253450</td>\n",
       "      <td>1.181471</td>\n",
       "      <td>0.570893</td>\n",
       "      <td>1.093515</td>\n",
       "      <td>0.967627</td>\n",
       "    </tr>\n",
       "    <tr>\n",
       "      <th>Inbred_1337</th>\n",
       "      <td>1.116238</td>\n",
       "      <td>1.076004</td>\n",
       "      <td>1.070392</td>\n",
       "      <td>0.816487</td>\n",
       "      <td>1.198018</td>\n",
       "      <td>0.500668</td>\n",
       "      <td>0.986212</td>\n",
       "      <td>1.163561</td>\n",
       "      <td>0.603596</td>\n",
       "      <td>1.150713</td>\n",
       "      <td>...</td>\n",
       "      <td>1.131569</td>\n",
       "      <td>0.763190</td>\n",
       "      <td>0.833753</td>\n",
       "      <td>0.964613</td>\n",
       "      <td>1.133970</td>\n",
       "      <td>1.275041</td>\n",
       "      <td>0.823543</td>\n",
       "      <td>1.115956</td>\n",
       "      <td>0.934752</td>\n",
       "      <td>0.778390</td>\n",
       "    </tr>\n",
       "    <tr>\n",
       "      <th>Inbred_1339</th>\n",
       "      <td>0.998943</td>\n",
       "      <td>1.083697</td>\n",
       "      <td>1.059308</td>\n",
       "      <td>0.789831</td>\n",
       "      <td>1.239354</td>\n",
       "      <td>0.210427</td>\n",
       "      <td>0.764500</td>\n",
       "      <td>0.957091</td>\n",
       "      <td>0.834656</td>\n",
       "      <td>0.633761</td>\n",
       "      <td>...</td>\n",
       "      <td>1.064582</td>\n",
       "      <td>0.383970</td>\n",
       "      <td>0.608767</td>\n",
       "      <td>0.882642</td>\n",
       "      <td>0.687332</td>\n",
       "      <td>1.011313</td>\n",
       "      <td>0.770064</td>\n",
       "      <td>0.726572</td>\n",
       "      <td>0.778381</td>\n",
       "      <td>0.414438</td>\n",
       "    </tr>\n",
       "    <tr>\n",
       "      <th>Inbred_1340</th>\n",
       "      <td>0.994563</td>\n",
       "      <td>1.034544</td>\n",
       "      <td>0.676873</td>\n",
       "      <td>1.079141</td>\n",
       "      <td>0.723833</td>\n",
       "      <td>1.726039</td>\n",
       "      <td>1.160108</td>\n",
       "      <td>1.170362</td>\n",
       "      <td>0.454562</td>\n",
       "      <td>1.486461</td>\n",
       "      <td>...</td>\n",
       "      <td>1.099733</td>\n",
       "      <td>1.977327</td>\n",
       "      <td>1.231918</td>\n",
       "      <td>1.202647</td>\n",
       "      <td>1.792767</td>\n",
       "      <td>1.710140</td>\n",
       "      <td>1.165308</td>\n",
       "      <td>1.210375</td>\n",
       "      <td>1.304240</td>\n",
       "      <td>1.781526</td>\n",
       "    </tr>\n",
       "  </tbody>\n",
       "</table>\n",
       "<p>5 rows × 496 columns</p>\n",
       "</div>"
      ],
      "text/plain": [
       "TESTER       Tester_1345  Tester_1349  Tester_1397  Tester_2636  Tester_2652  \\\n",
       "INBRED                                                                         \n",
       "Inbred_1071     0.960248     1.072859     0.853497     0.954354     0.981084   \n",
       "Inbred_122      0.991007     1.277923     0.968752     1.172546     1.148055   \n",
       "Inbred_1337     1.116238     1.076004     1.070392     0.816487     1.198018   \n",
       "Inbred_1339     0.998943     1.083697     1.059308     0.789831     1.239354   \n",
       "Inbred_1340     0.994563     1.034544     0.676873     1.079141     0.723833   \n",
       "\n",
       "TESTER       Tester_2683  Tester_2689  Tester_2690  Tester_2721  Tester_2724  \\\n",
       "INBRED                                                                         \n",
       "Inbred_1071     0.951334     0.905989     1.002726     0.732800     0.906590   \n",
       "Inbred_122      1.013730     0.858975     0.943870     1.202416     0.513578   \n",
       "Inbred_1337     0.500668     0.986212     1.163561     0.603596     1.150713   \n",
       "Inbred_1339     0.210427     0.764500     0.957091     0.834656     0.633761   \n",
       "Inbred_1340     1.726039     1.160108     1.170362     0.454562     1.486461   \n",
       "\n",
       "TESTER          ...      Tester_821  Tester_8218  Tester_8246  Tester_8248  \\\n",
       "INBRED          ...                                                          \n",
       "Inbred_1071     ...        1.069394     1.130785     0.876549     1.040942   \n",
       "Inbred_122      ...        1.181079     1.077675     0.867327     1.184029   \n",
       "Inbred_1337     ...        1.131569     0.763190     0.833753     0.964613   \n",
       "Inbred_1339     ...        1.064582     0.383970     0.608767     0.882642   \n",
       "Inbred_1340     ...        1.099733     1.977327     1.231918     1.202647   \n",
       "\n",
       "TESTER       Tester_8249  Tester_8250  Tester_8253  Tester_8254  Tester_828  \\\n",
       "INBRED                                                                        \n",
       "Inbred_1071     1.131783     1.305137     0.982661     0.846477    1.020654   \n",
       "Inbred_122      0.888835     1.253450     1.181471     0.570893    1.093515   \n",
       "Inbred_1337     1.133970     1.275041     0.823543     1.115956    0.934752   \n",
       "Inbred_1339     0.687332     1.011313     0.770064     0.726572    0.778381   \n",
       "Inbred_1340     1.792767     1.710140     1.165308     1.210375    1.304240   \n",
       "\n",
       "TESTER       Tester_829  \n",
       "INBRED                   \n",
       "Inbred_1071    1.040759  \n",
       "Inbred_122     0.967627  \n",
       "Inbred_1337    0.778390  \n",
       "Inbred_1339    0.414438  \n",
       "Inbred_1340    1.781526  \n",
       "\n",
       "[5 rows x 496 columns]"
      ]
     },
     "execution_count": 15,
     "metadata": {},
     "output_type": "execute_result"
    }
   ],
   "source": [
    "pred.apply(correction).head()"
   ]
  },
  {
   "cell_type": "code",
   "execution_count": 10,
   "metadata": {},
   "outputs": [
    {
     "data": {
      "text/plain": [
       "Index(['Inbred_1071', 'Inbred_122', 'Inbred_1337', 'Inbred_1339',\n",
       "       'Inbred_1340', 'Inbred_1341', 'Inbred_1342', 'Inbred_1344',\n",
       "       'Inbred_1345', 'Inbred_1346',\n",
       "       ...\n",
       "       'Inbred_801', 'Inbred_803', 'Inbred_804', 'Inbred_805', 'Inbred_810',\n",
       "       'Inbred_818', 'Inbred_819', 'Inbred_821', 'Inbred_828', 'Inbred_836'],\n",
       "      dtype='object', name='INBRED', length=593)"
      ]
     },
     "execution_count": 10,
     "metadata": {},
     "output_type": "execute_result"
    }
   ],
   "source": [
    "test_.index"
   ]
  },
  {
   "cell_type": "code",
   "execution_count": null,
   "metadata": {
    "colab": {},
    "colab_type": "code",
    "id": "FwWYwdPjbmKi",
    "outputId": "b95e979a-f0ef-4f36-d863-a49df07b6bb8",
    "scrolled": true
   },
   "outputs": [],
   "source": [
    "kmax = 30\n",
    "ks  = range(2, kmax+1, 2)\n",
    "alphas = [10**i for i in range(-5,0)]\n",
    "betas = [10**i for i in range(-5,0)]\n",
    "lambdas = [10**i for i in range(-5,0)]\n",
    "best_test_error = {}\n",
    "for k in ks:\n",
    "    print(f'running k = {k}')\n",
    "    if k > 5:\n",
    "        for a in alphas:\n",
    "            for beta in betas:\n",
    "                for lambda_bias in lambdas:\n",
    "                    \n",
    "                    mf = MF(train_df.values, K=k, alpha=a, beta=beta, iterations=300, lambda_bias=lambda_bias, test=test_df.values)\n",
    "                    training_process, test_process = mf.train()\n",
    "                    best_test_error[(k, a, beta, lambda_bias)] = min(test_process)"
   ]
  },
  {
   "cell_type": "code",
   "execution_count": null,
   "metadata": {
    "colab": {},
    "colab_type": "code",
    "id": "AM0cM0u_bmKu"
   },
   "outputs": [],
   "source": [
    "mf = MF(train_.values, 26, 0.001, 0.001, 150, 1e-05, test=test_.values)\n",
    "training_process, test_process = mf.train()"
   ]
  },
  {
   "cell_type": "code",
   "execution_count": null,
   "metadata": {},
   "outputs": [],
   "source": [
    "assert(np.all((train_df.values * test_df.values) == 0))"
   ]
  },
  {
   "cell_type": "code",
   "execution_count": null,
   "metadata": {
    "colab": {},
    "colab_type": "code",
    "id": "hKrlWcX_bmKy",
    "outputId": "09bcf481-05eb-4830-8a57-a8bb3518927a"
   },
   "outputs": [],
   "source": [
    "fig, axs = plt.subplots(1, 2)\n",
    "axs[0].plot(test_process)\n",
    "axs[0].set_title('Test error')\n",
    "axs[1].plot(list(map(lambda x: x[1], training_process)))\n",
    "axs[1].set_title('Training  error')"
   ]
  },
  {
   "cell_type": "code",
   "execution_count": null,
   "metadata": {},
   "outputs": [],
   "source": []
  },
  {
   "cell_type": "code",
   "execution_count": 2,
   "metadata": {
    "colab": {},
    "colab_type": "code",
    "id": "818rO1YKbmK1",
    "outputId": "0f8d5fad-5075-46db-bf8d-f499165b40e8"
   },
   "outputs": [
    {
     "ename": "NameError",
     "evalue": "name 'test_' is not defined",
     "output_type": "error",
     "traceback": [
      "\u001b[1;31m---------------------------------------------------------------------------\u001b[0m",
      "\u001b[1;31mNameError\u001b[0m                                 Traceback (most recent call last)",
      "\u001b[1;32m<ipython-input-2-85dd1d13e4bc>\u001b[0m in \u001b[0;36m<module>\u001b[1;34m\u001b[0m\n\u001b[0;32m      4\u001b[0m     \u001b[0mgca\u001b[0m\u001b[1;33m.\u001b[0m\u001b[0mplot\u001b[0m\u001b[1;33m(\u001b[0m\u001b[0mgca\u001b[0m\u001b[1;33m.\u001b[0m\u001b[0mget_xlim\u001b[0m\u001b[1;33m(\u001b[0m\u001b[1;33m)\u001b[0m\u001b[1;33m,\u001b[0m\u001b[0mgca\u001b[0m\u001b[1;33m.\u001b[0m\u001b[0mget_ylim\u001b[0m\u001b[1;33m(\u001b[0m\u001b[1;33m)\u001b[0m\u001b[1;33m,\u001b[0m \u001b[1;34m'red'\u001b[0m\u001b[1;33m)\u001b[0m\u001b[1;33m\u001b[0m\u001b[1;33m\u001b[0m\u001b[0m\n\u001b[0;32m      5\u001b[0m \u001b[1;33m\u001b[0m\u001b[0m\n\u001b[1;32m----> 6\u001b[1;33m \u001b[0mtest\u001b[0m \u001b[1;33m=\u001b[0m \u001b[0mtest_\u001b[0m\u001b[1;33m.\u001b[0m\u001b[0mvalues\u001b[0m\u001b[1;33m\u001b[0m\u001b[1;33m\u001b[0m\u001b[0m\n\u001b[0m\u001b[0;32m      7\u001b[0m \u001b[0mx\u001b[0m \u001b[1;33m=\u001b[0m \u001b[0mtest\u001b[0m\u001b[1;33m[\u001b[0m\u001b[0mtest\u001b[0m\u001b[1;33m.\u001b[0m\u001b[0mnonzero\u001b[0m\u001b[1;33m(\u001b[0m\u001b[1;33m)\u001b[0m\u001b[1;33m]\u001b[0m\u001b[1;33m.\u001b[0m\u001b[0mflatten\u001b[0m\u001b[1;33m(\u001b[0m\u001b[1;33m)\u001b[0m\u001b[1;33m\u001b[0m\u001b[1;33m\u001b[0m\u001b[0m\n\u001b[0;32m      8\u001b[0m \u001b[0my\u001b[0m \u001b[1;33m=\u001b[0m \u001b[0mmf\u001b[0m\u001b[1;33m.\u001b[0m\u001b[0mfull_matrix\u001b[0m\u001b[1;33m(\u001b[0m\u001b[1;33m)\u001b[0m\u001b[1;33m[\u001b[0m\u001b[0mtest\u001b[0m\u001b[1;33m.\u001b[0m\u001b[0mnonzero\u001b[0m\u001b[1;33m(\u001b[0m\u001b[1;33m)\u001b[0m\u001b[1;33m]\u001b[0m\u001b[1;33m.\u001b[0m\u001b[0mflatten\u001b[0m\u001b[1;33m(\u001b[0m\u001b[1;33m)\u001b[0m\u001b[1;33m\u001b[0m\u001b[1;33m\u001b[0m\u001b[0m\n",
      "\u001b[1;31mNameError\u001b[0m: name 'test_' is not defined"
     ]
    }
   ],
   "source": [
    "def abline():\n",
    "    gca = plt.gca()\n",
    "    gca.set_autoscale_on(False)\n",
    "    gca.plot(gca.get_xlim(),gca.get_ylim(), 'red')\n",
    "    \n",
    "test = test_.values\n",
    "x = test[test.nonzero()].flatten()\n",
    "y = mf.full_matrix()[test.nonzero()].flatten()\n",
    "plt.scatter(x, y, alpha = 0.5)\n",
    "plt.xlabel(\"actual test\")\n",
    "plt.ylabel(\"predicted test\")\n",
    "abline()\n",
    "plt.show()"
   ]
  },
  {
   "cell_type": "code",
   "execution_count": null,
   "metadata": {},
   "outputs": [],
   "source": []
  },
  {
   "cell_type": "code",
   "execution_count": null,
   "metadata": {
    "colab": {},
    "colab_type": "code",
    "id": "s_ddx86ubmK3"
   },
   "outputs": [],
   "source": [
    "to_write = open('split1.txt', 'a')\n",
    "to_write.write(\"a\\\\n\")\n",
    "to_write.close()"
   ]
  },
  {
   "cell_type": "code",
   "execution_count": null,
   "metadata": {
    "colab": {},
    "colab_type": "code",
    "id": "JMfNPCcJbmK4"
   },
   "outputs": [],
   "source": [
    "# mf = MF(train_df.values, K=10, alpha=0.01, beta=0.1, iterations=300, lambda_bias=0.15, test=test_df.values)\n",
    "# training_process, test_process = mf.train()"
   ]
  },
  {
   "cell_type": "code",
   "execution_count": null,
   "metadata": {
    "colab": {},
    "colab_type": "code",
    "id": "hehFoojxbmK7",
    "outputId": "836ae917-1fba-45de-f93c-c4cd01297b3a"
   },
   "outputs": [],
   "source": [
    "plt.hist(mf.full_matrix().flatten())"
   ]
  },
  {
   "cell_type": "code",
   "execution_count": null,
   "metadata": {
    "colab": {},
    "colab_type": "code",
    "id": "YFs9kj1cbmK8",
    "outputId": "d9866935-94c4-4680-d87b-45da67e7181d"
   },
   "outputs": [],
   "source": [
    "best_test_error"
   ]
  },
  {
   "cell_type": "code",
   "execution_count": null,
   "metadata": {
    "colab": {},
    "colab_type": "code",
    "id": "K1ncx3fRbmK-"
   },
   "outputs": [],
   "source": [
    "ordered_results = sorted(best_test_error.items(), key=lambda x: x[1])"
   ]
  },
  {
   "cell_type": "code",
   "execution_count": null,
   "metadata": {
    "colab": {},
    "colab_type": "code",
    "id": "H8vMPhd2bmLA",
    "outputId": "0d9234c9-227c-45c1-9ef5-da67259207a2"
   },
   "outputs": [],
   "source": [
    "ordered_results"
   ]
  },
  {
   "cell_type": "code",
   "execution_count": null,
   "metadata": {
    "colab": {},
    "colab_type": "code",
    "id": "eqYb3-M6bmLC",
    "outputId": "823baa4d-3d24-4a43-a1ca-d2ac3a868fd0"
   },
   "outputs": [],
   "source": [
    "best_test_error.itertuple()"
   ]
  },
  {
   "cell_type": "code",
   "execution_count": null,
   "metadata": {
    "colab": {},
    "colab_type": "code",
    "id": "MphTv4w6bmLH",
    "outputId": "bb28465e-66d8-4b62-a356-7ae4bc796b6f",
    "scrolled": true
   },
   "outputs": [],
   "source": [
    "max(best_test_error.values())"
   ]
  },
  {
   "cell_type": "code",
   "execution_count": null,
   "metadata": {
    "colab": {},
    "colab_type": "code",
    "id": "BmJcB6JXbmLI"
   },
   "outputs": [],
   "source": [
    "# elements = [val for i, val in enumerate(ordered_results) if i < 20]\n",
    "count = 0\n",
    "with open('results.txt', 'w') as f:\n",
    "    while count < 20:\n",
    "        val = ordered_results[count]\n",
    "        f.write(str(val)[1:-1] + '\\n')\n",
    "        count +=1\n"
   ]
  },
  {
   "cell_type": "code",
   "execution_count": null,
   "metadata": {
    "colab": {},
    "colab_type": "code",
    "id": "GsrdF0ExcXbU"
   },
   "outputs": [],
   "source": [
    "k, a, beta, lambda_bias = 26, 0.001, 0.001, 1e-05\n",
    "mf = MF(train_df.values, K=k, alpha=a, beta=beta, iterations=300, lambda_bias=lambda_bias, test=test_df.values)\n",
    "training_process, test_process = mf.train()\n",
    "plt.plot(test_process)"
   ]
  },
  {
   "cell_type": "code",
   "execution_count": null,
   "metadata": {
    "colab": {
     "base_uri": "https://localhost:8080/",
     "height": 282
    },
    "colab_type": "code",
    "id": "4Mi2cGmId1Qt",
    "outputId": "7b006eb6-5262-4b27-d953-b6fec1feca03"
   },
   "outputs": [],
   "source": [
    "plt.plot(test_process)"
   ]
  },
  {
   "cell_type": "code",
   "execution_count": null,
   "metadata": {
    "colab": {
     "base_uri": "https://localhost:8080/",
     "height": 34
    },
    "colab_type": "code",
    "id": "0pFoobYPd5os",
    "outputId": "bfec9eed-e398-46d0-9f18-73f6258178bb"
   },
   "outputs": [],
   "source": [
    "print(min(test_process))"
   ]
  },
  {
   "cell_type": "code",
   "execution_count": null,
   "metadata": {
    "colab": {},
    "colab_type": "code",
    "id": "M2XRR06LbmLL"
   },
   "outputs": [],
   "source": [
    "# another MF method"
   ]
  },
  {
   "cell_type": "code",
   "execution_count": null,
   "metadata": {
    "colab": {},
    "colab_type": "code",
    "id": "QR_5FK70dP6Y"
   },
   "outputs": [],
   "source": []
  },
  {
   "cell_type": "code",
   "execution_count": null,
   "metadata": {
    "colab": {},
    "colab_type": "code",
    "id": "bFtQ1x6O2Gf7"
   },
   "outputs": [],
   "source": [
    "class ExplicitMF():\n",
    "    def __init__(self, \n",
    "                 ratings,\n",
    "                 n_factors=40,\n",
    "                 learning='sgd',\n",
    "                 item_fact_reg=0.1, \n",
    "                 user_fact_reg=0.1,\n",
    "                 item_bias_reg=0.1,\n",
    "                 user_bias_reg=0.1,\n",
    "                 verbose=False):\n",
    "        \"\"\"\n",
    "        Train a matrix factorization model to predict empty \n",
    "        entries in a matrix. The terminology assumes a \n",
    "        ratings matrix which is ~ user x item\n",
    "        \n",
    "        Params\n",
    "        ======\n",
    "        ratings : (ndarray)\n",
    "            User x Item matrix with corresponding ratings\n",
    "        \n",
    "        n_factors : (int)\n",
    "            Number of latent factors to use in matrix \n",
    "            factorization model\n",
    "        learning : (str)\n",
    "            Method of optimization. Options include \n",
    "            'sgd' or 'als'.\n",
    "        \n",
    "        item_fact_reg : (float)\n",
    "            Regularization term for item latent factors\n",
    "        \n",
    "        user_fact_reg : (float)\n",
    "            Regularization term for user latent factors\n",
    "            \n",
    "        item_bias_reg : (float)\n",
    "            Regularization term for item biases\n",
    "        \n",
    "        user_bias_reg : (float)\n",
    "            Regularization term for user biases\n",
    "        \n",
    "        verbose : (bool)\n",
    "            Whether or not to printout training progress\n",
    "        \"\"\"\n",
    "        \n",
    "        self.ratings = ratings\n",
    "        self.n_users, self.n_items = ratings.shape\n",
    "        self.n_factors = n_factors\n",
    "        self.item_fact_reg = item_fact_reg\n",
    "        self.user_fact_reg = user_fact_reg\n",
    "        self.item_bias_reg = item_bias_reg\n",
    "        self.user_bias_reg = user_bias_reg\n",
    "        self.learning = learning\n",
    "        if self.learning == 'sgd':\n",
    "            self.sample_row, self.sample_col = self.ratings.nonzero()\n",
    "            self.n_samples = len(self.sample_row)\n",
    "        self._v = verbose\n",
    "\n",
    "    def als_step(self,\n",
    "                 latent_vectors,\n",
    "                 fixed_vecs,\n",
    "                 ratings,\n",
    "                 _lambda,\n",
    "                 type='user'):\n",
    "        \"\"\"\n",
    "        One of the two ALS steps. Solve for the latent vectors\n",
    "        specified by type.\n",
    "        \"\"\"\n",
    "        if type == 'user':\n",
    "            # Precompute\n",
    "            YTY = fixed_vecs.T.dot(fixed_vecs)\n",
    "            lambdaI = np.eye(YTY.shape[0]) * _lambda\n",
    "\n",
    "            for u in range(latent_vectors.shape[0]):\n",
    "                latent_vectors[u, :] = solve((YTY + lambdaI), \n",
    "                                             ratings[u, :].dot(fixed_vecs))\n",
    "        elif type == 'item':\n",
    "            # Precompute\n",
    "            XTX = fixed_vecs.T.dot(fixed_vecs)\n",
    "            lambdaI = np.eye(XTX.shape[0]) * _lambda\n",
    "            \n",
    "            for i in range(latent_vectors.shape[0]):\n",
    "                latent_vectors[i, :] = solve((XTX + lambdaI), \n",
    "                                             ratings[:, i].T.dot(fixed_vecs))\n",
    "        return latent_vectors\n",
    "\n",
    "    def train(self, n_iter=10, learning_rate=0.01):\n",
    "        \"\"\" Train model for n_iter iterations from scratch.\"\"\"\n",
    "        # initialize latent vectors        \n",
    "        self.user_vecs = np.random.normal(scale=1./self.n_factors,\\\n",
    "                                          size=(self.n_users, self.n_factors))\n",
    "        self.item_vecs = np.random.normal(scale=1./self.n_factors,\n",
    "                                          size=(self.n_items, self.n_factors))\n",
    "        self.user_vecs_velocity = np.zeros((self.n_users, self.n_factors))\n",
    "        self.item_vecs_velocity = np.zeros((self.n_items, self.n_factors))\n",
    "\n",
    "        if self.learning == 'als':\n",
    "            self.partial_train(n_iter)\n",
    "        elif self.learning == 'sgd':\n",
    "            self.learning_rate = learning_rate\n",
    "            self.momentum = 0.9\n",
    "            self.user_bias = np.zeros(self.n_users)\n",
    "            self.item_bias = np.zeros(self.n_items)\n",
    "            self.user_bias_velocity = np.zeros(self.n_users)\n",
    "            self.item_bias_velocity = np.zeros(self.n_items)\n",
    "            self.global_bias = np.mean(self.ratings[np.where(self.ratings != 0)])\n",
    "            self.partial_train(n_iter)\n",
    "    \n",
    "    \n",
    "    def partial_train(self, n_iter):\n",
    "        \"\"\" \n",
    "        Train model for n_iter iterations. Can be \n",
    "        called multiple times for further training.\n",
    "        \"\"\"\n",
    "        ctr = 1\n",
    "        while ctr <= n_iter:\n",
    "            if ctr % 10 == 0 and self._v:\n",
    "                print ('\\tcurrent iteration: {}'.format(ctr))\n",
    "            if self.learning == 'als':\n",
    "                self.user_vecs = self.als_step(self.user_vecs, \n",
    "                                               self.item_vecs, \n",
    "                                               self.ratings, \n",
    "                                               self.user_fact_reg, \n",
    "                                               type='user')\n",
    "                self.item_vecs = self.als_step(self.item_vecs, \n",
    "                                               self.user_vecs, \n",
    "                                               self.ratings, \n",
    "                                               self.item_fact_reg, \n",
    "                                               type='item')\n",
    "            elif self.learning == 'sgd':\n",
    "                self.training_indices = np.arange(self.n_samples)\n",
    "                np.random.shuffle(self.training_indices)\n",
    "                self.sgd()\n",
    "            ctr += 1\n",
    "\n",
    "    def sgd(self):\n",
    "        for idx in self.training_indices:\n",
    "            u = self.sample_row[idx]\n",
    "            i = self.sample_col[idx]\n",
    "            prediction = self.predict(u, i)\n",
    "            e = (self.ratings[u,i] - prediction) # error\n",
    "            \n",
    "            # Update biases\n",
    "            self.user_bias_velocity[u] = self.momentum * self.user_bias_velocity[u] + \\\n",
    "                                        self.learning_rate * (e - self.user_bias_reg * self.user_bias[u])\n",
    "            self.user_bias[u] += self.user_bias_velocity[u]\n",
    "\n",
    "            self.item_bias_velocity[i] = self.momentum * self.item_bias_velocity[i] + \\\n",
    "                                        self.learning_rate * (e - self.item_bias_reg * self.item_bias[i])\n",
    "            self.item_bias[i] += self.item_bias_velocity[i]\n",
    "\n",
    "            # self.user_bias[u] += self.learning_rate * \\\n",
    "            #                     (e - self.user_bias_reg * self.user_bias[u])\n",
    "            # self.item_bias[i] += self.learning_rate * \\\n",
    "            #                     (e - self.item_bias_reg * self.item_bias[i])\n",
    "            \n",
    "            #Update latent factors\n",
    "            self.user_vecs_velocity[u, :] = self.momentum * self.user_vecs_velocity[u, :] + \\\n",
    "                                        self.learning_rate * \\\n",
    "                                        (e * self.item_vecs[i, :] - \\\n",
    "                                        self.user_fact_reg * self.user_vecs[u,:])\n",
    "            self.user_vecs[u, :] += self.user_vecs_velocity[u, :]\n",
    "\n",
    "            self.item_vecs_velocity[i, :] = self.momentum * self.item_vecs_velocity[i, :] + \\\n",
    "                                        self.learning_rate * \\\n",
    "                                        (e * self.user_vecs[u, :] - \\\n",
    "                                        self.item_fact_reg * self.item_vecs[i,:])\n",
    "            self.item_vecs[i :] += self.item_vecs_velocity[i, :]\n",
    "\n",
    "            # self.user_vecs[u, :] += self.learning_rate * \\\n",
    "            #                         (e * self.item_vecs[i, :] - \\\n",
    "            #                          self.user_fact_reg * self.user_vecs[u,:])\n",
    "            # self.item_vecs[i, :] += self.learning_rate * \\\n",
    "            #                         (e * self.user_vecs[u, :] - \\\n",
    "            #                          self.item_fact_reg * self.item_vecs[i,:])\n",
    "    def predict(self, u, i):\n",
    "        \"\"\" Single user and item prediction.\"\"\"\n",
    "        if self.learning == 'als':\n",
    "            return self.user_vecs[u, :].dot(self.item_vecs[i, :].T)\n",
    "        elif self.learning == 'sgd':\n",
    "            prediction = self.global_bias + self.user_bias[u] + self.item_bias[i]\n",
    "            prediction += self.user_vecs[u, :].dot(self.item_vecs[i, :].T)\n",
    "            return prediction\n",
    "    \n",
    "    def predict_all(self):\n",
    "        \"\"\" Predict ratings for every user and item.\"\"\"\n",
    "        predictions = np.zeros((self.user_vecs.shape[0], \n",
    "                                self.item_vecs.shape[0]))\n",
    "        for u in range(self.user_vecs.shape[0]):\n",
    "            for i in range(self.item_vecs.shape[0]):\n",
    "                predictions[u, i] = self.predict(u, i)\n",
    "                \n",
    "        return predictions\n",
    "    \n",
    "    def calculate_learning_curve(self, iter_array, test, learning_rate=0.01):\n",
    "        \"\"\"\n",
    "        Keep track of MSE as a function of training iterations.\n",
    "        \n",
    "        Params\n",
    "        ======\n",
    "        iter_array : (list)\n",
    "            List of numbers of iterations to train for each step of \n",
    "            the learning curve. e.g. [1, 5, 10, 20]\n",
    "        test : (2D ndarray)\n",
    "            Testing dataset (assumed to be user x item).\n",
    "        \n",
    "        The function creates two new class attributes:\n",
    "        \n",
    "        train_mse : (list)\n",
    "            Training data MSE values for each value of iter_array\n",
    "        test_mse : (list)\n",
    "            Test data MSE values for each value of iter_array\n",
    "        \"\"\"\n",
    "        iter_array.sort()\n",
    "        self.train_mse =[]\n",
    "        self.test_mse = []\n",
    "        iter_diff = 0\n",
    "        for (i, n_iter) in enumerate(iter_array):\n",
    "            if self._v:\n",
    "                print ('Iteration: {}'.format(n_iter))\n",
    "            if i == 0:\n",
    "                self.train(n_iter - iter_diff, learning_rate)\n",
    "            else:\n",
    "                self.partial_train(n_iter - iter_diff)\n",
    "\n",
    "            predictions = self.predict_all()\n",
    "\n",
    "            self.train_mse += [get_mse(predictions, self.ratings)]\n",
    "            self.test_mse += [get_mse(predictions, test)]\n",
    "            if self._v:\n",
    "                print ('Train mse: ' + str(self.train_mse[-1]))\n",
    "                print ('Test mse: ' + str(self.test_mse[-1]))\n",
    "            iter_diff = n_iter"
   ]
  },
  {
   "cell_type": "code",
   "execution_count": null,
   "metadata": {
    "colab": {},
    "colab_type": "code",
    "id": "E5ua3Jkaehe1"
   },
   "outputs": [],
   "source": [
    "%matplotlib inline\n",
    "import matplotlib.pyplot as plt\n",
    "import seaborn as sns\n",
    "sns.set()\n",
    "\n",
    "def plot_learning_curve(iter_array, model):\n",
    "    plt.plot(iter_array, model.train_mse, \\\n",
    "             label='Training', linewidth=5)\n",
    "    plt.plot(iter_array, model.test_mse, \\\n",
    "             label='Test', linewidth=5)\n",
    "\n",
    "\n",
    "    plt.xticks(fontsize=16);\n",
    "    plt.yticks(fontsize=16);\n",
    "    plt.xlabel('iterations', fontsize=30);\n",
    "    plt.ylabel('MSE', fontsize=30);\n",
    "    plt.legend(loc='best', fontsize=20);"
   ]
  },
  {
   "cell_type": "code",
   "execution_count": null,
   "metadata": {
    "colab": {},
    "colab_type": "code",
    "id": "1DFzGgi4dGcz"
   },
   "outputs": [],
   "source": [
    "from sklearn.metrics import mean_squared_error\n",
    "\n",
    "def get_mse(pred, actual):\n",
    "    # Ignore nonzero terms.\n",
    "    pred = pred[actual.nonzero()].flatten()\n",
    "    actual = actual[actual.nonzero()].flatten()\n",
    "    return mean_squared_error(pred, actual)"
   ]
  },
  {
   "cell_type": "code",
   "execution_count": null,
   "metadata": {
    "colab": {},
    "colab_type": "code",
    "id": "sc6kIHKtdJJm"
   },
   "outputs": [],
   "source": [
    "#MF_SGD = ExplicitMF(train, 40, learning='sgd', verbose=True)\n",
    "MF_SGD = ExplicitMF(train_df.values,\n",
    "                    n_factors=40,\n",
    "                    learning='sgd',\n",
    "                    \n",
    "                    item_fact_reg=0.1, \n",
    "                    user_fact_reg=0.1,\n",
    "                    item_bias_reg=0.1,\n",
    "                    user_bias_reg=0.1,\n",
    "                    verbose=True)\n",
    "iter_array = [1, 2, 5, 10, 25, 50, 100, 200,300]\n",
    "MF_SGD.calculate_learning_curve(iter_array, test_df.values, learning_rate=0.001)"
   ]
  },
  {
   "cell_type": "code",
   "execution_count": null,
   "metadata": {
    "colab": {
     "base_uri": "https://localhost:8080/",
     "height": 306
    },
    "colab_type": "code",
    "id": "LYDIYcRDdy3p",
    "outputId": "7102f6ae-d42a-4486-e904-81c80c24219e"
   },
   "outputs": [],
   "source": [
    "plot_learning_curve(iter_array, MF_SGD)"
   ]
  },
  {
   "cell_type": "code",
   "execution_count": null,
   "metadata": {
    "colab": {
     "base_uri": "https://localhost:8080/",
     "height": 34
    },
    "colab_type": "code",
    "id": "oXOSQ1PSeIJK",
    "outputId": "5d8cfcbc-8290-4d0d-9f55-7f902755187a"
   },
   "outputs": [],
   "source": [
    "iter_array"
   ]
  },
  {
   "cell_type": "code",
   "execution_count": null,
   "metadata": {
    "colab": {
     "base_uri": "https://localhost:8080/",
     "height": 34
    },
    "colab_type": "code",
    "id": "E719bdBmeuFQ",
    "outputId": "3f7a08b4-a27c-42a6-bacd-fcd687cfa468"
   },
   "outputs": [],
   "source": [
    "get_mse(MF_SGD.predict_all(),test_df.values)"
   ]
  },
  {
   "cell_type": "code",
   "execution_count": null,
   "metadata": {
    "colab": {
     "base_uri": "https://localhost:8080/",
     "height": 34
    },
    "colab_type": "code",
    "id": "YJlOKVqXe6GX",
    "outputId": "8950986e-170c-4961-e603-9a581108defa"
   },
   "outputs": [],
   "source": [
    "get_mse(mf.full_matrix(),test_df.values)"
   ]
  },
  {
   "cell_type": "code",
   "execution_count": null,
   "metadata": {
    "colab": {},
    "colab_type": "code",
    "id": "NSLwTla4fDeN"
   },
   "outputs": [],
   "source": [
    "# try to take log, train, then exponentiate back\n",
    "train_df_log = np.ma.log(train_df.values)\n",
    "train_df_log = train_df_log.filled(0)\n",
    "test_df_log = np.ma.log(test_df.values)\n",
    "test_df_log = test_df_log.filled(0)"
   ]
  },
  {
   "cell_type": "code",
   "execution_count": null,
   "metadata": {
    "colab": {
     "base_uri": "https://localhost:8080/",
     "height": 285
    },
    "colab_type": "code",
    "id": "8G_cVAVeh9Qv",
    "outputId": "19fbe1de-e85c-4ad8-c0bf-11ff4aa0157a"
   },
   "outputs": [],
   "source": [
    "k, a, beta, lambda_bias = 26, 0.001, 0.001, 1e-05\n",
    "mf = MF(train_df_log, K=k, alpha=a, beta=beta, iterations=300, lambda_bias=lambda_bias, test=test_df_log)\n",
    "training_process, test_process = mf.train()\n",
    "plt.plot(test_process)"
   ]
  },
  {
   "cell_type": "code",
   "execution_count": null,
   "metadata": {
    "colab": {
     "base_uri": "https://localhost:8080/",
     "height": 34
    },
    "colab_type": "code",
    "id": "_yCf-izqh9E0",
    "outputId": "455735f2-5b55-4e0a-9e2b-0f93c8e99d65"
   },
   "outputs": [],
   "source": [
    "get_mse(np.exp(mf.full_matrix()),test_df.values)"
   ]
  },
  {
   "cell_type": "code",
   "execution_count": null,
   "metadata": {
    "colab": {
     "base_uri": "https://localhost:8080/",
     "height": 232
    },
    "colab_type": "code",
    "id": "oH6dSMUVgbow",
    "outputId": "d5016d1b-63cf-4582-f87a-d90d18a3ed91"
   },
   "outputs": [],
   "source": [
    "MF_SGD = ExplicitMF(train_df.values,\n",
    "                    n_factors=40,\n",
    "                    learning='sgd',\n",
    "                    item_fact_reg=0.1, \n",
    "                    user_fact_reg=0.1,\n",
    "                    item_bias_reg=0.1,\n",
    "                    user_bias_reg=0.1,\n",
    "                    verbose=False)\n",
    "iter_array = [1, 2, 5, 10, 25, 50]\n",
    "MF_SGD.calculate_learning_curve(iter_array, test_df.values, learning_rate=0.001)"
   ]
  },
  {
   "cell_type": "code",
   "execution_count": null,
   "metadata": {
    "colab": {
     "base_uri": "https://localhost:8080/",
     "height": 232
    },
    "colab_type": "code",
    "id": "zMLXDeOvV_e-",
    "outputId": "ca1dde91-c814-4a8d-f2eb-72d7890943f2"
   },
   "outputs": [],
   "source": [
    "MF_SGD = ExplicitMF(train,\n",
    "                    n_factors=40,\n",
    "                    learning='sgd',\n",
    "                    item_fact_reg=0.1, \n",
    "                    user_fact_reg=0.1,\n",
    "                    item_bias_reg=0.1,\n",
    "                    user_bias_reg=0.1,\n",
    "                    verbose=True)\n",
    "iter_array = [1, 2, 5, 10, 25, 50]\n",
    "MF_SGD.calculate_learning_curve(iter_array, test, learning_rate=0.001)"
   ]
  },
  {
   "cell_type": "code",
   "execution_count": null,
   "metadata": {
    "colab": {
     "base_uri": "https://localhost:8080/",
     "height": 34
    },
    "colab_type": "code",
    "id": "ohNJaeuAWMrZ",
    "outputId": "b0247317-3e6b-4e5f-c25e-1f92620f8f39"
   },
   "outputs": [],
   "source": [
    "get_mse(np.exp(MF_SGD.predict_all()),np.exp(test))"
   ]
  },
  {
   "cell_type": "code",
   "execution_count": null,
   "metadata": {
    "colab": {
     "base_uri": "https://localhost:8080/",
     "height": 306
    },
    "colab_type": "code",
    "id": "tM4-qwKdhgWC",
    "outputId": "dfdcdba6-d447-415b-9787-b45a0da8de3f"
   },
   "outputs": [],
   "source": [
    "plot_learning_curve(iter_array, MF_SGD)"
   ]
  },
  {
   "cell_type": "code",
   "execution_count": null,
   "metadata": {
    "colab": {
     "base_uri": "https://localhost:8080/",
     "height": 134
    },
    "colab_type": "code",
    "id": "BEokm4zw7taf",
    "outputId": "d45fe805-c359-4729-d524-43c330d42183"
   },
   "outputs": [],
   "source": [
    "from fancyimpute import KNN, NuclearNormMinimization, SoftImpute, BiScaler"
   ]
  },
  {
   "cell_type": "code",
   "execution_count": null,
   "metadata": {
    "colab": {},
    "colab_type": "code",
    "id": "Cm_da4hY8Bcd"
   },
   "outputs": [],
   "source": [
    "X_incomplete = train_df.replace(0,np.nan)"
   ]
  },
  {
   "cell_type": "code",
   "execution_count": null,
   "metadata": {
    "colab": {},
    "colab_type": "code",
    "id": "BdUHcuTT-Znl"
   },
   "outputs": [],
   "source": [
    "X_incomplete_log = np.log(X_incomplete)"
   ]
  },
  {
   "cell_type": "code",
   "execution_count": null,
   "metadata": {
    "colab": {
     "base_uri": "https://localhost:8080/",
     "height": 596
    },
    "colab_type": "code",
    "id": "kN5FX2Ib8YVd",
    "outputId": "8c4dedde-5a1d-4eb9-81a6-7993c9b414ae"
   },
   "outputs": [],
   "source": [
    "X_filled_nnm = NuclearNormMinimization().fit_transform(X_incomplete.values)"
   ]
  },
  {
   "cell_type": "code",
   "execution_count": 3,
   "metadata": {
    "colab": {},
    "colab_type": "code",
    "id": "n5AGclE_BNzj"
   },
   "outputs": [
    {
     "ename": "NameError",
     "evalue": "name 'X_incomplete_log' is not defined",
     "output_type": "error",
     "traceback": [
      "\u001b[1;31m---------------------------------------------------------------------------\u001b[0m",
      "\u001b[1;31mNameError\u001b[0m                                 Traceback (most recent call last)",
      "\u001b[1;32m<ipython-input-3-139e4b5ac700>\u001b[0m in \u001b[0;36m<module>\u001b[1;34m\u001b[0m\n\u001b[1;32m----> 1\u001b[1;33m \u001b[0mnull_mat\u001b[0m \u001b[1;33m=\u001b[0m \u001b[0mX_incomplete_log\u001b[0m\u001b[1;33m.\u001b[0m\u001b[0misnull\u001b[0m\u001b[1;33m(\u001b[0m\u001b[1;33m)\u001b[0m\u001b[1;33m.\u001b[0m\u001b[0mvalues\u001b[0m\u001b[1;33m\u001b[0m\u001b[1;33m\u001b[0m\u001b[0m\n\u001b[0m",
      "\u001b[1;31mNameError\u001b[0m: name 'X_incomplete_log' is not defined"
     ]
    }
   ],
   "source": [
    "null_mat = X_incomplete_log.isnull().values"
   ]
  },
  {
   "cell_type": "code",
   "execution_count": null,
   "metadata": {
    "colab": {
     "base_uri": "https://localhost:8080/",
     "height": 34
    },
    "colab_type": "code",
    "id": "BrOwsBfNCgXi",
    "outputId": "078cd9a2-4f7e-4645-e49a-6fc941b4cd1b"
   },
   "outputs": [],
   "source": [
    "null_mat[0,:].sum()"
   ]
  },
  {
   "cell_type": "code",
   "execution_count": null,
   "metadata": {
    "colab": {
     "base_uri": "https://localhost:8080/",
     "height": 34
    },
    "colab_type": "code",
    "id": "z6tAQ-AQClOG",
    "outputId": "a007d505-515d-4b21-ff8e-81a88e79a033"
   },
   "outputs": [],
   "source": [
    "null_mat.shape"
   ]
  },
  {
   "cell_type": "code",
   "execution_count": null,
   "metadata": {
    "colab": {},
    "colab_type": "code",
    "id": "UhMB0R7dC19J"
   },
   "outputs": [],
   "source": [
    "X_incomplete = train_df.copy()"
   ]
  },
  {
   "cell_type": "code",
   "execution_count": null,
   "metadata": {
    "colab": {
     "base_uri": "https://localhost:8080/",
     "height": 68
    },
    "colab_type": "code",
    "id": "t0iddVhx_KnJ",
    "outputId": "878a47d6-1826-4902-fb46-214a05ed5f44"
   },
   "outputs": [],
   "source": [
    "for i in range(len(null_mat)):\n",
    "    #print(train_df_log[i,0])\n",
    "    if null_mat[i,:].sum() == 496:\n",
    "        print(\"zero row\")\n",
    "        idx = np.random.choice(495)\n",
    "        X_incomplete.iloc[i,idx] = 0.01"
   ]
  },
  {
   "cell_type": "code",
   "execution_count": null,
   "metadata": {
    "colab": {},
    "colab_type": "code",
    "id": "BnYT0epoAU7d"
   },
   "outputs": [],
   "source": [
    "X_incomplete.replace(0, np.nan, inplace= True)"
   ]
  },
  {
   "cell_type": "code",
   "execution_count": null,
   "metadata": {
    "colab": {
     "base_uri": "https://localhost:8080/",
     "height": 470
    },
    "colab_type": "code",
    "id": "vyj2oWg3Dof_",
    "outputId": "19cf4c30-7f09-4d73-aa36-5d81db3da498"
   },
   "outputs": [],
   "source": [
    "X_incomplete_log"
   ]
  },
  {
   "cell_type": "code",
   "execution_count": null,
   "metadata": {
    "colab": {},
    "colab_type": "code",
    "id": "ukyZ6bZV-uVF"
   },
   "outputs": [],
   "source": [
    "si = SoftImpute(max_iters = 1000)\n"
   ]
  },
  {
   "cell_type": "code",
   "execution_count": null,
   "metadata": {
    "colab": {},
    "colab_type": "code",
    "id": "RBNvkREi8ynp"
   },
   "outputs": [],
   "source": [
    "# X_incomplete_normalized = BiScaler().fit_transform(train_na)\n",
    "X_filled_softimpute = si.fit_transform(train_na)"
   ]
  },
  {
   "cell_type": "code",
   "execution_count": null,
   "metadata": {
    "colab": {
     "base_uri": "https://localhost:8080/",
     "height": 34
    },
    "colab_type": "code",
    "id": "2vl0iQWT9hN9",
    "outputId": "dc13f44b-e4e8-4452-9023-1ac08d887467"
   },
   "outputs": [],
   "source": [
    "get_mse(np.exp(X_filled_softimpute), np.exp(test))"
   ]
  },
  {
   "cell_type": "code",
   "execution_count": null,
   "metadata": {
    "colab": {
     "base_uri": "https://localhost:8080/",
     "height": 279
    },
    "colab_type": "code",
    "id": "SB-xMg7vaYkX",
    "outputId": "5f3ed116-1bc6-409c-ed3c-82e052000e69"
   },
   "outputs": [],
   "source": [
    "plt.scatter(np.exp(test[test.nonzero()]).flatten(), np.exp(X_filled_softimpute[test.nonzero()].flatten()), alpha = 0.5)\n",
    "#plt.plot(np.exp(test[test.nonzero()]).flatten(), alpha = 0.5)\n",
    "plt.xlabel(\"test\")\n",
    "plt.ylabel(\"pred test\")\n",
    "plt.show()"
   ]
  },
  {
   "cell_type": "code",
   "execution_count": null,
   "metadata": {
    "colab": {
     "base_uri": "https://localhost:8080/",
     "height": 34
    },
    "colab_type": "code",
    "id": "iU82IrHVaGCc",
    "outputId": "f0ea9603-9dd8-4342-de07-88a16475cd4f"
   },
   "outputs": [],
   "source": [
    "np.sqrt(0.00017838840904557725)"
   ]
  },
  {
   "cell_type": "code",
   "execution_count": null,
   "metadata": {
    "colab": {
     "base_uri": "https://localhost:8080/",
     "height": 34
    },
    "colab_type": "code",
    "id": "_1xVgy0XJvP2",
    "outputId": "de96d182-3094-4661-b0d5-fc9a9463149a"
   },
   "outputs": [],
   "source": [
    "np.exp(train).max()"
   ]
  },
  {
   "cell_type": "code",
   "execution_count": null,
   "metadata": {
    "colab": {
     "base_uri": "https://localhost:8080/",
     "height": 34
    },
    "colab_type": "code",
    "id": "UttwhX-9FrD9",
    "outputId": "df393c27-4112-4ad7-903e-fbabce21668f"
   },
   "outputs": [],
   "source": [
    "np.exp(X_filled_softimpute).min()"
   ]
  },
  {
   "cell_type": "code",
   "execution_count": null,
   "metadata": {
    "colab": {
     "base_uri": "https://localhost:8080/",
     "height": 34
    },
    "colab_type": "code",
    "id": "32DSrBid-Owg",
    "outputId": "f8a9c134-c70a-4853-cde6-369c38a6c8d2"
   },
   "outputs": [],
   "source": [
    "np.exp(X_filled_softimpute).max()"
   ]
  },
  {
   "cell_type": "code",
   "execution_count": null,
   "metadata": {
    "colab": {},
    "colab_type": "code",
    "id": "KcdFmdKoGlgz"
   },
   "outputs": [],
   "source": []
  },
  {
   "cell_type": "code",
   "execution_count": null,
   "metadata": {
    "colab": {
     "base_uri": "https://localhost:8080/",
     "height": 34
    },
    "colab_type": "code",
    "id": "aVxSKP3B6W61",
    "outputId": "d5340421-021a-408b-b2f8-b70c859331d9"
   },
   "outputs": [],
   "source": [
    "get_mse(MF_SGD.predict_all(),test_df.values)"
   ]
  },
  {
   "cell_type": "code",
   "execution_count": null,
   "metadata": {
    "colab": {
     "base_uri": "https://localhost:8080/",
     "height": 34
    },
    "colab_type": "code",
    "id": "QQ3SqmcWh3tA",
    "outputId": "57c756bd-193f-4fee-957f-8586d33b0ec2"
   },
   "outputs": [],
   "source": [
    "get_mse(np.exp(MF_SGD.predict_all()),test_df.values)"
   ]
  },
  {
   "cell_type": "code",
   "execution_count": null,
   "metadata": {
    "colab": {},
    "colab_type": "code",
    "id": "DyFJtiTNiNhl"
   },
   "outputs": [],
   "source": [
    "res = np.exp(MF_SGD.predict_all())"
   ]
  },
  {
   "cell_type": "code",
   "execution_count": null,
   "metadata": {
    "colab": {
     "base_uri": "https://localhost:8080/",
     "height": 34
    },
    "colab_type": "code",
    "id": "AbswyQGhiZo-",
    "outputId": "fade015e-7ca6-467d-a202-67a17de1e571"
   },
   "outputs": [],
   "source": [
    "res.min()"
   ]
  },
  {
   "cell_type": "code",
   "execution_count": null,
   "metadata": {
    "colab": {
     "base_uri": "https://localhost:8080/",
     "height": 34
    },
    "colab_type": "code",
    "id": "wKsYKgBvivEV",
    "outputId": "5f249f6c-79aa-4777-b4c4-dbbd8d9c6e83"
   },
   "outputs": [],
   "source": [
    "res.max()"
   ]
  },
  {
   "cell_type": "code",
   "execution_count": null,
   "metadata": {
    "colab": {
     "base_uri": "https://localhost:8080/",
     "height": 34
    },
    "colab_type": "code",
    "id": "GKzuq53Diwyq",
    "outputId": "88691997-1a54-437c-f083-c55d7bd6e8cc"
   },
   "outputs": [],
   "source": [
    "train_df.values.max()"
   ]
  },
  {
   "cell_type": "code",
   "execution_count": null,
   "metadata": {
    "colab": {
     "base_uri": "https://localhost:8080/",
     "height": 51
    },
    "colab_type": "code",
    "id": "9eoGo4e8i0K5",
    "outputId": "e4e6384e-593f-4f78-fb57-2ee9fd75beb7"
   },
   "outputs": [],
   "source": [
    "res.nonzero()"
   ]
  },
  {
   "cell_type": "code",
   "execution_count": null,
   "metadata": {
    "colab": {
     "base_uri": "https://localhost:8080/",
     "height": 284
    },
    "colab_type": "code",
    "id": "E2t7XYqInpNS",
    "outputId": "5e5b4790-acd9-4791-9c08-2c2088a02268"
   },
   "outputs": [],
   "source": [
    "np.exp(MF_SGD.predict_all())\n",
    "plt.hist(np.exp(MF_SGD.predict_all())[test.nonzero()].flatten(), alpha = 0.5, label = \"test prediction\",bins = 20)\n",
    "plt.title(\"Histogram of Test Prediction vs Test Data\")\n",
    "plt.hist(np.exp(test)[test.nonzero()].flatten(), alpha = 0.5, label = \"test data\",bins = 20)\n",
    "plt.legend(loc = \"best\")\n",
    "plt.show()"
   ]
  },
  {
   "cell_type": "code",
   "execution_count": null,
   "metadata": {
    "colab": {
     "base_uri": "https://localhost:8080/",
     "height": 284
    },
    "colab_type": "code",
    "id": "m3nGrW7Vn50m",
    "outputId": "e98fb5ef-33d0-4e28-b256-a64837b640c8"
   },
   "outputs": [],
   "source": [
    "plt.hist(np.exp(MF_SGD.predict_all())[train.nonzero()].flatten(), alpha = 0.5, label = \"train prediction\")\n",
    "plt.title(\"Histogram of Train Prediction vs Train Data\")\n",
    "plt.hist(np.exp(train)[train.nonzero()].flatten(), alpha = 0.5, label = \"train data\")\n",
    "plt.legend(loc = \"best\")\n",
    "plt.show()"
   ]
  },
  {
   "cell_type": "code",
   "execution_count": null,
   "metadata": {
    "colab": {
     "base_uri": "https://localhost:8080/",
     "height": 284
    },
    "colab_type": "code",
    "id": "pZN-6Uh2Gnwj",
    "outputId": "f3f73dfa-7171-4066-bdec-968e3b67ff1a"
   },
   "outputs": [],
   "source": [
    "plt.hist(np.exp(X_filled_softimpute)[test.nonzero()].flatten(), alpha = 0.5, label = \"test prediction\")\n",
    "plt.title(\"Histogram of Test Prediction vs Test Data\")\n",
    "plt.hist(np.exp(test)[test.nonzero()].flatten(), alpha = 0.5, label = \"test data\")\n",
    "plt.legend(loc = \"best\")\n",
    "plt.show()"
   ]
  },
  {
   "cell_type": "code",
   "execution_count": null,
   "metadata": {
    "colab": {
     "base_uri": "https://localhost:8080/",
     "height": 284
    },
    "colab_type": "code",
    "id": "6WlxfeItZbZI",
    "outputId": "59bbfad0-715d-4db1-d618-04c92322b796"
   },
   "outputs": [],
   "source": [
    "plt.hist(np.exp(X_filled_softimpute)[train.nonzero()].flatten(), alpha = 0.5, label = \"train prediction\")\n",
    "plt.title(\"Histogram of Train Prediction vs Train Data\")\n",
    "plt.hist(np.exp(train)[train.nonzero()].flatten(), alpha = 0.5, label = \"train data\")\n",
    "plt.legend(loc = \"best\")\n",
    "plt.show()"
   ]
  },
  {
   "cell_type": "code",
   "execution_count": null,
   "metadata": {
    "colab": {
     "base_uri": "https://localhost:8080/",
     "height": 34
    },
    "colab_type": "code",
    "id": "ZvF4jHweY-ab",
    "outputId": "0f3176fd-9b88-4044-9a11-17e8f27c6228"
   },
   "outputs": [],
   "source": [
    "np.exp(X_filled_softimpute)[test.nonzero()].flatten().min()"
   ]
  },
  {
   "cell_type": "code",
   "execution_count": null,
   "metadata": {
    "colab": {
     "base_uri": "https://localhost:8080/",
     "height": 34
    },
    "colab_type": "code",
    "id": "hvH4hi-nZBEd",
    "outputId": "2c179ada-abc9-4228-e03b-c073c4339c8e"
   },
   "outputs": [],
   "source": [
    "np.exp(test)[test.nonzero()].flatten().min()"
   ]
  },
  {
   "cell_type": "code",
   "execution_count": null,
   "metadata": {
    "colab": {
     "base_uri": "https://localhost:8080/",
     "height": 136
    },
    "colab_type": "code",
    "id": "lV1ce0DFYKnr",
    "outputId": "6fae3fda-8d3b-404d-a730-2d8f8f594017"
   },
   "outputs": [],
   "source": [
    "test"
   ]
  },
  {
   "cell_type": "code",
   "execution_count": null,
   "metadata": {
    "colab": {
     "base_uri": "https://localhost:8080/",
     "height": 34
    },
    "colab_type": "code",
    "id": "qd6PfA0POiHr",
    "outputId": "449c76f9-08f0-4da3-9107-6133262e477f"
   },
   "outputs": [],
   "source": [
    "np.all(train*test) == 0"
   ]
  },
  {
   "cell_type": "code",
   "execution_count": null,
   "metadata": {
    "colab": {
     "base_uri": "https://localhost:8080/",
     "height": 353
    },
    "colab_type": "code",
    "id": "HxOit7lpGwaH",
    "outputId": "d9623e17-0b4c-4f8e-adaa-487e9adc8b99"
   },
   "outputs": [],
   "source": [
    "plt.hist(np.exp(X_filled_softimpute)[test.nonzero()].flatten())"
   ]
  },
  {
   "cell_type": "code",
   "execution_count": null,
   "metadata": {
    "colab": {
     "base_uri": "https://localhost:8080/",
     "height": 354
    },
    "colab_type": "code",
    "id": "A08n0V8aG1WF",
    "outputId": "321be8d7-ae81-4ccf-b3f0-8e542237cb13"
   },
   "outputs": [],
   "source": [
    "plt.hist(test_df.values[test_df.values.nonzero()].flatten())"
   ]
  },
  {
   "cell_type": "code",
   "execution_count": null,
   "metadata": {
    "colab": {
     "base_uri": "https://localhost:8080/",
     "height": 370
    },
    "colab_type": "code",
    "id": "TeOj1S3Fi7WX",
    "outputId": "df7c31d4-f0ad-4f55-e825-8991511d9965"
   },
   "outputs": [],
   "source": [
    "plt.hist(res[train_df.values.nonzero()].flatten())"
   ]
  },
  {
   "cell_type": "code",
   "execution_count": null,
   "metadata": {
    "colab": {
     "base_uri": "https://localhost:8080/",
     "height": 370
    },
    "colab_type": "code",
    "id": "4QXcboBIi9w5",
    "outputId": "3936dd19-7abe-443e-f1ac-35aaab4fa601"
   },
   "outputs": [],
   "source": [
    "plt.hist(train_df.values[train_df.values.nonzero()].flatten())"
   ]
  },
  {
   "cell_type": "code",
   "execution_count": null,
   "metadata": {
    "colab": {
     "base_uri": "https://localhost:8080/",
     "height": 34
    },
    "colab_type": "code",
    "id": "RqfFkQ-gjIl4",
    "outputId": "c1824de3-ec0e-48dc-c136-fbc1b99bac9c"
   },
   "outputs": [],
   "source": [
    "train_df.values.nonzero()[0]"
   ]
  },
  {
   "cell_type": "code",
   "execution_count": null,
   "metadata": {
    "colab": {
     "base_uri": "https://localhost:8080/",
     "height": 561
    },
    "colab_type": "code",
    "id": "gIeZ0UaCjUZQ",
    "outputId": "30df9729-18d9-4419-b76a-280571eb6987"
   },
   "outputs": [],
   "source": [
    "iter_array = [1, 2, 5, 10, 25, 50, 100, 200,250]\n",
    "learning_rates = [1e-5, 1e-4, 1e-3, 1e-2]\n",
    "\n",
    "best_params = {}\n",
    "best_params['learning_rate'] = None\n",
    "best_params['n_iter'] = 0\n",
    "best_params['train_mse'] = np.inf\n",
    "best_params['test_mse'] = np.inf\n",
    "best_params['model'] = None\n",
    "\n",
    "\n",
    "for rate in learning_rates:\n",
    "    print ('Rate: {}'.format(rate))\n",
    "    MF_SGD = ExplicitMF(train_df_log, n_factors=35, learning='sgd')\n",
    "    MF_SGD.calculate_learning_curve(iter_array, test_df_log, learning_rate=rate)\n",
    "    min_idx = np.argmin(MF_SGD.test_mse)\n",
    "    if MF_SGD.test_mse[min_idx] < best_params['test_mse']:\n",
    "        best_params['n_iter'] = iter_array[min_idx]\n",
    "        best_params['learning_rate'] = rate\n",
    "        best_params['train_mse'] = MF_SGD.train_mse[min_idx]\n",
    "        best_params['test_mse'] = MF_SGD.test_mse[min_idx]\n",
    "        best_params['model'] = MF_SGD\n",
    "        print ('New optimal hyperparameters')\n",
    "        print (pd.Series(best_params))"
   ]
  },
  {
   "cell_type": "code",
   "execution_count": null,
   "metadata": {
    "colab": {
     "base_uri": "https://localhost:8080/",
     "height": 102
    },
    "colab_type": "code",
    "id": "myenpXyYkM61",
    "outputId": "87253f7e-3f63-44e8-8310-3fb9475bb84f"
   },
   "outputs": [],
   "source": [
    "best_params #for learning rate"
   ]
  },
  {
   "cell_type": "code",
   "execution_count": null,
   "metadata": {
    "colab": {
     "base_uri": "https://localhost:8080/",
     "height": 1000
    },
    "colab_type": "code",
    "id": "zPioO-5mmdpO",
    "outputId": "26982db2-c8d2-4c5f-dfc1-79cd85bf4dc1"
   },
   "outputs": [],
   "source": [
    "iter_array = [1, 2, 5, 10, 25, 50, 100, 200, 250]\n",
    "latent_factors = [ 5, 10, 20, 25, 30, 35, 40]\n",
    "regularizations = [0.001, 0.01, 0.1, 1.]\n",
    "regularizations.sort()\n",
    "\n",
    "best_params = {}\n",
    "best_params['n_factors'] = latent_factors[0]\n",
    "best_params['reg'] = regularizations[0]\n",
    "best_params['n_iter'] = 0\n",
    "best_params['train_mse'] = np.inf\n",
    "best_params['test_mse'] = np.inf\n",
    "best_params['model'] = None\n",
    "\n",
    "for fact in latent_factors:\n",
    "    print ('Factors: {}'.format(fact))\n",
    "    for reg in regularizations:\n",
    "        print ('Regularization: {}'.format(reg))\n",
    "        MF_SGD = ExplicitMF(train_df_log, n_factors=fact, learning='sgd',\\\n",
    "                            user_fact_reg=reg, item_fact_reg=reg, \\\n",
    "                            user_bias_reg=reg, item_bias_reg=reg)\n",
    "        MF_SGD.calculate_learning_curve(iter_array, test_df_log, learning_rate=0.001)\n",
    "        min_idx = np.argmin(MF_SGD.test_mse)\n",
    "        if MF_SGD.test_mse[min_idx] < best_params['test_mse']:\n",
    "            best_params['n_factors'] = fact\n",
    "            best_params['reg'] = reg\n",
    "            best_params['n_iter'] = iter_array[min_idx]\n",
    "            best_params['train_mse'] = MF_SGD.train_mse[min_idx]\n",
    "            best_params['test_mse'] = MF_SGD.test_mse[min_idx]\n",
    "            best_params['model'] = MF_SGD\n",
    "            print ('New optimal hyperparameters')\n",
    "            print (pd.Series(best_params))"
   ]
  },
  {
   "cell_type": "code",
   "execution_count": null,
   "metadata": {
    "colab": {
     "base_uri": "https://localhost:8080/",
     "height": 119
    },
    "colab_type": "code",
    "id": "rk1uAd6GyJmd",
    "outputId": "9ca10b38-3638-4f26-e2bb-b67a426109e5"
   },
   "outputs": [],
   "source": [
    "best_params #for factors and reg"
   ]
  },
  {
   "cell_type": "code",
   "execution_count": 4,
   "metadata": {
    "colab": {},
    "colab_type": "code",
    "id": "tvBNz4wIMJET"
   },
   "outputs": [],
   "source": [
    "from numpy.linalg import solve\n",
    "\n",
    "class ExplicitMF():\n",
    "    def __init__(self, \n",
    "                 ratings, \n",
    "                 n_factors=40, \n",
    "                 item_reg=0.0, \n",
    "                 user_reg=0.0,\n",
    "                 verbose=False):\n",
    "        \"\"\"\n",
    "        Train a matrix factorization model to predict empty \n",
    "        entries in a matrix. The terminology assumes a \n",
    "        ratings matrix which is ~ user x item\n",
    "        \n",
    "        Params\n",
    "        ======\n",
    "        ratings : (ndarray)\n",
    "            User x Item matrix with corresponding ratings\n",
    "        \n",
    "        n_factors : (int)\n",
    "            Number of latent factors to use in matrix \n",
    "            factorization model\n",
    "        \n",
    "        item_reg : (float)\n",
    "            Regularization term for item latent factors\n",
    "        \n",
    "        user_reg : (float)\n",
    "            Regularization term for user latent factors\n",
    "        \n",
    "        verbose : (bool)\n",
    "            Whether or not to printout training progress\n",
    "        \"\"\"\n",
    "        \n",
    "        self.ratings = ratings\n",
    "        self.n_users, self.n_items = ratings.shape\n",
    "        self.n_factors = n_factors\n",
    "        self.item_reg = item_reg\n",
    "        self.user_reg = user_reg\n",
    "        self._v = verbose\n",
    "\n",
    "    def als_step(self,\n",
    "                 latent_vectors,\n",
    "                 fixed_vecs,\n",
    "                 ratings,\n",
    "                 _lambda,\n",
    "                 type='user'):\n",
    "        \"\"\"\n",
    "        One of the two ALS steps. Solve for the latent vectors\n",
    "        specified by type.\n",
    "        \"\"\"\n",
    "        if type == 'user':\n",
    "            # Precompute\n",
    "            YTY = fixed_vecs.T.dot(fixed_vecs)\n",
    "            lambdaI = np.eye(YTY.shape[0]) * _lambda\n",
    "\n",
    "            for u in range(latent_vectors.shape[0]):\n",
    "                latent_vectors[u, :] = solve((YTY + lambdaI), \n",
    "                                             ratings[u, :].dot(fixed_vecs))\n",
    "        elif type == 'item':\n",
    "            # Precompute\n",
    "            XTX = fixed_vecs.T.dot(fixed_vecs)\n",
    "            lambdaI = np.eye(XTX.shape[0]) * _lambda\n",
    "            \n",
    "            for i in range(latent_vectors.shape[0]):\n",
    "                latent_vectors[i, :] = solve((XTX + lambdaI), \n",
    "                                             ratings[:, i].T.dot(fixed_vecs))\n",
    "        return latent_vectors\n",
    "\n",
    "    def train(self, n_iter=10):\n",
    "        \"\"\" Train model for n_iter iterations from scratch.\"\"\"\n",
    "        # initialize latent vectors\n",
    "        self.user_vecs = np.random.random((self.n_users, self.n_factors))\n",
    "        self.item_vecs = np.random.random((self.n_items, self.n_factors))\n",
    "        \n",
    "        self.partial_train(n_iter)\n",
    "    \n",
    "    def partial_train(self, n_iter):\n",
    "        \"\"\" \n",
    "        Train model for n_iter iterations. Can be \n",
    "        called multiple times for further training.\n",
    "        \"\"\"\n",
    "        ctr = 1\n",
    "        while ctr <= n_iter:\n",
    "            if ctr % 10 == 0 and self._v:\n",
    "                print ('\\tcurrent iteration: {}'.format(ctr))\n",
    "            self.user_vecs = self.als_step(self.user_vecs, \n",
    "                                           self.item_vecs, \n",
    "                                           self.ratings, \n",
    "                                           self.user_reg, \n",
    "                                           type='user')\n",
    "            self.item_vecs = self.als_step(self.item_vecs, \n",
    "                                           self.user_vecs, \n",
    "                                           self.ratings, \n",
    "                                           self.item_reg, \n",
    "                                           type='item')\n",
    "            ctr += 1\n",
    "    \n",
    "    def predict_all(self):\n",
    "        \"\"\" Predict ratings for every user and item. \"\"\"\n",
    "        predictions = np.zeros((self.user_vecs.shape[0], \n",
    "                                self.item_vecs.shape[0]))\n",
    "        for u in range(self.user_vecs.shape[0]):\n",
    "            for i in range(self.item_vecs.shape[0]):\n",
    "                predictions[u, i] = self.predict(u, i)\n",
    "                \n",
    "        return predictions\n",
    "    def predict(self, u, i):\n",
    "        \"\"\" Single user and item prediction. \"\"\"\n",
    "        return self.user_vecs[u, :].dot(self.item_vecs[i, :].T)\n",
    "    \n",
    "    def calculate_learning_curve(self, iter_array, test):\n",
    "        \"\"\"\n",
    "        Keep track of MSE as a function of training iterations.\n",
    "        \n",
    "        Params\n",
    "        ======\n",
    "        iter_array : (list)\n",
    "            List of numbers of iterations to train for each step of \n",
    "            the learning curve. e.g. [1, 5, 10, 20]\n",
    "        test : (2D ndarray)\n",
    "            Testing dataset (assumed to be user x item).\n",
    "        \n",
    "        The function creates two new class attributes:\n",
    "        \n",
    "        train_mse : (list)\n",
    "            Training data MSE values for each value of iter_array\n",
    "        test_mse : (list)\n",
    "            Test data MSE values for each value of iter_array\n",
    "        \"\"\"\n",
    "        iter_array.sort()\n",
    "        self.train_mse =[]\n",
    "        self.test_mse = []\n",
    "        iter_diff = 0\n",
    "        for (i, n_iter) in enumerate(iter_array):\n",
    "            if self._v:\n",
    "                print ('Iteration: {}'.format(n_iter))\n",
    "            if i == 0:\n",
    "                self.train(n_iter - iter_diff)\n",
    "            else:\n",
    "                self.partial_train(n_iter - iter_diff)\n",
    "\n",
    "            predictions = self.predict_all()\n",
    "\n",
    "            self.train_mse += [get_mse(predictions, self.ratings)]\n",
    "            self.test_mse += [get_mse(predictions, test)]\n",
    "            if self._v:\n",
    "                print ('Train mse: ' + str(self.train_mse[-1]))\n",
    "                print ('Test mse: ' + str(self.test_mse[-1]))\n",
    "            iter_diff = n_iter"
   ]
  },
  {
   "cell_type": "code",
   "execution_count": 5,
   "metadata": {
    "colab": {},
    "colab_type": "code",
    "id": "tpzDfHY8l2YJ"
   },
   "outputs": [
    {
     "ename": "NameError",
     "evalue": "name 'train_df_log' is not defined",
     "output_type": "error",
     "traceback": [
      "\u001b[1;31m---------------------------------------------------------------------------\u001b[0m",
      "\u001b[1;31mNameError\u001b[0m                                 Traceback (most recent call last)",
      "\u001b[1;32m<ipython-input-5-0fc2498176ad>\u001b[0m in \u001b[0;36m<module>\u001b[1;34m\u001b[0m\n\u001b[1;32m----> 1\u001b[1;33m MF_ALS = ExplicitMF(train_df_log, n_factors=30, \\\n\u001b[0m\u001b[0;32m      2\u001b[0m                     user_reg=0.1, item_reg=0.1)\n\u001b[0;32m      3\u001b[0m \u001b[1;33m\u001b[0m\u001b[0m\n\u001b[0;32m      4\u001b[0m \u001b[0miter_array\u001b[0m \u001b[1;33m=\u001b[0m \u001b[1;33m[\u001b[0m\u001b[1;36m1\u001b[0m\u001b[1;33m,\u001b[0m \u001b[1;36m2\u001b[0m\u001b[1;33m,\u001b[0m \u001b[1;36m5\u001b[0m\u001b[1;33m,\u001b[0m \u001b[1;36m10\u001b[0m\u001b[1;33m,\u001b[0m \u001b[1;36m25\u001b[0m\u001b[1;33m,\u001b[0m \u001b[1;36m50\u001b[0m\u001b[1;33m,\u001b[0m \u001b[1;36m100\u001b[0m\u001b[1;33m]\u001b[0m\u001b[1;33m\u001b[0m\u001b[1;33m\u001b[0m\u001b[0m\n\u001b[0;32m      5\u001b[0m \u001b[0mMF_ALS\u001b[0m\u001b[1;33m.\u001b[0m\u001b[0mcalculate_learning_curve\u001b[0m\u001b[1;33m(\u001b[0m\u001b[0miter_array\u001b[0m\u001b[1;33m,\u001b[0m \u001b[0mtest_df_log\u001b[0m\u001b[1;33m)\u001b[0m\u001b[1;33m\u001b[0m\u001b[1;33m\u001b[0m\u001b[0m\n",
      "\u001b[1;31mNameError\u001b[0m: name 'train_df_log' is not defined"
     ]
    }
   ],
   "source": [
    "MF_ALS = ExplicitMF(train_df_log, n_factors=30, \\\n",
    "                    user_reg=0.1, item_reg=0.1)\n",
    "\n",
    "iter_array = [1, 2, 5, 10, 25, 50, 100]\n",
    "MF_ALS.calculate_learning_curve(iter_array, test_df_log)"
   ]
  },
  {
   "cell_type": "code",
   "execution_count": null,
   "metadata": {
    "colab": {},
    "colab_type": "code",
    "id": "iXW3u7y0W2ow"
   },
   "outputs": [],
   "source": [
    "MF_ALS = ExplicitMF(train, n_factors=30, \\\n",
    "                    user_reg=0.1, item_reg=0.1)\n",
    "\n",
    "iter_array = [1, 2, 5, 10, 25, 50, 100]\n",
    "MF_ALS.calculate_learning_curve(iter_array, test)"
   ]
  },
  {
   "cell_type": "code",
   "execution_count": null,
   "metadata": {
    "colab": {
     "base_uri": "https://localhost:8080/",
     "height": 102
    },
    "colab_type": "code",
    "id": "I_41PIOgl_SD",
    "outputId": "d2a4de2c-380a-4945-ce4f-e44182f52d11"
   },
   "outputs": [],
   "source": [
    "#mse of ALS method \n",
    "als_pred = MF_ALS.predict_all()\n",
    "als_pred = np.exp(als_pred)\n",
    "print(als_pred.min())\n",
    "print(als_pred.max())\n",
    "print(\"mse of ALS method: \", get_mse(als_pred, test)) # it is better than SGD method :o \n",
    "print((np.exp(train)).max(), (np.exp(train)).min())\n",
    "print((np.exp(test)).max(), (np.exp(test)).min())"
   ]
  },
  {
   "cell_type": "code",
   "execution_count": null,
   "metadata": {
    "colab": {
     "base_uri": "https://localhost:8080/",
     "height": 308
    },
    "colab_type": "code",
    "id": "Y2kJUaZ6mzGr",
    "outputId": "199cb7ee-ecee-46fe-9bfc-3b735d3d184d"
   },
   "outputs": [],
   "source": [
    "plot_learning_curve(iter_array, MF_ALS)"
   ]
  },
  {
   "cell_type": "code",
   "execution_count": null,
   "metadata": {
    "colab": {},
    "colab_type": "code",
    "id": "i-F3wLAvnfwO"
   },
   "outputs": [],
   "source": [
    "# my code to process the training data to have at least 1 entry in each row or column\n",
    "train_df = pd.read_csv(\"../data/input/CC2020_train_final.csv\")\n",
    "# test_df = pd.read_csv(\"CC2020_test_final.csv\")"
   ]
  },
  {
   "cell_type": "code",
   "execution_count": null,
   "metadata": {
    "colab": {
     "base_uri": "https://localhost:8080/",
     "height": 232
    },
    "colab_type": "code",
    "id": "CRN7Df6XKjFi",
    "outputId": "895b8f65-88f3-42ae-ffda-1a0b9c244342"
   },
   "outputs": [],
   "source": [
    "a = np.array([0,0,0])\n",
    "a.nonzero()[0]\n",
    "np.random.choice(a.nonzero()[0])"
   ]
  },
  {
   "cell_type": "code",
   "execution_count": null,
   "metadata": {
    "colab": {
     "base_uri": "https://localhost:8080/",
     "height": 306
    },
    "colab_type": "code",
    "id": "7bUAayrsHJZN",
    "outputId": "cb58ad63-d8d6-4af9-bf3f-4414bb439580"
   },
   "outputs": [],
   "source": [
    "train_df = train_df[['INBRED', 'TESTER', 'YIELD']]\n",
    "grouped_df = train_df.groupby(['INBRED','TESTER'], as_index=False).mean()\n",
    "grouped_df['YIELD'] = np.log(grouped_df['YIELD']).values\n",
    "train_df = grouped_df\n",
    "def train_test_split(mat):\n",
    "    test = np.zeros(mat.shape)\n",
    "    train = mat.copy()\n",
    "    for inbred in range(mat.shape[0]):\n",
    "        test_yields = np.random.choice(mat[inbred, :].nonzero()[0], \n",
    "                                        size=max(1, len(mat[inbred, :].nonzero()[0])//10), \n",
    "                                        replace=False)\n",
    "        train[inbred, test_yields] = 0.\n",
    "        test[inbred, test_yields] = mat[inbred, test_yields]\n",
    "        \n",
    "    # Test and training are truly disjoint\n",
    "    assert(np.all((train * test) == 0)) \n",
    "    return train, test\n",
    "inbred_index = {}\n",
    "tester_index = {}\n",
    "i = 0\n",
    "j = 0\n",
    "for idx, row in train_df.iterrows():\n",
    "    if row['INBRED'] not in inbred_index:\n",
    "        inbred_index[row['INBRED']] = i\n",
    "        i += 1\n",
    "    if row['TESTER'] not in tester_index:\n",
    "        tester_index[row['TESTER']] = j\n",
    "        j += 1\n",
    "print(len(inbred_index))\n",
    "print(len(tester_index))\n",
    "print(i)\n",
    "print(j)\n",
    "n_inbred = 593\n",
    "n_tester = 496\n",
    "mat = np.zeros((n_inbred, n_tester))\n",
    "for row in train_df.itertuples():\n",
    "    mat[inbred_index[row[1]], tester_index[row[2]]] = row[3]\n",
    "mat\n",
    "\n"
   ]
  },
  {
   "cell_type": "code",
   "execution_count": null,
   "metadata": {
    "colab": {},
    "colab_type": "code",
    "id": "Xd7RWAzpMZqu"
   },
   "outputs": [],
   "source": [
    "def train_test_split(mat):\n",
    "    test = np.zeros(mat.shape)\n",
    "    train = mat.copy()\n",
    "    for inbred in range(mat.shape[0]):\n",
    "        if (mat[inbred, :].sum() == 0): print(\"row is zero\")\n",
    "        # print(mat[inbred, :].sum())\n",
    "        test_yields = np.random.choice(mat[inbred, :].nonzero()[0], \n",
    "                                        size=max(0, len(mat[inbred, :].nonzero()[0])//10), \n",
    "                                        replace=False)\n",
    "        train[inbred, test_yields] = 0.\n",
    "        test[inbred, test_yields] = mat[inbred, test_yields]\n",
    "        \n",
    "    # Test and training are truly disjoint\n",
    "    assert(np.all((train * test) == 0)) \n",
    "    return train, test"
   ]
  },
  {
   "cell_type": "code",
   "execution_count": null,
   "metadata": {
    "colab": {},
    "colab_type": "code",
    "id": "8uCV6ZqXHppH"
   },
   "outputs": [],
   "source": [
    "train, test = train_test_split(mat)"
   ]
  },
  {
   "cell_type": "code",
   "execution_count": null,
   "metadata": {
    "colab": {},
    "colab_type": "code",
    "id": "Nxk38opVHuei"
   },
   "outputs": [],
   "source": [
    "mat_na = np.zeros(mat.shape)\n",
    "for i in range(len(mat)):\n",
    "    for j in range(len(mat[0])):\n",
    "        if mat[i,j] == 0:\n",
    "            mat_na[i,j] = np.nan\n",
    "        else:\n",
    "            mat_na[i,j] = mat[i,j]"
   ]
  },
  {
   "cell_type": "code",
   "execution_count": null,
   "metadata": {
    "colab": {
     "base_uri": "https://localhost:8080/",
     "height": 238
    },
    "colab_type": "code",
    "id": "_NuGb9N_H7h-",
    "outputId": "2c19410f-9ec0-4345-f85d-827e9c4fc2b7"
   },
   "outputs": [],
   "source": [
    "mat_na"
   ]
  },
  {
   "cell_type": "code",
   "execution_count": null,
   "metadata": {
    "colab": {},
    "colab_type": "code",
    "id": "J-JYZ6h6I5v2"
   },
   "outputs": [],
   "source": [
    "train_na = np.zeros(train.shape)\n",
    "for i in range(len(train)):\n",
    "    for j in range(len(train[0])):\n",
    "        if train[i,j] == 0:\n",
    "            train_na[i,j] = np.nan\n",
    "        else:\n",
    "            train_na[i,j] = train[i,j]"
   ]
  },
  {
   "cell_type": "code",
   "execution_count": null,
   "metadata": {
    "colab": {
     "base_uri": "https://localhost:8080/",
     "height": 34
    },
    "colab_type": "code",
    "id": "UH9eD5qTJP5F",
    "outputId": "ca31fb58-e59b-48a0-d4ae-5c2dd79bbfb3"
   },
   "outputs": [],
   "source": [
    "mat.shape"
   ]
  },
  {
   "cell_type": "code",
   "execution_count": null,
   "metadata": {
    "colab": {
     "base_uri": "https://localhost:8080/",
     "height": 136
    },
    "colab_type": "code",
    "id": "KTvuJZ5_LDpm",
    "outputId": "ab16a26e-980e-4f76-94ae-ed004fb450fa"
   },
   "outputs": [],
   "source": [
    "np.isnan(train_na[0:])"
   ]
  },
  {
   "cell_type": "code",
   "execution_count": null,
   "metadata": {
    "colab": {},
    "colab_type": "code",
    "id": "6wCh6pVnNTjL"
   },
   "outputs": [],
   "source": [
    "for i in range(train.shape[0]):\n",
    "    if train[i,:].sum() == 0:\n",
    "        print(\"row is zero\")"
   ]
  },
  {
   "cell_type": "code",
   "execution_count": null,
   "metadata": {
    "colab": {},
    "colab_type": "code",
    "id": "KJblBq-ATJCp"
   },
   "outputs": [],
   "source": [
    "for i in range(mat.shape[0]):\n",
    "    if mat[i,:].sum() == 0:\n",
    "        print(\"row is zeros\")"
   ]
  },
  {
   "cell_type": "code",
   "execution_count": null,
   "metadata": {
    "colab": {},
    "colab_type": "code",
    "id": "uOsXtBzATbPv"
   },
   "outputs": [],
   "source": [
    "#https://gist.github.com/kastnerkyle/9341182\n",
    "\n",
    "# (C) Kyle Kastner, June 2014\n",
    "# License: BSD 3 clause\n",
    "\n",
    "import numpy as np\n",
    "from scipy import sparse\n",
    "\n",
    "\n",
    "def minibatch_indices(X, minibatch_size):\n",
    "    X = list(X)\n",
    "    minibatch_indices = np.arange(0, len(X), minibatch_size)\n",
    "    minibatch_indices = np.asarray(list(minibatch_indices) + [len(X)])\n",
    "    start_indices = minibatch_indices[:-1]\n",
    "    end_indices = minibatch_indices[1:]\n",
    "    return zip(start_indices, end_indices)\n",
    "\n",
    "\n",
    "def shuffle_in_unison(a, b):\n",
    "    \"\"\"\n",
    "    http://stackoverflow.com/questions/4601373/better-way-to-shuffle-two-numpy-arrays-in-unison\n",
    "    \"\"\"\n",
    "    rng_state = np.random.get_state()\n",
    "    np.random.shuffle(a)\n",
    "    np.random.set_state(rng_state)\n",
    "    np.random.shuffle(b)\n",
    "\n",
    "\n",
    "def PMF(X, rank=10, learning_rate=0.001, momentum=0.8,\n",
    "        regularization=0.25, minibatch_size=1000, max_epoch=1000,\n",
    "        nan_value=0, status_percentage=0.1, random_state=None):\n",
    "    \"\"\"\n",
    "    Python implementation of Probabilistic Matrix Factorization (PMF).\n",
    "    Parameters\n",
    "    ----------\n",
    "    X: numpy array or scipy.sparse coo matrix, shape (n_users, n_items)\n",
    "        Input data. If a dense array is passed in, it will be converted to a\n",
    "        sparse matrix by looking for all `nan_value` numbers and treating them\n",
    "        as empty.\n",
    "    rank: int, optional (default=10)\n",
    "       Rank of the low-rank factor matrices. A higher rank should result in a\n",
    "       better approximation, at the cost of more memory and slower computataion.\n",
    "    learning_rate: float, optional (default=0.001)\n",
    "        Learning rate for minibatch gradient descent.\n",
    "    momentum: float, optional (default=0.8)\n",
    "        Momentum for minibatch gradient descent.\n",
    "    regularization: float, optional (default=0.25)\n",
    "        L2 regularization penalty for minibatch gradient descent.\n",
    "    minibatch_size: int, optional (default=1000)\n",
    "       The size of each minibatch. If this is larger than size of the dataset,\n",
    "       will default to running over the whole dataset.\n",
    "    max_epoch: int, optional (default=1000)\n",
    "        The maximum number of epochs.\n",
    "    nan_value: int, optional (default=0)\n",
    "        This value will be masked out of the input for calculations\n",
    "        Should match the value considered the \"not rated\" in the dataset X.\n",
    "    status_percentage: float in (0, 1), optional (default=0.1)\n",
    "        The relative percentage of `max_epochs` when status will be printed.\n",
    "        For example, 0.1 is every 10%, 0.01 is every 1%, and so on. For\n",
    "        the default values of max_epoch=1000, status_percentage=0.1 this\n",
    "        is equivalent to a status print every 100 epochs.\n",
    "    random_state: RandomState, int, or None, optional (default=None)\n",
    "        Random state to pass in. Can be an int, None, or np.random.RandomState\n",
    "        object.\n",
    "    Returns\n",
    "    -------\n",
    "    U: array-like, shape (X.shape[0], rank)\n",
    "        Row basis for reconstruction.\n",
    "        Usage:\n",
    "        reconstruction = np.dot(U, V.T) + X_mean\n",
    "    V: array-like, shape (X.shape[1], rank)\n",
    "        Column basis for reconstruction.\n",
    "        Usage:\n",
    "        reconstruction = np.dot(U, V.T) + X_mean\n",
    "    X_mean: float\n",
    "        Global mean prediction, needed for reconstruction\n",
    "        Usage\n",
    "        reconstruction = np.dot(U, V.T) + X_mean\n",
    "    Notes\n",
    "    -----\n",
    "    Based on code from Ruslan Salakhutdinov\n",
    "    http://www.cs.toronto.edu/~rsalakhu/code_BPMF/pmf.m\n",
    "    Probabilistic Matrix Factorization, R. Salakhutdinov and A. Mnih,\n",
    "    Advances in Neural Information Processing Systems 20, 2008\n",
    "    \"\"\"\n",
    "    if not sparse.isspmatrix_coo(X):\n",
    "        val_index = np.where(X != nan_value)\n",
    "        X = sparse.coo_matrix((X[val_index[0], val_index[1]],\n",
    "                               (val_index[0], val_index[1])))\n",
    "    # Simplest prediction is the global mean\n",
    "    X_mean = X.mean()\n",
    "    lr = learning_rate\n",
    "    reg = regularization\n",
    "    mom = momentum\n",
    "    if random_state is None or type(random_state) is int:\n",
    "        random_state = np.random.RandomState(random_state)\n",
    "    N, M = X.shape\n",
    "    U = 0.1 * random_state.randn(N, rank)\n",
    "    V = 0.1 * random_state.randn(M, rank)\n",
    "    U_inc = np.zeros_like(U)\n",
    "    V_inc = np.zeros_like(V)\n",
    "    dU = np.zeros_like(U)\n",
    "    dV = np.zeros_like(V)\n",
    "    epoch = 0\n",
    "    status_inc = int(np.ceil(max_epoch * status_percentage))\n",
    "    print(\"Printing updates every %i epochs\" % status_inc)\n",
    "    status_points = list(range(0, max_epoch, status_inc)) + [max_epoch - 1]\n",
    "    # Need this in order to index\n",
    "    X_s = X.tolil()\n",
    "    while epoch < max_epoch:\n",
    "        # Get indices for non-NaN values\n",
    "        r, c = X.nonzero()\n",
    "        mb_indices = minibatch_indices(zip(r, c), minibatch_size)\n",
    "        mb_indices = list(mb_indices)\n",
    "        n_batches = len(mb_indices)\n",
    "        shuffle_in_unison(r, c)\n",
    "        mean_abs_err = 0.\n",
    "        for i, j in mb_indices:\n",
    "            # Reset derivative matrices each minibatch\n",
    "            dU[:, :] = 0.\n",
    "            dV[:, :] = 0.\n",
    "            # Slice out row and column indices\n",
    "            r_i = r[i:j]\n",
    "            c_i = c[i:j]\n",
    "            # Get data corresponding to the row and column indices\n",
    "            X_i = X_s[r_i, c_i].toarray().ravel() - X_mean\n",
    "            # Compute predictions\n",
    "            pred = np.sum(U[r_i] * V[c_i], axis=1)\n",
    "            # Compute how algorithm is doing\n",
    "            mean_abs_err += np.sum(np.abs(pred - X_i)) / (n_batches * (j - i))\n",
    "            # Loss has a tendency to be unstable, but is the \"right thing\"\n",
    "            # to monitor instead of sum_abs_err\n",
    "            # pred_loss = (pred - X_i) ** 2\n",
    "            # Compute gradients\n",
    "            grad_loss = 2 * (pred - X_i)\n",
    "            grad_U = grad_loss[:, None] * V[c_i] + reg * U[r_i]\n",
    "            grad_V = grad_loss[:, None] * U[r_i] + reg * V[c_i]\n",
    "            dU[r_i] = grad_U\n",
    "            dV[c_i] = grad_V\n",
    "            # Momentum storage\n",
    "            U_inc = mom * U_inc + lr * dU\n",
    "            V_inc = mom * V_inc + lr * dV\n",
    "            U -= U_inc\n",
    "            V -= V_inc\n",
    "        if epoch in status_points:\n",
    "            print(\"Epoch %i of %i\" % (epoch + 1, max_epoch))\n",
    "            print(\"Mean absolute error %f\" % (mean_abs_err))\n",
    "        epoch += 1\n",
    "    return U, V, X_mean\n",
    "\n"
   ]
  },
  {
   "cell_type": "code",
   "execution_count": null,
   "metadata": {
    "colab": {
     "base_uri": "https://localhost:8080/",
     "height": 1000
    },
    "colab_type": "code",
    "id": "joVcbrawLwnU",
    "outputId": "73882ce4-1f97-4609-85e5-aab7e75686b7"
   },
   "outputs": [],
   "source": [
    "R = np.array([[5, 3, 0, 1],\n",
    "                [4, 0, 0, 1],\n",
    "                [1, 1, 0, 5],\n",
    "                [1, 0, 0, 4],\n",
    "                [0, 1, 5, 4]], dtype=float)\n",
    "U, V, m = PMF(R, learning_rate=0.001, momentum=0.95,\\\n",
    "                minibatch_size=2, rank=5, max_epoch=250, random_state=1999)\n",
    "R2 = np.dot(U, V.T) + m\n",
    "plt.matshow(R * (R > 0))\n",
    "plt.title(\"Ground truth ratings\")\n",
    "plt.matshow(R2 * (R > 0))\n",
    "plt.title(\"Predicted ratings\")\n",
    "plt.show()"
   ]
  },
  {
   "cell_type": "code",
   "execution_count": null,
   "metadata": {
    "colab": {
     "base_uri": "https://localhost:8080/",
     "height": 408
    },
    "colab_type": "code",
    "id": "BnLPOYYvMJ50",
    "outputId": "6e9240c0-0cae-4aa7-ff64-b5c9452688f2"
   },
   "outputs": [],
   "source": [
    "U, V, m = PMF(train, learning_rate=0.001, momentum=0.95,\\\n",
    "                minibatch_size=5, rank=30, max_epoch=250, random_state=1999)"
   ]
  },
  {
   "cell_type": "code",
   "execution_count": null,
   "metadata": {
    "colab": {},
    "colab_type": "code",
    "id": "hu5J9e9nNPv6"
   },
   "outputs": [],
   "source": [
    "pred = np.dot(U, V.T) + m"
   ]
  },
  {
   "cell_type": "code",
   "execution_count": null,
   "metadata": {
    "colab": {
     "base_uri": "https://localhost:8080/",
     "height": 34
    },
    "colab_type": "code",
    "id": "z3CaSBfJNYM6",
    "outputId": "94733f26-3ab6-4f8e-afa8-29165876947c"
   },
   "outputs": [],
   "source": [
    "get_mse(np.exp(pred), np.exp(test))"
   ]
  },
  {
   "cell_type": "code",
   "execution_count": null,
   "metadata": {
    "colab": {
     "base_uri": "https://localhost:8080/",
     "height": 281
    },
    "colab_type": "code",
    "id": "2l9P4Q0SNfkQ",
    "outputId": "c5ef43e1-cd33-4e74-e078-d39743303e5f"
   },
   "outputs": [],
   "source": [
    "plt.hist(np.exp(pred)[train.nonzero()].flatten(), alpha = 0.5, label = \"test prediction\")\n",
    "plt.title(\"Histogram of Test Prediction vs Test Data\")\n",
    "plt.hist(np.exp(train)[train.nonzero()].flatten(), alpha = 0.5, label = \"test data\")\n",
    "plt.legend(loc = \"best\")\n",
    "plt.show()"
   ]
  },
  {
   "cell_type": "code",
   "execution_count": null,
   "metadata": {
    "colab": {
     "base_uri": "https://localhost:8080/",
     "height": 367
    },
    "colab_type": "code",
    "id": "4Rk5sK32PgNR",
    "outputId": "0a6bc1c4-3141-4aa5-acfa-1ea6a1e48d10"
   },
   "outputs": [],
   "source": [
    "plt.hist(np.exp(pred).flatten(), alpha = 0.5, label = \"test prediction\")"
   ]
  },
  {
   "cell_type": "code",
   "execution_count": null,
   "metadata": {
    "colab": {
     "base_uri": "https://localhost:8080/",
     "height": 238
    },
    "colab_type": "code",
    "id": "SwqhC1BxPraw",
    "outputId": "e6639a2c-56f9-42a1-b2b0-33833cbf0c61"
   },
   "outputs": [],
   "source": [
    "np.exp(pred)"
   ]
  },
  {
   "cell_type": "code",
   "execution_count": null,
   "metadata": {
    "colab": {
     "base_uri": "https://localhost:8080/",
     "height": 34
    },
    "colab_type": "code",
    "id": "5sjuGZfIPNzP",
    "outputId": "cf9cd191-19ff-408c-f1ea-f446822ced78"
   },
   "outputs": [],
   "source": [
    "np.exp(pred).min()"
   ]
  },
  {
   "cell_type": "code",
   "execution_count": null,
   "metadata": {
    "colab": {
     "base_uri": "https://localhost:8080/",
     "height": 34
    },
    "colab_type": "code",
    "id": "JjtO3xL7PUlE",
    "outputId": "1f2c7691-196d-4095-c2b0-b325b4ce7058"
   },
   "outputs": [],
   "source": [
    "np.exp(pred).max()"
   ]
  },
  {
   "cell_type": "code",
   "execution_count": null,
   "metadata": {
    "colab": {},
    "colab_type": "code",
    "id": "1E4DlpKWNhQp"
   },
   "outputs": [],
   "source": [
    "#explore this for graph auto encoder\n",
    "#https://github.com/tkipf/gae"
   ]
  }
 ],
 "metadata": {
  "colab": {
   "collapsed_sections": [],
   "name": "syngenta_data_exploration.ipynb",
   "provenance": []
  },
  "kernelspec": {
   "display_name": "Python-3",
   "language": "python",
   "name": "python3"
  },
  "language_info": {
   "codemirror_mode": {
    "name": "ipython",
    "version": 3
   },
   "file_extension": ".py",
   "mimetype": "text/x-python",
   "name": "python",
   "nbconvert_exporter": "python",
   "pygments_lexer": "ipython3",
   "version": "3.6.7"
  }
 },
 "nbformat": 4,
 "nbformat_minor": 2
}
