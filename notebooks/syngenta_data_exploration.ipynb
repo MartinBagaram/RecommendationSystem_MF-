{
 "cells": [
  {
   "cell_type": "code",
   "execution_count": null,
   "metadata": {
    "colab": {
     "base_uri": "https://localhost:8080/",
     "height": 139
    },
    "colab_type": "code",
    "id": "MO_GPKaibAji",
    "outputId": "e1dc802a-5a47-48cc-9295-e4605bb86bbd"
   },
   "outputs": [
    {
     "name": "stdout",
     "output_type": "stream",
     "text": [
      "Go to this URL in a browser: https://accounts.google.com/o/oauth2/auth?client_id=947318989803-6bn6qk8qdgf4n4g3pfee6491hc0brc4i.apps.googleusercontent.com&redirect_uri=urn%3aietf%3awg%3aoauth%3a2.0%3aoob&response_type=code&scope=email%20https%3a%2f%2fwww.googleapis.com%2fauth%2fdocs.test%20https%3a%2f%2fwww.googleapis.com%2fauth%2fdrive%20https%3a%2f%2fwww.googleapis.com%2fauth%2fdrive.photos.readonly%20https%3a%2f%2fwww.googleapis.com%2fauth%2fpeopleapi.readonly\n",
      "\n",
      "Enter your authorization code:\n",
      "··········\n",
      "Mounted at /gdrive\n",
      "'My Drive'  'Shared drives'\n"
     ]
    }
   ],
   "source": [
    "from google.colab import drive\n",
    "drive.mount('/gdrive')\n",
    "!ls /gdrive"
   ]
  },
  {
   "cell_type": "code",
   "execution_count": null,
   "metadata": {
    "colab": {},
    "colab_type": "code",
    "id": "CaR1PUrubPeA"
   },
   "outputs": [],
   "source": [
    "import os\n",
    "import numpy as np\n",
    "import matplotlib.pyplot as plt\n",
    "import pandas as pd"
   ]
  },
  {
   "cell_type": "code",
   "execution_count": null,
   "metadata": {
    "colab": {},
    "colab_type": "code",
    "id": "xjw3Az4AbLU6"
   },
   "outputs": [],
   "source": [
    "os.chdir('/gdrive/My Drive')"
   ]
  },
  {
   "cell_type": "code",
   "execution_count": null,
   "metadata": {
    "colab": {},
    "colab_type": "code",
    "id": "NwKCVjWGbMJH"
   },
   "outputs": [],
   "source": []
  },
  {
   "cell_type": "code",
   "execution_count": null,
   "metadata": {
    "colab": {},
    "colab_type": "code",
    "id": "uKTtsxKjbmJ8"
   },
   "outputs": [],
   "source": [
    "import pandas as pd\n",
    "import numpy as np"
   ]
  },
  {
   "cell_type": "code",
   "execution_count": null,
   "metadata": {
    "colab": {},
    "colab_type": "code",
    "id": "-n4gXwmBbmJ_"
   },
   "outputs": [],
   "source": [
    "df = pd.read_csv(\"CC2020_train_final.csv\")"
   ]
  },
  {
   "cell_type": "code",
   "execution_count": null,
   "metadata": {
    "colab": {
     "base_uri": "https://localhost:8080/",
     "height": 204
    },
    "colab_type": "code",
    "id": "B3U1bCq9bmKC",
    "outputId": "d06df611-c878-4036-f39f-e1151dea13d8"
   },
   "outputs": [
    {
     "data": {
      "text/html": [
       "<div>\n",
       "<style scoped>\n",
       "    .dataframe tbody tr th:only-of-type {\n",
       "        vertical-align: middle;\n",
       "    }\n",
       "\n",
       "    .dataframe tbody tr th {\n",
       "        vertical-align: top;\n",
       "    }\n",
       "\n",
       "    .dataframe thead th {\n",
       "        text-align: right;\n",
       "    }\n",
       "</style>\n",
       "<table border=\"1\" class=\"dataframe\">\n",
       "  <thead>\n",
       "    <tr style=\"text-align: right;\">\n",
       "      <th></th>\n",
       "      <th>INBRED</th>\n",
       "      <th>TESTER</th>\n",
       "      <th>mean</th>\n",
       "    </tr>\n",
       "  </thead>\n",
       "  <tbody>\n",
       "    <tr>\n",
       "      <th>0</th>\n",
       "      <td>Inbred_1071</td>\n",
       "      <td>Tester_1345</td>\n",
       "      <td>0.986544</td>\n",
       "    </tr>\n",
       "    <tr>\n",
       "      <th>1</th>\n",
       "      <td>Inbred_1071</td>\n",
       "      <td>Tester_4373</td>\n",
       "      <td>1.057704</td>\n",
       "    </tr>\n",
       "    <tr>\n",
       "      <th>2</th>\n",
       "      <td>Inbred_1071</td>\n",
       "      <td>Tester_4473</td>\n",
       "      <td>1.023704</td>\n",
       "    </tr>\n",
       "    <tr>\n",
       "      <th>3</th>\n",
       "      <td>Inbred_1071</td>\n",
       "      <td>Tester_4541</td>\n",
       "      <td>1.014735</td>\n",
       "    </tr>\n",
       "    <tr>\n",
       "      <th>4</th>\n",
       "      <td>Inbred_1071</td>\n",
       "      <td>Tester_5305</td>\n",
       "      <td>1.062727</td>\n",
       "    </tr>\n",
       "  </tbody>\n",
       "</table>\n",
       "</div>"
      ],
      "text/plain": [
       "        INBRED       TESTER      mean\n",
       "0  Inbred_1071  Tester_1345  0.986544\n",
       "1  Inbred_1071  Tester_4373  1.057704\n",
       "2  Inbred_1071  Tester_4473  1.023704\n",
       "3  Inbred_1071  Tester_4541  1.014735\n",
       "4  Inbred_1071  Tester_5305  1.062727"
      ]
     },
     "execution_count": 6,
     "metadata": {
      "tags": []
     },
     "output_type": "execute_result"
    }
   ],
   "source": [
    "grp_df = pd.read_csv(\"grouped_data.csv\")\n",
    "grp_df.drop(labels=grp_df.columns[0], axis=1, inplace=True)\n",
    "grp_df.head()"
   ]
  },
  {
   "cell_type": "code",
   "execution_count": null,
   "metadata": {
    "colab": {},
    "colab_type": "code",
    "id": "c5uF_U-SbmKE"
   },
   "outputs": [],
   "source": []
  },
  {
   "cell_type": "code",
   "execution_count": null,
   "metadata": {
    "colab": {},
    "colab_type": "code",
    "id": "Q7qGxTwBbmKG"
   },
   "outputs": [],
   "source": [
    "mat = grp_df.pivot(index='INBRED', columns='TESTER', values='mean').values"
   ]
  },
  {
   "cell_type": "code",
   "execution_count": null,
   "metadata": {
    "colab": {},
    "colab_type": "code",
    "id": "ZeBAQe5ObmKI"
   },
   "outputs": [],
   "source": [
    "train_df = grp_df.pivot(index='INBRED', columns='TESTER', values='mean')"
   ]
  },
  {
   "cell_type": "code",
   "execution_count": null,
   "metadata": {
    "colab": {
     "base_uri": "https://localhost:8080/",
     "height": 34
    },
    "colab_type": "code",
    "id": "ZeZh87albmKK",
    "outputId": "8bb6f843-0f6b-45b9-d26f-e3f80b36f704"
   },
   "outputs": [
    {
     "data": {
      "text/plain": [
       "numpy.ndarray"
      ]
     },
     "execution_count": 9,
     "metadata": {
      "tags": []
     },
     "output_type": "execute_result"
    }
   ],
   "source": [
    "type(mat)"
   ]
  },
  {
   "cell_type": "code",
   "execution_count": null,
   "metadata": {
    "colab": {},
    "colab_type": "code",
    "id": "vgvaf3CGbmKN"
   },
   "outputs": [],
   "source": [
    "nonzero = []\n",
    "for i in range(mat.shape[1]):\n",
    "    nonzero.append(sum(~np.isnan(mat[:,i]))) "
   ]
  },
  {
   "cell_type": "code",
   "execution_count": null,
   "metadata": {
    "colab": {},
    "colab_type": "code",
    "id": "0BUZyC6UbmKQ"
   },
   "outputs": [],
   "source": [
    "import matplotlib.pyplot as plt"
   ]
  },
  {
   "cell_type": "code",
   "execution_count": null,
   "metadata": {
    "colab": {
     "base_uri": "https://localhost:8080/",
     "height": 334
    },
    "colab_type": "code",
    "id": "4smWjcrNbmKS",
    "outputId": "55b34b7c-90ff-48b1-c07d-571b9ea40110"
   },
   "outputs": [
    {
     "data": {
      "text/plain": [
       "(array([290., 117.,  40.,  23.,  11.,   4.,   3.,   3.,   2.,   3.]),\n",
       " array([  1. ,  16.6,  32.2,  47.8,  63.4,  79. ,  94.6, 110.2, 125.8,\n",
       "        141.4, 157. ]),\n",
       " <a list of 10 Patch objects>)"
      ]
     },
     "execution_count": 12,
     "metadata": {
      "tags": []
     },
     "output_type": "execute_result"
    },
    {
     "data": {
      "image/png": "[encoded data removed]",
      "text/plain": [
       "<Figure size 432x288 with 1 Axes>"
      ]
     },
     "metadata": {
      "tags": []
     },
     "output_type": "display_data"
    }
   ],
   "source": [
    "plt.hist(nonzero)"
   ]
  },
  {
   "cell_type": "code",
   "execution_count": null,
   "metadata": {
    "colab": {},
    "colab_type": "code",
    "id": "isv_TJOtbmKU"
   },
   "outputs": [],
   "source": [
    "dict_ = {k: (~train_df[k].isnull()).sum() for k in train_df.columns}\n",
    "sorted_d = sorted(dict_.items(), key=lambda x: x[1])"
   ]
  },
  {
   "cell_type": "code",
   "execution_count": null,
   "metadata": {
    "colab": {},
    "colab_type": "code",
    "id": "teNjfkj_bmKW"
   },
   "outputs": [],
   "source": [
    "test_df = train_df.copy()\n",
    "test_df = test_df * 0"
   ]
  },
  {
   "cell_type": "code",
   "execution_count": null,
   "metadata": {
    "colab": {},
    "colab_type": "code",
    "id": "acrDr2e_bmKY"
   },
   "outputs": [],
   "source": [
    "# creating test data\n",
    "np.random.seed(5)\n",
    "min_sel = 1\n",
    "picked = set()\n",
    "for col , num in sorted_d:\n",
    "    if num > min_sel:\n",
    "        full_col = train_df[col]\n",
    "        indices = train_df[~full_col.isnull()].index\n",
    "#         print(indices)\n",
    "        indices = [ind for ind in indices if ind not in picked]\n",
    "        if len(indices) > 0:\n",
    "            pick = np.random.choice(indices, size = max(1, len(indices)//10))\n",
    "            for i in indices:\n",
    "                picked.add(i)\n",
    "            for p in pick:\n",
    "                test_df.loc[p, col] = train_df.loc[p, col]\n",
    "                train_df.loc[p, col] = 0\n",
    "    "
   ]
  },
  {
   "cell_type": "code",
   "execution_count": null,
   "metadata": {
    "colab": {},
    "colab_type": "code",
    "id": "bZJVQ9XcbmKa"
   },
   "outputs": [],
   "source": [
    "train_df.fillna(0.0, inplace=True)\n",
    "test_df.fillna(0.0, inplace=True)"
   ]
  },
  {
   "cell_type": "markdown",
   "metadata": {
    "colab_type": "text",
    "id": "vvhoYKOWbmKc"
   },
   "source": []
  },
  {
   "cell_type": "code",
   "execution_count": null,
   "metadata": {
    "colab": {},
    "colab_type": "code",
    "id": "ixocS1UGbmKd"
   },
   "outputs": [],
   "source": []
  },
  {
   "cell_type": "code",
   "execution_count": null,
   "metadata": {
    "colab": {},
    "colab_type": "code",
    "id": "SprzuhGabmKe"
   },
   "outputs": [],
   "source": [
    "class MF():\n",
    "    \n",
    "    def __init__(self, R, K, alpha, beta, iterations, lambda_bias, test=None):\n",
    "        \"\"\"\n",
    "        Perform matrix factorization to predict empty\n",
    "        entries in a matrix.\n",
    "        \n",
    "        Arguments\n",
    "        - R (ndarray)   : user-item rating matrix\n",
    "        - K (int)       : number of latent dimensions\n",
    "        - alpha (float) : learning rate\n",
    "        - beta (float)  : regularization parameter\n",
    "        \"\"\"\n",
    "        \n",
    "        self.R = R\n",
    "        self.num_users, self.num_items = R.shape\n",
    "        self.K = K\n",
    "        self.alpha = alpha\n",
    "        self.beta = beta\n",
    "        self.lambda_bias = lambda_bias\n",
    "        self.iterations = iterations\n",
    "        self.test = test\n",
    "\n",
    "    def train(self):\n",
    "        # Initialize user and item latent feature matrice\n",
    "        self.P = np.random.normal(scale=1./self.K, size=(self.num_users, self.K))\n",
    "        self.Q = np.random.normal(scale=1./self.K, size=(self.num_items, self.K))\n",
    "        \n",
    "        # Initialize the biases\n",
    "        self.b_u = np.zeros(self.num_users)\n",
    "        self.b_i = np.zeros(self.num_items)\n",
    "        self.b = np.mean(self.R[np.where(self.R != 0)])\n",
    "        \n",
    "        # Create a list of training samples\n",
    "        self.samples = [\n",
    "            (i, j, self.R[i, j])\n",
    "            for i in range(self.num_users)\n",
    "            for j in range(self.num_items)\n",
    "            if self.R[i, j] > 0\n",
    "        ]\n",
    "        \n",
    "        # Perform stochastic gradient descent for number of iterations\n",
    "        training_process = []\n",
    "        test_process = []\n",
    "        for i in range(self.iterations):\n",
    "            np.random.shuffle(self.samples)\n",
    "            self.sgd()\n",
    "            mse = self.mse()\n",
    "            training_process.append((i, mse))\n",
    "            if (i+1) % 10 == 0:\n",
    "#                 print(\"Iteration: %d ; error = %.4f\" % (i+1, mse))\n",
    "                temp_pred = self.full_matrix()\n",
    "                test_process.append(get_mse(temp_pred, self.test))\n",
    "        \n",
    "        return training_process, test_process\n",
    "\n",
    "    def mse(self):\n",
    "        \"\"\"\n",
    "        A function to compute the total mean square error\n",
    "        \"\"\"\n",
    "        xs, ys = self.R.nonzero()\n",
    "        predicted = self.full_matrix()\n",
    "        error = 0\n",
    "        for x, y in zip(xs, ys):\n",
    "            error += pow(self.R[x, y] - predicted[x, y], 2)\n",
    "        error /= len(xs)\n",
    "        return np.sqrt(error)\n",
    "\n",
    "    def sgd(self):\n",
    "        \"\"\"\n",
    "        Perform stochastic graident descent\n",
    "        \"\"\"\n",
    "        for i, j, r in self.samples:\n",
    "            # Computer prediction and error\n",
    "            prediction = self.get_rating(i, j)\n",
    "            e = (r - prediction)\n",
    "            \n",
    "            # Update biases\n",
    "            self.b_u[i] += self.alpha * (e - self.lambda_bias * self.b_u[i])\n",
    "            self.b_i[j] += self.alpha * (e - self.lambda_bias * self.b_i[j])\n",
    "            \n",
    "            # Create copy of row of P since we need to update it but use older values for update on Q\n",
    "            P_i = self.P[i, :][:]\n",
    "            \n",
    "            # Update user and item latent feature matrices\n",
    "            self.P[i, :] += self.alpha * (e * self.Q[j, :] - self.beta * self.P[i,:])\n",
    "            self.Q[j, :] += self.alpha * (e * P_i - self.beta * self.Q[j,:])\n",
    "\n",
    "    def get_rating(self, i, j):\n",
    "        \"\"\"\n",
    "        Get the predicted rating of user i and item j\n",
    "        \"\"\"\n",
    "        prediction = self.b + self.b_u[i] + self.b_i[j] + self.P[i, :].dot(self.Q[j, :].T)\n",
    "        return prediction\n",
    "    \n",
    "    def full_matrix(self):\n",
    "        \"\"\"\n",
    "        Computer the full matrix using the resultant biases, P and Q\n",
    "        \"\"\"\n",
    "        return mf.b_u[:,np.newaxis] + mf.b_i[np.newaxis:,] + mf.P.dot(mf.Q.T)  + mf.b\n",
    "\n"
   ]
  },
  {
   "cell_type": "code",
   "execution_count": null,
   "metadata": {
    "colab": {},
    "colab_type": "code",
    "id": "hPQdWmq9bmKh"
   },
   "outputs": [],
   "source": [
    "from sklearn.metrics import mean_squared_error\n",
    "\n",
    "def get_mse(pred, actual):\n",
    "    # Ignore nonzero terms.\n",
    "    pred = pred[actual.nonzero()].flatten()\n",
    "    actual = actual[actual.nonzero()].flatten()\n",
    "    return mean_squared_error(pred, actual)"
   ]
  },
  {
   "cell_type": "code",
   "execution_count": null,
   "metadata": {
    "colab": {},
    "colab_type": "code",
    "id": "FwWYwdPjbmKi",
    "outputId": "b95e979a-f0ef-4f36-d863-a49df07b6bb8",
    "scrolled": true
   },
   "outputs": [
    {
     "name": "stdout",
     "output_type": "stream",
     "text": [
      "running k = 2\n",
      "running k = 4\n",
      "running k = 6\n",
      "running k = 8\n",
      "running k = 10\n",
      "running k = 12\n",
      "running k = 14\n",
      "running k = 16\n",
      "running k = 18\n",
      "running k = 20\n",
      "running k = 22\n",
      "running k = 24\n",
      "running k = 26\n",
      "running k = 28\n",
      "running k = 30\n"
     ]
    }
   ],
   "source": [
    "kmax = 30\n",
    "ks  = range(2, kmax+1, 2)\n",
    "alphas = [10**i for i in range(-5,0)]\n",
    "betas = [10**i for i in range(-5,0)]\n",
    "lambdas = [10**i for i in range(-5,0)]\n",
    "best_test_error = {}\n",
    "for k in ks:\n",
    "    print(f'running k = {k}')\n",
    "    if k > 5:\n",
    "        for a in alphas:\n",
    "            for beta in betas:\n",
    "                for lambda_bias in lambdas:\n",
    "                    \n",
    "                    mf = MF(train_df.values, K=k, alpha=a, beta=beta, iterations=300, lambda_bias=lambda_bias, test=test_df.values)\n",
    "                    training_process, test_process = mf.train()\n",
    "                    best_test_error[(k, a, beta, lambda_bias)] = min(test_process)"
   ]
  },
  {
   "cell_type": "code",
   "execution_count": null,
   "metadata": {
    "colab": {},
    "colab_type": "code",
    "id": "aEA2K8xAbmKl",
    "outputId": "2f0a4159-9ac2-4e87-bb35-7c3128a958dd"
   },
   "outputs": [
    {
     "data": {
      "text/plain": [
       "'(26, 0.001, 0.001, 1e-05), 0.0027260186574101183\\n'"
      ]
     },
     "execution_count": 64,
     "metadata": {
      "tags": []
     },
     "output_type": "execute_result"
    }
   ],
   "source": [
    "line"
   ]
  },
  {
   "cell_type": "code",
   "execution_count": null,
   "metadata": {
    "colab": {},
    "colab_type": "code",
    "id": "s8cvj45ubmKn",
    "outputId": "ab578ec4-a906-4da1-9ce9-b16e308d9f44"
   },
   "outputs": [
    {
     "data": {
      "text/plain": [
       "['26', ' 0.001', ' 0.001', ' 1e-05)', ' 0.0027260186574101183\\n']"
      ]
     },
     "execution_count": 75,
     "metadata": {
      "tags": []
     },
     "output_type": "execute_result"
    }
   ],
   "source": [
    "line[1:].split(',')"
   ]
  },
  {
   "cell_type": "code",
   "execution_count": null,
   "metadata": {
    "colab": {},
    "colab_type": "code",
    "id": "utQKE_DibmKr"
   },
   "outputs": [],
   "source": [
    "def _split(line):\n",
    "    '''split a line and return the parameters we are interested in '''\n",
    "    #line = line.trim()\n",
    "    k, a, beta, lambda_bias, _ = [float(item) if i < 3 else item[:-1] \\\n",
    "                                  for i, item in enumerate(line[1:].split(','))]\n",
    "    return int(k), a, beta, float(lambda_bias)\n",
    "\n",
    "file_name = 'results.txt'\n",
    "file = open(file_name, 'r')\n",
    "to_write = open('split3_k35.txt', 'a')\n",
    "for line in file:\n",
    "    best_test_error = {}\n",
    "    k, a, beta, lambda_bias = _split(line)\n",
    "    mf = MF(train_df.values, K=30, alpha=a, beta=beta, iterations=100, lambda_bias=lambda_bias, test=test_df.values)\n",
    "    training_process, test_process = mf.train()\n",
    "    best_test_error[(k, a, beta, lambda_bias)] = min(test_process)\n",
    "    # save in a file\n",
    "    break\n",
    "    to_write.write(str(best_test_error.items()))\n",
    "    to_write.write(\"\\n\")\n",
    "    print(min(test_process))\n",
    "to_write.close()\n",
    "file.close()"
   ]
  },
  {
   "cell_type": "code",
   "execution_count": null,
   "metadata": {
    "colab": {},
    "colab_type": "code",
    "id": "AM0cM0u_bmKu"
   },
   "outputs": [],
   "source": [
    "mf = MF(train_df.values, 26, 0.001, 0.001, 300, 1e-05, test=test_df.values)\n",
    "training_process, test_process = mf.train()"
   ]
  },
  {
   "cell_type": "code",
   "execution_count": null,
   "metadata": {
    "colab": {},
    "colab_type": "code",
    "id": "hKrlWcX_bmKy",
    "outputId": "09bcf481-05eb-4830-8a57-a8bb3518927a"
   },
   "outputs": [
    {
     "data": {
      "text/plain": [
       "[<matplotlib.lines.Line2D at 0x115bd278>]"
      ]
     },
     "execution_count": 100,
     "metadata": {
      "tags": []
     },
     "output_type": "execute_result"
    },
    {
     "data": {
      "image/png": "[encoded data removed]",
      "text/plain": [
       "<Figure size 432x288 with 1 Axes>"
      ]
     },
     "metadata": {
      "needs_background": "light",
      "tags": []
     },
     "output_type": "display_data"
    }
   ],
   "source": [
    "plt.plot(test_process)"
   ]
  },
  {
   "cell_type": "code",
   "execution_count": null,
   "metadata": {
    "colab": {},
    "colab_type": "code",
    "id": "818rO1YKbmK1",
    "outputId": "0f8d5fad-5075-46db-bf8d-f499165b40e8"
   },
   "outputs": [
    {
     "data": {
      "text/plain": [
       "[0.0028962249137515586,\n",
       " 0.002819793608426278,\n",
       " 0.0028426597225839983,\n",
       " 0.002872832151831528,\n",
       " 0.002901468305066955,\n",
       " 0.0029279647507372097,\n",
       " 0.0029474346744742196,\n",
       " 0.0029661750981782855,\n",
       " 0.002981160570220183,\n",
       " 0.002994108605067302,\n",
       " 0.0030084893494675344,\n",
       " 0.0030148946129061717,\n",
       " 0.003027225691010987,\n",
       " 0.0030347061271523436,\n",
       " 0.00304477980475793,\n",
       " 0.003049547340743213,\n",
       " 0.0030585111209421923,\n",
       " 0.003060750360544173,\n",
       " 0.0030685414260405524,\n",
       " 0.0030723990482643846,\n",
       " 0.003076777835988558,\n",
       " 0.0030773964528941307,\n",
       " 0.0030792075680774753,\n",
       " 0.003080556316395245,\n",
       " 0.003082238175067082,\n",
       " 0.003083016357754063,\n",
       " 0.0030863282419726877,\n",
       " 0.0030834622012222567,\n",
       " 0.003084214661589409,\n",
       " 0.0030848699057036584]"
      ]
     },
     "execution_count": 90,
     "metadata": {
      "tags": []
     },
     "output_type": "execute_result"
    }
   ],
   "source": [
    "test_process"
   ]
  },
  {
   "cell_type": "code",
   "execution_count": null,
   "metadata": {
    "colab": {},
    "colab_type": "code",
    "id": "s_ddx86ubmK3"
   },
   "outputs": [],
   "source": [
    "to_write = open('split1.txt', 'a')\n",
    "to_write.write(\"a\\\\n\")\n",
    "to_write.close()"
   ]
  },
  {
   "cell_type": "code",
   "execution_count": null,
   "metadata": {
    "colab": {},
    "colab_type": "code",
    "id": "JMfNPCcJbmK4"
   },
   "outputs": [],
   "source": [
    "# mf = MF(train_df.values, K=10, alpha=0.01, beta=0.1, iterations=300, lambda_bias=0.15, test=test_df.values)\n",
    "# training_process, test_process = mf.train()"
   ]
  },
  {
   "cell_type": "code",
   "execution_count": null,
   "metadata": {
    "colab": {},
    "colab_type": "code",
    "id": "hehFoojxbmK7",
    "outputId": "836ae917-1fba-45de-f93c-c4cd01297b3a"
   },
   "outputs": [
    {
     "data": {
      "text/plain": [
       "(array([3.4000e+01, 6.5600e+02, 6.4410e+03, 4.0144e+04, 1.2346e+05,\n",
       "        1.0554e+05, 1.6641e+04, 8.0100e+02, 3.2500e+02, 8.6000e+01]),\n",
       " array([0.77677574, 0.82165444, 0.86653314, 0.91141183, 0.95629053,\n",
       "        1.00116923, 1.04604792, 1.09092662, 1.13580532, 1.18068401,\n",
       "        1.22556271]),\n",
       " <a list of 10 Patch objects>)"
      ]
     },
     "execution_count": 24,
     "metadata": {
      "tags": []
     },
     "output_type": "execute_result"
    },
    {
     "data": {
      "image/png": "[encoded data removed]",
      "text/plain": [
       "<Figure size 432x288 with 1 Axes>"
      ]
     },
     "metadata": {
      "needs_background": "light",
      "tags": []
     },
     "output_type": "display_data"
    }
   ],
   "source": [
    "plt.hist(mf.full_matrix().flatten())"
   ]
  },
  {
   "cell_type": "code",
   "execution_count": null,
   "metadata": {
    "colab": {},
    "colab_type": "code",
    "id": "YFs9kj1cbmK8",
    "outputId": "d9866935-94c4-4680-d87b-45da67e7181d"
   },
   "outputs": [
    {
     "data": {
      "text/plain": [
       "{(6, 1e-05, 1e-05, 1e-05): 0.008885469738702868,\n",
       " (6, 1e-05, 1e-05, 0.0001): 0.00809057798037285,\n",
       " (6, 1e-05, 1e-05, 0.001): 0.008526277998448458,\n",
       " (6, 1e-05, 1e-05, 0.01): 0.007658705409749787,\n",
       " (6, 1e-05, 1e-05, 0.1): 0.009303150580905575,\n",
       " (6, 1e-05, 0.0001, 1e-05): 0.010049781924492629,\n",
       " (6, 1e-05, 0.0001, 0.0001): 0.008571120286831628,\n",
       " (6, 1e-05, 0.0001, 0.001): 0.008707305845104903,\n",
       " (6, 1e-05, 0.0001, 0.01): 0.010177979352572957,\n",
       " (6, 1e-05, 0.0001, 0.1): 0.008094645701388488,\n",
       " (6, 1e-05, 0.001, 1e-05): 0.009102519424874557,\n",
       " (6, 1e-05, 0.001, 0.0001): 0.009670380716355237,\n",
       " (6, 1e-05, 0.001, 0.001): 0.009554407121516664,\n",
       " (6, 1e-05, 0.001, 0.01): 0.007798748012888805,\n",
       " (6, 1e-05, 0.001, 0.1): 0.009402858126614401,\n",
       " (6, 1e-05, 0.01, 1e-05): 0.007970454612244883,\n",
       " (6, 1e-05, 0.01, 0.0001): 0.00784530006258138,\n",
       " (6, 1e-05, 0.01, 0.001): 0.007807517594564667,\n",
       " (6, 1e-05, 0.01, 0.01): 0.007166734404658494,\n",
       " (6, 1e-05, 0.01, 0.1): 0.009035078511882769,\n",
       " (6, 1e-05, 0.1, 1e-05): 0.007146426463140747,\n",
       " (6, 1e-05, 0.1, 0.0001): 0.008739016461545195,\n",
       " (6, 1e-05, 0.1, 0.001): 0.00949896801097999,\n",
       " (6, 1e-05, 0.1, 0.01): 0.008041517473716632,\n",
       " (6, 1e-05, 0.1, 0.1): 0.008256283656272937,\n",
       " (6, 0.0001, 1e-05, 1e-05): 0.009334653981330498,\n",
       " (6, 0.0001, 1e-05, 0.0001): 0.007816159888124376,\n",
       " (6, 0.0001, 1e-05, 0.001): 0.008387100911519042,\n",
       " (6, 0.0001, 1e-05, 0.01): 0.008425688207772609,\n",
       " (6, 0.0001, 1e-05, 0.1): 0.008639426691260856,\n",
       " (6, 0.0001, 0.0001, 1e-05): 0.008182618456082041,\n",
       " (6, 0.0001, 0.0001, 0.0001): 0.007985341240729256,\n",
       " (6, 0.0001, 0.0001, 0.001): 0.007481176000098648,\n",
       " (6, 0.0001, 0.0001, 0.01): 0.007876019652172266,\n",
       " (6, 0.0001, 0.0001, 0.1): 0.0063487721803282444,\n",
       " (6, 0.0001, 0.001, 1e-05): 0.008736741990024452,\n",
       " (6, 0.0001, 0.001, 0.0001): 0.008940302344976616,\n",
       " (6, 0.0001, 0.001, 0.001): 0.008505741900546543,\n",
       " (6, 0.0001, 0.001, 0.01): 0.008539653459751285,\n",
       " (6, 0.0001, 0.001, 0.1): 0.008733180866048254,\n",
       " (6, 0.0001, 0.01, 1e-05): 0.007629897633247019,\n",
       " (6, 0.0001, 0.01, 0.0001): 0.007344185558099114,\n",
       " (6, 0.0001, 0.01, 0.001): 0.00992917386828253,\n",
       " (6, 0.0001, 0.01, 0.01): 0.008238680282923634,\n",
       " (6, 0.0001, 0.01, 0.1): 0.008244116751336662,\n",
       " (6, 0.0001, 0.1, 1e-05): 0.007422388504357273,\n",
       " (6, 0.0001, 0.1, 0.0001): 0.007449346946695077,\n",
       " (6, 0.0001, 0.1, 0.001): 0.00716315625749752,\n",
       " (6, 0.0001, 0.1, 0.01): 0.006953150892629705,\n",
       " (6, 0.0001, 0.1, 0.1): 0.006804102262176062,\n",
       " (6, 0.001, 1e-05, 1e-05): 0.0074793051374214044,\n",
       " (6, 0.001, 1e-05, 0.0001): 0.006125184129909981,\n",
       " (6, 0.001, 1e-05, 0.001): 0.0059788585542810595,\n",
       " (6, 0.001, 1e-05, 0.01): 0.00625038892611825,\n",
       " (6, 0.001, 1e-05, 0.1): 0.006916916520346499,\n",
       " (6, 0.001, 0.0001, 1e-05): 0.008282844490147425,\n",
       " (6, 0.001, 0.0001, 0.0001): 0.006206861783101095,\n",
       " (6, 0.001, 0.0001, 0.001): 0.006837380386382183,\n",
       " (6, 0.001, 0.0001, 0.01): 0.006922454010324433,\n",
       " (6, 0.001, 0.0001, 0.1): 0.007328903251260865,\n",
       " (6, 0.001, 0.001, 1e-05): 0.00662864855398918,\n",
       " (6, 0.001, 0.001, 0.0001): 0.008022376125978167,\n",
       " (6, 0.001, 0.001, 0.001): 0.006395436799177689,\n",
       " (6, 0.001, 0.001, 0.01): 0.006850142060083326,\n",
       " (6, 0.001, 0.001, 0.1): 0.0066877188502495605,\n",
       " (6, 0.001, 0.01, 1e-05): 0.006741387078506451,\n",
       " (6, 0.001, 0.01, 0.0001): 0.005861683249656308,\n",
       " (6, 0.001, 0.01, 0.001): 0.005614170472455279,\n",
       " (6, 0.001, 0.01, 0.01): 0.006323901147448568,\n",
       " (6, 0.001, 0.01, 0.1): 0.005774236463416157,\n",
       " (6, 0.001, 0.1, 1e-05): 0.003533184616657822,\n",
       " (6, 0.001, 0.1, 0.0001): 0.0039206160285868,\n",
       " (6, 0.001, 0.1, 0.001): 0.0034353547570651877,\n",
       " (6, 0.001, 0.1, 0.01): 0.0038115557334183364,\n",
       " (6, 0.001, 0.1, 0.1): 0.004282616375870611,\n",
       " (6, 0.01, 1e-05, 1e-05): 0.005190338242369559,\n",
       " (6, 0.01, 1e-05, 0.0001): 0.005056405984255396,\n",
       " (6, 0.01, 1e-05, 0.001): 0.006835786746613677,\n",
       " (6, 0.01, 1e-05, 0.01): 0.005922087434524762,\n",
       " (6, 0.01, 1e-05, 0.1): 0.004629012509126827,\n",
       " (6, 0.01, 0.0001, 1e-05): 0.005660162192960333,\n",
       " (6, 0.01, 0.0001, 0.0001): 0.005720614598439216,\n",
       " (6, 0.01, 0.0001, 0.001): 0.00581980800214222,\n",
       " (6, 0.01, 0.0001, 0.01): 0.005071484939578719,\n",
       " (6, 0.01, 0.0001, 0.1): 0.005261200501653118,\n",
       " (6, 0.01, 0.001, 1e-05): 0.005051840773735345,\n",
       " (6, 0.01, 0.001, 0.0001): 0.004656713542764858,\n",
       " (6, 0.01, 0.001, 0.001): 0.0055521899905595475,\n",
       " (6, 0.01, 0.001, 0.01): 0.00632119636046688,\n",
       " (6, 0.01, 0.001, 0.1): 0.004965626793019346,\n",
       " (6, 0.01, 0.01, 1e-05): 0.003560135953100986,\n",
       " (6, 0.01, 0.01, 0.0001): 0.004239021784432598,\n",
       " (6, 0.01, 0.01, 0.001): 0.004051089597482429,\n",
       " (6, 0.01, 0.01, 0.01): 0.004355511941521931,\n",
       " (6, 0.01, 0.01, 0.1): 0.00388721403373717,\n",
       " (6, 0.01, 0.1, 1e-05): 0.0030116546529979334,\n",
       " (6, 0.01, 0.1, 0.0001): 0.0029679794677086703,\n",
       " (6, 0.01, 0.1, 0.001): 0.0031105350052248707,\n",
       " (6, 0.01, 0.1, 0.01): 0.0030855478517329447,\n",
       " (6, 0.01, 0.1, 0.1): 0.002986882742831625,\n",
       " (6, 0.1, 1e-05, 1e-05): 0.006138626090456856,\n",
       " (6, 0.1, 1e-05, 0.0001): 0.0062196365721133035,\n",
       " (6, 0.1, 1e-05, 0.001): 0.00607074296762636,\n",
       " (6, 0.1, 1e-05, 0.01): 0.0058230301239112995,\n",
       " (6, 0.1, 1e-05, 0.1): 0.004818966902164396,\n",
       " (6, 0.1, 0.0001, 1e-05): 0.005784238906078211,\n",
       " (6, 0.1, 0.0001, 0.0001): 0.005289316554920676,\n",
       " (6, 0.1, 0.0001, 0.001): 0.005773458908784909,\n",
       " (6, 0.1, 0.0001, 0.01): 0.005739564595005588,\n",
       " (6, 0.1, 0.0001, 0.1): 0.005590359229140942,\n",
       " (6, 0.1, 0.001, 1e-05): 0.00504969582829006,\n",
       " (6, 0.1, 0.001, 0.0001): 0.00566641113501014,\n",
       " (6, 0.1, 0.001, 0.001): 0.005358382847877059,\n",
       " (6, 0.1, 0.001, 0.01): 0.00446710791085764,\n",
       " (6, 0.1, 0.001, 0.1): 0.005625354245737209,\n",
       " (6, 0.1, 0.01, 1e-05): 0.0031037873052473905,\n",
       " (6, 0.1, 0.01, 0.0001): 0.0031188927259691696,\n",
       " (6, 0.1, 0.01, 0.001): 0.0035249149384695448,\n",
       " (6, 0.1, 0.01, 0.01): 0.0031875983946493963,\n",
       " (6, 0.1, 0.01, 0.1): 0.0029166200970669304,\n",
       " (6, 0.1, 0.1, 1e-05): 0.0030463658570636927,\n",
       " (6, 0.1, 0.1, 0.0001): 0.0030493794329366653,\n",
       " (6, 0.1, 0.1, 0.001): 0.003044199355777695,\n",
       " (6, 0.1, 0.1, 0.01): 0.0030224794003863944,\n",
       " (6, 0.1, 0.1, 0.1): 0.0029449014743757854,\n",
       " (8, 1e-05, 1e-05, 1e-05): 0.005818503391566545,\n",
       " (8, 1e-05, 1e-05, 0.0001): 0.00641561412544219,\n",
       " (8, 1e-05, 1e-05, 0.001): 0.00648519801814159,\n",
       " (8, 1e-05, 1e-05, 0.01): 0.0062159066112106465,\n",
       " (8, 1e-05, 1e-05, 0.1): 0.0060829836419659805,\n",
       " (8, 1e-05, 0.0001, 1e-05): 0.006571032122033499,\n",
       " (8, 1e-05, 0.0001, 0.0001): 0.006243213256849397,\n",
       " (8, 1e-05, 0.0001, 0.001): 0.005136303729750223,\n",
       " (8, 1e-05, 0.0001, 0.01): 0.006269731525889236,\n",
       " (8, 1e-05, 0.0001, 0.1): 0.006043918989479211,\n",
       " (8, 1e-05, 0.001, 1e-05): 0.006387970029751566,\n",
       " (8, 1e-05, 0.001, 0.0001): 0.005650758575067987,\n",
       " (8, 1e-05, 0.001, 0.001): 0.006124843759111475,\n",
       " (8, 1e-05, 0.001, 0.01): 0.005273058760048012,\n",
       " (8, 1e-05, 0.001, 0.1): 0.005300861489469177,\n",
       " (8, 1e-05, 0.01, 1e-05): 0.006162206767133672,\n",
       " (8, 1e-05, 0.01, 0.0001): 0.005666547305402917,\n",
       " (8, 1e-05, 0.01, 0.001): 0.006373166290155531,\n",
       " (8, 1e-05, 0.01, 0.01): 0.005400692943490887,\n",
       " (8, 1e-05, 0.01, 0.1): 0.005238812802485981,\n",
       " (8, 1e-05, 0.1, 1e-05): 0.006282005321832309,\n",
       " (8, 1e-05, 0.1, 0.0001): 0.006300773700423896,\n",
       " (8, 1e-05, 0.1, 0.001): 0.006338440959748192,\n",
       " (8, 1e-05, 0.1, 0.01): 0.006054446255753529,\n",
       " (8, 1e-05, 0.1, 0.1): 0.005204100071620499,\n",
       " (8, 0.0001, 1e-05, 1e-05): 0.005457994299234549,\n",
       " (8, 0.0001, 1e-05, 0.0001): 0.0052827903765371755,\n",
       " (8, 0.0001, 1e-05, 0.001): 0.005083064782665202,\n",
       " (8, 0.0001, 1e-05, 0.01): 0.004957046925122287,\n",
       " (8, 0.0001, 1e-05, 0.1): 0.005924809954218849,\n",
       " (8, 0.0001, 0.0001, 1e-05): 0.006124997919219889,\n",
       " (8, 0.0001, 0.0001, 0.0001): 0.00520439930036649,\n",
       " (8, 0.0001, 0.0001, 0.001): 0.00580354892079705,\n",
       " (8, 0.0001, 0.0001, 0.01): 0.005062081021632735,\n",
       " (8, 0.0001, 0.0001, 0.1): 0.005333473912024985,\n",
       " (8, 0.0001, 0.001, 1e-05): 0.005041482486447882,\n",
       " (8, 0.0001, 0.001, 0.0001): 0.0050309007928926504,\n",
       " (8, 0.0001, 0.001, 0.001): 0.005854805855601444,\n",
       " (8, 0.0001, 0.001, 0.01): 0.004983320913222638,\n",
       " (8, 0.0001, 0.001, 0.1): 0.005087142891970943,\n",
       " (8, 0.0001, 0.01, 1e-05): 0.0060378404099062895,\n",
       " (8, 0.0001, 0.01, 0.0001): 0.004797927729352157,\n",
       " (8, 0.0001, 0.01, 0.001): 0.00516833024717706,\n",
       " (8, 0.0001, 0.01, 0.01): 0.0055225924978823384,\n",
       " (8, 0.0001, 0.01, 0.1): 0.0054292567160010305,\n",
       " (8, 0.0001, 0.1, 1e-05): 0.004503164346821857,\n",
       " (8, 0.0001, 0.1, 0.0001): 0.005631923361903244,\n",
       " (8, 0.0001, 0.1, 0.001): 0.004823252512223749,\n",
       " (8, 0.0001, 0.1, 0.01): 0.005101895141677336,\n",
       " (8, 0.0001, 0.1, 0.1): 0.005012359497240115,\n",
       " (8, 0.001, 1e-05, 1e-05): 0.003876551724961331,\n",
       " (8, 0.001, 1e-05, 0.0001): 0.005891724483448386,\n",
       " (8, 0.001, 1e-05, 0.001): 0.00487708955079617,\n",
       " (8, 0.001, 1e-05, 0.01): 0.004510115107960936,\n",
       " (8, 0.001, 1e-05, 0.1): 0.004356601490893457,\n",
       " (8, 0.001, 0.0001, 1e-05): 0.004799404960258318,\n",
       " (8, 0.001, 0.0001, 0.0001): 0.004812299474933058,\n",
       " (8, 0.001, 0.0001, 0.001): 0.0042421811417314315,\n",
       " (8, 0.001, 0.0001, 0.01): 0.00470827669150177,\n",
       " (8, 0.001, 0.0001, 0.1): 0.004291091747087335,\n",
       " (8, 0.001, 0.001, 1e-05): 0.0043447316289082685,\n",
       " (8, 0.001, 0.001, 0.0001): 0.004561226195861233,\n",
       " (8, 0.001, 0.001, 0.001): 0.004647294659846037,\n",
       " (8, 0.001, 0.001, 0.01): 0.004793394522151186,\n",
       " (8, 0.001, 0.001, 0.1): 0.005224235915488838,\n",
       " (8, 0.001, 0.01, 1e-05): 0.005105452948219461,\n",
       " (8, 0.001, 0.01, 0.0001): 0.004509403505247169,\n",
       " (8, 0.001, 0.01, 0.001): 0.004072431723419279,\n",
       " (8, 0.001, 0.01, 0.01): 0.004761805187424737,\n",
       " (8, 0.001, 0.01, 0.1): 0.0043210797174489685,\n",
       " (8, 0.001, 0.1, 1e-05): 0.0032810502027072154,\n",
       " (8, 0.001, 0.1, 0.0001): 0.0031376124727692254,\n",
       " (8, 0.001, 0.1, 0.001): 0.003287393317220901,\n",
       " (8, 0.001, 0.1, 0.01): 0.003151683404736762,\n",
       " (8, 0.001, 0.1, 0.1): 0.0033811656008255688,\n",
       " (8, 0.01, 1e-05, 1e-05): 0.004556982096187193,\n",
       " (8, 0.01, 1e-05, 0.0001): 0.004731700088968831,\n",
       " (8, 0.01, 1e-05, 0.001): 0.004238596440263704,\n",
       " (8, 0.01, 1e-05, 0.01): 0.004416484477981313,\n",
       " (8, 0.01, 1e-05, 0.1): 0.004419360831420794,\n",
       " (8, 0.01, 0.0001, 1e-05): 0.0043416529701537756,\n",
       " (8, 0.01, 0.0001, 0.0001): 0.0042922493600831444,\n",
       " (8, 0.01, 0.0001, 0.001): 0.004711024293229842,\n",
       " (8, 0.01, 0.0001, 0.01): 0.004250451488739476,\n",
       " (8, 0.01, 0.0001, 0.1): 0.004256607213331415,\n",
       " (8, 0.01, 0.001, 1e-05): 0.003944791986037582,\n",
       " (8, 0.01, 0.001, 0.0001): 0.004797579923192056,\n",
       " (8, 0.01, 0.001, 0.001): 0.004468244938727223,\n",
       " (8, 0.01, 0.001, 0.01): 0.004302129363695801,\n",
       " (8, 0.01, 0.001, 0.1): 0.004096597805275602,\n",
       " (8, 0.01, 0.01, 1e-05): 0.0034518802339723598,\n",
       " (8, 0.01, 0.01, 0.0001): 0.003776956600926019,\n",
       " (8, 0.01, 0.01, 0.001): 0.003679989088195846,\n",
       " (8, 0.01, 0.01, 0.01): 0.0035299897871659868,\n",
       " (8, 0.01, 0.01, 0.1): 0.0034647654005273477,\n",
       " (8, 0.01, 0.1, 1e-05): 0.0030678432813967403,\n",
       " (8, 0.01, 0.1, 0.0001): 0.0030267375317551953,\n",
       " (8, 0.01, 0.1, 0.001): 0.002992539315158466,\n",
       " (8, 0.01, 0.1, 0.01): 0.0029591055746449203,\n",
       " (8, 0.01, 0.1, 0.1): 0.002973343383797301,\n",
       " (8, 0.1, 1e-05, 1e-05): 0.003960756910806146,\n",
       " (8, 0.1, 1e-05, 0.0001): 0.004537219802180056,\n",
       " (8, 0.1, 1e-05, 0.001): 0.004242255734553018,\n",
       " (8, 0.1, 1e-05, 0.01): 0.00453381158078921,\n",
       " (8, 0.1, 1e-05, 0.1): 0.004883554883754455,\n",
       " (8, 0.1, 0.0001, 1e-05): 0.004720320150305868,\n",
       " (8, 0.1, 0.0001, 0.0001): 0.005028961804105011,\n",
       " (8, 0.1, 0.0001, 0.001): 0.003924335372487946,\n",
       " (8, 0.1, 0.0001, 0.01): 0.005061569537531882,\n",
       " (8, 0.1, 0.0001, 0.1): 0.0038065295536465742,\n",
       " (8, 0.1, 0.001, 1e-05): 0.003820459594512947,\n",
       " (8, 0.1, 0.001, 0.0001): 0.0042926752617866585,\n",
       " (8, 0.1, 0.001, 0.001): 0.004324686683684413,\n",
       " (8, 0.1, 0.001, 0.01): 0.004338246301660251,\n",
       " (8, 0.1, 0.001, 0.1): 0.004415375664667401,\n",
       " (8, 0.1, 0.01, 1e-05): 0.003112677263555343,\n",
       " (8, 0.1, 0.01, 0.0001): 0.0031000373020057636,\n",
       " (8, 0.1, 0.01, 0.001): 0.0030434009473795745,\n",
       " (8, 0.1, 0.01, 0.01): 0.0030000009847510356,\n",
       " (8, 0.1, 0.01, 0.1): 0.0030173958210607636,\n",
       " (8, 0.1, 0.1, 1e-05): 0.003043061289790127,\n",
       " (8, 0.1, 0.1, 0.0001): 0.0030541062864133037,\n",
       " (8, 0.1, 0.1, 0.001): 0.0030550492774634934,\n",
       " (8, 0.1, 0.1, 0.01): 0.0030394753793338003,\n",
       " (8, 0.1, 0.1, 0.1): 0.0028799958769501373,\n",
       " (10, 1e-05, 1e-05, 1e-05): 0.005211591714070574,\n",
       " (10, 1e-05, 1e-05, 0.0001): 0.005521306451648827,\n",
       " (10, 1e-05, 1e-05, 0.001): 0.004998847839481569,\n",
       " (10, 1e-05, 1e-05, 0.01): 0.005130635821287955,\n",
       " (10, 1e-05, 1e-05, 0.1): 0.005291501585239585,\n",
       " (10, 1e-05, 0.0001, 1e-05): 0.005291939040100633,\n",
       " (10, 1e-05, 0.0001, 0.0001): 0.00556014789818742,\n",
       " (10, 1e-05, 0.0001, 0.001): 0.004641693999587597,\n",
       " (10, 1e-05, 0.0001, 0.01): 0.004963043442834926,\n",
       " (10, 1e-05, 0.0001, 0.1): 0.00484105969091731,\n",
       " (10, 1e-05, 0.001, 1e-05): 0.005020691298511229,\n",
       " (10, 1e-05, 0.001, 0.0001): 0.005464868258743652,\n",
       " (10, 1e-05, 0.001, 0.001): 0.005399365766678835,\n",
       " (10, 1e-05, 0.001, 0.01): 0.004616799092162194,\n",
       " (10, 1e-05, 0.001, 0.1): 0.004805889964375899,\n",
       " (10, 1e-05, 0.01, 1e-05): 0.004920443091947892,\n",
       " (10, 1e-05, 0.01, 0.0001): 0.005007093450850527,\n",
       " (10, 1e-05, 0.01, 0.001): 0.0051902299904453995,\n",
       " (10, 1e-05, 0.01, 0.01): 0.004887782177788233,\n",
       " (10, 1e-05, 0.01, 0.1): 0.004603151885777182,\n",
       " (10, 1e-05, 0.1, 1e-05): 0.00469487186850305,\n",
       " (10, 1e-05, 0.1, 0.0001): 0.004795060660645561,\n",
       " (10, 1e-05, 0.1, 0.001): 0.004490043300602646,\n",
       " (10, 1e-05, 0.1, 0.01): 0.00436338184354902,\n",
       " (10, 1e-05, 0.1, 0.1): 0.004449720971297428,\n",
       " (10, 0.0001, 1e-05, 1e-05): 0.004133857969058472,\n",
       " (10, 0.0001, 1e-05, 0.0001): 0.0047191172956847615,\n",
       " (10, 0.0001, 1e-05, 0.001): 0.004842174565211575,\n",
       " (10, 0.0001, 1e-05, 0.01): 0.004400463605623423,\n",
       " (10, 0.0001, 1e-05, 0.1): 0.004066739897018258,\n",
       " (10, 0.0001, 0.0001, 1e-05): 0.004259522640939487,\n",
       " (10, 0.0001, 0.0001, 0.0001): 0.0045349775214545964,\n",
       " (10, 0.0001, 0.0001, 0.001): 0.004210743966478722,\n",
       " (10, 0.0001, 0.0001, 0.01): 0.004234735381136394,\n",
       " (10, 0.0001, 0.0001, 0.1): 0.004220063641362771,\n",
       " (10, 0.0001, 0.001, 1e-05): 0.004423994048625139,\n",
       " (10, 0.0001, 0.001, 0.0001): 0.004507892021962227,\n",
       " (10, 0.0001, 0.001, 0.001): 0.0044885867970224,\n",
       " (10, 0.0001, 0.001, 0.01): 0.0043406318320887,\n",
       " (10, 0.0001, 0.001, 0.1): 0.004632534864604916,\n",
       " (10, 0.0001, 0.01, 1e-05): 0.004663300699146777,\n",
       " (10, 0.0001, 0.01, 0.0001): 0.004316151668028817,\n",
       " (10, 0.0001, 0.01, 0.001): 0.004106429524288898,\n",
       " (10, 0.0001, 0.01, 0.01): 0.004544472243877124,\n",
       " (10, 0.0001, 0.01, 0.1): 0.004278638108389863,\n",
       " (10, 0.0001, 0.1, 1e-05): 0.004056104236261245,\n",
       " (10, 0.0001, 0.1, 0.0001): 0.0037754170734660424,\n",
       " (10, 0.0001, 0.1, 0.001): 0.004064679441498786,\n",
       " (10, 0.0001, 0.1, 0.01): 0.0038989015229360263,\n",
       " (10, 0.0001, 0.1, 0.1): 0.004358573673696897,\n",
       " (10, 0.001, 1e-05, 1e-05): 0.0035792004873552584,\n",
       " (10, 0.001, 1e-05, 0.0001): 0.003732613079011481,\n",
       " (10, 0.001, 1e-05, 0.001): 0.003853857246469924,\n",
       " (10, 0.001, 1e-05, 0.01): 0.0038505798452922943,\n",
       " (10, 0.001, 1e-05, 0.1): 0.00412670341507549,\n",
       " (10, 0.001, 0.0001, 1e-05): 0.00355329518568673,\n",
       " (10, 0.001, 0.0001, 0.0001): 0.0038809368009096955,\n",
       " (10, 0.001, 0.0001, 0.001): 0.0037143382208009185,\n",
       " (10, 0.001, 0.0001, 0.01): 0.004393465600785298,\n",
       " (10, 0.001, 0.0001, 0.1): 0.003942318541854207,\n",
       " (10, 0.001, 0.001, 1e-05): 0.0032837625004825256,\n",
       " (10, 0.001, 0.001, 0.0001): 0.0036575978025752427,\n",
       " (10, 0.001, 0.001, 0.001): 0.004320076574180883,\n",
       " (10, 0.001, 0.001, 0.01): 0.0037700647486939944,\n",
       " (10, 0.001, 0.001, 0.1): 0.003763084632182691,\n",
       " (10, 0.001, 0.01, 1e-05): 0.0035833736563866516,\n",
       " (10, 0.001, 0.01, 0.0001): 0.0036825621859036,\n",
       " (10, 0.001, 0.01, 0.001): 0.0037284241754750682,\n",
       " (10, 0.001, 0.01, 0.01): 0.003719864330402857,\n",
       " (10, 0.001, 0.01, 0.1): 0.0038035410016265003,\n",
       " (10, 0.001, 0.1, 1e-05): 0.0028550555499044636,\n",
       " (10, 0.001, 0.1, 0.0001): 0.003134910812018122,\n",
       " (10, 0.001, 0.1, 0.001): 0.0030606846661572033,\n",
       " (10, 0.001, 0.1, 0.01): 0.0032489089263561207,\n",
       " (10, 0.001, 0.1, 0.1): 0.003008013194948191,\n",
       " (10, 0.01, 1e-05, 1e-05): 0.003755598827788608,\n",
       " (10, 0.01, 1e-05, 0.0001): 0.0037646077724291906,\n",
       " (10, 0.01, 1e-05, 0.001): 0.0034103180386140615,\n",
       " (10, 0.01, 1e-05, 0.01): 0.003660135975797663,\n",
       " (10, 0.01, 1e-05, 0.1): 0.0037115315690048924,\n",
       " (10, 0.01, 0.0001, 1e-05): 0.0038475851819978766,\n",
       " (10, 0.01, 0.0001, 0.0001): 0.003735895336134422,\n",
       " (10, 0.01, 0.0001, 0.001): 0.0036238467486550854,\n",
       " (10, 0.01, 0.0001, 0.01): 0.0036748684831922574,\n",
       " (10, 0.01, 0.0001, 0.1): 0.003687059780898979,\n",
       " (10, 0.01, 0.001, 1e-05): 0.00417222643309621,\n",
       " (10, 0.01, 0.001, 0.0001): 0.003355517222762615,\n",
       " (10, 0.01, 0.001, 0.001): 0.0038528106448503345,\n",
       " (10, 0.01, 0.001, 0.01): 0.0033799871864293543,\n",
       " (10, 0.01, 0.001, 0.1): 0.003716474502761629,\n",
       " (10, 0.01, 0.01, 1e-05): 0.0037629022430953236,\n",
       " (10, 0.01, 0.01, 0.0001): 0.003416729335713043,\n",
       " (10, 0.01, 0.01, 0.001): 0.0034531903756432536,\n",
       " (10, 0.01, 0.01, 0.01): 0.003113904859568478,\n",
       " (10, 0.01, 0.01, 0.1): 0.003215800827151832,\n",
       " (10, 0.01, 0.1, 1e-05): 0.002900170859996911,\n",
       " (10, 0.01, 0.1, 0.0001): 0.002913492515107561,\n",
       " (10, 0.01, 0.1, 0.001): 0.0029994797391171093,\n",
       " (10, 0.01, 0.1, 0.01): 0.003008368316653409,\n",
       " (10, 0.01, 0.1, 0.1): 0.0028966528828658863,\n",
       " (10, 0.1, 1e-05, 1e-05): 0.003666213383833752,\n",
       " (10, 0.1, 1e-05, 0.0001): 0.003729371681048059,\n",
       " (10, 0.1, 1e-05, 0.001): 0.00395242255274161,\n",
       " (10, 0.1, 1e-05, 0.01): 0.0038531930558495363,\n",
       " (10, 0.1, 1e-05, 0.1): 0.003980117530410326,\n",
       " (10, 0.1, 0.0001, 1e-05): 0.004148980807355479,\n",
       " (10, 0.1, 0.0001, 0.0001): 0.003691267761554148,\n",
       " (10, 0.1, 0.0001, 0.001): 0.004066903186859359,\n",
       " (10, 0.1, 0.0001, 0.01): 0.004149013187907776,\n",
       " (10, 0.1, 0.0001, 0.1): 0.004165644889626262,\n",
       " (10, 0.1, 0.001, 1e-05): 0.0038229953246795663,\n",
       " (10, 0.1, 0.001, 0.0001): 0.0037905250375013756,\n",
       " (10, 0.1, 0.001, 0.001): 0.0036557140650452773,\n",
       " (10, 0.1, 0.001, 0.01): 0.004026144757025481,\n",
       " (10, 0.1, 0.001, 0.1): 0.004148789101049707,\n",
       " (10, 0.1, 0.01, 1e-05): 0.003210446897134502,\n",
       " (10, 0.1, 0.01, 0.0001): 0.003014856513274611,\n",
       " (10, 0.1, 0.01, 0.001): 0.003253323129966588,\n",
       " (10, 0.1, 0.01, 0.01): 0.003386652458372986,\n",
       " (10, 0.1, 0.01, 0.1): 0.0029359346903322136,\n",
       " (10, 0.1, 0.1, 1e-05): 0.003023472992661461,\n",
       " (10, 0.1, 0.1, 0.0001): 0.0030610351809530942,\n",
       " (10, 0.1, 0.1, 0.001): 0.002957796150226442,\n",
       " (10, 0.1, 0.1, 0.01): 0.00297184175566841,\n",
       " (10, 0.1, 0.1, 0.1): 0.0029416449642492752,\n",
       " (12, 1e-05, 1e-05, 1e-05): 0.004372316424510168,\n",
       " (12, 1e-05, 1e-05, 0.0001): 0.004632932514404536,\n",
       " (12, 1e-05, 1e-05, 0.001): 0.004398224345524809,\n",
       " (12, 1e-05, 1e-05, 0.01): 0.004667360288822466,\n",
       " (12, 1e-05, 1e-05, 0.1): 0.004693222763293395,\n",
       " (12, 1e-05, 0.0001, 1e-05): 0.004676220539838714,\n",
       " (12, 1e-05, 0.0001, 0.0001): 0.004549618887807829,\n",
       " (12, 1e-05, 0.0001, 0.001): 0.004566574541084821,\n",
       " (12, 1e-05, 0.0001, 0.01): 0.00431954949721325,\n",
       " (12, 1e-05, 0.0001, 0.1): 0.0047914999605180066,\n",
       " (12, 1e-05, 0.001, 1e-05): 0.004603912587025343,\n",
       " (12, 1e-05, 0.001, 0.0001): 0.00451386408030047,\n",
       " (12, 1e-05, 0.001, 0.001): 0.004766738990308647,\n",
       " (12, 1e-05, 0.001, 0.01): 0.00425455880840144,\n",
       " (12, 1e-05, 0.001, 0.1): 0.004518692047766672,\n",
       " (12, 1e-05, 0.01, 1e-05): 0.0046488448475664355,\n",
       " (12, 1e-05, 0.01, 0.0001): 0.004743134713260669,\n",
       " (12, 1e-05, 0.01, 0.001): 0.004360144901836671,\n",
       " (12, 1e-05, 0.01, 0.01): 0.004894122301273514,\n",
       " (12, 1e-05, 0.01, 0.1): 0.004656124253808341,\n",
       " (12, 1e-05, 0.1, 1e-05): 0.004365737388303912,\n",
       " (12, 1e-05, 0.1, 0.0001): 0.0047698474379904866,\n",
       " (12, 1e-05, 0.1, 0.001): 0.004513671984459596,\n",
       " (12, 1e-05, 0.1, 0.01): 0.0042899352772307634,\n",
       " (12, 1e-05, 0.1, 0.1): 0.004642784818683522,\n",
       " (12, 0.0001, 1e-05, 1e-05): 0.003964854413937408,\n",
       " (12, 0.0001, 1e-05, 0.0001): 0.0037891783357165984,\n",
       " (12, 0.0001, 1e-05, 0.001): 0.003911780424599159,\n",
       " (12, 0.0001, 1e-05, 0.01): 0.004146265581003388,\n",
       " (12, 0.0001, 1e-05, 0.1): 0.004473855248187858,\n",
       " (12, 0.0001, 0.0001, 1e-05): 0.0038484796585988826,\n",
       " (12, 0.0001, 0.0001, 0.0001): 0.004033744120445113,\n",
       " (12, 0.0001, 0.0001, 0.001): 0.0037782853064391364,\n",
       " (12, 0.0001, 0.0001, 0.01): 0.003714463370177608,\n",
       " (12, 0.0001, 0.0001, 0.1): 0.0039837828034540185,\n",
       " (12, 0.0001, 0.001, 1e-05): 0.0037787342414012525,\n",
       " (12, 0.0001, 0.001, 0.0001): 0.00394942350254251,\n",
       " (12, 0.0001, 0.001, 0.001): 0.0039581476251829345,\n",
       " (12, 0.0001, 0.001, 0.01): 0.0040079798418932435,\n",
       " (12, 0.0001, 0.001, 0.1): 0.004082990822008046,\n",
       " (12, 0.0001, 0.01, 1e-05): 0.0038871736251491727,\n",
       " (12, 0.0001, 0.01, 0.0001): 0.004183254377015518,\n",
       " (12, 0.0001, 0.01, 0.001): 0.004116453889957383,\n",
       " (12, 0.0001, 0.01, 0.01): 0.004128768456271576,\n",
       " (12, 0.0001, 0.01, 0.1): 0.0036978391608095285,\n",
       " (12, 0.0001, 0.1, 1e-05): 0.0035940621610282015,\n",
       " (12, 0.0001, 0.1, 0.0001): 0.003929192573749725,\n",
       " (12, 0.0001, 0.1, 0.001): 0.0038442384039508656,\n",
       " (12, 0.0001, 0.1, 0.01): 0.004166962015127092,\n",
       " (12, 0.0001, 0.1, 0.1): 0.003953540683216375,\n",
       " (12, 0.001, 1e-05, 1e-05): 0.003609409635240639,\n",
       " (12, 0.001, 1e-05, 0.0001): 0.003397776046212101,\n",
       " (12, 0.001, 1e-05, 0.001): 0.00346943207162829,\n",
       " (12, 0.001, 1e-05, 0.01): 0.003291360023834524,\n",
       " (12, 0.001, 1e-05, 0.1): 0.0036032751524444698,\n",
       " (12, 0.001, 0.0001, 1e-05): 0.0034071576966154464,\n",
       " (12, 0.001, 0.0001, 0.0001): 0.0035856636367513715,\n",
       " (12, 0.001, 0.0001, 0.001): 0.0032493168603681434,\n",
       " (12, 0.001, 0.0001, 0.01): 0.003368285697951646,\n",
       " (12, 0.001, 0.0001, 0.1): 0.0034362671801025733,\n",
       " (12, 0.001, 0.001, 1e-05): 0.0033967126779170806,\n",
       " (12, 0.001, 0.001, 0.0001): 0.0034334589482604995,\n",
       " (12, 0.001, 0.001, 0.001): 0.0035516418656287544,\n",
       " (12, 0.001, 0.001, 0.01): 0.0031877742590556875,\n",
       " (12, 0.001, 0.001, 0.1): 0.003149115684860007,\n",
       " (12, 0.001, 0.01, 1e-05): 0.0032776742506162517,\n",
       " (12, 0.001, 0.01, 0.0001): 0.003326033049587078,\n",
       " (12, 0.001, 0.01, 0.001): 0.003376003549259134,\n",
       " (12, 0.001, 0.01, 0.01): 0.003561013473073911,\n",
       " (12, 0.001, 0.01, 0.1): 0.003374390609839981,\n",
       " (12, 0.001, 0.1, 1e-05): 0.003128041352340199,\n",
       " (12, 0.001, 0.1, 0.0001): 0.003149136341262803,\n",
       " (12, 0.001, 0.1, 0.001): 0.0029276239852101087,\n",
       " (12, 0.001, 0.1, 0.01): 0.0028813607015266544,\n",
       " (12, 0.001, 0.1, 0.1): 0.002978631621710484,\n",
       " (12, 0.01, 1e-05, 1e-05): 0.0036184976610341025,\n",
       " (12, 0.01, 1e-05, 0.0001): 0.0033465777732667105,\n",
       " (12, 0.01, 1e-05, 0.001): 0.0032694558584279256,\n",
       " (12, 0.01, 1e-05, 0.01): 0.003397755841524444,\n",
       " (12, 0.01, 1e-05, 0.1): 0.0033634308892952582,\n",
       " (12, 0.01, 0.0001, 1e-05): 0.0033771328927630897,\n",
       " (12, 0.01, 0.0001, 0.0001): 0.0032598450320014353,\n",
       " (12, 0.01, 0.0001, 0.001): 0.0034694547862850543,\n",
       " (12, 0.01, 0.0001, 0.01): 0.0031614677557431367,\n",
       " (12, 0.01, 0.0001, 0.1): 0.0036326906470464,\n",
       " (12, 0.01, 0.001, 1e-05): 0.0033806451601509167,\n",
       " (12, 0.01, 0.001, 0.0001): 0.0033364592320946234,\n",
       " (12, 0.01, 0.001, 0.001): 0.003244003037254061,\n",
       " (12, 0.01, 0.001, 0.01): 0.0034736278266303076,\n",
       " (12, 0.01, 0.001, 0.1): 0.003436887787047244,\n",
       " (12, 0.01, 0.01, 1e-05): 0.0032300657648400228,\n",
       " (12, 0.01, 0.01, 0.0001): 0.003335686287604651,\n",
       " (12, 0.01, 0.01, 0.001): 0.0031563703200910296,\n",
       " (12, 0.01, 0.01, 0.01): 0.0030979124924548026,\n",
       " (12, 0.01, 0.01, 0.1): 0.0029289566759875076,\n",
       " (12, 0.01, 0.1, 1e-05): 0.002971706173526267,\n",
       " (12, 0.01, 0.1, 0.0001): 0.0029864599151315178,\n",
       " (12, 0.01, 0.1, 0.001): 0.002920475207324974,\n",
       " (12, 0.01, 0.1, 0.01): 0.002841339634808255,\n",
       " (12, 0.01, 0.1, 0.1): 0.00290115175039321,\n",
       " (12, 0.1, 1e-05, 1e-05): 0.003697592597097726,\n",
       " (12, 0.1, 1e-05, 0.0001): 0.003186475327886513,\n",
       " (12, 0.1, 1e-05, 0.001): 0.003627233093035299,\n",
       " (12, 0.1, 1e-05, 0.01): 0.0037102285151119777,\n",
       " (12, 0.1, 1e-05, 0.1): 0.0038730600166610465,\n",
       " (12, 0.1, 0.0001, 1e-05): 0.003577156531170148,\n",
       " (12, 0.1, 0.0001, 0.0001): 0.003504715811478055,\n",
       " (12, 0.1, 0.0001, 0.001): 0.00395692578155523,\n",
       " (12, 0.1, 0.0001, 0.01): 0.0037598730306196266,\n",
       " (12, 0.1, 0.0001, 0.1): 0.0037091388505456177,\n",
       " (12, 0.1, 0.001, 1e-05): 0.0035938747759216216,\n",
       " (12, 0.1, 0.001, 0.0001): 0.0035112319163031484,\n",
       " (12, 0.1, 0.001, 0.001): 0.003745785674734289,\n",
       " (12, 0.1, 0.001, 0.01): 0.003716826118652453,\n",
       " (12, 0.1, 0.001, 0.1): 0.0032484058315552203,\n",
       " (12, 0.1, 0.01, 1e-05): 0.0031750058535357298,\n",
       " (12, 0.1, 0.01, 0.0001): 0.003034465453275666,\n",
       " (12, 0.1, 0.01, 0.001): 0.0031673566551446396,\n",
       " (12, 0.1, 0.01, 0.01): 0.0033204300421993812,\n",
       " (12, 0.1, 0.01, 0.1): 0.003080126877319068,\n",
       " (12, 0.1, 0.1, 1e-05): 0.00298795106290946,\n",
       " (12, 0.1, 0.1, 0.0001): 0.003042062536693804,\n",
       " (12, 0.1, 0.1, 0.001): 0.0030092280476572038,\n",
       " (12, 0.1, 0.1, 0.01): 0.003057228873305782,\n",
       " (12, 0.1, 0.1, 0.1): 0.0029416412403513287,\n",
       " (14, 1e-05, 1e-05, 1e-05): 0.004333653563289737,\n",
       " (14, 1e-05, 1e-05, 0.0001): 0.004647196369945998,\n",
       " (14, 1e-05, 1e-05, 0.001): 0.004113283480649734,\n",
       " (14, 1e-05, 1e-05, 0.01): 0.0043101866465651605,\n",
       " (14, 1e-05, 1e-05, 0.1): 0.004201129837453974,\n",
       " (14, 1e-05, 0.0001, 1e-05): 0.004091773509650096,\n",
       " (14, 1e-05, 0.0001, 0.0001): 0.004400874097486763,\n",
       " (14, 1e-05, 0.0001, 0.001): 0.004013900637789156,\n",
       " (14, 1e-05, 0.0001, 0.01): 0.004478927852446546,\n",
       " (14, 1e-05, 0.0001, 0.1): 0.004156295622911326,\n",
       " (14, 1e-05, 0.001, 1e-05): 0.00425915171880569,\n",
       " (14, 1e-05, 0.001, 0.0001): 0.004216934545251083,\n",
       " (14, 1e-05, 0.001, 0.001): 0.004127625929654503,\n",
       " (14, 1e-05, 0.001, 0.01): 0.0044624179452178135,\n",
       " (14, 1e-05, 0.001, 0.1): 0.004205192088717772,\n",
       " (14, 1e-05, 0.01, 1e-05): 0.0042446474198266585,\n",
       " (14, 1e-05, 0.01, 0.0001): 0.004167972344133895,\n",
       " (14, 1e-05, 0.01, 0.001): 0.004166729218658914,\n",
       " (14, 1e-05, 0.01, 0.01): 0.004214936723156944,\n",
       " (14, 1e-05, 0.01, 0.1): 0.00399572606909166,\n",
       " (14, 1e-05, 0.1, 1e-05): 0.0041191729404076605,\n",
       " (14, 1e-05, 0.1, 0.0001): 0.004494063341704663,\n",
       " (14, 1e-05, 0.1, 0.001): 0.004392688780123355,\n",
       " (14, 1e-05, 0.1, 0.01): 0.004336984292857294,\n",
       " (14, 1e-05, 0.1, 0.1): 0.004215287525082056,\n",
       " (14, 0.0001, 1e-05, 1e-05): 0.0035867851802738274,\n",
       " (14, 0.0001, 1e-05, 0.0001): 0.0036966412329753396,\n",
       " (14, 0.0001, 1e-05, 0.001): 0.0038233862299505168,\n",
       " (14, 0.0001, 1e-05, 0.01): 0.0036054640367771743,\n",
       " (14, 0.0001, 1e-05, 0.1): 0.0038881659134802765,\n",
       " (14, 0.0001, 0.0001, 1e-05): 0.0033973658313444593,\n",
       " (14, 0.0001, 0.0001, 0.0001): 0.004006106458244417,\n",
       " (14, 0.0001, 0.0001, 0.001): 0.003605672168389482,\n",
       " (14, 0.0001, 0.0001, 0.01): 0.003369649667670036,\n",
       " (14, 0.0001, 0.0001, 0.1): 0.003573211170534597,\n",
       " (14, 0.0001, 0.001, 1e-05): 0.0036505082527387186,\n",
       " (14, 0.0001, 0.001, 0.0001): 0.00366494802111019,\n",
       " (14, 0.0001, 0.001, 0.001): 0.0038131434420971754,\n",
       " (14, 0.0001, 0.001, 0.01): 0.003768829126195638,\n",
       " (14, 0.0001, 0.001, 0.1): 0.003847254497302181,\n",
       " (14, 0.0001, 0.01, 1e-05): 0.0036454912143064826,\n",
       " (14, 0.0001, 0.01, 0.0001): 0.0038130149667295905,\n",
       " (14, 0.0001, 0.01, 0.001): 0.00372884674071536,\n",
       " (14, 0.0001, 0.01, 0.01): 0.0039048210330951136,\n",
       " (14, 0.0001, 0.01, 0.1): 0.003599732869996997,\n",
       " (14, 0.0001, 0.1, 1e-05): 0.0034935841359575136,\n",
       " (14, 0.0001, 0.1, 0.0001): 0.003755186555028616,\n",
       " (14, 0.0001, 0.1, 0.001): 0.003633223646769439,\n",
       " (14, 0.0001, 0.1, 0.01): 0.0037964432640598283,\n",
       " (14, 0.0001, 0.1, 0.1): 0.0037153079698997826,\n",
       " (14, 0.001, 1e-05, 1e-05): 0.0031279071671016447,\n",
       " (14, 0.001, 1e-05, 0.0001): 0.0032620738990299532,\n",
       " (14, 0.001, 1e-05, 0.001): 0.003180489588123854,\n",
       " (14, 0.001, 1e-05, 0.01): 0.0031889915826169533,\n",
       " (14, 0.001, 1e-05, 0.1): 0.0031185327784183235,\n",
       " (14, 0.001, 0.0001, 1e-05): 0.003279914499064656,\n",
       " (14, 0.001, 0.0001, 0.0001): 0.003165163799900612,\n",
       " (14, 0.001, 0.0001, 0.001): 0.0031509168544767503,\n",
       " (14, 0.001, 0.0001, 0.01): 0.0031146538595900213,\n",
       " (14, 0.001, 0.0001, 0.1): 0.0032910054953452267,\n",
       " (14, 0.001, 0.001, 1e-05): 0.003083471997351439,\n",
       " (14, 0.001, 0.001, 0.0001): 0.0033150069344916955,\n",
       " (14, 0.001, 0.001, 0.001): 0.003218724955989348,\n",
       " (14, 0.001, 0.001, 0.01): 0.0029778646745969757,\n",
       " (14, 0.001, 0.001, 0.1): 0.003171672494300507,\n",
       " (14, 0.001, 0.01, 1e-05): 0.0030561766589861598,\n",
       " (14, 0.001, 0.01, 0.0001): 0.003165464659159404,\n",
       " (14, 0.001, 0.01, 0.001): 0.003370135247951743,\n",
       " (14, 0.001, 0.01, 0.01): 0.0034186820763537594,\n",
       " (14, 0.001, 0.01, 0.1): 0.0028677473875549538,\n",
       " (14, 0.001, 0.1, 1e-05): 0.0030283241811260003,\n",
       " (14, 0.001, 0.1, 0.0001): 0.0028041374465197465,\n",
       " (14, 0.001, 0.1, 0.001): 0.0030053832588499522,\n",
       " (14, 0.001, 0.1, 0.01): 0.002874962734705575,\n",
       " (14, 0.001, 0.1, 0.1): 0.0029465967565185038,\n",
       " (14, 0.01, 1e-05, 1e-05): 0.0031609352675804037,\n",
       " (14, 0.01, 1e-05, 0.0001): 0.003099778811947895,\n",
       " (14, 0.01, 1e-05, 0.001): 0.002865091384690909,\n",
       " (14, 0.01, 1e-05, 0.01): 0.0032841393151550706,\n",
       " (14, 0.01, 1e-05, 0.1): 0.003356489506947385,\n",
       " (14, 0.01, 0.0001, 1e-05): 0.0032928340508705336,\n",
       " (14, 0.01, 0.0001, 0.0001): 0.0031778532459672084,\n",
       " (14, 0.01, 0.0001, 0.001): 0.003365746665114638,\n",
       " (14, 0.01, 0.0001, 0.01): 0.0033102362961803166,\n",
       " (14, 0.01, 0.0001, 0.1): 0.0028956941645963356,\n",
       " (14, 0.01, 0.001, 1e-05): 0.003198884766483191,\n",
       " (14, 0.01, 0.001, 0.0001): 0.0034134138233338296,\n",
       " (14, 0.01, 0.001, 0.001): 0.003409479099279827,\n",
       " (14, 0.01, 0.001, 0.01): 0.003206471084766241,\n",
       " (14, 0.01, 0.001, 0.1): 0.0031385632395048075,\n",
       " (14, 0.01, 0.01, 1e-05): 0.0032035616342372627,\n",
       " (14, 0.01, 0.01, 0.0001): 0.0032313100840617613,\n",
       " (14, 0.01, 0.01, 0.001): 0.0031539996457492503,\n",
       " (14, 0.01, 0.01, 0.01): 0.003127894580898072,\n",
       " (14, 0.01, 0.01, 0.1): 0.0029809379548582787,\n",
       " (14, 0.01, 0.1, 1e-05): 0.002898111010402538,\n",
       " (14, 0.01, 0.1, 0.0001): 0.002861634622659557,\n",
       " (14, 0.01, 0.1, 0.001): 0.002890518090938385,\n",
       " (14, 0.01, 0.1, 0.01): 0.002886969397476333,\n",
       " (14, 0.01, 0.1, 0.1): 0.0029111829475353297,\n",
       " (14, 0.1, 1e-05, 1e-05): 0.003396991544770132,\n",
       " (14, 0.1, 1e-05, 0.0001): 0.0030937756352644036,\n",
       " (14, 0.1, 1e-05, 0.001): 0.003365718289299161,\n",
       " (14, 0.1, 1e-05, 0.01): 0.0032318911571585568,\n",
       " (14, 0.1, 1e-05, 0.1): 0.0033824045889852515,\n",
       " (14, 0.1, 0.0001, 1e-05): 0.0036450752092861286,\n",
       " (14, 0.1, 0.0001, 0.0001): 0.003495867885633398,\n",
       " (14, 0.1, 0.0001, 0.001): 0.003316744127419171,\n",
       " (14, 0.1, 0.0001, 0.01): 0.003587789883660175,\n",
       " (14, 0.1, 0.0001, 0.1): 0.0033940156669229242,\n",
       " (14, 0.1, 0.001, 1e-05): 0.0033266726513404565,\n",
       " (14, 0.1, 0.001, 0.0001): 0.0031165397991619074,\n",
       " (14, 0.1, 0.001, 0.001): 0.0034344611079323273,\n",
       " (14, 0.1, 0.001, 0.01): 0.0037253053070387867,\n",
       " (14, 0.1, 0.001, 0.1): 0.003559884882606854,\n",
       " (14, 0.1, 0.01, 1e-05): 0.0030358568756615537,\n",
       " (14, 0.1, 0.01, 0.0001): 0.0030686764460919874,\n",
       " (14, 0.1, 0.01, 0.001): 0.002997215851056461,\n",
       " (14, 0.1, 0.01, 0.01): 0.003150557698757572,\n",
       " (14, 0.1, 0.01, 0.1): 0.002897443361532818,\n",
       " (14, 0.1, 0.1, 1e-05): 0.0030299312102073394,\n",
       " (14, 0.1, 0.1, 0.0001): 0.0030236492509475624,\n",
       " (14, 0.1, 0.1, 0.001): 0.0030630689442982645,\n",
       " (14, 0.1, 0.1, 0.01): 0.0030425036702958707,\n",
       " (14, 0.1, 0.1, 0.1): 0.0029526535255810613,\n",
       " (16, 1e-05, 1e-05, 1e-05): 0.004297848959191941,\n",
       " (16, 1e-05, 1e-05, 0.0001): 0.00417637115110581,\n",
       " (16, 1e-05, 1e-05, 0.001): 0.004314836676576687,\n",
       " (16, 1e-05, 1e-05, 0.01): 0.003980961001892144,\n",
       " (16, 1e-05, 1e-05, 0.1): 0.00431298460357502,\n",
       " (16, 1e-05, 0.0001, 1e-05): 0.0039958534996418675,\n",
       " (16, 1e-05, 0.0001, 0.0001): 0.004245621694792656,\n",
       " (16, 1e-05, 0.0001, 0.001): 0.004274895946781661,\n",
       " (16, 1e-05, 0.0001, 0.01): 0.004154220620781723,\n",
       " (16, 1e-05, 0.0001, 0.1): 0.0041527172939488915,\n",
       " (16, 1e-05, 0.001, 1e-05): 0.004107957419518885,\n",
       " (16, 1e-05, 0.001, 0.0001): 0.004273734207485793,\n",
       " (16, 1e-05, 0.001, 0.001): 0.004035802748937516,\n",
       " (16, 1e-05, 0.001, 0.01): 0.004123843457718968,\n",
       " (16, 1e-05, 0.001, 0.1): 0.004306291814679853,\n",
       " (16, 1e-05, 0.01, 1e-05): 0.004370555058330869,\n",
       " (16, 1e-05, 0.01, 0.0001): 0.004096974390883573,\n",
       " (16, 1e-05, 0.01, 0.001): 0.004112494555462227,\n",
       " (16, 1e-05, 0.01, 0.01): 0.004013931397224813,\n",
       " (16, 1e-05, 0.01, 0.1): 0.004094968904331845,\n",
       " (16, 1e-05, 0.1, 1e-05): 0.004217147658790307,\n",
       " (16, 1e-05, 0.1, 0.0001): 0.004210364478393467,\n",
       " (16, 1e-05, 0.1, 0.001): 0.004250289332102618,\n",
       " (16, 1e-05, 0.1, 0.01): 0.004220898501642452,\n",
       " (16, 1e-05, 0.1, 0.1): 0.004075394083479426,\n",
       " (16, 0.0001, 1e-05, 1e-05): 0.003408906836853477,\n",
       " (16, 0.0001, 1e-05, 0.0001): 0.003575774313303404,\n",
       " (16, 0.0001, 1e-05, 0.001): 0.0037811718073925225,\n",
       " (16, 0.0001, 1e-05, 0.01): 0.0036159142350157933,\n",
       " (16, 0.0001, 1e-05, 0.1): 0.003400479994768931,\n",
       " (16, 0.0001, 0.0001, 1e-05): 0.0034934354850671484,\n",
       " (16, 0.0001, 0.0001, 0.0001): 0.0037054933963694514,\n",
       " (16, 0.0001, 0.0001, 0.001): 0.003879257376423973,\n",
       " (16, 0.0001, 0.0001, 0.01): 0.0035880645957044586,\n",
       " (16, 0.0001, 0.0001, 0.1): 0.0036679245757165616,\n",
       " (16, 0.0001, 0.001, 1e-05): 0.0036266464713880955,\n",
       " (16, 0.0001, 0.001, 0.0001): 0.0035460143389127825,\n",
       " (16, 0.0001, 0.001, 0.001): 0.0036714061106830876,\n",
       " (16, 0.0001, 0.001, 0.01): 0.0036958050984960836,\n",
       " (16, 0.0001, 0.001, 0.1): 0.003777031405633893,\n",
       " (16, 0.0001, 0.01, 1e-05): 0.003621646361824504,\n",
       " (16, 0.0001, 0.01, 0.0001): 0.003627188887340243,\n",
       " (16, 0.0001, 0.01, 0.001): 0.003681814263802335,\n",
       " (16, 0.0001, 0.01, 0.01): 0.003625235631388455,\n",
       " (16, 0.0001, 0.01, 0.1): 0.0036767735552796477,\n",
       " (16, 0.0001, 0.1, 1e-05): 0.0034523941494824474,\n",
       " (16, 0.0001, 0.1, 0.0001): 0.003445367787126532,\n",
       " (16, 0.0001, 0.1, 0.001): 0.003442859102426564,\n",
       " (16, 0.0001, 0.1, 0.01): 0.003558519242031055,\n",
       " (16, 0.0001, 0.1, 0.1): 0.0035717278869375883,\n",
       " (16, 0.001, 1e-05, 1e-05): 0.0031652548445134806,\n",
       " (16, 0.001, 1e-05, 0.0001): 0.003102776744968913,\n",
       " (16, 0.001, 1e-05, 0.001): 0.003025208076516386,\n",
       " (16, 0.001, 1e-05, 0.01): 0.0032166601981952676,\n",
       " (16, 0.001, 1e-05, 0.1): 0.0030481952800500787,\n",
       " (16, 0.001, 0.0001, 1e-05): 0.002889768202238212,\n",
       " (16, 0.001, 0.0001, 0.0001): 0.0029351435892741194,\n",
       " (16, 0.001, 0.0001, 0.001): 0.0030727978506001528,\n",
       " (16, 0.001, 0.0001, 0.01): 0.0031367133297726126,\n",
       " (16, 0.001, 0.0001, 0.1): 0.002875394048661411,\n",
       " (16, 0.001, 0.001, 1e-05): 0.003197628647568657,\n",
       " (16, 0.001, 0.001, 0.0001): 0.0030287904398331486,\n",
       " (16, 0.001, 0.001, 0.001): 0.0029623069027447206,\n",
       " (16, 0.001, 0.001, 0.01): 0.0030557968306658516,\n",
       " (16, 0.001, 0.001, 0.1): 0.0029865571557125227,\n",
       " (16, 0.001, 0.01, 1e-05): 0.003027977263112315,\n",
       " (16, 0.001, 0.01, 0.0001): 0.003151814414149058,\n",
       " (16, 0.001, 0.01, 0.001): 0.0030796428802039233,\n",
       " (16, 0.001, 0.01, 0.01): 0.0030260959533806395,\n",
       " (16, 0.001, 0.01, 0.1): 0.0030503020513393177,\n",
       " (16, 0.001, 0.1, 1e-05): 0.0028564387466657876,\n",
       " (16, 0.001, 0.1, 0.0001): 0.002874184138970059,\n",
       " (16, 0.001, 0.1, 0.001): 0.002796902903953307,\n",
       " (16, 0.001, 0.1, 0.01): 0.0028848615888131188,\n",
       " (16, 0.001, 0.1, 0.1): 0.002905275331544802,\n",
       " (16, 0.01, 1e-05, 1e-05): 0.00316587382503428,\n",
       " (16, 0.01, 1e-05, 0.0001): 0.003007396272041127,\n",
       " (16, 0.01, 1e-05, 0.001): 0.0028905028238697624,\n",
       " (16, 0.01, 1e-05, 0.01): 0.0029660688848368844,\n",
       " (16, 0.01, 1e-05, 0.1): 0.0029376708467252466,\n",
       " (16, 0.01, 0.0001, 1e-05): 0.003421664545643427,\n",
       " (16, 0.01, 0.0001, 0.0001): 0.0031213373518688553,\n",
       " (16, 0.01, 0.0001, 0.001): 0.003038254590679428,\n",
       " (16, 0.01, 0.0001, 0.01): 0.003118283914923486,\n",
       " (16, 0.01, 0.0001, 0.1): 0.0029306989924196137,\n",
       " (16, 0.01, 0.001, 1e-05): 0.0033381343702951,\n",
       " (16, 0.01, 0.001, 0.0001): 0.0030731136422660105,\n",
       " (16, 0.01, 0.001, 0.001): 0.0030163873242320246,\n",
       " (16, 0.01, 0.001, 0.01): 0.003373571565327827,\n",
       " (16, 0.01, 0.001, 0.1): 0.00305031846356512,\n",
       " (16, 0.01, 0.01, 1e-05): 0.003227527620410311,\n",
       " (16, 0.01, 0.01, 0.0001): 0.00288904673180817,\n",
       " (16, 0.01, 0.01, 0.001): 0.002822770418868729,\n",
       " (16, 0.01, 0.01, 0.01): 0.002908396174391729,\n",
       " (16, 0.01, 0.01, 0.1): 0.003093371364437089,\n",
       " (16, 0.01, 0.1, 1e-05): 0.0029141388215359614,\n",
       " (16, 0.01, 0.1, 0.0001): 0.002946014059013308,\n",
       " (16, 0.01, 0.1, 0.001): 0.002909731494847873,\n",
       " (16, 0.01, 0.1, 0.01): 0.0029374702329306307,\n",
       " (16, 0.01, 0.1, 0.1): 0.0028153221832384165,\n",
       " (16, 0.1, 1e-05, 1e-05): 0.003232024195928843,\n",
       " (16, 0.1, 1e-05, 0.0001): 0.003135706767643178,\n",
       " (16, 0.1, 1e-05, 0.001): 0.0034943809471899164,\n",
       " (16, 0.1, 1e-05, 0.01): 0.0032197772891130456,\n",
       " (16, 0.1, 1e-05, 0.1): 0.003250382275357994,\n",
       " (16, 0.1, 0.0001, 1e-05): 0.003388271801605174,\n",
       " (16, 0.1, 0.0001, 0.0001): 0.0033527055626012834,\n",
       " (16, 0.1, 0.0001, 0.001): 0.0030805371932569954,\n",
       " (16, 0.1, 0.0001, 0.01): 0.0032238808062129308,\n",
       " (16, 0.1, 0.0001, 0.1): 0.0034194771255056005,\n",
       " (16, 0.1, 0.001, 1e-05): 0.003157593234369159,\n",
       " (16, 0.1, 0.001, 0.0001): 0.0033171505270906715,\n",
       " (16, 0.1, 0.001, 0.001): 0.003107528091380283,\n",
       " (16, 0.1, 0.001, 0.01): 0.003266975371914686,\n",
       " (16, 0.1, 0.001, 0.1): 0.003162265655471785,\n",
       " (16, 0.1, 0.01, 1e-05): 0.003009371045434662,\n",
       " (16, 0.1, 0.01, 0.0001): 0.003097518269860533,\n",
       " (16, 0.1, 0.01, 0.001): 0.0031213336788557208,\n",
       " (16, 0.1, 0.01, 0.01): 0.0032206228416576535,\n",
       " (16, 0.1, 0.01, 0.1): 0.0029628201115124396,\n",
       " (16, 0.1, 0.1, 1e-05): 0.003079683430158293,\n",
       " (16, 0.1, 0.1, 0.0001): 0.003048796222778802,\n",
       " (16, 0.1, 0.1, 0.001): 0.0030050396403230087,\n",
       " (16, 0.1, 0.1, 0.01): 0.003052998290614126,\n",
       " (16, 0.1, 0.1, 0.1): 0.0029677825529372402,\n",
       " (18, 1e-05, 1e-05, 1e-05): 0.004202777542257154,\n",
       " (18, 1e-05, 1e-05, 0.0001): 0.00402905981906757,\n",
       " (18, 1e-05, 1e-05, 0.001): 0.0043310949137203205,\n",
       " (18, 1e-05, 1e-05, 0.01): 0.004160849260086495,\n",
       " (18, 1e-05, 1e-05, 0.1): 0.004152098246535864,\n",
       " (18, 1e-05, 0.0001, 1e-05): 0.004086201645578283,\n",
       " (18, 1e-05, 0.0001, 0.0001): 0.00409449513533874,\n",
       " (18, 1e-05, 0.0001, 0.001): 0.0043062818501270065,\n",
       " (18, 1e-05, 0.0001, 0.01): 0.0042195518772869195,\n",
       " (18, 1e-05, 0.0001, 0.1): 0.0041424021435267884,\n",
       " (18, 1e-05, 0.001, 1e-05): 0.00411004255629742,\n",
       " (18, 1e-05, 0.001, 0.0001): 0.004096773569582147,\n",
       " (18, 1e-05, 0.001, 0.001): 0.004330596726838483,\n",
       " (18, 1e-05, 0.001, 0.01): 0.004138758928645289,\n",
       " (18, 1e-05, 0.001, 0.1): 0.0043861831185703125,\n",
       " (18, 1e-05, 0.01, 1e-05): 0.004185708328987475,\n",
       " (18, 1e-05, 0.01, 0.0001): 0.004309747860442067,\n",
       " (18, 1e-05, 0.01, 0.001): 0.0042019952816710945,\n",
       " (18, 1e-05, 0.01, 0.01): 0.00424904155806105,\n",
       " (18, 1e-05, 0.01, 0.1): 0.00442385432419388,\n",
       " (18, 1e-05, 0.1, 1e-05): 0.004143101255402385,\n",
       " (18, 1e-05, 0.1, 0.0001): 0.004116459032081548,\n",
       " (18, 1e-05, 0.1, 0.001): 0.004001404462881587,\n",
       " (18, 1e-05, 0.1, 0.01): 0.004218992622055927,\n",
       " (18, 1e-05, 0.1, 0.1): 0.004075703389000533,\n",
       " (18, 0.0001, 1e-05, 1e-05): 0.0036021115668895044,\n",
       " (18, 0.0001, 1e-05, 0.0001): 0.003538587190381295,\n",
       " (18, 0.0001, 1e-05, 0.001): 0.0037212064430584345,\n",
       " (18, 0.0001, 1e-05, 0.01): 0.00357054732597295,\n",
       " (18, 0.0001, 1e-05, 0.1): 0.0037849434541787357,\n",
       " (18, 0.0001, 0.0001, 1e-05): 0.003526123025412987,\n",
       " (18, 0.0001, 0.0001, 0.0001): 0.0035769580262787893,\n",
       " (18, 0.0001, 0.0001, 0.001): 0.0035986800175175394,\n",
       " (18, 0.0001, 0.0001, 0.01): 0.0035653988385424885,\n",
       " (18, 0.0001, 0.0001, 0.1): 0.003550795483631702,\n",
       " (18, 0.0001, 0.001, 1e-05): 0.0036730144050535255,\n",
       " (18, 0.0001, 0.001, 0.0001): 0.003583552146961941,\n",
       " (18, 0.0001, 0.001, 0.001): 0.0035615955539478267,\n",
       " (18, 0.0001, 0.001, 0.01): 0.0036383916484870487,\n",
       " (18, 0.0001, 0.001, 0.1): 0.0036713215472493122,\n",
       " (18, 0.0001, 0.01, 1e-05): 0.003606272754217065,\n",
       " (18, 0.0001, 0.01, 0.0001): 0.0034538835203312334,\n",
       " (18, 0.0001, 0.01, 0.001): 0.003548626674624337,\n",
       " (18, 0.0001, 0.01, 0.01): 0.0033745679153384597,\n",
       " (18, 0.0001, 0.01, 0.1): 0.0035819944973504206,\n",
       " (18, 0.0001, 0.1, 1e-05): 0.0034793578438875547,\n",
       " (18, 0.0001, 0.1, 0.0001): 0.003534409877258365,\n",
       " (18, 0.0001, 0.1, 0.001): 0.003507630938588468,\n",
       " (18, 0.0001, 0.1, 0.01): 0.003396591416830413,\n",
       " (18, 0.0001, 0.1, 0.1): 0.003489964715248584,\n",
       " (18, 0.001, 1e-05, 1e-05): 0.002826866633401544,\n",
       " (18, 0.001, 1e-05, 0.0001): 0.0029810528786992346,\n",
       " (18, 0.001, 1e-05, 0.001): 0.0028437387506786167,\n",
       " (18, 0.001, 1e-05, 0.01): 0.002976472894066788,\n",
       " (18, 0.001, 1e-05, 0.1): 0.0029848185580662353,\n",
       " (18, 0.001, 0.0001, 1e-05): 0.003211046512888995,\n",
       " (18, 0.001, 0.0001, 0.0001): 0.0029057590798974094,\n",
       " (18, 0.001, 0.0001, 0.001): 0.002906205197066632,\n",
       " (18, 0.001, 0.0001, 0.01): 0.0029205080848521375,\n",
       " (18, 0.001, 0.0001, 0.1): 0.0029693413585507368,\n",
       " (18, 0.001, 0.001, 1e-05): 0.0031589228821634987,\n",
       " (18, 0.001, 0.001, 0.0001): 0.0027744762316897847,\n",
       " (18, 0.001, 0.001, 0.001): 0.003044361091924539,\n",
       " (18, 0.001, 0.001, 0.01): 0.00285590742435097,\n",
       " (18, 0.001, 0.001, 0.1): 0.0030033444575128044,\n",
       " (18, 0.001, 0.01, 1e-05): 0.0028873993402260822,\n",
       " (18, 0.001, 0.01, 0.0001): 0.0030093038564133635,\n",
       " (18, 0.001, 0.01, 0.001): 0.0030114470863079525,\n",
       " (18, 0.001, 0.01, 0.01): 0.0029400427909920235,\n",
       " (18, 0.001, 0.01, 0.1): 0.003030941939566863,\n",
       " (18, 0.001, 0.1, 1e-05): 0.0028874184389014795,\n",
       " (18, 0.001, 0.1, 0.0001): 0.0028342690135280475,\n",
       " (18, 0.001, 0.1, 0.001): 0.0029442701498574157,\n",
       " (18, 0.001, 0.1, 0.01): 0.002825336951377726,\n",
       " (18, 0.001, 0.1, 0.1): 0.002817160624132928,\n",
       " (18, 0.01, 1e-05, 1e-05): 0.002953575041351135,\n",
       " (18, 0.01, 1e-05, 0.0001): 0.0029692964889031148,\n",
       " (18, 0.01, 1e-05, 0.001): 0.002950960288933132,\n",
       " (18, 0.01, 1e-05, 0.01): 0.002911324058245107,\n",
       " (18, 0.01, 1e-05, 0.1): 0.0029400957658880103,\n",
       " (18, 0.01, 0.0001, 1e-05): 0.002921463788687852,\n",
       " (18, 0.01, 0.0001, 0.0001): 0.0030017122070346665,\n",
       " (18, 0.01, 0.0001, 0.001): 0.0029369666745670863,\n",
       " (18, 0.01, 0.0001, 0.01): 0.002944554011395427,\n",
       " (18, 0.01, 0.0001, 0.1): 0.0030453132531629385,\n",
       " (18, 0.01, 0.001, 1e-05): 0.0028958704206864627,\n",
       " (18, 0.01, 0.001, 0.0001): 0.00296972848790291,\n",
       " (18, 0.01, 0.001, 0.001): 0.003077211281486552,\n",
       " (18, 0.01, 0.001, 0.01): 0.0029608544242567163,\n",
       " (18, 0.01, 0.001, 0.1): 0.0030908276461058077,\n",
       " (18, 0.01, 0.01, 1e-05): 0.0028644257800218426,\n",
       " (18, 0.01, 0.01, 0.0001): 0.00284444660141383,\n",
       " (18, 0.01, 0.01, 0.001): 0.002947032628406782,\n",
       " (18, 0.01, 0.01, 0.01): 0.0030308997553041787,\n",
       " (18, 0.01, 0.01, 0.1): 0.0028988733992570946,\n",
       " (18, 0.01, 0.1, 1e-05): 0.002875572860094378,\n",
       " (18, 0.01, 0.1, 0.0001): 0.002877662356498474,\n",
       " (18, 0.01, 0.1, 0.001): 0.002872361759945501,\n",
       " (18, 0.01, 0.1, 0.01): 0.0029260745143804326,\n",
       " (18, 0.01, 0.1, 0.1): 0.002865764777985498,\n",
       " (18, 0.1, 1e-05, 1e-05): 0.003278986785945933,\n",
       " (18, 0.1, 1e-05, 0.0001): 0.003237543543407952,\n",
       " (18, 0.1, 1e-05, 0.001): 0.0031551087567621584,\n",
       " (18, 0.1, 1e-05, 0.01): 0.003080833622959087,\n",
       " (18, 0.1, 1e-05, 0.1): 0.0031584204590485855,\n",
       " (18, 0.1, 0.0001, 1e-05): 0.003176005525306893,\n",
       " (18, 0.1, 0.0001, 0.0001): 0.002957422376094967,\n",
       " (18, 0.1, 0.0001, 0.001): 0.0029914856811008423,\n",
       " (18, 0.1, 0.0001, 0.01): 0.003242608662007204,\n",
       " (18, 0.1, 0.0001, 0.1): 0.0031541974798709924,\n",
       " (18, 0.1, 0.001, 1e-05): 0.003211638062880905,\n",
       " (18, 0.1, 0.001, 0.0001): 0.003124067563059667,\n",
       " (18, 0.1, 0.001, 0.001): 0.0029338641261573354,\n",
       " (18, 0.1, 0.001, 0.01): 0.003285464606906618,\n",
       " (18, 0.1, 0.001, 0.1): 0.0033505155569516,\n",
       " (18, 0.1, 0.01, 1e-05): 0.0030479949365555515,\n",
       " (18, 0.1, 0.01, 0.0001): 0.003083167561302161,\n",
       " (18, 0.1, 0.01, 0.001): 0.003017914048318922,\n",
       " (18, 0.1, 0.01, 0.01): 0.0029337673535296096,\n",
       " (18, 0.1, 0.01, 0.1): 0.0028514096821908187,\n",
       " (18, 0.1, 0.1, 1e-05): 0.0030242739276699453,\n",
       " (18, 0.1, 0.1, 0.0001): 0.0030426031549076827,\n",
       " (18, 0.1, 0.1, 0.001): 0.0030694232587903628,\n",
       " (18, 0.1, 0.1, 0.01): 0.0029921514049456644,\n",
       " (18, 0.1, 0.1, 0.1): 0.002959643563134912,\n",
       " (20, 1e-05, 1e-05, 1e-05): 0.004080392672254495,\n",
       " (20, 1e-05, 1e-05, 0.0001): 0.004074727823975635,\n",
       " (20, 1e-05, 1e-05, 0.001): 0.004203851651587829,\n",
       " (20, 1e-05, 1e-05, 0.01): 0.004144514911944692,\n",
       " (20, 1e-05, 1e-05, 0.1): 0.003954665672752427,\n",
       " (20, 1e-05, 0.0001, 1e-05): 0.004367516614324022,\n",
       " (20, 1e-05, 0.0001, 0.0001): 0.004137320291981775,\n",
       " (20, 1e-05, 0.0001, 0.001): 0.004207751793462726,\n",
       " (20, 1e-05, 0.0001, 0.01): 0.004141983269826002,\n",
       " (20, 1e-05, 0.0001, 0.1): 0.003995142340334308,\n",
       " (20, 1e-05, 0.001, 1e-05): 0.004195831919078508,\n",
       " (20, 1e-05, 0.001, 0.0001): 0.004050985583837877,\n",
       " (20, 1e-05, 0.001, 0.001): 0.00419563187577944,\n",
       " (20, 1e-05, 0.001, 0.01): 0.004058810257714009,\n",
       " (20, 1e-05, 0.001, 0.1): 0.004129617182160101,\n",
       " (20, 1e-05, 0.01, 1e-05): 0.004122930399014369,\n",
       " (20, 1e-05, 0.01, 0.0001): 0.004045591003785273,\n",
       " (20, 1e-05, 0.01, 0.001): 0.004065507149271959,\n",
       " (20, 1e-05, 0.01, 0.01): 0.004277318499488382,\n",
       " (20, 1e-05, 0.01, 0.1): 0.00414072723860006,\n",
       " (20, 1e-05, 0.1, 1e-05): 0.004132584889587446,\n",
       " (20, 1e-05, 0.1, 0.0001): 0.0039999322875426575,\n",
       " (20, 1e-05, 0.1, 0.001): 0.004174751023905789,\n",
       " (20, 1e-05, 0.1, 0.01): 0.004148374457425114,\n",
       " (20, 1e-05, 0.1, 0.1): 0.003996135915676157,\n",
       " (20, 0.0001, 1e-05, 1e-05): 0.003539229553117293,\n",
       " (20, 0.0001, 1e-05, 0.0001): 0.0034237900693957777,\n",
       " (20, 0.0001, 1e-05, 0.001): 0.0034722800739792974,\n",
       " (20, 0.0001, 1e-05, 0.01): 0.003384728713970644,\n",
       " (20, 0.0001, 1e-05, 0.1): 0.0035646549516114047,\n",
       " (20, 0.0001, 0.0001, 1e-05): 0.003405498206345977,\n",
       " (20, 0.0001, 0.0001, 0.0001): 0.003506474899673198,\n",
       " (20, 0.0001, 0.0001, 0.001): 0.00346683858052443,\n",
       " (20, 0.0001, 0.0001, 0.01): 0.0034635764642830845,\n",
       " (20, 0.0001, 0.0001, 0.1): 0.0034563927791935907,\n",
       " (20, 0.0001, 0.001, 1e-05): 0.003582543684443999,\n",
       " (20, 0.0001, 0.001, 0.0001): 0.0033713296239790192,\n",
       " (20, 0.0001, 0.001, 0.001): 0.0034388175483194405,\n",
       " (20, 0.0001, 0.001, 0.01): 0.003537836725293961,\n",
       " (20, 0.0001, 0.001, 0.1): 0.0035249389279853344,\n",
       " (20, 0.0001, 0.01, 1e-05): 0.003526823057698167,\n",
       " (20, 0.0001, 0.01, 0.0001): 0.0035236849317116055,\n",
       " (20, 0.0001, 0.01, 0.001): 0.003550664673919164,\n",
       " (20, 0.0001, 0.01, 0.01): 0.003496256880171691,\n",
       " (20, 0.0001, 0.01, 0.1): 0.0035180871329272795,\n",
       " (20, 0.0001, 0.1, 1e-05): 0.00339950257082985,\n",
       " (20, 0.0001, 0.1, 0.0001): 0.0034203637253406886,\n",
       " (20, 0.0001, 0.1, 0.001): 0.003497146787113113,\n",
       " (20, 0.0001, 0.1, 0.01): 0.0034543948094978645,\n",
       " (20, 0.0001, 0.1, 0.1): 0.0034729006868260467,\n",
       " (20, 0.001, 1e-05, 1e-05): 0.0029203406736610735,\n",
       " (20, 0.001, 1e-05, 0.0001): 0.002929910815776753,\n",
       " (20, 0.001, 1e-05, 0.001): 0.002966585304271471,\n",
       " (20, 0.001, 1e-05, 0.01): 0.0030160003615536893,\n",
       " (20, 0.001, 1e-05, 0.1): 0.0031170844015715273,\n",
       " (20, 0.001, 0.0001, 1e-05): 0.0031310170616521108,\n",
       " (20, 0.001, 0.0001, 0.0001): 0.0030159496870010238,\n",
       " (20, 0.001, 0.0001, 0.001): 0.003088108734974267,\n",
       " (20, 0.001, 0.0001, 0.01): 0.002973496197404567,\n",
       " (20, 0.001, 0.0001, 0.1): 0.0029770399075301646,\n",
       " (20, 0.001, 0.001, 1e-05): 0.003029130546595692,\n",
       " (20, 0.001, 0.001, 0.0001): 0.0029825470506755804,\n",
       " (20, 0.001, 0.001, 0.001): 0.0028028457986751095,\n",
       " (20, 0.001, 0.001, 0.01): 0.002762529417228305,\n",
       " (20, 0.001, 0.001, 0.1): 0.002882079154087271,\n",
       " (20, 0.001, 0.01, 1e-05): 0.0028265513643920917,\n",
       " (20, 0.001, 0.01, 0.0001): 0.002988940283248708,\n",
       " (20, 0.001, 0.01, 0.001): 0.0029449679843191446,\n",
       " (20, 0.001, 0.01, 0.01): 0.0030078081191557728,\n",
       " (20, 0.001, 0.01, 0.1): 0.003005581098795705,\n",
       " (20, 0.001, 0.1, 1e-05): 0.0028698819426407093,\n",
       " (20, 0.001, 0.1, 0.0001): 0.002903869736234302,\n",
       " (20, 0.001, 0.1, 0.001): 0.0029464532046387854,\n",
       " (20, 0.001, 0.1, 0.01): 0.002810912054715917,\n",
       " (20, 0.001, 0.1, 0.1): 0.00282341407208799,\n",
       " (20, 0.01, 1e-05, 1e-05): 0.0030675617449215952,\n",
       " (20, 0.01, 1e-05, 0.0001): 0.002944223531064643,\n",
       " (20, 0.01, 1e-05, 0.001): 0.002936803486056037,\n",
       " (20, 0.01, 1e-05, 0.01): 0.002809761536743655,\n",
       " (20, 0.01, 1e-05, 0.1): 0.0028767866801435353,\n",
       " (20, 0.01, 0.0001, 1e-05): 0.002887809146888932,\n",
       " (20, 0.01, 0.0001, 0.0001): 0.0028014990083519093,\n",
       " (20, 0.01, 0.0001, 0.001): 0.003046673317848496,\n",
       " (20, 0.01, 0.0001, 0.01): 0.0028563447531473616,\n",
       " (20, 0.01, 0.0001, 0.1): 0.0028159848399359013,\n",
       " (20, 0.01, 0.001, 1e-05): 0.0027841030070980153,\n",
       " (20, 0.01, 0.001, 0.0001): 0.002982607339657693,\n",
       " (20, 0.01, 0.001, 0.001): 0.0029330828584704966,\n",
       " (20, 0.01, 0.001, 0.01): 0.002968523877427339,\n",
       " (20, 0.01, 0.001, 0.1): 0.002881686550964492,\n",
       " (20, 0.01, 0.01, 1e-05): 0.0028450338617492196,\n",
       " (20, 0.01, 0.01, 0.0001): 0.0029887972456294114,\n",
       " (20, 0.01, 0.01, 0.001): 0.0029356955159863486,\n",
       " (20, 0.01, 0.01, 0.01): 0.002963115619900132,\n",
       " (20, 0.01, 0.01, 0.1): 0.0029021849520501387,\n",
       " (20, 0.01, 0.1, 1e-05): 0.0027684106036501765,\n",
       " (20, 0.01, 0.1, 0.0001): 0.002911345619467594,\n",
       " (20, 0.01, 0.1, 0.001): 0.0028732379549404156,\n",
       " (20, 0.01, 0.1, 0.01): 0.0028518309622260533,\n",
       " (20, 0.01, 0.1, 0.1): 0.0027955010590123936,\n",
       " (20, 0.1, 1e-05, 1e-05): 0.0031427505198398545,\n",
       " (20, 0.1, 1e-05, 0.0001): 0.003028601064283738,\n",
       " (20, 0.1, 1e-05, 0.001): 0.003265848522624281,\n",
       " (20, 0.1, 1e-05, 0.01): 0.003222790840835798,\n",
       " (20, 0.1, 1e-05, 0.1): 0.003128567844015532,\n",
       " (20, 0.1, 0.0001, 1e-05): 0.003246969432381623,\n",
       " (20, 0.1, 0.0001, 0.0001): 0.003085360345587859,\n",
       " (20, 0.1, 0.0001, 0.001): 0.0029812017342073158,\n",
       " (20, 0.1, 0.0001, 0.01): 0.0029801905943719533,\n",
       " (20, 0.1, 0.0001, 0.1): 0.003169905453921586,\n",
       " (20, 0.1, 0.001, 1e-05): 0.0032026173448482446,\n",
       " (20, 0.1, 0.001, 0.0001): 0.003049858531690181,\n",
       " (20, 0.1, 0.001, 0.001): 0.003290562441094161,\n",
       " (20, 0.1, 0.001, 0.01): 0.0031645753210458147,\n",
       " (20, 0.1, 0.001, 0.1): 0.002910748089569379,\n",
       " (20, 0.1, 0.01, 1e-05): 0.0030501087268585583,\n",
       " (20, 0.1, 0.01, 0.0001): 0.0029806967122589702,\n",
       " (20, 0.1, 0.01, 0.001): 0.0030891198230293504,\n",
       " (20, 0.1, 0.01, 0.01): 0.003019473970312885,\n",
       " (20, 0.1, 0.01, 0.1): 0.0029401131395406514,\n",
       " (20, 0.1, 0.1, 1e-05): 0.0029914161476010484,\n",
       " (20, 0.1, 0.1, 0.0001): 0.002955635437507101,\n",
       " (20, 0.1, 0.1, 0.001): 0.0030742515394078687,\n",
       " (20, 0.1, 0.1, 0.01): 0.003029684638766401,\n",
       " (20, 0.1, 0.1, 0.1): 0.0028910160452264026,\n",
       " ...}"
      ]
     },
     "execution_count": 29,
     "metadata": {
      "tags": []
     },
     "output_type": "execute_result"
    }
   ],
   "source": [
    "best_test_error"
   ]
  },
  {
   "cell_type": "code",
   "execution_count": null,
   "metadata": {
    "colab": {},
    "colab_type": "code",
    "id": "K1ncx3fRbmK-"
   },
   "outputs": [],
   "source": [
    "ordered_results = sorted(best_test_error.items(), key=lambda x: x[1])"
   ]
  },
  {
   "cell_type": "code",
   "execution_count": null,
   "metadata": {
    "colab": {},
    "colab_type": "code",
    "id": "H8vMPhd2bmLA",
    "outputId": "0d9234c9-227c-45c1-9ef5-da67259207a2"
   },
   "outputs": [
    {
     "data": {
      "text/plain": [
       "[((26, 0.001, 0.001, 1e-05), 0.0027260186574101183),\n",
       " ((24, 0.01, 1e-05, 0.001), 0.0027370889092149567),\n",
       " ((22, 0.001, 0.01, 1e-05), 0.002755398439789228),\n",
       " ((26, 0.01, 1e-05, 0.001), 0.0027588146940080477),\n",
       " ((20, 0.001, 0.001, 0.01), 0.002762529417228305),\n",
       " ((30, 0.01, 0.0001, 0.01), 0.002763191240602552),\n",
       " ((28, 0.001, 0.01, 0.001), 0.002763730001994065),\n",
       " ((22, 0.01, 0.0001, 0.01), 0.002767020310235907),\n",
       " ((26, 0.01, 0.0001, 0.1), 0.002767206118311563),\n",
       " ((20, 0.01, 0.1, 1e-05), 0.0027684106036501765),\n",
       " ((26, 0.001, 1e-05, 0.0001), 0.0027684583927108054),\n",
       " ((30, 0.001, 0.001, 1e-05), 0.002770945154257955),\n",
       " ((22, 0.001, 0.1, 0.0001), 0.0027710220514274336),\n",
       " ((18, 0.001, 0.001, 0.0001), 0.0027744762316897847),\n",
       " ((30, 0.001, 0.001, 0.1), 0.0027745860228178066),\n",
       " ((24, 0.01, 0.01, 0.1), 0.0027755648873125922),\n",
       " ((26, 0.001, 1e-05, 1e-05), 0.002776347425961026),\n",
       " ((26, 0.001, 0.1, 0.1), 0.002778446183093667),\n",
       " ((24, 0.01, 0.001, 0.1), 0.0027834372251950763),\n",
       " ((20, 0.01, 0.001, 1e-05), 0.0027841030070980153),\n",
       " ((26, 0.01, 1e-05, 0.1), 0.0027859393160819743),\n",
       " ((30, 0.001, 0.1, 0.1), 0.0027874262970987635),\n",
       " ((30, 0.001, 0.1, 0.001), 0.0027876274292525315),\n",
       " ((28, 0.001, 0.1, 0.001), 0.002787820849516655),\n",
       " ((28, 0.01, 0.01, 0.0001), 0.002788971367681037),\n",
       " ((30, 0.001, 0.001, 0.0001), 0.0027889912799993095),\n",
       " ((30, 0.01, 0.1, 0.0001), 0.002790854495258422),\n",
       " ((30, 0.01, 0.0001, 0.001), 0.0027917323179710175),\n",
       " ((26, 0.01, 0.01, 0.1), 0.0027921454102364926),\n",
       " ((24, 0.001, 0.0001, 0.001), 0.002794204364308837),\n",
       " ((20, 0.01, 0.1, 0.1), 0.0027955010590123936),\n",
       " ((30, 0.001, 0.01, 0.0001), 0.0027960094908623836),\n",
       " ((26, 0.001, 0.01, 0.01), 0.0027961890259664813),\n",
       " ((16, 0.001, 0.1, 0.001), 0.002796902903953307),\n",
       " ((26, 0.001, 1e-05, 0.001), 0.0027974409133729545),\n",
       " ((26, 0.001, 0.1, 0.01), 0.002798994955700804),\n",
       " ((28, 0.001, 0.1, 0.1), 0.002799783681750496),\n",
       " ((28, 0.01, 0.1, 0.01), 0.0028011832125306854),\n",
       " ((20, 0.01, 0.0001, 0.0001), 0.0028014990083519093),\n",
       " ((20, 0.001, 0.001, 0.001), 0.0028028457986751095),\n",
       " ((28, 0.001, 1e-05, 0.1), 0.00280386413193055),\n",
       " ((14, 0.001, 0.1, 0.0001), 0.0028041374465197465),\n",
       " ((22, 0.01, 0.1, 0.0001), 0.0028043918237004866),\n",
       " ((22, 0.01, 0.1, 0.001), 0.002806670580900046),\n",
       " ((28, 0.01, 1e-05, 0.0001), 0.0028068780141026653),\n",
       " ((30, 0.001, 0.0001, 0.01), 0.0028085846540944316),\n",
       " ((24, 0.001, 0.01, 0.0001), 0.002808765637003816),\n",
       " ((28, 0.01, 0.1, 0.001), 0.002809141380319669),\n",
       " ((24, 0.001, 0.1, 0.1), 0.0028091595277545474),\n",
       " ((28, 0.01, 0.1, 1e-05), 0.0028092974311378764),\n",
       " ((20, 0.01, 1e-05, 0.01), 0.002809761536743655),\n",
       " ((28, 0.01, 0.01, 0.1), 0.00280978790008737),\n",
       " ((28, 0.001, 0.0001, 0.1), 0.002810221894177554),\n",
       " ((28, 0.001, 0.1, 1e-05), 0.002810599229873519),\n",
       " ((28, 0.001, 0.1, 0.01), 0.0028108902712369855),\n",
       " ((20, 0.001, 0.1, 0.01), 0.002810912054715917),\n",
       " ((30, 0.001, 0.001, 0.01), 0.0028128150841720758),\n",
       " ((30, 0.001, 1e-05, 1e-05), 0.002813383525140988),\n",
       " ((30, 0.01, 0.0001, 1e-05), 0.002814326749362389),\n",
       " ((28, 0.01, 0.01, 1e-05), 0.0028144700336016487),\n",
       " ((30, 0.001, 0.1, 0.01), 0.0028148354496928332),\n",
       " ((16, 0.01, 0.1, 0.1), 0.0028153221832384165),\n",
       " ((24, 0.001, 0.1, 1e-05), 0.0028155165481709814),\n",
       " ((20, 0.01, 0.0001, 0.1), 0.0028159848399359013),\n",
       " ((26, 0.001, 0.1, 1e-05), 0.002817082818273351),\n",
       " ((22, 0.1, 0.01, 0.1), 0.0028170889806472636),\n",
       " ((18, 0.001, 0.1, 0.1), 0.002817160624132928),\n",
       " ((26, 0.001, 0.0001, 0.001), 0.0028182053275073744),\n",
       " ((28, 0.001, 1e-05, 0.01), 0.002819218276319377),\n",
       " ((30, 0.01, 0.001, 0.001), 0.002820520929093561),\n",
       " ((30, 0.01, 0.01, 0.01), 0.002821717378322295),\n",
       " ((16, 0.01, 0.01, 0.001), 0.002822770418868729),\n",
       " ((26, 0.01, 0.1, 0.1), 0.0028229122373229403),\n",
       " ((24, 0.001, 0.1, 0.0001), 0.0028232752155366134),\n",
       " ((20, 0.001, 0.1, 0.1), 0.00282341407208799),\n",
       " ((28, 0.01, 0.0001, 0.001), 0.00282384320631021),\n",
       " ((26, 0.001, 0.1, 0.0001), 0.0028239193023984533),\n",
       " ((24, 0.001, 1e-05, 0.0001), 0.0028240771648649996),\n",
       " ((30, 0.001, 0.01, 1e-05), 0.0028240872115982674),\n",
       " ((30, 0.001, 0.0001, 0.0001), 0.0028242817272377966),\n",
       " ((28, 0.01, 0.01, 0.01), 0.0028244455365886074),\n",
       " ((18, 0.001, 0.1, 0.01), 0.002825336951377726),\n",
       " ((30, 0.001, 0.0001, 0.1), 0.0028253627802983295),\n",
       " ((20, 0.001, 0.01, 1e-05), 0.0028265513643920917),\n",
       " ((18, 0.001, 1e-05, 1e-05), 0.002826866633401544),\n",
       " ((30, 0.001, 0.1, 0.0001), 0.002827858896958788),\n",
       " ((30, 0.01, 1e-05, 0.0001), 0.002828239800522732),\n",
       " ((30, 0.01, 0.1, 0.001), 0.0028295502619057394),\n",
       " ((28, 0.01, 0.1, 0.0001), 0.0028297436481524306),\n",
       " ((30, 0.01, 0.001, 0.0001), 0.0028308250516483214),\n",
       " ((24, 0.001, 0.01, 0.001), 0.0028308418669231034),\n",
       " ((28, 0.01, 0.001, 1e-05), 0.0028310124200131744),\n",
       " ((30, 0.01, 0.01, 0.0001), 0.002831090354369447),\n",
       " ((22, 0.01, 1e-05, 0.0001), 0.0028320541749283497),\n",
       " ((26, 0.001, 0.001, 0.0001), 0.0028323371090575034),\n",
       " ((30, 0.001, 0.01, 0.01), 0.0028338550492401893),\n",
       " ((18, 0.001, 0.1, 0.0001), 0.0028342690135280475),\n",
       " ((28, 0.001, 0.01, 0.1), 0.0028343045390551015),\n",
       " ((30, 0.01, 1e-05, 0.001), 0.002835225571703054),\n",
       " ((28, 0.001, 0.1, 0.0001), 0.0028356431615651195),\n",
       " ((22, 0.01, 0.1, 0.1), 0.002835824250634172),\n",
       " ((30, 0.01, 0.1, 0.01), 0.0028367791822045264),\n",
       " ((30, 0.001, 0.1, 1e-05), 0.0028367934846389104),\n",
       " ((28, 0.001, 0.001, 0.01), 0.0028394738509356686),\n",
       " ((24, 0.001, 0.0001, 0.1), 0.0028399924572727747),\n",
       " ((26, 0.01, 1e-05, 0.0001), 0.002840645552308707),\n",
       " ((12, 0.01, 0.1, 0.01), 0.002841339634808255),\n",
       " ((24, 0.001, 0.1, 0.01), 0.0028413865874082987),\n",
       " ((30, 0.001, 1e-05, 0.001), 0.002842253496293942),\n",
       " ((30, 0.01, 0.1, 0.1), 0.0028423121647598313),\n",
       " ((30, 0.01, 1e-05, 1e-05), 0.002842580828685839),\n",
       " ((24, 0.01, 0.1, 0.0001), 0.0028434781137966912),\n",
       " ((18, 0.001, 1e-05, 0.001), 0.0028437387506786167),\n",
       " ((22, 0.001, 0.0001, 1e-05), 0.0028438996829788215),\n",
       " ((26, 0.01, 0.1, 0.0001), 0.0028440144450099045),\n",
       " ((28, 0.01, 0.001, 0.01), 0.0028442212013364164),\n",
       " ((18, 0.01, 0.01, 0.0001), 0.00284444660141383),\n",
       " ((26, 0.01, 1e-05, 1e-05), 0.002844546731451528),\n",
       " ((26, 0.01, 0.0001, 0.001), 0.0028446408068286202),\n",
       " ((20, 0.01, 0.01, 1e-05), 0.0028450338617492196),\n",
       " ((24, 0.001, 0.001, 1e-05), 0.0028469488730199595),\n",
       " ((28, 0.01, 1e-05, 0.001), 0.0028471181839626537),\n",
       " ((30, 0.001, 0.01, 0.001), 0.0028474857553238424),\n",
       " ((28, 0.01, 0.0001, 0.01), 0.0028474896113227254),\n",
       " ((24, 0.01, 0.1, 0.001), 0.0028484672058840432),\n",
       " ((30, 0.01, 0.0001, 0.1), 0.0028489937311968793),\n",
       " ((30, 0.01, 0.1, 1e-05), 0.0028492910401309154),\n",
       " ((22, 0.001, 1e-05, 0.1), 0.002850351727586539),\n",
       " ((30, 0.001, 1e-05, 0.1), 0.002850569184611748),\n",
       " ((22, 0.01, 1e-05, 1e-05), 0.0028506519321709607),\n",
       " ((18, 0.1, 0.01, 0.1), 0.0028514096821908187),\n",
       " ((24, 0.01, 0.1, 0.01), 0.0028515814865307104),\n",
       " ((20, 0.01, 0.1, 0.01), 0.0028518309622260533),\n",
       " ((26, 0.001, 0.0001, 0.0001), 0.0028521259030543705),\n",
       " ((24, 0.001, 0.1, 0.001), 0.0028521664170534046),\n",
       " ((30, 0.001, 0.0001, 0.001), 0.0028527721606264925),\n",
       " ((28, 0.001, 0.01, 0.01), 0.0028528985894266494),\n",
       " ((26, 0.001, 0.0001, 1e-05), 0.002853032320925465),\n",
       " ((30, 0.1, 0.01, 0.1), 0.002853762983935947),\n",
       " ((28, 0.001, 0.0001, 0.01), 0.0028540832666402016),\n",
       " ((24, 0.01, 0.0001, 1e-05), 0.002854624508217617),\n",
       " ((10, 0.001, 0.1, 1e-05), 0.0028550555499044636),\n",
       " ((22, 0.001, 0.0001, 0.01), 0.0028551530524795216),\n",
       " ((18, 0.001, 0.001, 0.01), 0.00285590742435097),\n",
       " ((20, 0.01, 0.0001, 0.01), 0.0028563447531473616),\n",
       " ((16, 0.001, 0.1, 1e-05), 0.0028564387466657876),\n",
       " ((24, 0.001, 0.001, 0.1), 0.0028568766558413586),\n",
       " ((30, 0.001, 0.001, 0.001), 0.0028578187092117044),\n",
       " ((28, 0.001, 0.001, 0.0001), 0.002858188198200949),\n",
       " ((24, 0.001, 0.001, 0.0001), 0.0028584656771307665),\n",
       " ((28, 0.01, 0.1, 0.1), 0.002858484158177261),\n",
       " ((22, 0.001, 0.1, 1e-05), 0.002859841967008798),\n",
       " ((26, 0.001, 0.1, 0.001), 0.002860458644571671),\n",
       " ((14, 0.01, 0.1, 0.0001), 0.002861634622659557),\n",
       " ((28, 0.001, 0.001, 0.1), 0.002862027094580258),\n",
       " ((26, 0.01, 0.1, 0.001), 0.002862419555529605),\n",
       " ((18, 0.01, 0.01, 1e-05), 0.0028644257800218426),\n",
       " ((22, 0.01, 0.001, 0.0001), 0.00286463791504366),\n",
       " ((14, 0.01, 1e-05, 0.001), 0.002865091384690909),\n",
       " ((30, 0.01, 0.01, 1e-05), 0.0028655123810318863),\n",
       " ((24, 0.01, 0.1, 0.1), 0.0028655655416568687),\n",
       " ((30, 0.001, 0.01, 0.1), 0.0028655795313448002),\n",
       " ((26, 0.001, 0.01, 1e-05), 0.002865721991948705),\n",
       " ((18, 0.01, 0.1, 0.1), 0.002865764777985498),\n",
       " ((28, 0.001, 0.01, 0.0001), 0.0028661431855101067),\n",
       " ((22, 0.01, 0.1, 0.01), 0.00286703686752487),\n",
       " ((30, 0.01, 0.0001, 0.0001), 0.002867665327746649),\n",
       " ((24, 0.1, 0.01, 0.1), 0.002867716527328019),\n",
       " ((14, 0.001, 0.01, 0.1), 0.0028677473875549538),\n",
       " ((30, 0.01, 1e-05, 0.01), 0.0028681413571597482),\n",
       " ((22, 0.01, 0.001, 1e-05), 0.0028682542689418625),\n",
       " ((30, 0.01, 0.001, 0.01), 0.0028690063373476753),\n",
       " ((30, 0.001, 1e-05, 0.01), 0.0028692493256519238),\n",
       " ((24, 0.1, 0.001, 1e-05), 0.002869710081503321),\n",
       " ((28, 0.001, 0.0001, 1e-05), 0.0028697252640632327),\n",
       " ((26, 0.01, 0.0001, 0.0001), 0.0028698020751962415),\n",
       " ((20, 0.001, 0.1, 1e-05), 0.0028698819426407093),\n",
       " ((24, 0.001, 0.01, 1e-05), 0.0028704286864573935),\n",
       " ((26, 0.01, 0.0001, 1e-05), 0.00287194744170297),\n",
       " ((18, 0.01, 0.1, 0.001), 0.002872361759945501),\n",
       " ((24, 0.1, 0.1, 0.1), 0.0028727340522574627),\n",
       " ((20, 0.01, 0.1, 0.001), 0.0028732379549404156),\n",
       " ((28, 0.01, 0.0001, 0.1), 0.0028736977092201207),\n",
       " ((28, 0.01, 0.01, 0.001), 0.0028741316142435985),\n",
       " ((16, 0.001, 0.1, 0.0001), 0.002874184138970059),\n",
       " ((22, 0.001, 0.1, 0.001), 0.0028744225706470927),\n",
       " ((26, 0.01, 0.001, 1e-05), 0.002874422585044061),\n",
       " ((14, 0.001, 0.1, 0.01), 0.002874962734705575),\n",
       " ((16, 0.001, 0.0001, 0.1), 0.002875394048661411),\n",
       " ((26, 0.01, 0.1, 1e-05), 0.0028755584808673592),\n",
       " ((18, 0.01, 0.1, 1e-05), 0.002875572860094378),\n",
       " ((26, 0.01, 0.01, 0.01), 0.0028760025617537337),\n",
       " ((28, 0.001, 0.0001, 0.0001), 0.0028763224767569826),\n",
       " ((20, 0.01, 1e-05, 0.1), 0.0028767866801435353),\n",
       " ((18, 0.01, 0.1, 0.0001), 0.002877662356498474),\n",
       " ((24, 0.001, 1e-05, 1e-05), 0.0028781508533193834),\n",
       " ((26, 0.1, 0.01, 0.1), 0.0028783754851572714),\n",
       " ((24, 0.001, 0.0001, 1e-05), 0.002878571387159528),\n",
       " ((28, 0.001, 0.001, 1e-05), 0.002878770946326314),\n",
       " ((26, 0.01, 0.01, 1e-05), 0.002879077679808104),\n",
       " ((24, 0.001, 1e-05, 0.001), 0.0028794841518796576),\n",
       " ((8, 0.1, 0.1, 0.1), 0.0028799958769501373),\n",
       " ((28, 0.01, 1e-05, 1e-05), 0.00288080523368856),\n",
       " ((26, 0.01, 0.1, 0.01), 0.002880893605078395),\n",
       " ((26, 0.001, 0.001, 0.01), 0.002880894855779288),\n",
       " ((26, 0.01, 0.01, 0.0001), 0.0028813068074550596),\n",
       " ((12, 0.001, 0.1, 0.01), 0.0028813607015266544),\n",
       " ((28, 0.01, 0.001, 0.1), 0.0028814661372114064),\n",
       " ((20, 0.01, 0.001, 0.1), 0.002881686550964492),\n",
       " ((24, 0.01, 1e-05, 0.0001), 0.002881978881682906),\n",
       " ((30, 0.01, 1e-05, 0.1), 0.0028820083457206888),\n",
       " ((20, 0.001, 0.001, 0.1), 0.002882079154087271),\n",
       " ((24, 0.01, 1e-05, 0.01), 0.0028820914758954834),\n",
       " ((22, 0.001, 0.1, 0.1), 0.002883469595789509),\n",
       " ((26, 0.01, 0.001, 0.01), 0.002883919350753902),\n",
       " ((22, 0.01, 0.0001, 0.0001), 0.0028840984600207852),\n",
       " ((26, 0.001, 0.001, 0.001), 0.00288431676470637),\n",
       " ((22, 0.001, 0.01, 0.0001), 0.0028845225136219775),\n",
       " ((16, 0.001, 0.1, 0.01), 0.0028848615888131188),\n",
       " ((24, 0.01, 0.01, 0.001), 0.0028858428485606857),\n",
       " ((28, 0.01, 0.0001, 1e-05), 0.002886017539350593),\n",
       " ((24, 0.01, 0.1, 1e-05), 0.002886635067112293),\n",
       " ((14, 0.01, 0.1, 0.01), 0.002886969397476333),\n",
       " ((18, 0.001, 0.01, 1e-05), 0.0028873993402260822),\n",
       " ((18, 0.001, 0.1, 1e-05), 0.0028874184389014795),\n",
       " ((20, 0.01, 0.0001, 1e-05), 0.002887809146888932),\n",
       " ((22, 0.001, 0.001, 0.0001), 0.0028878451089275115),\n",
       " ((16, 0.01, 0.01, 0.0001), 0.00288904673180817),\n",
       " ((28, 0.001, 1e-05, 0.001), 0.0028894178917039364),\n",
       " ((16, 0.001, 0.0001, 1e-05), 0.002889768202238212),\n",
       " ((26, 0.01, 0.001, 0.001), 0.0028900324996078658),\n",
       " ((16, 0.01, 1e-05, 0.001), 0.0028905028238697624),\n",
       " ((14, 0.01, 0.1, 0.001), 0.002890518090938385),\n",
       " ((20, 0.1, 0.1, 0.1), 0.0028910160452264026),\n",
       " ((26, 0.001, 0.01, 0.1), 0.0028912333172587935),\n",
       " ((30, 0.01, 0.01, 0.001), 0.0028912978188315257),\n",
       " ((26, 0.01, 0.0001, 0.01), 0.0028928428391650114),\n",
       " ((22, 0.001, 0.0001, 0.0001), 0.002893221725209136),\n",
       " ((24, 0.001, 0.01, 0.1), 0.002893895015565643),\n",
       " ((22, 0.001, 0.1, 0.01), 0.0028941629044888476),\n",
       " ((22, 0.001, 1e-05, 0.0001), 0.0028943830674539837),\n",
       " ((28, 0.001, 1e-05, 1e-05), 0.002895084720559144),\n",
       " ((30, 0.1, 0.001, 0.1), 0.002895087266918941),\n",
       " ((14, 0.01, 0.0001, 0.1), 0.0028956941645963356),\n",
       " ((18, 0.01, 0.001, 1e-05), 0.0028958704206864627),\n",
       " ((10, 0.01, 0.1, 0.1), 0.0028966528828658863),\n",
       " ((24, 0.01, 1e-05, 0.1), 0.002897175955240605),\n",
       " ((26, 0.001, 1e-05, 0.01), 0.002897361311626993),\n",
       " ((26, 0.1, 0.001, 0.1), 0.002897376044353113),\n",
       " ((14, 0.1, 0.01, 0.1), 0.002897443361532818),\n",
       " ((14, 0.01, 0.1, 1e-05), 0.002898111010402538),\n",
       " ((26, 0.001, 0.01, 0.0001), 0.0028983510500646677),\n",
       " ((18, 0.01, 0.01, 0.1), 0.0028988733992570946),\n",
       " ((10, 0.01, 0.1, 1e-05), 0.002900170859996911),\n",
       " ((24, 0.001, 0.001, 0.01), 0.00290044227949334),\n",
       " ((12, 0.01, 0.1, 0.1), 0.00290115175039321),\n",
       " ((30, 0.001, 1e-05, 0.0001), 0.0029012230765848137),\n",
       " ((26, 0.01, 0.001, 0.1), 0.0029015372475166045),\n",
       " ((20, 0.01, 0.01, 0.1), 0.0029021849520501387),\n",
       " ((26, 0.001, 0.0001, 0.1), 0.0029023387319513172),\n",
       " ((28, 0.001, 0.01, 1e-05), 0.0029035483256816094),\n",
       " ((20, 0.001, 0.1, 0.0001), 0.002903869736234302),\n",
       " ((24, 0.01, 1e-05, 1e-05), 0.0029039315978185995),\n",
       " ((30, 0.01, 0.01, 0.1), 0.0029047287702719934),\n",
       " ((22, 0.01, 0.01, 0.1), 0.002904911268837078),\n",
       " ((22, 0.01, 0.1, 1e-05), 0.002905103978392888),\n",
       " ((16, 0.001, 0.1, 0.1), 0.002905275331544802),\n",
       " ((18, 0.001, 0.0001, 0.0001), 0.0029057590798974094),\n",
       " ((28, 0.01, 0.0001, 0.0001), 0.0029058161402211596),\n",
       " ((24, 0.001, 0.0001, 0.0001), 0.0029058484821861755),\n",
       " ((18, 0.001, 0.0001, 0.001), 0.002906205197066632),\n",
       " ((26, 0.01, 0.001, 0.0001), 0.0029062787460228594),\n",
       " ((24, 0.01, 0.01, 0.01), 0.002906806610740242),\n",
       " ((28, 0.01, 1e-05, 0.1), 0.002907238134499858),\n",
       " ((16, 0.01, 0.01, 0.01), 0.002908396174391729),\n",
       " ((24, 0.01, 0.01, 0.0001), 0.0029090876343939457),\n",
       " ((16, 0.01, 0.1, 0.001), 0.002909731494847873),\n",
       " ((28, 0.1, 0.01, 0.1), 0.0029102164057289424),\n",
       " ((20, 0.1, 0.001, 0.1), 0.002910748089569379),\n",
       " ((14, 0.01, 0.1, 0.1), 0.0029111829475353297),\n",
       " ((18, 0.01, 1e-05, 0.01), 0.002911324058245107),\n",
       " ((20, 0.01, 0.1, 0.0001), 0.002911345619467594),\n",
       " ((22, 0.001, 1e-05, 0.001), 0.002912105221943479),\n",
       " ((28, 0.1, 0.1, 0.1), 0.002912144189508807),\n",
       " ((28, 0.001, 0.0001, 0.001), 0.002912559407705098),\n",
       " ((24, 0.001, 0.001, 0.001), 0.002912913411714444),\n",
       " ((26, 0.001, 0.001, 0.1), 0.0029134568894588833),\n",
       " ((10, 0.01, 0.1, 0.0001), 0.002913492515107561),\n",
       " ((16, 0.01, 0.1, 1e-05), 0.0029141388215359614),\n",
       " ((24, 0.001, 0.0001, 0.01), 0.0029149919563399205),\n",
       " ((6, 0.1, 0.01, 0.1), 0.0029166200970669304),\n",
       " ((28, 0.001, 1e-05, 0.0001), 0.002917725520822151),\n",
       " ((26, 0.1, 1e-05, 0.1), 0.0029178352156263077),\n",
       " ((24, 0.01, 0.001, 0.01), 0.0029182558231637193),\n",
       " ((24, 0.001, 1e-05, 0.1), 0.002918438329334864),\n",
       " ((22, 0.001, 0.01, 0.01), 0.002919219322300178),\n",
       " ((28, 0.001, 0.001, 0.001), 0.0029194223099933904),\n",
       " ((26, 0.1, 1e-05, 1e-05), 0.0029198704007661657),\n",
       " ((28, 0.1, 0.01, 0.01), 0.0029199403050075945),\n",
       " ((28, 0.01, 0.001, 0.001), 0.002919957929463808),\n",
       " ((24, 0.01, 0.0001, 0.001), 0.0029200498286979146),\n",
       " ((20, 0.001, 1e-05, 1e-05), 0.0029203406736610735),\n",
       " ((12, 0.01, 0.1, 0.001), 0.002920475207324974),\n",
       " ((18, 0.001, 0.0001, 0.01), 0.0029205080848521375),\n",
       " ((22, 0.01, 0.0001, 1e-05), 0.002921318745529199),\n",
       " ((18, 0.01, 0.0001, 1e-05), 0.002921463788687852),\n",
       " ((26, 0.01, 0.01, 0.001), 0.0029219058690100014),\n",
       " ((30, 0.001, 0.0001, 1e-05), 0.0029235605258928162),\n",
       " ((26, 0.1, 0.0001, 0.01), 0.0029244283320307746),\n",
       " ((24, 0.01, 0.001, 1e-05), 0.0029249366493067424),\n",
       " ((26, 0.1, 1e-05, 0.0001), 0.0029253815479287418),\n",
       " ((18, 0.01, 0.1, 0.01), 0.0029260745143804326),\n",
       " ((12, 0.001, 0.1, 0.001), 0.0029276239852101087),\n",
       " ((24, 0.001, 0.01, 0.01), 0.0029280157670980213),\n",
       " ((12, 0.01, 0.01, 0.1), 0.0029289566759875076),\n",
       " ((30, 0.01, 0.001, 1e-05), 0.002929419960093614),\n",
       " ((20, 0.001, 1e-05, 0.0001), 0.002929910815776753),\n",
       " ((22, 0.01, 1e-05, 0.1), 0.0029304326927829137),\n",
       " ((16, 0.01, 0.0001, 0.1), 0.0029306989924196137),\n",
       " ((26, 0.001, 0.0001, 0.01), 0.0029307210413282003),\n",
       " ((22, 0.01, 1e-05, 0.01), 0.002932745138797569),\n",
       " ((20, 0.01, 0.001, 0.001), 0.0029330828584704966),\n",
       " ((18, 0.1, 0.01, 0.01), 0.0029337673535296096),\n",
       " ((18, 0.1, 0.001, 0.001), 0.0029338641261573354),\n",
       " ((16, 0.001, 0.0001, 0.0001), 0.0029351435892741194),\n",
       " ((20, 0.01, 0.01, 0.001), 0.0029356955159863486),\n",
       " ((10, 0.1, 0.01, 0.1), 0.0029359346903322136),\n",
       " ((20, 0.01, 1e-05, 0.001), 0.002936803486056037),\n",
       " ((18, 0.01, 0.0001, 0.001), 0.0029369666745670863),\n",
       " ((26, 0.1, 0.1, 0.0001), 0.002937318711014249),\n",
       " ((16, 0.01, 0.1, 0.01), 0.0029374702329306307),\n",
       " ((16, 0.01, 1e-05, 0.1), 0.0029376708467252466),\n",
       " ((18, 0.001, 0.01, 0.01), 0.0029400427909920235),\n",
       " ((18, 0.01, 1e-05, 0.1), 0.0029400957658880103),\n",
       " ((20, 0.1, 0.01, 0.1), 0.0029401131395406514),\n",
       " ((30, 0.1, 0.01, 1e-05), 0.002940148983295441),\n",
       " ((24, 0.01, 0.01, 1e-05), 0.002940443759262346),\n",
       " ((12, 0.1, 0.1, 0.1), 0.0029416412403513287),\n",
       " ((10, 0.1, 0.1, 0.1), 0.0029416449642492752),\n",
       " ((24, 0.01, 0.0001, 0.1), 0.0029417491965764457),\n",
       " ((22, 0.01, 0.001, 0.1), 0.0029417679421417813),\n",
       " ((26, 0.01, 1e-05, 0.01), 0.0029427294279705265),\n",
       " ((26, 0.001, 1e-05, 0.1), 0.00294305329590606),\n",
       " ((22, 0.001, 0.001, 1e-05), 0.0029434142450796732),\n",
       " ((20, 0.01, 1e-05, 0.0001), 0.002944223531064643),\n",
       " ((18, 0.001, 0.1, 0.001), 0.0029442701498574157),\n",
       " ((24, 0.01, 0.001, 0.0001), 0.002944426498501616),\n",
       " ((18, 0.01, 0.0001, 0.01), 0.002944554011395427),\n",
       " ((6, 0.1, 0.1, 0.1), 0.0029449014743757854),\n",
       " ((20, 0.001, 0.01, 0.001), 0.0029449679843191446),\n",
       " ((22, 0.001, 0.0001, 0.001), 0.002945851306417566),\n",
       " ((16, 0.01, 0.1, 0.0001), 0.002946014059013308),\n",
       " ((20, 0.001, 0.1, 0.001), 0.0029464532046387854),\n",
       " ((14, 0.001, 0.1, 0.1), 0.0029465967565185038),\n",
       " ((18, 0.01, 0.01, 0.001), 0.002947032628406782),\n",
       " ((30, 0.01, 0.001, 0.1), 0.002949586666924709),\n",
       " ((24, 0.01, 0.0001, 0.0001), 0.0029501347401313044),\n",
       " ((24, 0.1, 0.1, 0.001), 0.0029502949610523224),\n",
       " ((22, 0.001, 0.01, 0.001), 0.0029507546398927823),\n",
       " ((18, 0.01, 1e-05, 0.001), 0.002950960288933132),\n",
       " ((22, 0.01, 0.01, 0.001), 0.002951379304740364),\n",
       " ((30, 0.1, 0.1, 0.1), 0.0029517559794774084),\n",
       " ((22, 0.001, 0.001, 0.1), 0.002952021840010117),\n",
       " ((14, 0.1, 0.1, 0.1), 0.0029526535255810613),\n",
       " ((22, 0.01, 0.0001, 0.1), 0.0029532303003175),\n",
       " ((22, 0.01, 0.001, 0.001), 0.002953495331591856),\n",
       " ((18, 0.01, 1e-05, 1e-05), 0.002953575041351135),\n",
       " ((28, 0.1, 1e-05, 0.001), 0.002953949589824234),\n",
       " ((28, 0.1, 0.0001, 0.1), 0.002954082194496396),\n",
       " ((22, 0.01, 0.01, 0.0001), 0.0029544187917285684),\n",
       " ((20, 0.1, 0.1, 0.0001), 0.002955635437507101),\n",
       " ((24, 0.001, 1e-05, 0.01), 0.0029570104572971905),\n",
       " ((18, 0.1, 0.0001, 0.0001), 0.002957422376094967),\n",
       " ((22, 0.1, 0.1, 0.1), 0.0029575134397698435),\n",
       " ((10, 0.1, 0.1, 0.001), 0.002957796150226442),\n",
       " ((22, 0.001, 0.0001, 0.1), 0.002957928848904068),\n",
       " ((8, 0.01, 0.1, 0.01), 0.0029591055746449203),\n",
       " ((18, 0.1, 0.1, 0.1), 0.002959643563134912),\n",
       " ((18, 0.01, 0.001, 0.01), 0.0029608544242567163),\n",
       " ((28, 0.1, 1e-05, 0.0001), 0.0029620572537576153),\n",
       " ((16, 0.001, 0.001, 0.001), 0.0029623069027447206),\n",
       " ((16, 0.1, 0.01, 0.1), 0.0029628201115124396),\n",
       " ((22, 0.01, 0.0001, 0.001), 0.002962853802130106),\n",
       " ((20, 0.01, 0.01, 0.01), 0.002963115619900132),\n",
       " ((16, 0.01, 1e-05, 0.01), 0.0029660688848368844),\n",
       " ((30, 0.1, 1e-05, 0.1), 0.002966248992360026),\n",
       " ((20, 0.001, 1e-05, 0.001), 0.002966585304271471),\n",
       " ((16, 0.1, 0.1, 0.1), 0.0029677825529372402),\n",
       " ((6, 0.01, 0.1, 0.0001), 0.0029679794677086703),\n",
       " ((24, 0.01, 0.001, 0.001), 0.0029685138944330856),\n",
       " ((20, 0.01, 0.001, 0.01), 0.002968523877427339),\n",
       " ((26, 0.001, 0.01, 0.001), 0.0029685860557480885),\n",
       " ((28, 0.1, 0.01, 0.001), 0.0029690963054395903),\n",
       " ((18, 0.01, 1e-05, 0.0001), 0.0029692964889031148),\n",
       " ((18, 0.001, 0.0001, 0.1), 0.0029693413585507368),\n",
       " ((18, 0.01, 0.001, 0.0001), 0.00296972848790291),\n",
       " ((28, 0.01, 1e-05, 0.01), 0.0029710539536948557),\n",
       " ((22, 0.001, 1e-05, 0.01), 0.0029716351341206888),\n",
       " ((12, 0.01, 0.1, 1e-05), 0.002971706173526267),\n",
       " ((10, 0.1, 0.1, 0.01), 0.00297184175566841),\n",
       " ((26, 0.1, 0.01, 0.01), 0.0029728013355932747),\n",
       " ((8, 0.01, 0.1, 0.1), 0.002973343383797301),\n",
       " ((20, 0.001, 0.0001, 0.01), 0.002973496197404567),\n",
       " ((18, 0.001, 1e-05, 0.01), 0.002976472894066788),\n",
       " ((22, 0.1, 0.1, 0.0001), 0.0029766757750209166),\n",
       " ((20, 0.001, 0.0001, 0.1), 0.0029770399075301646),\n",
       " ((22, 0.001, 1e-05, 1e-05), 0.002977191176494411),\n",
       " ((24, 0.1, 0.1, 0.0001), 0.0029772628450076702),\n",
       " ((22, 0.01, 0.01, 1e-05), 0.0029776047744893555),\n",
       " ((30, 0.1, 0.001, 1e-05), 0.0029778427317298287),\n",
       " ((14, 0.001, 0.001, 0.01), 0.0029778646745969757),\n",
       " ((12, 0.001, 0.1, 0.1), 0.002978631621710484),\n",
       " ((26, 0.1, 0.1, 0.1), 0.0029787306574785774),\n",
       " ((20, 0.1, 0.0001, 0.01), 0.0029801905943719533),\n",
       " ((20, 0.1, 0.01, 0.0001), 0.0029806967122589702),\n",
       " ((24, 0.1, 0.1, 0.01), 0.00298089179811347),\n",
       " ((14, 0.01, 0.01, 0.1), 0.0029809379548582787),\n",
       " ((18, 0.001, 1e-05, 0.0001), 0.0029810528786992346),\n",
       " ((20, 0.1, 0.0001, 0.001), 0.0029812017342073158),\n",
       " ((22, 0.01, 1e-05, 0.001), 0.0029814265725662216),\n",
       " ((20, 0.001, 0.001, 0.0001), 0.0029825470506755804),\n",
       " ((20, 0.01, 0.001, 0.0001), 0.002982607339657693),\n",
       " ((18, 0.001, 1e-05, 0.1), 0.0029848185580662353),\n",
       " ((26, 0.1, 0.01, 0.0001), 0.002984824806667504),\n",
       " ((12, 0.01, 0.1, 0.0001), 0.0029864599151315178),\n",
       " ((16, 0.001, 0.001, 0.1), 0.0029865571557125227),\n",
       " ((24, 0.1, 0.01, 1e-05), 0.002986716647039796),\n",
       " ((6, 0.01, 0.1, 0.1), 0.002986882742831625),\n",
       " ((12, 0.1, 0.1, 1e-05), 0.00298795106290946),\n",
       " ((20, 0.01, 0.01, 0.0001), 0.0029887972456294114),\n",
       " ((20, 0.001, 0.01, 0.0001), 0.002988940283248708),\n",
       " ((22, 0.1, 0.1, 0.001), 0.002990142638126865),\n",
       " ((22, 0.01, 0.01, 0.01), 0.0029905262493271955),\n",
       " ((20, 0.1, 0.1, 1e-05), 0.0029914161476010484),\n",
       " ((18, 0.1, 0.0001, 0.001), 0.0029914856811008423),\n",
       " ((18, 0.1, 0.1, 0.01), 0.0029921514049456644),\n",
       " ((8, 0.01, 0.1, 0.001), 0.002992539315158466),\n",
       " ((30, 0.1, 0.0001, 1e-05), 0.0029925733636638314),\n",
       " ((24, 0.1, 0.1, 1e-05), 0.002994333367381601),\n",
       " ((22, 0.1, 0.0001, 0.0001), 0.002995927422855132),\n",
       " ((14, 0.1, 0.01, 0.001), 0.002997215851056461),\n",
       " ((10, 0.01, 0.1, 0.001), 0.0029994797391171093),\n",
       " ((30, 0.1, 0.1, 1e-05), 0.002999815073951478),\n",
       " ((8, 0.1, 0.01, 0.01), 0.0030000009847510356),\n",
       " ((30, 0.1, 0.1, 0.0001), 0.003000186793266034),\n",
       " ((22, 0.001, 0.01, 0.1), 0.0030008005713335634),\n",
       " ((18, 0.01, 0.0001, 0.0001), 0.0030017122070346665),\n",
       " ((24, 0.01, 0.0001, 0.01), 0.003001796167124411),\n",
       " ((24, 0.1, 0.0001, 0.001), 0.0030031935804296964),\n",
       " ((18, 0.001, 0.001, 0.1), 0.0030033444575128044),\n",
       " ((28, 0.1, 0.0001, 0.0001), 0.00300440699416899),\n",
       " ((16, 0.1, 0.1, 0.001), 0.0030050396403230087),\n",
       " ((14, 0.001, 0.1, 0.001), 0.0030053832588499522),\n",
       " ((20, 0.001, 0.01, 0.1), 0.003005581098795705),\n",
       " ((28, 0.1, 0.0001, 1e-05), 0.0030060151011305847),\n",
       " ((26, 0.1, 0.1, 0.001), 0.0030061006062814155),\n",
       " ((16, 0.01, 1e-05, 0.0001), 0.003007396272041127),\n",
       " ((20, 0.001, 0.01, 0.01), 0.0030078081191557728),\n",
       " ((10, 0.001, 0.1, 0.1), 0.003008013194948191),\n",
       " ((24, 0.1, 1e-05, 0.1), 0.0030082274096275355),\n",
       " ((10, 0.01, 0.1, 0.01), 0.003008368316653409),\n",
       " ((12, 0.1, 0.1, 0.001), 0.0030092280476572038),\n",
       " ((18, 0.001, 0.01, 0.0001), 0.0030093038564133635),\n",
       " ((22, 0.1, 0.001, 0.0001), 0.0030093582561702904),\n",
       " ((16, 0.1, 0.01, 1e-05), 0.003009371045434662),\n",
       " ((26, 0.1, 0.01, 0.001), 0.0030108712479220657),\n",
       " ((18, 0.001, 0.01, 0.001), 0.0030114470863079525),\n",
       " ((6, 0.01, 0.1, 1e-05), 0.0030116546529979334),\n",
       " ((28, 0.1, 0.1, 0.0001), 0.0030122312653194784),\n",
       " ((26, 0.1, 0.1, 0.01), 0.0030130280957769385),\n",
       " ((24, 0.1, 0.01, 0.0001), 0.003014205243810424),\n",
       " ((10, 0.1, 0.01, 0.0001), 0.003014856513274611),\n",
       " ((20, 0.001, 0.0001, 0.0001), 0.0030159496870010238),\n",
       " ((20, 0.001, 1e-05, 0.01), 0.0030160003615536893),\n",
       " ((16, 0.01, 0.001, 0.001), 0.0030163873242320246),\n",
       " ((24, 0.1, 0.001, 0.0001), 0.0030164982707367445),\n",
       " ((8, 0.1, 0.01, 0.1), 0.0030173958210607636),\n",
       " ((18, 0.1, 0.01, 0.001), 0.003017914048318922),\n",
       " ((26, 0.1, 0.001, 0.0001), 0.003018422965788879),\n",
       " ((28, 0.1, 0.001, 0.1), 0.003019443794724275),\n",
       " ((20, 0.1, 0.01, 0.01), 0.003019473970312885),\n",
       " ((28, 0.1, 0.01, 0.0001), 0.0030207730285752867),\n",
       " ((30, 0.1, 0.0001, 0.0001), 0.0030222875631723),\n",
       " ((28, 0.1, 0.1, 1e-05), 0.0030223347716278773),\n",
       " ((22, 0.001, 0.001, 0.01), 0.003022429975005559),\n",
       " ((6, 0.1, 0.1, 0.01), 0.0030224794003863944),\n",
       " ((24, 0.1, 0.001, 0.001), 0.003023098799050328),\n",
       " ((10, 0.1, 0.1, 1e-05), 0.003023472992661461),\n",
       " ((14, 0.1, 0.1, 0.0001), 0.0030236492509475624),\n",
       " ((26, 0.1, 0.0001, 0.1), 0.0030241147241116305),\n",
       " ((18, 0.1, 0.1, 1e-05), 0.0030242739276699453),\n",
       " ((22, 0.1, 0.1, 1e-05), 0.0030251070485017868),\n",
       " ((16, 0.001, 1e-05, 0.001), 0.003025208076516386),\n",
       " ((22, 0.1, 0.1, 0.01), 0.0030260733117292403),\n",
       " ((16, 0.001, 0.01, 0.01), 0.0030260959533806395),\n",
       " ((24, 0.1, 0.001, 0.1), 0.003026101244693764),\n",
       " ((30, 0.1, 0.0001, 0.1), 0.0030267311840003006),\n",
       " ((8, 0.01, 0.1, 0.0001), 0.0030267375317551953),\n",
       " ((30, 0.1, 1e-05, 0.001), 0.0030273169543499666),\n",
       " ((26, 0.1, 0.01, 1e-05), 0.00302784498978328),\n",
       " ((16, 0.001, 0.01, 1e-05), 0.003027977263112315),\n",
       " ((28, 0.1, 0.1, 0.001), 0.0030280705679438143),\n",
       " ((22, 0.001, 0.001, 0.001), 0.003028278945964112),\n",
       " ((14, 0.001, 0.1, 1e-05), 0.0030283241811260003),\n",
       " ((28, 0.01, 0.001, 0.0001), 0.0030283257962968116),\n",
       " ((30, 0.1, 0.01, 0.001), 0.0030285564565025167),\n",
       " ((20, 0.1, 1e-05, 0.0001), 0.003028601064283738),\n",
       " ((16, 0.001, 0.001, 0.0001), 0.0030287904398331486),\n",
       " ((20, 0.001, 0.001, 1e-05), 0.003029130546595692),\n",
       " ((20, 0.1, 0.1, 0.01), 0.003029684638766401),\n",
       " ((14, 0.1, 0.1, 1e-05), 0.0030299312102073394),\n",
       " ((18, 0.01, 0.01, 0.01), 0.0030308997553041787),\n",
       " ((18, 0.001, 0.01, 0.1), 0.003030941939566863),\n",
       " ((30, 0.1, 0.01, 0.01), 0.003034145248307938),\n",
       " ((12, 0.1, 0.01, 0.0001), 0.003034465453275666),\n",
       " ((28, 0.1, 0.001, 0.01), 0.0030354327164181963),\n",
       " ((30, 0.1, 0.1, 0.01), 0.0030356572254629007),\n",
       " ((30, 0.1, 0.1, 0.001), 0.0030357574287095943),\n",
       " ((14, 0.1, 0.01, 1e-05), 0.0030358568756615537),\n",
       " ((22, 0.1, 1e-05, 0.01), 0.003036317027659217),\n",
       " ((16, 0.01, 0.0001, 0.001), 0.003038254590679428),\n",
       " ((8, 0.1, 0.1, 0.01), 0.0030394753793338003),\n",
       " ((12, 0.1, 0.1, 0.0001), 0.003042062536693804),\n",
       " ((14, 0.1, 0.1, 0.01), 0.0030425036702958707),\n",
       " ((18, 0.1, 0.1, 0.0001), 0.0030426031549076827),\n",
       " ((8, 0.1, 0.1, 1e-05), 0.003043061289790127),\n",
       " ((8, 0.1, 0.01, 0.001), 0.0030434009473795745),\n",
       " ((24, 0.1, 0.01, 0.01), 0.0030439760384162354),\n",
       " ((6, 0.1, 0.1, 0.001), 0.003044199355777695),\n",
       " ((18, 0.001, 0.001, 0.001), 0.003044361091924539),\n",
       " ((18, 0.01, 0.0001, 0.1), 0.0030453132531629385),\n",
       " ((6, 0.1, 0.1, 1e-05), 0.0030463658570636927),\n",
       " ((20, 0.01, 0.0001, 0.001), 0.003046673317848496),\n",
       " ((28, 0.1, 0.1, 0.01), 0.0030471756105220262),\n",
       " ((18, 0.1, 0.01, 1e-05), 0.0030479949365555515),\n",
       " ((16, 0.001, 1e-05, 0.1), 0.0030481952800500787),\n",
       " ((16, 0.1, 0.1, 0.0001), 0.003048796222778802),\n",
       " ((6, 0.1, 0.1, 0.0001), 0.0030493794329366653),\n",
       " ((20, 0.1, 0.001, 0.0001), 0.003049858531690181),\n",
       " ((20, 0.1, 0.01, 1e-05), 0.0030501087268585583),\n",
       " ((16, 0.001, 0.01, 0.1), 0.0030503020513393177),\n",
       " ((16, 0.01, 0.001, 0.1), 0.00305031846356512),\n",
       " ((16, 0.1, 0.1, 0.01), 0.003052998290614126),\n",
       " ((8, 0.1, 0.1, 0.0001), 0.0030541062864133037),\n",
       " ((8, 0.1, 0.1, 0.001), 0.0030550492774634934),\n",
       " ((26, 0.1, 0.001, 0.01), 0.0030552025085510454),\n",
       " ((16, 0.001, 0.001, 0.01), 0.0030557968306658516),\n",
       " ((14, 0.001, 0.01, 1e-05), 0.0030561766589861598),\n",
       " ((26, 0.1, 0.0001, 0.0001), 0.003056446621909132),\n",
       " ((22, 0.1, 0.001, 1e-05), 0.0030565662039463712),\n",
       " ((12, 0.1, 0.1, 0.01), 0.003057228873305782),\n",
       " ((24, 0.1, 1e-05, 0.01), 0.0030580558794028167),\n",
       " ((22, 0.1, 0.01, 0.0001), 0.0030604612791398267),\n",
       " ((10, 0.001, 0.1, 0.001), 0.0030606846661572033),\n",
       " ((10, 0.1, 0.1, 0.0001), 0.0030610351809530942),\n",
       " ((26, 0.1, 1e-05, 0.001), 0.003061843824761431),\n",
       " ((26, 0.1, 0.1, 1e-05), 0.0030629091700650657),\n",
       " ((14, 0.1, 0.1, 0.001), 0.0030630689442982645),\n",
       " ((30, 0.1, 0.001, 0.0001), 0.0030630693467934623),\n",
       " ((30, 0.1, 0.0001, 0.01), 0.003064735542678519),\n",
       " ((20, 0.01, 1e-05, 1e-05), 0.0030675617449215952),\n",
       " ((8, 0.01, 0.1, 1e-05), 0.0030678432813967403),\n",
       " ((22, 0.01, 0.001, 0.01), 0.0030681851385733878),\n",
       " ((24, 0.1, 0.01, 0.001), 0.00306858604336095),\n",
       " ((14, 0.1, 0.01, 0.0001), 0.0030686764460919874),\n",
       " ((22, 0.1, 0.0001, 0.001), 0.003069364949195704),\n",
       " ((18, 0.1, 0.1, 0.001), 0.0030694232587903628),\n",
       " ((28, 0.1, 1e-05, 0.01), 0.003072303030460117),\n",
       " ((16, 0.001, 0.0001, 0.001), 0.0030727978506001528),\n",
       " ((16, 0.01, 0.001, 0.0001), 0.0030731136422660105),\n",
       " ((26, 0.1, 0.001, 0.001), 0.00307351970507581),\n",
       " ((22, 0.1, 0.01, 0.001), 0.003073730055153533),\n",
       " ((20, 0.1, 0.1, 0.001), 0.0030742515394078687),\n",
       " ((22, 0.1, 0.01, 0.01), 0.0030762153015821705),\n",
       " ((18, 0.01, 0.001, 0.001), 0.003077211281486552),\n",
       " ((22, 0.1, 0.0001, 1e-05), 0.0030779824010846242),\n",
       " ((16, 0.001, 0.01, 0.001), 0.0030796428802039233),\n",
       " ((16, 0.1, 0.1, 1e-05), 0.003079683430158293),\n",
       " ((12, 0.1, 0.01, 0.1), 0.003080126877319068),\n",
       " ((16, 0.1, 0.0001, 0.001), 0.0030805371932569954),\n",
       " ((18, 0.1, 1e-05, 0.01), 0.003080833622959087),\n",
       " ((28, 0.1, 0.001, 0.001), 0.00308282763025179),\n",
       " ((18, 0.1, 0.01, 0.0001), 0.003083167561302161),\n",
       " ((14, 0.001, 0.001, 1e-05), 0.003083471997351439),\n",
       " ((20, 0.1, 0.0001, 0.0001), 0.003085360345587859),\n",
       " ((6, 0.01, 0.1, 0.01), 0.0030855478517329447),\n",
       " ((28, 0.1, 1e-05, 1e-05), 0.0030875920858296738),\n",
       " ((20, 0.001, 0.0001, 0.001), 0.003088108734974267),\n",
       " ((20, 0.1, 0.01, 0.001), 0.0030891198230293504),\n",
       " ((18, 0.01, 0.001, 0.1), 0.0030908276461058077),\n",
       " ((30, 0.1, 0.01, 0.0001), 0.003090941630722473),\n",
       " ((24, 0.1, 0.0001, 0.1), 0.003091128846210783),\n",
       " ((16, 0.01, 0.01, 0.1), 0.003093371364437089),\n",
       " ((14, 0.1, 1e-05, 0.0001), 0.0030937756352644036),\n",
       " ((16, 0.1, 0.01, 0.0001), 0.003097518269860533),\n",
       " ((12, 0.01, 0.01, 0.01), 0.0030979124924548026),\n",
       " ((14, 0.01, 1e-05, 0.0001), 0.003099778811947895),\n",
       " ((8, 0.1, 0.01, 0.0001), 0.0031000373020057636),\n",
       " ((26, 0.1, 0.001, 1e-05), 0.003102302809080753),\n",
       " ((30, 0.1, 0.001, 0.001), 0.003102654434343759),\n",
       " ((16, 0.001, 1e-05, 0.0001), 0.003102776744968913),\n",
       " ((6, 0.1, 0.01, 1e-05), 0.0031037873052473905),\n",
       " ((16, 0.1, 0.001, 0.001), 0.003107528091380283),\n",
       " ((26, 0.1, 1e-05, 0.01), 0.0031085938949209405),\n",
       " ((28, 0.1, 0.0001, 0.01), 0.0031090767764117206),\n",
       " ((24, 0.1, 1e-05, 1e-05), 0.003109878688956603),\n",
       " ((6, 0.01, 0.1, 0.001), 0.0031105350052248707),\n",
       " ((8, 0.1, 0.01, 1e-05), 0.003112677263555343),\n",
       " ((10, 0.01, 0.01, 0.01), 0.003113904859568478),\n",
       " ((14, 0.001, 0.0001, 0.01), 0.0031146538595900213),\n",
       " ((14, 0.1, 0.001, 0.0001), 0.0031165397991619074),\n",
       " ((22, 0.1, 0.001, 0.1), 0.0031168590043071406),\n",
       " ((20, 0.001, 1e-05, 0.1), 0.0031170844015715273),\n",
       " ((22, 0.1, 1e-05, 0.1), 0.0031172930509851845),\n",
       " ((16, 0.01, 0.0001, 0.01), 0.003118283914923486),\n",
       " ((22, 0.1, 0.01, 1e-05), 0.003118365135619241),\n",
       " ((14, 0.001, 1e-05, 0.1), 0.0031185327784183235),\n",
       " ((6, 0.1, 0.01, 0.0001), 0.0031188927259691696),\n",
       " ((28, 0.1, 1e-05, 0.1), 0.0031201014799785032),\n",
       " ((16, 0.1, 0.01, 0.001), 0.0031213336788557208),\n",
       " ((16, 0.01, 0.0001, 0.0001), 0.0031213373518688553),\n",
       " ((24, 0.1, 0.0001, 1e-05), 0.003121435468752216),\n",
       " ((28, 0.1, 0.001, 0.0001), 0.003123000039426192),\n",
       " ((18, 0.1, 0.001, 0.0001), 0.003124067563059667),\n",
       " ((22, 0.1, 0.0001, 0.01), 0.0031252127353636637),\n",
       " ((30, 0.1, 0.0001, 0.001), 0.003125493898499921),\n",
       " ((22, 0.1, 0.0001, 0.1), 0.003126016493364516),\n",
       " ((14, 0.01, 0.01, 0.01), 0.003127894580898072),\n",
       " ((14, 0.001, 1e-05, 1e-05), 0.0031279071671016447),\n",
       " ((12, 0.001, 0.1, 1e-05), 0.003128041352340199),\n",
       " ((20, 0.1, 1e-05, 0.1), 0.003128567844015532),\n",
       " ((28, 0.1, 0.01, 1e-05), 0.003129964046334956),\n",
       " ((24, 0.1, 0.0001, 0.0001), 0.0031302601654336773),\n",
       " ((20, 0.001, 0.0001, 1e-05), 0.0031310170616521108),\n",
       " ((30, 0.1, 1e-05, 0.01), 0.0031341193923059138),\n",
       " ((10, 0.001, 0.1, 0.0001), 0.003134910812018122),\n",
       " ((16, 0.1, 1e-05, 0.0001), 0.003135706767643178),\n",
       " ((16, 0.001, 0.0001, 0.01), 0.0031367133297726126),\n",
       " ((8, 0.001, 0.1, 0.0001), 0.0031376124727692254),\n",
       " ((14, 0.01, 0.001, 0.1), 0.0031385632395048075),\n",
       " ((26, 0.1, 0.0001, 1e-05), 0.003140474349155959),\n",
       " ((20, 0.1, 1e-05, 1e-05), 0.0031427505198398545),\n",
       " ((22, 0.1, 1e-05, 0.001), 0.0031440521499261375),\n",
       " ((28, 0.1, 0.0001, 0.001), 0.0031458673782125573),\n",
       " ((12, 0.001, 0.001, 0.1), 0.003149115684860007),\n",
       " ((12, 0.001, 0.1, 0.0001), 0.003149136341262803),\n",
       " ((14, 0.1, 0.01, 0.01), 0.003150557698757572),\n",
       " ((14, 0.001, 0.0001, 0.001), 0.0031509168544767503),\n",
       " ((8, 0.001, 0.1, 0.01), 0.003151683404736762),\n",
       " ((16, 0.001, 0.01, 0.0001), 0.003151814414149058),\n",
       " ((30, 0.1, 1e-05, 0.0001), 0.003153964429774851),\n",
       " ((14, 0.01, 0.01, 0.001), 0.0031539996457492503),\n",
       " ((18, 0.1, 0.0001, 0.1), 0.0031541974798709924),\n",
       " ((18, 0.1, 1e-05, 0.001), 0.0031551087567621584),\n",
       " ((12, 0.01, 0.01, 0.001), 0.0031563703200910296),\n",
       " ((16, 0.1, 0.001, 1e-05), 0.003157593234369159),\n",
       " ((18, 0.1, 1e-05, 0.1), 0.0031584204590485855),\n",
       " ((18, 0.001, 0.001, 1e-05), 0.0031589228821634987),\n",
       " ((14, 0.01, 1e-05, 1e-05), 0.0031609352675804037),\n",
       " ((12, 0.01, 0.0001, 0.01), 0.0031614677557431367),\n",
       " ((16, 0.1, 0.001, 0.1), 0.003162265655471785),\n",
       " ((20, 0.1, 0.001, 0.01), 0.0031645753210458147),\n",
       " ((14, 0.001, 0.0001, 0.0001), 0.003165163799900612),\n",
       " ((16, 0.001, 1e-05, 1e-05), 0.0031652548445134806),\n",
       " ((14, 0.001, 0.01, 0.0001), 0.003165464659159404),\n",
       " ((16, 0.01, 1e-05, 1e-05), 0.00316587382503428),\n",
       " ((12, 0.1, 0.01, 0.001), 0.0031673566551446396),\n",
       " ((20, 0.1, 0.0001, 0.1), 0.003169905453921586),\n",
       " ((14, 0.001, 0.001, 0.1), 0.003171672494300507),\n",
       " ((12, 0.1, 0.01, 1e-05), 0.0031750058535357298),\n",
       " ((28, 0.1, 0.001, 1e-05), 0.003175519146924167),\n",
       " ((18, 0.1, 0.0001, 1e-05), 0.003176005525306893),\n",
       " ((14, 0.01, 0.0001, 0.0001), 0.0031778532459672084),\n",
       " ((30, 0.1, 1e-05, 1e-05), 0.0031804792563219428),\n",
       " ((14, 0.001, 1e-05, 0.001), 0.003180489588123854),\n",
       " ((12, 0.1, 1e-05, 0.0001), 0.003186475327886513),\n",
       " ((22, 0.1, 1e-05, 1e-05), 0.0031870076984787184),\n",
       " ((24, 0.1, 1e-05, 0.0001), 0.00318716282889925),\n",
       " ((6, 0.1, 0.01, 0.01), 0.0031875983946493963),\n",
       " ((12, 0.001, 0.001, 0.01), 0.0031877742590556875),\n",
       " ((14, 0.001, 1e-05, 0.01), 0.0031889915826169533),\n",
       " ((16, 0.001, 0.001, 1e-05), 0.003197628647568657),\n",
       " ((22, 0.1, 1e-05, 0.0001), 0.003197748808857045),\n",
       " ((14, 0.01, 0.001, 1e-05), 0.003198884766483191),\n",
       " ((22, 0.1, 0.001, 0.001), 0.0032023733405655997),\n",
       " ((20, 0.1, 0.001, 1e-05), 0.0032026173448482446),\n",
       " ((14, 0.01, 0.01, 1e-05), 0.0032035616342372627),\n",
       " ((30, 0.1, 0.001, 0.01), 0.003205834251091122),\n",
       " ((14, 0.01, 0.001, 0.01), 0.003206471084766241),\n",
       " ((10, 0.1, 0.01, 1e-05), 0.003210446897134502),\n",
       " ((18, 0.001, 0.0001, 1e-05), 0.003211046512888995),\n",
       " ((18, 0.1, 0.001, 1e-05), 0.003211638062880905),\n",
       " ((10, 0.01, 0.01, 0.1), 0.003215800827151832),\n",
       " ((16, 0.001, 1e-05, 0.01), 0.0032166601981952676),\n",
       " ((26, 0.1, 0.0001, 0.001), 0.0032174098926232636),\n",
       " ((14, 0.001, 0.001, 0.001), 0.003218724955989348),\n",
       " ((16, 0.1, 1e-05, 0.01), 0.0032197772891130456),\n",
       " ((16, 0.1, 0.01, 0.01), 0.0032206228416576535),\n",
       " ((20, 0.1, 1e-05, 0.01), 0.003222790840835798),\n",
       " ((16, 0.1, 0.0001, 0.01), 0.0032238808062129308),\n",
       " ((16, 0.01, 0.01, 1e-05), 0.003227527620410311),\n",
       " ((12, 0.01, 0.01, 1e-05), 0.0032300657648400228),\n",
       " ((22, 0.1, 0.001, 0.01), 0.003231010686755343),\n",
       " ((14, 0.01, 0.01, 0.0001), 0.0032313100840617613),\n",
       " ((14, 0.1, 1e-05, 0.01), 0.0032318911571585568),\n",
       " ((16, 0.1, 1e-05, 1e-05), 0.003232024195928843),\n",
       " ((18, 0.1, 1e-05, 0.0001), 0.003237543543407952),\n",
       " ((18, 0.1, 0.0001, 0.01), 0.003242608662007204),\n",
       " ((12, 0.01, 0.001, 0.001), 0.003244003037254061),\n",
       " ((20, 0.1, 0.0001, 1e-05), 0.003246969432381623),\n",
       " ((24, 0.1, 0.001, 0.01), 0.0032483490771836234),\n",
       " ((12, 0.1, 0.001, 0.1), 0.0032484058315552203),\n",
       " ((10, 0.001, 0.1, 0.01), 0.0032489089263561207),\n",
       " ((12, 0.001, 0.0001, 0.001), 0.0032493168603681434),\n",
       " ((16, 0.1, 1e-05, 0.1), 0.003250382275357994),\n",
       " ((10, 0.1, 0.01, 0.001), 0.003253323129966588),\n",
       " ((24, 0.0001, 0.0001, 0.01), 0.00325961854997473),\n",
       " ((12, 0.01, 0.0001, 0.0001), 0.0032598450320014353),\n",
       " ((14, 0.001, 1e-05, 0.0001), 0.0032620738990299532),\n",
       " ((20, 0.1, 1e-05, 0.001), 0.003265848522624281),\n",
       " ((16, 0.1, 0.001, 0.01), 0.003266975371914686),\n",
       " ((12, 0.01, 1e-05, 0.001), 0.0032694558584279256),\n",
       " ((12, 0.001, 0.01, 1e-05), 0.0032776742506162517),\n",
       " ((18, 0.1, 1e-05, 1e-05), 0.003278986785945933),\n",
       " ((14, 0.001, 0.0001, 1e-05), 0.003279914499064656),\n",
       " ((8, 0.001, 0.1, 1e-05), 0.0032810502027072154),\n",
       " ((10, 0.001, 0.001, 1e-05), 0.0032837625004825256),\n",
       " ((24, 0.1, 1e-05, 0.001), 0.003283981269374767),\n",
       " ((14, 0.01, 1e-05, 0.01), 0.0032841393151550706),\n",
       " ((18, 0.1, 0.001, 0.01), 0.003285464606906618),\n",
       " ((8, 0.001, 0.1, 0.001), 0.003287393317220901),\n",
       " ((20, 0.1, 0.001, 0.001), 0.003290562441094161),\n",
       " ((14, 0.001, 0.0001, 0.1), 0.0032910054953452267),\n",
       " ((12, 0.001, 1e-05, 0.01), 0.003291360023834524),\n",
       " ((14, 0.01, 0.0001, 1e-05), 0.0032928340508705336),\n",
       " ((24, 0.1, 0.0001, 0.01), 0.00330008266951249),\n",
       " ((14, 0.01, 0.0001, 0.01), 0.0033102362961803166),\n",
       " ((14, 0.001, 0.001, 0.0001), 0.0033150069344916955),\n",
       " ((14, 0.1, 0.0001, 0.001), 0.003316744127419171),\n",
       " ((16, 0.1, 0.001, 0.0001), 0.0033171505270906715),\n",
       " ((12, 0.1, 0.01, 0.01), 0.0033204300421993812),\n",
       " ((24, 0.0001, 0.001, 0.0001), 0.0033224476381982803),\n",
       " ((12, 0.001, 0.01, 0.0001), 0.003326033049587078),\n",
       " ((14, 0.1, 0.001, 1e-05), 0.0033266726513404565),\n",
       " ((28, 0.0001, 0.1, 0.01), 0.00332764338635409),\n",
       " ((28, 0.0001, 0.01, 0.01), 0.0033325597289023752),\n",
       " ((30, 0.0001, 0.01, 0.0001), 0.003335089531266811),\n",
       " ((12, 0.01, 0.01, 0.0001), 0.003335686287604651),\n",
       " ((12, 0.01, 0.001, 0.0001), 0.0033364592320946234),\n",
       " ((24, 0.0001, 0.1, 0.001), 0.003337155501732703),\n",
       " ((28, 0.0001, 0.0001, 1e-05), 0.003337251464752681),\n",
       " ((16, 0.01, 0.001, 1e-05), 0.0033381343702951),\n",
       " ((30, 0.0001, 0.001, 0.001), 0.003339881166458727),\n",
       " ((12, 0.01, 1e-05, 0.0001), 0.0033465777732667105),\n",
       " ((26, 0.0001, 0.0001, 1e-05), 0.0033497164015396995),\n",
       " ((18, 0.1, 0.001, 0.1), 0.0033505155569516),\n",
       " ((24, 0.0001, 0.1, 0.0001), 0.003351203105749939),\n",
       " ((16, 0.1, 0.0001, 0.0001), 0.0033527055626012834),\n",
       " ((30, 0.0001, 0.0001, 0.001), 0.003352885191131713),\n",
       " ((10, 0.01, 0.001, 0.0001), 0.003355517222762615),\n",
       " ((14, 0.01, 1e-05, 0.1), 0.003356489506947385),\n",
       " ((12, 0.01, 1e-05, 0.1), 0.0033634308892952582),\n",
       " ((22, 0.0001, 1e-05, 0.01), 0.0033643869669595992),\n",
       " ((14, 0.1, 1e-05, 0.001), 0.003365718289299161),\n",
       " ((14, 0.01, 0.0001, 0.001), 0.003365746665114638),\n",
       " ((30, 0.0001, 0.001, 0.01), 0.0033663365208181895),\n",
       " ((28, 0.0001, 0.01, 0.1), 0.0033671449774688063),\n",
       " ((22, 0.0001, 1e-05, 1e-05), 0.003367958477395735),\n",
       " ((12, 0.001, 0.0001, 0.01), 0.003368285697951646),\n",
       " ((30, 0.0001, 0.1, 0.001), 0.0033687675656275382),\n",
       " ((14, 0.0001, 0.0001, 0.01), 0.003369649667670036),\n",
       " ((14, 0.001, 0.01, 0.001), 0.003370135247951743),\n",
       " ((28, 0.0001, 0.001, 0.001), 0.0033706503590557927),\n",
       " ((20, 0.0001, 0.001, 0.0001), 0.0033713296239790192),\n",
       " ((28, 0.0001, 0.1, 0.0001), 0.0033715698016150257),\n",
       " ((16, 0.01, 0.001, 0.01), 0.003373571565327827),\n",
       " ((12, 0.001, 0.01, 0.1), 0.003374390609839981),\n",
       " ((18, 0.0001, 0.01, 0.01), 0.0033745679153384597),\n",
       " ((24, 0.0001, 1e-05, 0.01), 0.0033753980566433965),\n",
       " ((12, 0.001, 0.01, 0.001), 0.003376003549259134),\n",
       " ((28, 0.0001, 0.0001, 0.001), 0.0033764218562438264),\n",
       " ((12, 0.01, 0.0001, 1e-05), 0.0033771328927630897),\n",
       " ((28, 0.0001, 0.001, 1e-05), 0.0033789722457686754),\n",
       " ((10, 0.01, 0.001, 0.01), 0.0033799871864293543),\n",
       " ((12, 0.01, 0.001, 1e-05), 0.0033806451601509167),\n",
       " ((8, 0.001, 0.1, 0.1), 0.0033811656008255688),\n",
       " ((14, 0.1, 1e-05, 0.1), 0.0033824045889852515),\n",
       " ((20, 0.0001, 1e-05, 0.01), 0.003384728713970644),\n",
       " ((30, 0.0001, 1e-05, 0.0001), 0.0033855933216915533),\n",
       " ((30, 0.0001, 1e-05, 0.001), 0.003385675750978742),\n",
       " ((10, 0.1, 0.01, 0.01), 0.003386652458372986),\n",
       " ((30, 0.0001, 0.1, 1e-05), 0.0033875246973696384),\n",
       " ((16, 0.1, 0.0001, 1e-05), 0.003388271801605174),\n",
       " ((24, 0.0001, 0.0001, 0.001), 0.0033889926130884996),\n",
       " ((26, 0.0001, 0.1, 0.001), 0.003392583019654988),\n",
       " ((26, 0.0001, 0.01, 0.001), 0.003393116034230249),\n",
       " ((30, 0.0001, 0.1, 0.01), 0.003393783076838478),\n",
       " ((28, 0.0001, 0.1, 0.001), 0.003393824571925339),\n",
       " ((14, 0.1, 0.0001, 0.1), 0.0033940156669229242),\n",
       " ((28, 0.0001, 0.001, 0.0001), 0.0033958887503453164),\n",
       " ((30, 0.0001, 1e-05, 0.01), 0.0033965217120892305),\n",
       " ((18, 0.0001, 0.1, 0.01), 0.003396591416830413),\n",
       " ((12, 0.001, 0.001, 1e-05), 0.0033967126779170806),\n",
       " ((30, 0.0001, 0.01, 1e-05), 0.00339674849417905),\n",
       " ((14, 0.1, 1e-05, 1e-05), 0.003396991544770132),\n",
       " ((14, 0.0001, 0.0001, 1e-05), 0.0033973658313444593),\n",
       " ((24, 0.0001, 0.01, 0.001), 0.003397485076422895),\n",
       " ((12, 0.01, 1e-05, 0.01), 0.003397755841524444),\n",
       " ((12, 0.001, 1e-05, 0.0001), 0.003397776046212101),\n",
       " ((24, 0.0001, 0.001, 0.1), 0.0033982610040281793),\n",
       " ((28, 0.0001, 0.001, 0.01), 0.003398560788713837),\n",
       " ((20, 0.0001, 0.1, 1e-05), 0.00339950257082985),\n",
       " ((16, 0.0001, 1e-05, 0.1), 0.003400479994768931),\n",
       " ((22, 0.0001, 1e-05, 0.0001), 0.003401675033190408),\n",
       " ((20, 0.0001, 0.0001, 1e-05), 0.003405498206345977),\n",
       " ((26, 0.0001, 0.0001, 0.1), 0.003405776547223229),\n",
       " ((28, 0.0001, 0.1, 0.1), 0.0034058604606782704),\n",
       " ((12, 0.001, 0.0001, 1e-05), 0.0034071576966154464),\n",
       " ((16, 0.0001, 1e-05, 1e-05), 0.003408906836853477),\n",
       " ((14, 0.01, 0.001, 0.001), 0.003409479099279827),\n",
       " ((30, 0.0001, 0.0001, 0.01), 0.003409991679298536),\n",
       " ((10, 0.01, 1e-05, 0.001), 0.0034103180386140615),\n",
       " ((22, 0.0001, 0.1, 0.1), 0.0034109058965008424),\n",
       " ((24, 0.0001, 0.001, 0.01), 0.0034115133303882265),\n",
       " ((26, 0.0001, 0.0001, 0.001), 0.0034126897821092164),\n",
       " ((14, 0.01, 0.001, 0.0001), 0.0034134138233338296),\n",
       " ((24, 0.0001, 0.1, 0.01), 0.0034149278491238024),\n",
       " ((28, 0.0001, 1e-05, 1e-05), 0.0034157223730007643),\n",
       " ((30, 0.0001, 0.01, 0.01), 0.0034162660708850273),\n",
       " ((22, 0.0001, 0.001, 0.01), 0.003416672751537655),\n",
       " ((10, 0.01, 0.01, 0.0001), 0.003416729335713043),\n",
       " ((26, 0.0001, 0.001, 0.01), 0.003418496609690204),\n",
       " ((14, 0.001, 0.01, 0.01), 0.0034186820763537594),\n",
       " ((16, 0.1, 0.0001, 0.1), 0.0034194771255056005),\n",
       " ((28, 0.0001, 1e-05, 0.001), 0.0034195334454115286),\n",
       " ((22, 0.0001, 0.0001, 0.0001), 0.003419693744642559),\n",
       " ((20, 0.0001, 0.1, 0.0001), 0.0034203637253406886),\n",
       " ((22, 0.0001, 0.0001, 0.01), 0.0034205148092632544),\n",
       " ((16, 0.01, 0.0001, 1e-05), 0.003421664545643427),\n",
       " ((24, 0.0001, 1e-05, 0.1), 0.0034218730099021457),\n",
       " ((26, 0.0001, 0.001, 0.1), 0.0034234839361745924),\n",
       " ((20, 0.0001, 1e-05, 0.0001), 0.0034237900693957777),\n",
       " ((22, 0.0001, 0.001, 0.001), 0.003425654352503303),\n",
       " ((30, 0.0001, 0.0001, 0.0001), 0.0034294006531707636),\n",
       " ((30, 0.0001, 1e-05, 1e-05), 0.0034306556506443404),\n",
       " ((24, 0.0001, 0.01, 1e-05), 0.003430696367883612),\n",
       " ((30, 0.0001, 0.001, 1e-05), 0.0034324968596390207),\n",
       " ((26, 0.0001, 0.001, 1e-05), 0.003433113197056868),\n",
       " ((12, 0.001, 0.001, 0.0001), 0.0034334589482604995),\n",
       " ((28, 0.0001, 0.0001, 0.1), 0.0034335772154892317),\n",
       " ((14, 0.1, 0.001, 0.001), 0.0034344611079323273),\n",
       " ((28, 0.0001, 0.001, 0.1), 0.0034347664672086963),\n",
       " ((6, 0.001, 0.1, 0.001), 0.0034353547570651877),\n",
       " ((26, 0.0001, 1e-05, 1e-05), 0.0034362415351746798),\n",
       " ((12, 0.001, 0.0001, 0.1), 0.0034362671801025733),\n",
       " ((26, 0.0001, 0.0001, 0.01), 0.0034366345339736804),\n",
       " ((12, 0.01, 0.001, 0.1), 0.003436887787047244),\n",
       " ((20, 0.0001, 0.001, 0.001), 0.0034388175483194405),\n",
       " ((22, 0.0001, 1e-05, 0.1), 0.0034392437417599966),\n",
       " ((30, 0.0001, 0.1, 0.0001), 0.0034393675567463023),\n",
       " ((24, 0.0001, 0.1, 1e-05), 0.003441922793755235),\n",
       " ((26, 0.0001, 0.1, 0.0001), 0.003442256532046892),\n",
       " ((16, 0.0001, 0.1, 0.001), 0.003442859102426564),\n",
       " ((28, 0.0001, 0.0001, 0.01), 0.0034433789006427136),\n",
       " ((28, 0.0001, 0.0001, 0.0001), 0.0034435749944825055),\n",
       " ((28, 0.0001, 1e-05, 0.01), 0.0034448555488211844),\n",
       " ((16, 0.0001, 0.1, 0.0001), 0.003445367787126532),\n",
       " ((24, 0.0001, 0.0001, 0.0001), 0.003447921343593668),\n",
       " ((24, 0.0001, 0.001, 0.001), 0.0034480404218609744),\n",
       " ((30, 0.0001, 0.001, 0.1), 0.0034480967358607472),\n",
       " ((22, 0.0001, 1e-05, 0.001), 0.0034492175100055713),\n",
       " ((24, 0.0001, 1e-05, 0.0001), 0.0034492420835760375),\n",
       " ((22, 0.0001, 0.01, 0.01), 0.0034500579182569157),\n",
       " ((30, 0.0001, 0.0001, 0.1), 0.003451006866257124),\n",
       " ((8, 0.01, 0.01, 1e-05), 0.0034518802339723598),\n",
       " ((30, 0.0001, 0.01, 0.1), 0.0034519975596591125),\n",
       " ((28, 0.0001, 0.01, 0.0001), 0.00345228890058668),\n",
       " ((16, 0.0001, 0.1, 1e-05), 0.0034523941494824474),\n",
       " ((26, 0.0001, 1e-05, 0.01), 0.003452510380314268),\n",
       " ((22, 0.0001, 0.0001, 1e-05), 0.0034526179260054896),\n",
       " ((10, 0.01, 0.01, 0.001), 0.0034531903756432536),\n",
       " ((22, 0.0001, 0.1, 0.001), 0.0034532587607023976),\n",
       " ((18, 0.0001, 0.01, 0.0001), 0.0034538835203312334),\n",
       " ((20, 0.0001, 0.1, 0.01), 0.0034543948094978645),\n",
       " ((20, 0.0001, 0.0001, 0.1), 0.0034563927791935907),\n",
       " ((26, 0.0001, 0.001, 0.0001), 0.003457383827750719),\n",
       " ((22, 0.0001, 0.0001, 0.1), 0.0034593581538379064),\n",
       " ((26, 0.0001, 1e-05, 0.0001), 0.00345989462547406),\n",
       " ((26, 0.0001, 0.01, 1e-05), 0.0034609784767590137),\n",
       " ((24, 0.0001, 0.1, 0.1), 0.003461993842469469),\n",
       " ((20, 0.0001, 0.0001, 0.01), 0.0034635764642830845),\n",
       " ((24, 0.0001, 0.01, 0.01), 0.003464275826931105),\n",
       " ((22, 0.0001, 0.0001, 0.001), 0.0034647181921986466),\n",
       " ((8, 0.01, 0.01, 0.1), 0.0034647654005273477),\n",
       " ((24, 0.0001, 0.01, 0.0001), 0.0034652688724229243),\n",
       " ((28, 0.0001, 1e-05, 0.1), 0.0034659594064527875),\n",
       " ((24, 0.0001, 0.001, 1e-05), 0.0034662538407324492),\n",
       " ((20, 0.0001, 0.0001, 0.001), 0.00346683858052443),\n",
       " ((30, 0.0001, 0.001, 0.0001), 0.003467858239952852),\n",
       " ((26, 0.0001, 0.1, 0.01), 0.003468133832087654),\n",
       " ((28, 0.0001, 0.01, 0.001), 0.003468184359549268),\n",
       " ((12, 0.001, 1e-05, 0.001), 0.00346943207162829),\n",
       " ((12, 0.01, 0.0001, 0.001), 0.0034694547862850543),\n",
       " ((30, 0.0001, 0.1, 0.1), 0.003470998146620257),\n",
       " ((26, 0.0001, 0.1, 1e-05), 0.00347157614627148),\n",
       " ((20, 0.0001, 1e-05, 0.001), 0.0034722800739792974),\n",
       " ((20, 0.0001, 0.1, 0.1), 0.0034729006868260467),\n",
       " ((12, 0.01, 0.001, 0.01), 0.0034736278266303076),\n",
       " ((30, 0.0001, 0.0001, 1e-05), 0.003473764977459371),\n",
       " ((28, 0.0001, 0.01, 1e-05), 0.003475702985016391),\n",
       " ((30, 0.0001, 1e-05, 0.1), 0.0034776828562963526),\n",
       " ((18, 0.0001, 0.1, 1e-05), 0.0034793578438875547),\n",
       " ((22, 0.0001, 0.01, 0.0001), 0.0034802703194052945),\n",
       " ((24, 0.0001, 0.0001, 1e-05), 0.0034802871707799855),\n",
       " ((26, 0.0001, 0.001, 0.001), 0.0034825765396712927),\n",
       " ((28, 0.0001, 0.1, 1e-05), 0.0034833388605663143),\n",
       " ((28, 0.0001, 1e-05, 0.0001), 0.003486800275574231),\n",
       " ((26, 0.0001, 1e-05, 0.1), 0.003487299799956682),\n",
       " ((24, 0.0001, 1e-05, 1e-05), 0.003487781148588764),\n",
       " ((18, 0.0001, 0.1, 0.1), 0.003489964715248584),\n",
       " ((26, 0.0001, 0.1, 0.1), 0.0034928408222503603),\n",
       " ((30, 0.0001, 0.01, 0.001), 0.003492997603065076),\n",
       " ((16, 0.0001, 0.0001, 1e-05), 0.0034934354850671484),\n",
       " ((14, 0.0001, 0.1, 1e-05), 0.0034935841359575136),\n",
       " ((16, 0.1, 1e-05, 0.001), 0.0034943809471899164),\n",
       " ((22, 0.0001, 0.01, 0.1), 0.003494478355705382),\n",
       " ((14, 0.1, 0.0001, 0.0001), 0.003495867885633398),\n",
       " ((22, 0.0001, 0.001, 0.0001), 0.0034958802212630364),\n",
       " ((20, 0.0001, 0.01, 0.01), 0.003496256880171691),\n",
       " ((22, 0.0001, 0.1, 0.01), 0.0034968891563207684),\n",
       " ((20, 0.0001, 0.1, 0.001), 0.003497146787113113),\n",
       " ((22, 0.0001, 0.1, 1e-05), 0.003498518996260627),\n",
       " ((24, 0.0001, 0.01, 0.1), 0.0035045216101594733),\n",
       " ((12, 0.1, 0.0001, 0.0001), 0.003504715811478055),\n",
       " ((22, 0.0001, 0.01, 0.001), 0.0035058206084415972),\n",
       " ((20, 0.0001, 0.0001, 0.0001), 0.003506474899673198),\n",
       " ((18, 0.0001, 0.1, 0.001), 0.003507630938588468),\n",
       " ((26, 0.0001, 0.0001, 0.0001), 0.003510597402770159),\n",
       " ((22, 0.0001, 0.1, 0.0001), 0.0035109858600608354),\n",
       " ((12, 0.1, 0.001, 0.0001), 0.0035112319163031484),\n",
       " ((22, 0.0001, 0.001, 1e-05), 0.0035137630735525426),\n",
       " ((26, 0.0001, 0.01, 0.1), 0.003514040654906174),\n",
       " ((24, 0.0001, 1e-05, 0.001), 0.0035158696690752063),\n",
       " ((26, 0.0001, 0.01, 0.0001), 0.003515944082108627),\n",
       " ((20, 0.0001, 0.01, 0.1), 0.0035180871329272795),\n",
       " ((26, 0.0001, 1e-05, 0.001), 0.00351978660310004),\n",
       " ((20, 0.0001, 0.01, 0.0001), 0.0035236849317116055),\n",
       " ((6, 0.1, 0.01, 0.001), 0.0035249149384695448),\n",
       " ((20, 0.0001, 0.001, 0.1), 0.0035249389279853344),\n",
       " ((18, 0.0001, 0.0001, 1e-05), 0.003526123025412987),\n",
       " ((20, 0.0001, 0.01, 1e-05), 0.003526823057698167),\n",
       " ((8, 0.01, 0.01, 0.01), 0.0035299897871659868),\n",
       " ((6, 0.001, 0.1, 1e-05), 0.003533184616657822),\n",
       " ((18, 0.0001, 0.1, 0.0001), 0.003534409877258365),\n",
       " ((20, 0.0001, 0.001, 0.01), 0.003537836725293961),\n",
       " ((26, 0.0001, 0.01, 0.01), 0.0035381247949656997),\n",
       " ((18, 0.0001, 1e-05, 0.0001), 0.003538587190381295),\n",
       " ((20, 0.0001, 1e-05, 1e-05), 0.003539229553117293),\n",
       " ((16, 0.0001, 0.001, 0.0001), 0.0035460143389127825),\n",
       " ((18, 0.0001, 0.01, 0.001), 0.003548626674624337),\n",
       " ((20, 0.0001, 0.01, 0.001), 0.003550664673919164),\n",
       " ((18, 0.0001, 0.0001, 0.1), 0.003550795483631702),\n",
       " ((12, 0.001, 0.001, 0.001), 0.0035516418656287544),\n",
       " ((10, 0.001, 0.0001, 1e-05), 0.00355329518568673),\n",
       " ((24, 0.0001, 0.0001, 0.1), 0.0035554606186133757),\n",
       " ((16, 0.0001, 0.1, 0.01), 0.003558519242031055),\n",
       " ((14, 0.1, 0.001, 0.1), 0.003559884882606854),\n",
       " ((6, 0.01, 0.01, 1e-05), 0.003560135953100986),\n",
       " ((12, 0.001, 0.01, 0.01), 0.003561013473073911),\n",
       " ((18, 0.0001, 0.001, 0.001), 0.0035615955539478267),\n",
       " ((20, 0.0001, 1e-05, 0.1), 0.0035646549516114047),\n",
       " ((18, 0.0001, 0.0001, 0.01), 0.0035653988385424885),\n",
       " ((18, 0.0001, 1e-05, 0.01), 0.00357054732597295),\n",
       " ((16, 0.0001, 0.1, 0.1), 0.0035717278869375883),\n",
       " ((14, 0.0001, 0.0001, 0.1), 0.003573211170534597),\n",
       " ((16, 0.0001, 1e-05, 0.0001), 0.003575774313303404),\n",
       " ((18, 0.0001, 0.0001, 0.0001), 0.0035769580262787893),\n",
       " ((12, 0.1, 0.0001, 1e-05), 0.003577156531170148),\n",
       " ((10, 0.001, 1e-05, 1e-05), 0.0035792004873552584),\n",
       " ((22, 0.0001, 0.001, 0.1), 0.0035800711559973173),\n",
       " ((18, 0.0001, 0.01, 0.1), 0.0035819944973504206),\n",
       " ((20, 0.0001, 0.001, 1e-05), 0.003582543684443999),\n",
       " ((10, 0.001, 0.01, 1e-05), 0.0035833736563866516),\n",
       " ((18, 0.0001, 0.001, 0.0001), 0.003583552146961941),\n",
       " ((12, 0.001, 0.0001, 0.0001), 0.0035856636367513715),\n",
       " ((22, 0.0001, 0.01, 1e-05), 0.0035859731909429734),\n",
       " ((14, 0.0001, 1e-05, 1e-05), 0.0035867851802738274),\n",
       " ((14, 0.1, 0.0001, 0.01), 0.003587789883660175),\n",
       " ((16, 0.0001, 0.0001, 0.01), 0.0035880645957044586),\n",
       " ((12, 0.1, 0.001, 1e-05), 0.0035938747759216216),\n",
       " ((12, 0.0001, 0.1, 1e-05), 0.0035940621610282015),\n",
       " ((18, 0.0001, 0.0001, 0.001), 0.0035986800175175394),\n",
       " ((14, 0.0001, 0.01, 0.1), 0.003599732869996997),\n",
       " ((18, 0.0001, 1e-05, 1e-05), 0.0036021115668895044),\n",
       " ((12, 0.001, 1e-05, 0.1), 0.0036032751524444698),\n",
       " ((14, 0.0001, 1e-05, 0.01), 0.0036054640367771743),\n",
       " ((14, 0.0001, 0.0001, 0.001), 0.003605672168389482),\n",
       " ((18, 0.0001, 0.01, 1e-05), 0.003606272754217065),\n",
       " ((12, 0.001, 1e-05, 1e-05), 0.003609409635240639),\n",
       " ((16, 0.0001, 1e-05, 0.01), 0.0036159142350157933),\n",
       " ...]"
      ]
     },
     "execution_count": 86,
     "metadata": {
      "tags": []
     },
     "output_type": "execute_result"
    }
   ],
   "source": [
    "ordered_results"
   ]
  },
  {
   "cell_type": "code",
   "execution_count": null,
   "metadata": {
    "colab": {},
    "colab_type": "code",
    "id": "eqYb3-M6bmLC",
    "outputId": "823baa4d-3d24-4a43-a1ca-d2ac3a868fd0"
   },
   "outputs": [
    {
     "ename": "AttributeError",
     "evalue": "'dict' object has no attribute 'itertuple'",
     "output_type": "error",
     "traceback": [
      "\u001b[1;31m---------------------------------------------------------------------------\u001b[0m",
      "\u001b[1;31mAttributeError\u001b[0m                            Traceback (most recent call last)",
      "\u001b[1;32m<ipython-input-39-9ec7869ace96>\u001b[0m in \u001b[0;36m<module>\u001b[1;34m\u001b[0m\n\u001b[1;32m----> 1\u001b[1;33m \u001b[0mbest_test_error\u001b[0m\u001b[1;33m.\u001b[0m\u001b[0mitertuple\u001b[0m\u001b[1;33m(\u001b[0m\u001b[1;33m)\u001b[0m\u001b[1;33m\u001b[0m\u001b[1;33m\u001b[0m\u001b[0m\n\u001b[0m",
      "\u001b[1;31mAttributeError\u001b[0m: 'dict' object has no attribute 'itertuple'"
     ]
    }
   ],
   "source": [
    "best_test_error.itertuple()"
   ]
  },
  {
   "cell_type": "code",
   "execution_count": null,
   "metadata": {
    "colab": {},
    "colab_type": "code",
    "id": "MphTv4w6bmLH",
    "outputId": "bb28465e-66d8-4b62-a356-7ae4bc796b6f",
    "scrolled": true
   },
   "outputs": [
    {
     "data": {
      "text/plain": [
       "0.010177979352572957"
      ]
     },
     "execution_count": 32,
     "metadata": {
      "tags": []
     },
     "output_type": "execute_result"
    }
   ],
   "source": [
    "max(best_test_error.values())"
   ]
  },
  {
   "cell_type": "code",
   "execution_count": null,
   "metadata": {
    "colab": {},
    "colab_type": "code",
    "id": "BmJcB6JXbmLI"
   },
   "outputs": [],
   "source": [
    "# elements = [val for i, val in enumerate(ordered_results) if i < 20]\n",
    "count = 0\n",
    "with open('results.txt', 'w') as f:\n",
    "    while count < 20:\n",
    "        val = ordered_results[count]\n",
    "        f.write(str(val)[1:-1] + '\\n')\n",
    "        count +=1\n"
   ]
  },
  {
   "cell_type": "code",
   "execution_count": null,
   "metadata": {
    "colab": {},
    "colab_type": "code",
    "id": "GsrdF0ExcXbU"
   },
   "outputs": [],
   "source": [
    "k, a, beta, lambda_bias = 26, 0.001, 0.001, 1e-05\n",
    "mf = MF(train_df.values, K=k, alpha=a, beta=beta, iterations=300, lambda_bias=lambda_bias, test=test_df.values)\n",
    "training_process, test_process = mf.train()\n",
    "plt.plot(test_process)"
   ]
  },
  {
   "cell_type": "code",
   "execution_count": null,
   "metadata": {
    "colab": {
     "base_uri": "https://localhost:8080/",
     "height": 282
    },
    "colab_type": "code",
    "id": "4Mi2cGmId1Qt",
    "outputId": "7b006eb6-5262-4b27-d953-b6fec1feca03"
   },
   "outputs": [
    {
     "data": {
      "text/plain": [
       "[<matplotlib.lines.Line2D at 0x7f806fb0a0f0>]"
      ]
     },
     "execution_count": 20,
     "metadata": {
      "tags": []
     },
     "output_type": "execute_result"
    },
    {
     "data": {
      "image/png": "[encoded data removed]",
      "text/plain": [
       "<Figure size 432x288 with 1 Axes>"
      ]
     },
     "metadata": {
      "tags": []
     },
     "output_type": "display_data"
    }
   ],
   "source": [
    "plt.plot(test_process)"
   ]
  },
  {
   "cell_type": "code",
   "execution_count": null,
   "metadata": {
    "colab": {
     "base_uri": "https://localhost:8080/",
     "height": 34
    },
    "colab_type": "code",
    "id": "0pFoobYPd5os",
    "outputId": "bfec9eed-e398-46d0-9f18-73f6258178bb"
   },
   "outputs": [
    {
     "name": "stdout",
     "output_type": "stream",
     "text": [
      "0.0029242517667150227\n"
     ]
    }
   ],
   "source": [
    "print(min(test_process))"
   ]
  },
  {
   "cell_type": "code",
   "execution_count": null,
   "metadata": {
    "colab": {},
    "colab_type": "code",
    "id": "M2XRR06LbmLL"
   },
   "outputs": [],
   "source": [
    "# another MF method"
   ]
  },
  {
   "cell_type": "code",
   "execution_count": null,
   "metadata": {
    "colab": {},
    "colab_type": "code",
    "id": "QR_5FK70dP6Y"
   },
   "outputs": [],
   "source": []
  },
  {
   "cell_type": "code",
   "execution_count": null,
   "metadata": {
    "colab": {},
    "colab_type": "code",
    "id": "bFtQ1x6O2Gf7"
   },
   "outputs": [],
   "source": [
    "class ExplicitMF():\n",
    "    def __init__(self, \n",
    "                 ratings,\n",
    "                 n_factors=40,\n",
    "                 learning='sgd',\n",
    "                 item_fact_reg=0.1, \n",
    "                 user_fact_reg=0.1,\n",
    "                 item_bias_reg=0.1,\n",
    "                 user_bias_reg=0.1,\n",
    "                 verbose=False):\n",
    "        \"\"\"\n",
    "        Train a matrix factorization model to predict empty \n",
    "        entries in a matrix. The terminology assumes a \n",
    "        ratings matrix which is ~ user x item\n",
    "        \n",
    "        Params\n",
    "        ======\n",
    "        ratings : (ndarray)\n",
    "            User x Item matrix with corresponding ratings\n",
    "        \n",
    "        n_factors : (int)\n",
    "            Number of latent factors to use in matrix \n",
    "            factorization model\n",
    "        learning : (str)\n",
    "            Method of optimization. Options include \n",
    "            'sgd' or 'als'.\n",
    "        \n",
    "        item_fact_reg : (float)\n",
    "            Regularization term for item latent factors\n",
    "        \n",
    "        user_fact_reg : (float)\n",
    "            Regularization term for user latent factors\n",
    "            \n",
    "        item_bias_reg : (float)\n",
    "            Regularization term for item biases\n",
    "        \n",
    "        user_bias_reg : (float)\n",
    "            Regularization term for user biases\n",
    "        \n",
    "        verbose : (bool)\n",
    "            Whether or not to printout training progress\n",
    "        \"\"\"\n",
    "        \n",
    "        self.ratings = ratings\n",
    "        self.n_users, self.n_items = ratings.shape\n",
    "        self.n_factors = n_factors\n",
    "        self.item_fact_reg = item_fact_reg\n",
    "        self.user_fact_reg = user_fact_reg\n",
    "        self.item_bias_reg = item_bias_reg\n",
    "        self.user_bias_reg = user_bias_reg\n",
    "        self.learning = learning\n",
    "        if self.learning == 'sgd':\n",
    "            self.sample_row, self.sample_col = self.ratings.nonzero()\n",
    "            self.n_samples = len(self.sample_row)\n",
    "        self._v = verbose\n",
    "\n",
    "    def als_step(self,\n",
    "                 latent_vectors,\n",
    "                 fixed_vecs,\n",
    "                 ratings,\n",
    "                 _lambda,\n",
    "                 type='user'):\n",
    "        \"\"\"\n",
    "        One of the two ALS steps. Solve for the latent vectors\n",
    "        specified by type.\n",
    "        \"\"\"\n",
    "        if type == 'user':\n",
    "            # Precompute\n",
    "            YTY = fixed_vecs.T.dot(fixed_vecs)\n",
    "            lambdaI = np.eye(YTY.shape[0]) * _lambda\n",
    "\n",
    "            for u in range(latent_vectors.shape[0]):\n",
    "                latent_vectors[u, :] = solve((YTY + lambdaI), \n",
    "                                             ratings[u, :].dot(fixed_vecs))\n",
    "        elif type == 'item':\n",
    "            # Precompute\n",
    "            XTX = fixed_vecs.T.dot(fixed_vecs)\n",
    "            lambdaI = np.eye(XTX.shape[0]) * _lambda\n",
    "            \n",
    "            for i in range(latent_vectors.shape[0]):\n",
    "                latent_vectors[i, :] = solve((XTX + lambdaI), \n",
    "                                             ratings[:, i].T.dot(fixed_vecs))\n",
    "        return latent_vectors\n",
    "\n",
    "    def train(self, n_iter=10, learning_rate=0.01):\n",
    "        \"\"\" Train model for n_iter iterations from scratch.\"\"\"\n",
    "        # initialize latent vectors        \n",
    "        self.user_vecs = np.random.normal(scale=1./self.n_factors,\\\n",
    "                                          size=(self.n_users, self.n_factors))\n",
    "        self.item_vecs = np.random.normal(scale=1./self.n_factors,\n",
    "                                          size=(self.n_items, self.n_factors))\n",
    "        self.user_vecs_velocity = np.zeros((self.n_users, self.n_factors))\n",
    "        self.item_vecs_velocity = np.zeros((self.n_items, self.n_factors))\n",
    "\n",
    "        if self.learning == 'als':\n",
    "            self.partial_train(n_iter)\n",
    "        elif self.learning == 'sgd':\n",
    "            self.learning_rate = learning_rate\n",
    "            self.momentum = 0.9\n",
    "            self.user_bias = np.zeros(self.n_users)\n",
    "            self.item_bias = np.zeros(self.n_items)\n",
    "            self.user_bias_velocity = np.zeros(self.n_users)\n",
    "            self.item_bias_velocity = np.zeros(self.n_items)\n",
    "            self.global_bias = np.mean(self.ratings[np.where(self.ratings != 0)])\n",
    "            self.partial_train(n_iter)\n",
    "    \n",
    "    \n",
    "    def partial_train(self, n_iter):\n",
    "        \"\"\" \n",
    "        Train model for n_iter iterations. Can be \n",
    "        called multiple times for further training.\n",
    "        \"\"\"\n",
    "        ctr = 1\n",
    "        while ctr <= n_iter:\n",
    "            if ctr % 10 == 0 and self._v:\n",
    "                print ('\\tcurrent iteration: {}'.format(ctr))\n",
    "            if self.learning == 'als':\n",
    "                self.user_vecs = self.als_step(self.user_vecs, \n",
    "                                               self.item_vecs, \n",
    "                                               self.ratings, \n",
    "                                               self.user_fact_reg, \n",
    "                                               type='user')\n",
    "                self.item_vecs = self.als_step(self.item_vecs, \n",
    "                                               self.user_vecs, \n",
    "                                               self.ratings, \n",
    "                                               self.item_fact_reg, \n",
    "                                               type='item')\n",
    "            elif self.learning == 'sgd':\n",
    "                self.training_indices = np.arange(self.n_samples)\n",
    "                np.random.shuffle(self.training_indices)\n",
    "                self.sgd()\n",
    "            ctr += 1\n",
    "\n",
    "    def sgd(self):\n",
    "        for idx in self.training_indices:\n",
    "            u = self.sample_row[idx]\n",
    "            i = self.sample_col[idx]\n",
    "            prediction = self.predict(u, i)\n",
    "            e = (self.ratings[u,i] - prediction) # error\n",
    "            \n",
    "            # Update biases\n",
    "            self.user_bias_velocity[u] = self.momentum * self.user_bias_velocity[u] + \\\n",
    "                                        self.learning_rate * (e - self.user_bias_reg * self.user_bias[u])\n",
    "            self.user_bias[u] += self.user_bias_velocity[u]\n",
    "\n",
    "            self.item_bias_velocity[i] = self.momentum * self.item_bias_velocity[i] + \\\n",
    "                                        self.learning_rate * (e - self.item_bias_reg * self.item_bias[i])\n",
    "            self.item_bias[i] += self.item_bias_velocity[i]\n",
    "\n",
    "            # self.user_bias[u] += self.learning_rate * \\\n",
    "            #                     (e - self.user_bias_reg * self.user_bias[u])\n",
    "            # self.item_bias[i] += self.learning_rate * \\\n",
    "            #                     (e - self.item_bias_reg * self.item_bias[i])\n",
    "            \n",
    "            #Update latent factors\n",
    "            self.user_vecs_velocity[u, :] = self.momentum * self.user_vecs_velocity[u, :] + \\\n",
    "                                        self.learning_rate * \\\n",
    "                                        (e * self.item_vecs[i, :] - \\\n",
    "                                        self.user_fact_reg * self.user_vecs[u,:])\n",
    "            self.user_vecs[u, :] += self.user_vecs_velocity[u, :]\n",
    "\n",
    "            self.item_vecs_velocity[i, :] = self.momentum * self.item_vecs_velocity[i, :] + \\\n",
    "                                        self.learning_rate * \\\n",
    "                                        (e * self.user_vecs[u, :] - \\\n",
    "                                        self.item_fact_reg * self.item_vecs[i,:])\n",
    "            self.item_vecs[i :] += self.item_vecs_velocity[i, :]\n",
    "\n",
    "            # self.user_vecs[u, :] += self.learning_rate * \\\n",
    "            #                         (e * self.item_vecs[i, :] - \\\n",
    "            #                          self.user_fact_reg * self.user_vecs[u,:])\n",
    "            # self.item_vecs[i, :] += self.learning_rate * \\\n",
    "            #                         (e * self.user_vecs[u, :] - \\\n",
    "            #                          self.item_fact_reg * self.item_vecs[i,:])\n",
    "    def predict(self, u, i):\n",
    "        \"\"\" Single user and item prediction.\"\"\"\n",
    "        if self.learning == 'als':\n",
    "            return self.user_vecs[u, :].dot(self.item_vecs[i, :].T)\n",
    "        elif self.learning == 'sgd':\n",
    "            prediction = self.global_bias + self.user_bias[u] + self.item_bias[i]\n",
    "            prediction += self.user_vecs[u, :].dot(self.item_vecs[i, :].T)\n",
    "            return prediction\n",
    "    \n",
    "    def predict_all(self):\n",
    "        \"\"\" Predict ratings for every user and item.\"\"\"\n",
    "        predictions = np.zeros((self.user_vecs.shape[0], \n",
    "                                self.item_vecs.shape[0]))\n",
    "        for u in range(self.user_vecs.shape[0]):\n",
    "            for i in range(self.item_vecs.shape[0]):\n",
    "                predictions[u, i] = self.predict(u, i)\n",
    "                \n",
    "        return predictions\n",
    "    \n",
    "    def calculate_learning_curve(self, iter_array, test, learning_rate=0.01):\n",
    "        \"\"\"\n",
    "        Keep track of MSE as a function of training iterations.\n",
    "        \n",
    "        Params\n",
    "        ======\n",
    "        iter_array : (list)\n",
    "            List of numbers of iterations to train for each step of \n",
    "            the learning curve. e.g. [1, 5, 10, 20]\n",
    "        test : (2D ndarray)\n",
    "            Testing dataset (assumed to be user x item).\n",
    "        \n",
    "        The function creates two new class attributes:\n",
    "        \n",
    "        train_mse : (list)\n",
    "            Training data MSE values for each value of iter_array\n",
    "        test_mse : (list)\n",
    "            Test data MSE values for each value of iter_array\n",
    "        \"\"\"\n",
    "        iter_array.sort()\n",
    "        self.train_mse =[]\n",
    "        self.test_mse = []\n",
    "        iter_diff = 0\n",
    "        for (i, n_iter) in enumerate(iter_array):\n",
    "            if self._v:\n",
    "                print ('Iteration: {}'.format(n_iter))\n",
    "            if i == 0:\n",
    "                self.train(n_iter - iter_diff, learning_rate)\n",
    "            else:\n",
    "                self.partial_train(n_iter - iter_diff)\n",
    "\n",
    "            predictions = self.predict_all()\n",
    "\n",
    "            self.train_mse += [get_mse(predictions, self.ratings)]\n",
    "            self.test_mse += [get_mse(predictions, test)]\n",
    "            if self._v:\n",
    "                print ('Train mse: ' + str(self.train_mse[-1]))\n",
    "                print ('Test mse: ' + str(self.test_mse[-1]))\n",
    "            iter_diff = n_iter"
   ]
  },
  {
   "cell_type": "code",
   "execution_count": null,
   "metadata": {
    "colab": {},
    "colab_type": "code",
    "id": "E5ua3Jkaehe1"
   },
   "outputs": [],
   "source": [
    "%matplotlib inline\n",
    "import matplotlib.pyplot as plt\n",
    "import seaborn as sns\n",
    "sns.set()\n",
    "\n",
    "def plot_learning_curve(iter_array, model):\n",
    "    plt.plot(iter_array, model.train_mse, \\\n",
    "             label='Training', linewidth=5)\n",
    "    plt.plot(iter_array, model.test_mse, \\\n",
    "             label='Test', linewidth=5)\n",
    "\n",
    "\n",
    "    plt.xticks(fontsize=16);\n",
    "    plt.yticks(fontsize=16);\n",
    "    plt.xlabel('iterations', fontsize=30);\n",
    "    plt.ylabel('MSE', fontsize=30);\n",
    "    plt.legend(loc='best', fontsize=20);"
   ]
  },
  {
   "cell_type": "code",
   "execution_count": null,
   "metadata": {
    "colab": {},
    "colab_type": "code",
    "id": "1DFzGgi4dGcz"
   },
   "outputs": [],
   "source": [
    "from sklearn.metrics import mean_squared_error\n",
    "\n",
    "def get_mse(pred, actual):\n",
    "    # Ignore nonzero terms.\n",
    "    pred = pred[actual.nonzero()].flatten()\n",
    "    actual = actual[actual.nonzero()].flatten()\n",
    "    return mean_squared_error(pred, actual)"
   ]
  },
  {
   "cell_type": "code",
   "execution_count": null,
   "metadata": {
    "colab": {},
    "colab_type": "code",
    "id": "sc6kIHKtdJJm"
   },
   "outputs": [],
   "source": [
    "#MF_SGD = ExplicitMF(train, 40, learning='sgd', verbose=True)\n",
    "MF_SGD = ExplicitMF(train_df.values,\n",
    "                    n_factors=40,\n",
    "                    learning='sgd',\n",
    "                    \n",
    "                    item_fact_reg=0.1, \n",
    "                    user_fact_reg=0.1,\n",
    "                    item_bias_reg=0.1,\n",
    "                    user_bias_reg=0.1,\n",
    "                    verbose=True)\n",
    "iter_array = [1, 2, 5, 10, 25, 50, 100, 200,300]\n",
    "MF_SGD.calculate_learning_curve(iter_array, test_df.values, learning_rate=0.001)"
   ]
  },
  {
   "cell_type": "code",
   "execution_count": null,
   "metadata": {
    "colab": {
     "base_uri": "https://localhost:8080/",
     "height": 306
    },
    "colab_type": "code",
    "id": "LYDIYcRDdy3p",
    "outputId": "7102f6ae-d42a-4486-e904-81c80c24219e"
   },
   "outputs": [
    {
     "data": {
      "image/png": "[encoded data removed]",
      "text/plain": [
       "<Figure size 432x288 with 1 Axes>"
      ]
     },
     "metadata": {
      "tags": []
     },
     "output_type": "display_data"
    }
   ],
   "source": [
    "plot_learning_curve(iter_array, MF_SGD)"
   ]
  },
  {
   "cell_type": "code",
   "execution_count": null,
   "metadata": {
    "colab": {
     "base_uri": "https://localhost:8080/",
     "height": 34
    },
    "colab_type": "code",
    "id": "oXOSQ1PSeIJK",
    "outputId": "5d8cfcbc-8290-4d0d-9f55-7f902755187a"
   },
   "outputs": [
    {
     "data": {
      "text/plain": [
       "[1, 2, 5, 10, 25, 50, 100, 200]"
      ]
     },
     "execution_count": 27,
     "metadata": {
      "tags": []
     },
     "output_type": "execute_result"
    }
   ],
   "source": [
    "iter_array"
   ]
  },
  {
   "cell_type": "code",
   "execution_count": null,
   "metadata": {
    "colab": {
     "base_uri": "https://localhost:8080/",
     "height": 34
    },
    "colab_type": "code",
    "id": "E719bdBmeuFQ",
    "outputId": "3f7a08b4-a27c-42a6-bacd-fcd687cfa468"
   },
   "outputs": [
    {
     "data": {
      "text/plain": [
       "0.0029622236201189514"
      ]
     },
     "execution_count": 104,
     "metadata": {
      "tags": []
     },
     "output_type": "execute_result"
    }
   ],
   "source": [
    "get_mse(MF_SGD.predict_all(),test_df.values)"
   ]
  },
  {
   "cell_type": "code",
   "execution_count": null,
   "metadata": {
    "colab": {
     "base_uri": "https://localhost:8080/",
     "height": 34
    },
    "colab_type": "code",
    "id": "YJlOKVqXe6GX",
    "outputId": "8950986e-170c-4961-e603-9a581108defa"
   },
   "outputs": [
    {
     "data": {
      "text/plain": [
       "0.9229565643517352"
      ]
     },
     "execution_count": 105,
     "metadata": {
      "tags": []
     },
     "output_type": "execute_result"
    }
   ],
   "source": [
    "get_mse(mf.full_matrix(),test_df.values)"
   ]
  },
  {
   "cell_type": "code",
   "execution_count": null,
   "metadata": {
    "colab": {},
    "colab_type": "code",
    "id": "NSLwTla4fDeN"
   },
   "outputs": [],
   "source": [
    "# try to take log, train, then exponentiate back\n",
    "train_df_log = np.ma.log(train_df.values)\n",
    "train_df_log = train_df_log.filled(0)\n",
    "test_df_log = np.ma.log(test_df.values)\n",
    "test_df_log = test_df_log.filled(0)"
   ]
  },
  {
   "cell_type": "code",
   "execution_count": null,
   "metadata": {
    "colab": {
     "base_uri": "https://localhost:8080/",
     "height": 285
    },
    "colab_type": "code",
    "id": "8G_cVAVeh9Qv",
    "outputId": "19fbe1de-e85c-4ad8-c0bf-11ff4aa0157a"
   },
   "outputs": [
    {
     "data": {
      "text/plain": [
       "[<matplotlib.lines.Line2D at 0x7f8072712198>]"
      ]
     },
     "execution_count": 47,
     "metadata": {
      "tags": []
     },
     "output_type": "execute_result"
    },
    {
     "data": {
      "image/png": "[encoded data removed]",
      "text/plain": [
       "<Figure size 432x288 with 1 Axes>"
      ]
     },
     "metadata": {
      "tags": []
     },
     "output_type": "display_data"
    }
   ],
   "source": [
    "k, a, beta, lambda_bias = 26, 0.001, 0.001, 1e-05\n",
    "mf = MF(train_df_log, K=k, alpha=a, beta=beta, iterations=300, lambda_bias=lambda_bias, test=test_df_log)\n",
    "training_process, test_process = mf.train()\n",
    "plt.plot(test_process)"
   ]
  },
  {
   "cell_type": "code",
   "execution_count": null,
   "metadata": {
    "colab": {
     "base_uri": "https://localhost:8080/",
     "height": 34
    },
    "colab_type": "code",
    "id": "_yCf-izqh9E0",
    "outputId": "455735f2-5b55-4e0a-9e2b-0f93c8e99d65"
   },
   "outputs": [
    {
     "data": {
      "text/plain": [
       "0.005394185873743974"
      ]
     },
     "execution_count": 50,
     "metadata": {
      "tags": []
     },
     "output_type": "execute_result"
    }
   ],
   "source": [
    "get_mse(np.exp(mf.full_matrix()),test_df.values)"
   ]
  },
  {
   "cell_type": "code",
   "execution_count": null,
   "metadata": {
    "colab": {
     "base_uri": "https://localhost:8080/",
     "height": 232
    },
    "colab_type": "code",
    "id": "oH6dSMUVgbow",
    "outputId": "d5016d1b-63cf-4582-f87a-d90d18a3ed91"
   },
   "outputs": [
    {
     "ename": "TypeError",
     "evalue": "ignored",
     "output_type": "error",
     "traceback": [
      "\u001b[0;31m---------------------------------------------------------------------------\u001b[0m",
      "\u001b[0;31mTypeError\u001b[0m                                 Traceback (most recent call last)",
      "\u001b[0;32m<ipython-input-391-54fd680ee178>\u001b[0m in \u001b[0;36m<module>\u001b[0;34m()\u001b[0m\n\u001b[1;32m      6\u001b[0m                     \u001b[0mitem_bias_reg\u001b[0m\u001b[0;34m=\u001b[0m\u001b[0;36m0.1\u001b[0m\u001b[0;34m,\u001b[0m\u001b[0;34m\u001b[0m\u001b[0;34m\u001b[0m\u001b[0m\n\u001b[1;32m      7\u001b[0m                     \u001b[0muser_bias_reg\u001b[0m\u001b[0;34m=\u001b[0m\u001b[0;36m0.1\u001b[0m\u001b[0;34m,\u001b[0m\u001b[0;34m\u001b[0m\u001b[0;34m\u001b[0m\u001b[0m\n\u001b[0;32m----> 8\u001b[0;31m                     verbose=False)\n\u001b[0m\u001b[1;32m      9\u001b[0m \u001b[0miter_array\u001b[0m \u001b[0;34m=\u001b[0m \u001b[0;34m[\u001b[0m\u001b[0;36m1\u001b[0m\u001b[0;34m,\u001b[0m \u001b[0;36m2\u001b[0m\u001b[0;34m,\u001b[0m \u001b[0;36m5\u001b[0m\u001b[0;34m,\u001b[0m \u001b[0;36m10\u001b[0m\u001b[0;34m,\u001b[0m \u001b[0;36m25\u001b[0m\u001b[0;34m,\u001b[0m \u001b[0;36m50\u001b[0m\u001b[0;34m]\u001b[0m\u001b[0;34m\u001b[0m\u001b[0;34m\u001b[0m\u001b[0m\n\u001b[1;32m     10\u001b[0m \u001b[0mMF_SGD\u001b[0m\u001b[0;34m.\u001b[0m\u001b[0mcalculate_learning_curve\u001b[0m\u001b[0;34m(\u001b[0m\u001b[0miter_array\u001b[0m\u001b[0;34m,\u001b[0m \u001b[0mtest_df\u001b[0m\u001b[0;34m.\u001b[0m\u001b[0mvalues\u001b[0m\u001b[0;34m,\u001b[0m \u001b[0mlearning_rate\u001b[0m\u001b[0;34m=\u001b[0m\u001b[0;36m0.001\u001b[0m\u001b[0;34m)\u001b[0m\u001b[0;34m\u001b[0m\u001b[0;34m\u001b[0m\u001b[0m\n",
      "\u001b[0;31mTypeError\u001b[0m: __init__() got an unexpected keyword argument 'learning'"
     ]
    }
   ],
   "source": [
    "MF_SGD = ExplicitMF(train_df.values,\n",
    "                    n_factors=40,\n",
    "                    learning='sgd',\n",
    "                    item_fact_reg=0.1, \n",
    "                    user_fact_reg=0.1,\n",
    "                    item_bias_reg=0.1,\n",
    "                    user_bias_reg=0.1,\n",
    "                    verbose=False)\n",
    "iter_array = [1, 2, 5, 10, 25, 50]\n",
    "MF_SGD.calculate_learning_curve(iter_array, test_df.values, learning_rate=0.001)"
   ]
  },
  {
   "cell_type": "code",
   "execution_count": null,
   "metadata": {
    "colab": {
     "base_uri": "https://localhost:8080/",
     "height": 232
    },
    "colab_type": "code",
    "id": "zMLXDeOvV_e-",
    "outputId": "ca1dde91-c814-4a8d-f2eb-72d7890943f2"
   },
   "outputs": [
    {
     "ename": "TypeError",
     "evalue": "ignored",
     "output_type": "error",
     "traceback": [
      "\u001b[0;31m---------------------------------------------------------------------------\u001b[0m",
      "\u001b[0;31mTypeError\u001b[0m                                 Traceback (most recent call last)",
      "\u001b[0;32m<ipython-input-392-aa92309dfa90>\u001b[0m in \u001b[0;36m<module>\u001b[0;34m()\u001b[0m\n\u001b[1;32m      6\u001b[0m                     \u001b[0mitem_bias_reg\u001b[0m\u001b[0;34m=\u001b[0m\u001b[0;36m0.1\u001b[0m\u001b[0;34m,\u001b[0m\u001b[0;34m\u001b[0m\u001b[0;34m\u001b[0m\u001b[0m\n\u001b[1;32m      7\u001b[0m                     \u001b[0muser_bias_reg\u001b[0m\u001b[0;34m=\u001b[0m\u001b[0;36m0.1\u001b[0m\u001b[0;34m,\u001b[0m\u001b[0;34m\u001b[0m\u001b[0;34m\u001b[0m\u001b[0m\n\u001b[0;32m----> 8\u001b[0;31m                     verbose=True)\n\u001b[0m\u001b[1;32m      9\u001b[0m \u001b[0miter_array\u001b[0m \u001b[0;34m=\u001b[0m \u001b[0;34m[\u001b[0m\u001b[0;36m1\u001b[0m\u001b[0;34m,\u001b[0m \u001b[0;36m2\u001b[0m\u001b[0;34m,\u001b[0m \u001b[0;36m5\u001b[0m\u001b[0;34m,\u001b[0m \u001b[0;36m10\u001b[0m\u001b[0;34m,\u001b[0m \u001b[0;36m25\u001b[0m\u001b[0;34m,\u001b[0m \u001b[0;36m50\u001b[0m\u001b[0;34m]\u001b[0m\u001b[0;34m\u001b[0m\u001b[0;34m\u001b[0m\u001b[0m\n\u001b[1;32m     10\u001b[0m \u001b[0mMF_SGD\u001b[0m\u001b[0;34m.\u001b[0m\u001b[0mcalculate_learning_curve\u001b[0m\u001b[0;34m(\u001b[0m\u001b[0miter_array\u001b[0m\u001b[0;34m,\u001b[0m \u001b[0mtest\u001b[0m\u001b[0;34m,\u001b[0m \u001b[0mlearning_rate\u001b[0m\u001b[0;34m=\u001b[0m\u001b[0;36m0.001\u001b[0m\u001b[0;34m)\u001b[0m\u001b[0;34m\u001b[0m\u001b[0;34m\u001b[0m\u001b[0m\n",
      "\u001b[0;31mTypeError\u001b[0m: __init__() got an unexpected keyword argument 'learning'"
     ]
    }
   ],
   "source": [
    "MF_SGD = ExplicitMF(train,\n",
    "                    n_factors=40,\n",
    "                    learning='sgd',\n",
    "                    item_fact_reg=0.1, \n",
    "                    user_fact_reg=0.1,\n",
    "                    item_bias_reg=0.1,\n",
    "                    user_bias_reg=0.1,\n",
    "                    verbose=True)\n",
    "iter_array = [1, 2, 5, 10, 25, 50]\n",
    "MF_SGD.calculate_learning_curve(iter_array, test, learning_rate=0.001)"
   ]
  },
  {
   "cell_type": "code",
   "execution_count": null,
   "metadata": {
    "colab": {
     "base_uri": "https://localhost:8080/",
     "height": 34
    },
    "colab_type": "code",
    "id": "ohNJaeuAWMrZ",
    "outputId": "b0247317-3e6b-4e5f-c25e-1f92620f8f39"
   },
   "outputs": [
    {
     "data": {
      "text/plain": [
       "0.0015713252613188792"
      ]
     },
     "execution_count": 394,
     "metadata": {
      "tags": []
     },
     "output_type": "execute_result"
    }
   ],
   "source": [
    "get_mse(np.exp(MF_SGD.predict_all()),np.exp(test))"
   ]
  },
  {
   "cell_type": "code",
   "execution_count": null,
   "metadata": {
    "colab": {
     "base_uri": "https://localhost:8080/",
     "height": 306
    },
    "colab_type": "code",
    "id": "tM4-qwKdhgWC",
    "outputId": "dfdcdba6-d447-415b-9787-b45a0da8de3f"
   },
   "outputs": [
    {
     "data": {
      "image/png": "[encoded data removed]",
      "text/plain": [
       "<Figure size 432x288 with 1 Axes>"
      ]
     },
     "metadata": {
      "tags": []
     },
     "output_type": "display_data"
    }
   ],
   "source": [
    "plot_learning_curve(iter_array, MF_SGD)"
   ]
  },
  {
   "cell_type": "code",
   "execution_count": null,
   "metadata": {
    "colab": {
     "base_uri": "https://localhost:8080/",
     "height": 134
    },
    "colab_type": "code",
    "id": "BEokm4zw7taf",
    "outputId": "d45fe805-c359-4729-d524-43c330d42183"
   },
   "outputs": [
    {
     "name": "stderr",
     "output_type": "stream",
     "text": [
      "/usr/local/lib/python3.6/dist-packages/sklearn/externals/six.py:31: DeprecationWarning: The module is deprecated in version 0.21 and will be removed in version 0.23 since we've dropped support for Python 2.7. Please rely on the official version of six (https://pypi.org/project/six/).\n",
      "  \"(https://pypi.org/project/six/).\", DeprecationWarning)\n",
      "Using TensorFlow backend.\n"
     ]
    },
    {
     "data": {
      "text/html": [
       "<p style=\"color: red;\">\n",
       "The default version of TensorFlow in Colab will soon switch to TensorFlow 2.x.<br>\n",
       "We recommend you <a href=\"https://www.tensorflow.org/guide/migrate\" target=\"_blank\">upgrade</a> now \n",
       "or ensure your notebook will continue to use TensorFlow 1.x via the <code>%tensorflow_version 1.x</code> magic:\n",
       "<a href=\"https://colab.research.google.com/notebooks/tensorflow_version.ipynb\" target=\"_blank\">more info</a>.</p>\n"
      ],
      "text/plain": [
       "<IPython.core.display.HTML object>"
      ]
     },
     "metadata": {
      "tags": []
     },
     "output_type": "display_data"
    }
   ],
   "source": [
    "from fancyimpute import KNN, NuclearNormMinimization, SoftImpute, BiScaler"
   ]
  },
  {
   "cell_type": "code",
   "execution_count": null,
   "metadata": {
    "colab": {},
    "colab_type": "code",
    "id": "Cm_da4hY8Bcd"
   },
   "outputs": [],
   "source": [
    "X_incomplete = train_df.replace(0,np.nan)"
   ]
  },
  {
   "cell_type": "code",
   "execution_count": null,
   "metadata": {
    "colab": {},
    "colab_type": "code",
    "id": "BdUHcuTT-Znl"
   },
   "outputs": [],
   "source": [
    "X_incomplete_log = np.log(X_incomplete)"
   ]
  },
  {
   "cell_type": "code",
   "execution_count": null,
   "metadata": {
    "colab": {
     "base_uri": "https://localhost:8080/",
     "height": 596
    },
    "colab_type": "code",
    "id": "kN5FX2Ib8YVd",
    "outputId": "8c4dedde-5a1d-4eb9-81a6-7993c9b414ae"
   },
   "outputs": [
    {
     "name": "stdout",
     "output_type": "stream",
     "text": [
      "----------------------------------------------------------------------------\n",
      "\tSCS v2.1.1 - Splitting Conic Solver\n",
      "\t(c) Brendan O'Donoghue, Stanford University, 2012\n",
      "----------------------------------------------------------------------------\n",
      "Lin-sys: sparse-direct, nnz in A = 2085515\n",
      "eps = 1.00e-04, alpha = 1.50, max_iters = 50000, normalize = 1, scale = 1.00\n",
      "acceleration_lookback = 10, rho_x = 1.00e-03\n",
      "Variables n = 1181761, constraints m = 1770017\n",
      "Cones:\tprimal zero / dual free vars: 294128\n",
      "\tlinear vars: 882384\n",
      "\tsd vars: 593505, sd blks: 1\n",
      "Setup time: 2.81e+00s\n",
      "----------------------------------------------------------------------------\n",
      " Iter | pri res | dua res | rel gap | pri obj | dua obj | kap/tau | time (s)\n",
      "----------------------------------------------------------------------------\n",
      "     0| 1.41e+22  1.47e+22  1.00e+00 -2.34e+25  5.72e+24  7.53e+24  2.36e+00 \n",
      "Failure:Interrupted\n"
     ]
    },
    {
     "ename": "SolverError",
     "evalue": "ignored",
     "output_type": "error",
     "traceback": [
      "\u001b[0;31m---------------------------------------------------------------------------\u001b[0m",
      "\u001b[0;31mSolverError\u001b[0m                               Traceback (most recent call last)",
      "\u001b[0;32m<ipython-input-129-f0cacc1193f3>\u001b[0m in \u001b[0;36m<module>\u001b[0;34m()\u001b[0m\n\u001b[0;32m----> 1\u001b[0;31m \u001b[0mX_filled_nnm\u001b[0m \u001b[0;34m=\u001b[0m \u001b[0mNuclearNormMinimization\u001b[0m\u001b[0;34m(\u001b[0m\u001b[0;34m)\u001b[0m\u001b[0;34m.\u001b[0m\u001b[0mfit_transform\u001b[0m\u001b[0;34m(\u001b[0m\u001b[0mX_incomplete\u001b[0m\u001b[0;34m.\u001b[0m\u001b[0mvalues\u001b[0m\u001b[0;34m)\u001b[0m\u001b[0;34m\u001b[0m\u001b[0;34m\u001b[0m\u001b[0m\n\u001b[0m",
      "\u001b[0;32m/usr/local/lib/python3.6/dist-packages/fancyimpute/solver.py\u001b[0m in \u001b[0;36mfit_transform\u001b[0;34m(self, X, y)\u001b[0m\n\u001b[1;32m    187\u001b[0m                     type(X_filled)))\n\u001b[1;32m    188\u001b[0m \u001b[0;34m\u001b[0m\u001b[0m\n\u001b[0;32m--> 189\u001b[0;31m         \u001b[0mX_result\u001b[0m \u001b[0;34m=\u001b[0m \u001b[0mself\u001b[0m\u001b[0;34m.\u001b[0m\u001b[0msolve\u001b[0m\u001b[0;34m(\u001b[0m\u001b[0mX_filled\u001b[0m\u001b[0;34m,\u001b[0m \u001b[0mmissing_mask\u001b[0m\u001b[0;34m)\u001b[0m\u001b[0;34m\u001b[0m\u001b[0;34m\u001b[0m\u001b[0m\n\u001b[0m\u001b[1;32m    190\u001b[0m         \u001b[0;32mif\u001b[0m \u001b[0;32mnot\u001b[0m \u001b[0misinstance\u001b[0m\u001b[0;34m(\u001b[0m\u001b[0mX_result\u001b[0m\u001b[0;34m,\u001b[0m \u001b[0mnp\u001b[0m\u001b[0;34m.\u001b[0m\u001b[0mndarray\u001b[0m\u001b[0;34m)\u001b[0m\u001b[0;34m:\u001b[0m\u001b[0;34m\u001b[0m\u001b[0;34m\u001b[0m\u001b[0m\n\u001b[1;32m    191\u001b[0m             raise TypeError(\n",
      "\u001b[0;32m/usr/local/lib/python3.6/dist-packages/fancyimpute/nuclear_norm_minimization.py\u001b[0m in \u001b[0;36msolve\u001b[0;34m(self, X, missing_mask)\u001b[0m\n\u001b[1;32m    127\u001b[0m             \u001b[0mmax_iters\u001b[0m\u001b[0;34m=\u001b[0m\u001b[0mself\u001b[0m\u001b[0;34m.\u001b[0m\u001b[0mmax_iters\u001b[0m\u001b[0;34m,\u001b[0m\u001b[0;34m\u001b[0m\u001b[0;34m\u001b[0m\u001b[0m\n\u001b[1;32m    128\u001b[0m             \u001b[0;31m# use_indirect, see: https://github.com/cvxgrp/cvxpy/issues/547\u001b[0m\u001b[0;34m\u001b[0m\u001b[0;34m\u001b[0m\u001b[0;34m\u001b[0m\u001b[0m\n\u001b[0;32m--> 129\u001b[0;31m             use_indirect=False)\n\u001b[0m\u001b[1;32m    130\u001b[0m         \u001b[0;32mreturn\u001b[0m \u001b[0mS\u001b[0m\u001b[0;34m.\u001b[0m\u001b[0mvalue\u001b[0m\u001b[0;34m\u001b[0m\u001b[0;34m\u001b[0m\u001b[0m\n",
      "\u001b[0;32m/usr/local/lib/python3.6/dist-packages/cvxpy/problems/problem.py\u001b[0m in \u001b[0;36msolve\u001b[0;34m(self, *args, **kwargs)\u001b[0m\n\u001b[1;32m    287\u001b[0m         \u001b[0;32melse\u001b[0m\u001b[0;34m:\u001b[0m\u001b[0;34m\u001b[0m\u001b[0;34m\u001b[0m\u001b[0m\n\u001b[1;32m    288\u001b[0m             \u001b[0msolve_func\u001b[0m \u001b[0;34m=\u001b[0m \u001b[0mProblem\u001b[0m\u001b[0;34m.\u001b[0m\u001b[0m_solve\u001b[0m\u001b[0;34m\u001b[0m\u001b[0;34m\u001b[0m\u001b[0m\n\u001b[0;32m--> 289\u001b[0;31m         \u001b[0;32mreturn\u001b[0m \u001b[0msolve_func\u001b[0m\u001b[0;34m(\u001b[0m\u001b[0mself\u001b[0m\u001b[0;34m,\u001b[0m \u001b[0;34m*\u001b[0m\u001b[0margs\u001b[0m\u001b[0;34m,\u001b[0m \u001b[0;34m**\u001b[0m\u001b[0mkwargs\u001b[0m\u001b[0;34m)\u001b[0m\u001b[0;34m\u001b[0m\u001b[0;34m\u001b[0m\u001b[0m\n\u001b[0m\u001b[1;32m    290\u001b[0m \u001b[0;34m\u001b[0m\u001b[0m\n\u001b[1;32m    291\u001b[0m     \u001b[0;34m@\u001b[0m\u001b[0mclassmethod\u001b[0m\u001b[0;34m\u001b[0m\u001b[0;34m\u001b[0m\u001b[0m\n",
      "\u001b[0;32m/usr/local/lib/python3.6/dist-packages/cvxpy/problems/problem.py\u001b[0m in \u001b[0;36m_solve\u001b[0;34m(self, solver, warm_start, verbose, parallel, gp, qcp, **kwargs)\u001b[0m\n\u001b[1;32m    572\u001b[0m         \u001b[0mfull_chain\u001b[0m \u001b[0;34m=\u001b[0m \u001b[0mself\u001b[0m\u001b[0;34m.\u001b[0m\u001b[0m_solving_chain\u001b[0m\u001b[0;34m.\u001b[0m\u001b[0mprepend\u001b[0m\u001b[0;34m(\u001b[0m\u001b[0mself\u001b[0m\u001b[0;34m.\u001b[0m\u001b[0m_intermediate_chain\u001b[0m\u001b[0;34m)\u001b[0m\u001b[0;34m\u001b[0m\u001b[0;34m\u001b[0m\u001b[0m\n\u001b[1;32m    573\u001b[0m         \u001b[0minverse_data\u001b[0m \u001b[0;34m=\u001b[0m \u001b[0mself\u001b[0m\u001b[0;34m.\u001b[0m\u001b[0m_intermediate_inverse_data\u001b[0m \u001b[0;34m+\u001b[0m \u001b[0msolving_inverse_data\u001b[0m\u001b[0;34m\u001b[0m\u001b[0;34m\u001b[0m\u001b[0m\n\u001b[0;32m--> 574\u001b[0;31m         \u001b[0mself\u001b[0m\u001b[0;34m.\u001b[0m\u001b[0munpack_results\u001b[0m\u001b[0;34m(\u001b[0m\u001b[0msolution\u001b[0m\u001b[0;34m,\u001b[0m \u001b[0mfull_chain\u001b[0m\u001b[0;34m,\u001b[0m \u001b[0minverse_data\u001b[0m\u001b[0;34m)\u001b[0m\u001b[0;34m\u001b[0m\u001b[0;34m\u001b[0m\u001b[0m\n\u001b[0m\u001b[1;32m    575\u001b[0m         \u001b[0;32mreturn\u001b[0m \u001b[0mself\u001b[0m\u001b[0;34m.\u001b[0m\u001b[0mvalue\u001b[0m\u001b[0;34m\u001b[0m\u001b[0;34m\u001b[0m\u001b[0m\n\u001b[1;32m    576\u001b[0m \u001b[0;34m\u001b[0m\u001b[0m\n",
      "\u001b[0;32m/usr/local/lib/python3.6/dist-packages/cvxpy/problems/problem.py\u001b[0m in \u001b[0;36munpack_results\u001b[0;34m(self, solution, chain, inverse_data)\u001b[0m\n\u001b[1;32m    715\u001b[0m             raise error.SolverError(\n\u001b[1;32m    716\u001b[0m                     \u001b[0;34m\"Solver '%s' failed. \"\u001b[0m \u001b[0;34m%\u001b[0m \u001b[0mchain\u001b[0m\u001b[0;34m.\u001b[0m\u001b[0msolver\u001b[0m\u001b[0;34m.\u001b[0m\u001b[0mname\u001b[0m\u001b[0;34m(\u001b[0m\u001b[0;34m)\u001b[0m \u001b[0;34m+\u001b[0m\u001b[0;34m\u001b[0m\u001b[0;34m\u001b[0m\u001b[0m\n\u001b[0;32m--> 717\u001b[0;31m                     \u001b[0;34m\"Try another solver, or solve with verbose=True for more \"\u001b[0m\u001b[0;34m\u001b[0m\u001b[0;34m\u001b[0m\u001b[0m\n\u001b[0m\u001b[1;32m    718\u001b[0m                     \"information.\")\n\u001b[1;32m    719\u001b[0m         \u001b[0mself\u001b[0m\u001b[0;34m.\u001b[0m\u001b[0munpack\u001b[0m\u001b[0;34m(\u001b[0m\u001b[0msolution\u001b[0m\u001b[0;34m)\u001b[0m\u001b[0;34m\u001b[0m\u001b[0;34m\u001b[0m\u001b[0m\n",
      "\u001b[0;31mSolverError\u001b[0m: Solver 'SCS' failed. Try another solver, or solve with verbose=True for more information."
     ]
    }
   ],
   "source": [
    "X_filled_nnm = NuclearNormMinimization().fit_transform(X_incomplete.values)"
   ]
  },
  {
   "cell_type": "code",
   "execution_count": null,
   "metadata": {
    "colab": {},
    "colab_type": "code",
    "id": "n5AGclE_BNzj"
   },
   "outputs": [],
   "source": [
    "null_mat = X_incomplete_log.isnull().values"
   ]
  },
  {
   "cell_type": "code",
   "execution_count": null,
   "metadata": {
    "colab": {
     "base_uri": "https://localhost:8080/",
     "height": 34
    },
    "colab_type": "code",
    "id": "BrOwsBfNCgXi",
    "outputId": "078cd9a2-4f7e-4645-e49a-6fc941b4cd1b"
   },
   "outputs": [
    {
     "data": {
      "text/plain": [
       "483"
      ]
     },
     "execution_count": 179,
     "metadata": {
      "tags": []
     },
     "output_type": "execute_result"
    }
   ],
   "source": [
    "null_mat[0,:].sum()"
   ]
  },
  {
   "cell_type": "code",
   "execution_count": null,
   "metadata": {
    "colab": {
     "base_uri": "https://localhost:8080/",
     "height": 34
    },
    "colab_type": "code",
    "id": "z6tAQ-AQClOG",
    "outputId": "a007d505-515d-4b21-ff8e-81a88e79a033"
   },
   "outputs": [
    {
     "data": {
      "text/plain": [
       "(593, 496)"
      ]
     },
     "execution_count": 180,
     "metadata": {
      "tags": []
     },
     "output_type": "execute_result"
    }
   ],
   "source": [
    "null_mat.shape"
   ]
  },
  {
   "cell_type": "code",
   "execution_count": null,
   "metadata": {
    "colab": {},
    "colab_type": "code",
    "id": "UhMB0R7dC19J"
   },
   "outputs": [],
   "source": [
    "X_incomplete = train_df.copy()"
   ]
  },
  {
   "cell_type": "code",
   "execution_count": null,
   "metadata": {
    "colab": {
     "base_uri": "https://localhost:8080/",
     "height": 68
    },
    "colab_type": "code",
    "id": "t0iddVhx_KnJ",
    "outputId": "878a47d6-1826-4902-fb46-214a05ed5f44"
   },
   "outputs": [
    {
     "name": "stdout",
     "output_type": "stream",
     "text": [
      "zero row\n",
      "zero row\n",
      "zero row\n"
     ]
    }
   ],
   "source": [
    "for i in range(len(null_mat)):\n",
    "    #print(train_df_log[i,0])\n",
    "    if null_mat[i,:].sum() == 496:\n",
    "        print(\"zero row\")\n",
    "        idx = np.random.choice(495)\n",
    "        X_incomplete.iloc[i,idx] = 0.01"
   ]
  },
  {
   "cell_type": "code",
   "execution_count": null,
   "metadata": {
    "colab": {},
    "colab_type": "code",
    "id": "BnYT0epoAU7d"
   },
   "outputs": [],
   "source": [
    "X_incomplete.replace(0, np.nan, inplace= True)"
   ]
  },
  {
   "cell_type": "code",
   "execution_count": null,
   "metadata": {
    "colab": {
     "base_uri": "https://localhost:8080/",
     "height": 470
    },
    "colab_type": "code",
    "id": "vyj2oWg3Dof_",
    "outputId": "19cf4c30-7f09-4d73-aa36-5d81db3da498"
   },
   "outputs": [
    {
     "data": {
      "text/html": [
       "<div>\n",
       "<style scoped>\n",
       "    .dataframe tbody tr th:only-of-type {\n",
       "        vertical-align: middle;\n",
       "    }\n",
       "\n",
       "    .dataframe tbody tr th {\n",
       "        vertical-align: top;\n",
       "    }\n",
       "\n",
       "    .dataframe thead th {\n",
       "        text-align: right;\n",
       "    }\n",
       "</style>\n",
       "<table border=\"1\" class=\"dataframe\">\n",
       "  <thead>\n",
       "    <tr style=\"text-align: right;\">\n",
       "      <th>TESTER</th>\n",
       "      <th>Tester_1345</th>\n",
       "      <th>Tester_1349</th>\n",
       "      <th>Tester_1397</th>\n",
       "      <th>Tester_2636</th>\n",
       "      <th>Tester_2652</th>\n",
       "      <th>Tester_2683</th>\n",
       "      <th>Tester_2689</th>\n",
       "      <th>Tester_2690</th>\n",
       "      <th>Tester_2721</th>\n",
       "      <th>Tester_2724</th>\n",
       "      <th>Tester_2736</th>\n",
       "      <th>Tester_2747</th>\n",
       "      <th>Tester_2773</th>\n",
       "      <th>Tester_3404</th>\n",
       "      <th>Tester_3440</th>\n",
       "      <th>Tester_3484</th>\n",
       "      <th>Tester_3485</th>\n",
       "      <th>Tester_3504</th>\n",
       "      <th>Tester_3507</th>\n",
       "      <th>Tester_3521</th>\n",
       "      <th>Tester_3565</th>\n",
       "      <th>Tester_3567</th>\n",
       "      <th>Tester_3573</th>\n",
       "      <th>Tester_3577</th>\n",
       "      <th>Tester_3582</th>\n",
       "      <th>Tester_3791</th>\n",
       "      <th>Tester_3796</th>\n",
       "      <th>Tester_4025</th>\n",
       "      <th>Tester_4048</th>\n",
       "      <th>Tester_4051</th>\n",
       "      <th>Tester_4059</th>\n",
       "      <th>Tester_4062</th>\n",
       "      <th>Tester_4063</th>\n",
       "      <th>Tester_4065</th>\n",
       "      <th>Tester_4067</th>\n",
       "      <th>Tester_4072</th>\n",
       "      <th>Tester_4082</th>\n",
       "      <th>Tester_4083</th>\n",
       "      <th>Tester_4097</th>\n",
       "      <th>Tester_4099</th>\n",
       "      <th>...</th>\n",
       "      <th>Tester_8038</th>\n",
       "      <th>Tester_8042</th>\n",
       "      <th>Tester_8043</th>\n",
       "      <th>Tester_8044</th>\n",
       "      <th>Tester_8046</th>\n",
       "      <th>Tester_8047</th>\n",
       "      <th>Tester_8050</th>\n",
       "      <th>Tester_8051</th>\n",
       "      <th>Tester_8052</th>\n",
       "      <th>Tester_8053</th>\n",
       "      <th>Tester_8055</th>\n",
       "      <th>Tester_8057</th>\n",
       "      <th>Tester_8059</th>\n",
       "      <th>Tester_8060</th>\n",
       "      <th>Tester_8063</th>\n",
       "      <th>Tester_8064</th>\n",
       "      <th>Tester_8070</th>\n",
       "      <th>Tester_8075</th>\n",
       "      <th>Tester_8078</th>\n",
       "      <th>Tester_8080</th>\n",
       "      <th>Tester_8084</th>\n",
       "      <th>Tester_813</th>\n",
       "      <th>Tester_8159</th>\n",
       "      <th>Tester_819</th>\n",
       "      <th>Tester_8198</th>\n",
       "      <th>Tester_8199</th>\n",
       "      <th>Tester_8202</th>\n",
       "      <th>Tester_8204</th>\n",
       "      <th>Tester_8205</th>\n",
       "      <th>Tester_8208</th>\n",
       "      <th>Tester_821</th>\n",
       "      <th>Tester_8218</th>\n",
       "      <th>Tester_8246</th>\n",
       "      <th>Tester_8248</th>\n",
       "      <th>Tester_8249</th>\n",
       "      <th>Tester_8250</th>\n",
       "      <th>Tester_8253</th>\n",
       "      <th>Tester_8254</th>\n",
       "      <th>Tester_828</th>\n",
       "      <th>Tester_829</th>\n",
       "    </tr>\n",
       "    <tr>\n",
       "      <th>INBRED</th>\n",
       "      <th></th>\n",
       "      <th></th>\n",
       "      <th></th>\n",
       "      <th></th>\n",
       "      <th></th>\n",
       "      <th></th>\n",
       "      <th></th>\n",
       "      <th></th>\n",
       "      <th></th>\n",
       "      <th></th>\n",
       "      <th></th>\n",
       "      <th></th>\n",
       "      <th></th>\n",
       "      <th></th>\n",
       "      <th></th>\n",
       "      <th></th>\n",
       "      <th></th>\n",
       "      <th></th>\n",
       "      <th></th>\n",
       "      <th></th>\n",
       "      <th></th>\n",
       "      <th></th>\n",
       "      <th></th>\n",
       "      <th></th>\n",
       "      <th></th>\n",
       "      <th></th>\n",
       "      <th></th>\n",
       "      <th></th>\n",
       "      <th></th>\n",
       "      <th></th>\n",
       "      <th></th>\n",
       "      <th></th>\n",
       "      <th></th>\n",
       "      <th></th>\n",
       "      <th></th>\n",
       "      <th></th>\n",
       "      <th></th>\n",
       "      <th></th>\n",
       "      <th></th>\n",
       "      <th></th>\n",
       "      <th></th>\n",
       "      <th></th>\n",
       "      <th></th>\n",
       "      <th></th>\n",
       "      <th></th>\n",
       "      <th></th>\n",
       "      <th></th>\n",
       "      <th></th>\n",
       "      <th></th>\n",
       "      <th></th>\n",
       "      <th></th>\n",
       "      <th></th>\n",
       "      <th></th>\n",
       "      <th></th>\n",
       "      <th></th>\n",
       "      <th></th>\n",
       "      <th></th>\n",
       "      <th></th>\n",
       "      <th></th>\n",
       "      <th></th>\n",
       "      <th></th>\n",
       "      <th></th>\n",
       "      <th></th>\n",
       "      <th></th>\n",
       "      <th></th>\n",
       "      <th></th>\n",
       "      <th></th>\n",
       "      <th></th>\n",
       "      <th></th>\n",
       "      <th></th>\n",
       "      <th></th>\n",
       "      <th></th>\n",
       "      <th></th>\n",
       "      <th></th>\n",
       "      <th></th>\n",
       "      <th></th>\n",
       "      <th></th>\n",
       "      <th></th>\n",
       "      <th></th>\n",
       "      <th></th>\n",
       "      <th></th>\n",
       "    </tr>\n",
       "  </thead>\n",
       "  <tbody>\n",
       "    <tr>\n",
       "      <th>Inbred_1071</th>\n",
       "      <td>-0.013548</td>\n",
       "      <td>NaN</td>\n",
       "      <td>NaN</td>\n",
       "      <td>NaN</td>\n",
       "      <td>NaN</td>\n",
       "      <td>NaN</td>\n",
       "      <td>NaN</td>\n",
       "      <td>NaN</td>\n",
       "      <td>NaN</td>\n",
       "      <td>NaN</td>\n",
       "      <td>NaN</td>\n",
       "      <td>NaN</td>\n",
       "      <td>NaN</td>\n",
       "      <td>NaN</td>\n",
       "      <td>NaN</td>\n",
       "      <td>NaN</td>\n",
       "      <td>NaN</td>\n",
       "      <td>NaN</td>\n",
       "      <td>NaN</td>\n",
       "      <td>NaN</td>\n",
       "      <td>NaN</td>\n",
       "      <td>NaN</td>\n",
       "      <td>NaN</td>\n",
       "      <td>NaN</td>\n",
       "      <td>NaN</td>\n",
       "      <td>NaN</td>\n",
       "      <td>NaN</td>\n",
       "      <td>NaN</td>\n",
       "      <td>NaN</td>\n",
       "      <td>NaN</td>\n",
       "      <td>NaN</td>\n",
       "      <td>NaN</td>\n",
       "      <td>NaN</td>\n",
       "      <td>NaN</td>\n",
       "      <td>NaN</td>\n",
       "      <td>NaN</td>\n",
       "      <td>NaN</td>\n",
       "      <td>NaN</td>\n",
       "      <td>NaN</td>\n",
       "      <td>NaN</td>\n",
       "      <td>...</td>\n",
       "      <td>NaN</td>\n",
       "      <td>NaN</td>\n",
       "      <td>NaN</td>\n",
       "      <td>NaN</td>\n",
       "      <td>NaN</td>\n",
       "      <td>NaN</td>\n",
       "      <td>NaN</td>\n",
       "      <td>NaN</td>\n",
       "      <td>NaN</td>\n",
       "      <td>NaN</td>\n",
       "      <td>NaN</td>\n",
       "      <td>NaN</td>\n",
       "      <td>NaN</td>\n",
       "      <td>NaN</td>\n",
       "      <td>NaN</td>\n",
       "      <td>NaN</td>\n",
       "      <td>NaN</td>\n",
       "      <td>NaN</td>\n",
       "      <td>NaN</td>\n",
       "      <td>NaN</td>\n",
       "      <td>NaN</td>\n",
       "      <td>NaN</td>\n",
       "      <td>NaN</td>\n",
       "      <td>NaN</td>\n",
       "      <td>NaN</td>\n",
       "      <td>NaN</td>\n",
       "      <td>NaN</td>\n",
       "      <td>NaN</td>\n",
       "      <td>NaN</td>\n",
       "      <td>NaN</td>\n",
       "      <td>NaN</td>\n",
       "      <td>NaN</td>\n",
       "      <td>NaN</td>\n",
       "      <td>NaN</td>\n",
       "      <td>NaN</td>\n",
       "      <td>NaN</td>\n",
       "      <td>NaN</td>\n",
       "      <td>NaN</td>\n",
       "      <td>NaN</td>\n",
       "      <td>NaN</td>\n",
       "    </tr>\n",
       "    <tr>\n",
       "      <th>Inbred_122</th>\n",
       "      <td>NaN</td>\n",
       "      <td>NaN</td>\n",
       "      <td>NaN</td>\n",
       "      <td>NaN</td>\n",
       "      <td>NaN</td>\n",
       "      <td>NaN</td>\n",
       "      <td>NaN</td>\n",
       "      <td>NaN</td>\n",
       "      <td>NaN</td>\n",
       "      <td>NaN</td>\n",
       "      <td>NaN</td>\n",
       "      <td>NaN</td>\n",
       "      <td>NaN</td>\n",
       "      <td>NaN</td>\n",
       "      <td>NaN</td>\n",
       "      <td>NaN</td>\n",
       "      <td>NaN</td>\n",
       "      <td>NaN</td>\n",
       "      <td>NaN</td>\n",
       "      <td>NaN</td>\n",
       "      <td>NaN</td>\n",
       "      <td>NaN</td>\n",
       "      <td>NaN</td>\n",
       "      <td>NaN</td>\n",
       "      <td>NaN</td>\n",
       "      <td>NaN</td>\n",
       "      <td>-0.010212</td>\n",
       "      <td>NaN</td>\n",
       "      <td>NaN</td>\n",
       "      <td>NaN</td>\n",
       "      <td>NaN</td>\n",
       "      <td>NaN</td>\n",
       "      <td>NaN</td>\n",
       "      <td>NaN</td>\n",
       "      <td>NaN</td>\n",
       "      <td>NaN</td>\n",
       "      <td>NaN</td>\n",
       "      <td>NaN</td>\n",
       "      <td>NaN</td>\n",
       "      <td>NaN</td>\n",
       "      <td>...</td>\n",
       "      <td>NaN</td>\n",
       "      <td>NaN</td>\n",
       "      <td>NaN</td>\n",
       "      <td>NaN</td>\n",
       "      <td>NaN</td>\n",
       "      <td>NaN</td>\n",
       "      <td>NaN</td>\n",
       "      <td>NaN</td>\n",
       "      <td>NaN</td>\n",
       "      <td>NaN</td>\n",
       "      <td>NaN</td>\n",
       "      <td>NaN</td>\n",
       "      <td>NaN</td>\n",
       "      <td>NaN</td>\n",
       "      <td>NaN</td>\n",
       "      <td>NaN</td>\n",
       "      <td>NaN</td>\n",
       "      <td>NaN</td>\n",
       "      <td>NaN</td>\n",
       "      <td>NaN</td>\n",
       "      <td>NaN</td>\n",
       "      <td>NaN</td>\n",
       "      <td>NaN</td>\n",
       "      <td>NaN</td>\n",
       "      <td>NaN</td>\n",
       "      <td>NaN</td>\n",
       "      <td>NaN</td>\n",
       "      <td>NaN</td>\n",
       "      <td>NaN</td>\n",
       "      <td>NaN</td>\n",
       "      <td>0.081206</td>\n",
       "      <td>NaN</td>\n",
       "      <td>NaN</td>\n",
       "      <td>NaN</td>\n",
       "      <td>NaN</td>\n",
       "      <td>NaN</td>\n",
       "      <td>NaN</td>\n",
       "      <td>NaN</td>\n",
       "      <td>NaN</td>\n",
       "      <td>NaN</td>\n",
       "    </tr>\n",
       "    <tr>\n",
       "      <th>Inbred_1337</th>\n",
       "      <td>NaN</td>\n",
       "      <td>NaN</td>\n",
       "      <td>NaN</td>\n",
       "      <td>NaN</td>\n",
       "      <td>NaN</td>\n",
       "      <td>NaN</td>\n",
       "      <td>NaN</td>\n",
       "      <td>NaN</td>\n",
       "      <td>-0.10074</td>\n",
       "      <td>-0.096541</td>\n",
       "      <td>NaN</td>\n",
       "      <td>NaN</td>\n",
       "      <td>NaN</td>\n",
       "      <td>NaN</td>\n",
       "      <td>NaN</td>\n",
       "      <td>NaN</td>\n",
       "      <td>NaN</td>\n",
       "      <td>NaN</td>\n",
       "      <td>NaN</td>\n",
       "      <td>NaN</td>\n",
       "      <td>NaN</td>\n",
       "      <td>NaN</td>\n",
       "      <td>NaN</td>\n",
       "      <td>NaN</td>\n",
       "      <td>NaN</td>\n",
       "      <td>NaN</td>\n",
       "      <td>NaN</td>\n",
       "      <td>NaN</td>\n",
       "      <td>NaN</td>\n",
       "      <td>NaN</td>\n",
       "      <td>NaN</td>\n",
       "      <td>NaN</td>\n",
       "      <td>NaN</td>\n",
       "      <td>NaN</td>\n",
       "      <td>NaN</td>\n",
       "      <td>NaN</td>\n",
       "      <td>NaN</td>\n",
       "      <td>NaN</td>\n",
       "      <td>NaN</td>\n",
       "      <td>NaN</td>\n",
       "      <td>...</td>\n",
       "      <td>NaN</td>\n",
       "      <td>NaN</td>\n",
       "      <td>NaN</td>\n",
       "      <td>NaN</td>\n",
       "      <td>NaN</td>\n",
       "      <td>NaN</td>\n",
       "      <td>NaN</td>\n",
       "      <td>NaN</td>\n",
       "      <td>NaN</td>\n",
       "      <td>NaN</td>\n",
       "      <td>NaN</td>\n",
       "      <td>NaN</td>\n",
       "      <td>NaN</td>\n",
       "      <td>NaN</td>\n",
       "      <td>NaN</td>\n",
       "      <td>NaN</td>\n",
       "      <td>NaN</td>\n",
       "      <td>NaN</td>\n",
       "      <td>NaN</td>\n",
       "      <td>NaN</td>\n",
       "      <td>NaN</td>\n",
       "      <td>NaN</td>\n",
       "      <td>NaN</td>\n",
       "      <td>NaN</td>\n",
       "      <td>NaN</td>\n",
       "      <td>NaN</td>\n",
       "      <td>NaN</td>\n",
       "      <td>NaN</td>\n",
       "      <td>NaN</td>\n",
       "      <td>NaN</td>\n",
       "      <td>NaN</td>\n",
       "      <td>NaN</td>\n",
       "      <td>NaN</td>\n",
       "      <td>NaN</td>\n",
       "      <td>NaN</td>\n",
       "      <td>NaN</td>\n",
       "      <td>NaN</td>\n",
       "      <td>NaN</td>\n",
       "      <td>NaN</td>\n",
       "      <td>NaN</td>\n",
       "    </tr>\n",
       "    <tr>\n",
       "      <th>Inbred_1339</th>\n",
       "      <td>NaN</td>\n",
       "      <td>NaN</td>\n",
       "      <td>NaN</td>\n",
       "      <td>NaN</td>\n",
       "      <td>-0.158006</td>\n",
       "      <td>NaN</td>\n",
       "      <td>NaN</td>\n",
       "      <td>NaN</td>\n",
       "      <td>NaN</td>\n",
       "      <td>NaN</td>\n",
       "      <td>NaN</td>\n",
       "      <td>-0.080846</td>\n",
       "      <td>NaN</td>\n",
       "      <td>NaN</td>\n",
       "      <td>NaN</td>\n",
       "      <td>NaN</td>\n",
       "      <td>NaN</td>\n",
       "      <td>NaN</td>\n",
       "      <td>NaN</td>\n",
       "      <td>NaN</td>\n",
       "      <td>NaN</td>\n",
       "      <td>NaN</td>\n",
       "      <td>NaN</td>\n",
       "      <td>NaN</td>\n",
       "      <td>NaN</td>\n",
       "      <td>NaN</td>\n",
       "      <td>NaN</td>\n",
       "      <td>NaN</td>\n",
       "      <td>NaN</td>\n",
       "      <td>NaN</td>\n",
       "      <td>NaN</td>\n",
       "      <td>NaN</td>\n",
       "      <td>NaN</td>\n",
       "      <td>NaN</td>\n",
       "      <td>NaN</td>\n",
       "      <td>NaN</td>\n",
       "      <td>NaN</td>\n",
       "      <td>NaN</td>\n",
       "      <td>NaN</td>\n",
       "      <td>NaN</td>\n",
       "      <td>...</td>\n",
       "      <td>NaN</td>\n",
       "      <td>NaN</td>\n",
       "      <td>NaN</td>\n",
       "      <td>NaN</td>\n",
       "      <td>NaN</td>\n",
       "      <td>NaN</td>\n",
       "      <td>NaN</td>\n",
       "      <td>NaN</td>\n",
       "      <td>NaN</td>\n",
       "      <td>NaN</td>\n",
       "      <td>NaN</td>\n",
       "      <td>NaN</td>\n",
       "      <td>NaN</td>\n",
       "      <td>NaN</td>\n",
       "      <td>NaN</td>\n",
       "      <td>NaN</td>\n",
       "      <td>NaN</td>\n",
       "      <td>NaN</td>\n",
       "      <td>NaN</td>\n",
       "      <td>NaN</td>\n",
       "      <td>NaN</td>\n",
       "      <td>NaN</td>\n",
       "      <td>NaN</td>\n",
       "      <td>NaN</td>\n",
       "      <td>NaN</td>\n",
       "      <td>NaN</td>\n",
       "      <td>NaN</td>\n",
       "      <td>NaN</td>\n",
       "      <td>NaN</td>\n",
       "      <td>NaN</td>\n",
       "      <td>NaN</td>\n",
       "      <td>NaN</td>\n",
       "      <td>NaN</td>\n",
       "      <td>NaN</td>\n",
       "      <td>NaN</td>\n",
       "      <td>NaN</td>\n",
       "      <td>NaN</td>\n",
       "      <td>NaN</td>\n",
       "      <td>NaN</td>\n",
       "      <td>NaN</td>\n",
       "    </tr>\n",
       "    <tr>\n",
       "      <th>Inbred_1340</th>\n",
       "      <td>NaN</td>\n",
       "      <td>0.013377</td>\n",
       "      <td>NaN</td>\n",
       "      <td>NaN</td>\n",
       "      <td>NaN</td>\n",
       "      <td>NaN</td>\n",
       "      <td>0.004255</td>\n",
       "      <td>NaN</td>\n",
       "      <td>NaN</td>\n",
       "      <td>NaN</td>\n",
       "      <td>NaN</td>\n",
       "      <td>NaN</td>\n",
       "      <td>NaN</td>\n",
       "      <td>NaN</td>\n",
       "      <td>NaN</td>\n",
       "      <td>NaN</td>\n",
       "      <td>NaN</td>\n",
       "      <td>NaN</td>\n",
       "      <td>NaN</td>\n",
       "      <td>-0.059522</td>\n",
       "      <td>NaN</td>\n",
       "      <td>-0.099041</td>\n",
       "      <td>NaN</td>\n",
       "      <td>-0.100363</td>\n",
       "      <td>NaN</td>\n",
       "      <td>NaN</td>\n",
       "      <td>NaN</td>\n",
       "      <td>NaN</td>\n",
       "      <td>NaN</td>\n",
       "      <td>NaN</td>\n",
       "      <td>NaN</td>\n",
       "      <td>NaN</td>\n",
       "      <td>NaN</td>\n",
       "      <td>NaN</td>\n",
       "      <td>NaN</td>\n",
       "      <td>NaN</td>\n",
       "      <td>NaN</td>\n",
       "      <td>-0.042626</td>\n",
       "      <td>NaN</td>\n",
       "      <td>NaN</td>\n",
       "      <td>...</td>\n",
       "      <td>NaN</td>\n",
       "      <td>NaN</td>\n",
       "      <td>NaN</td>\n",
       "      <td>NaN</td>\n",
       "      <td>NaN</td>\n",
       "      <td>NaN</td>\n",
       "      <td>NaN</td>\n",
       "      <td>NaN</td>\n",
       "      <td>NaN</td>\n",
       "      <td>NaN</td>\n",
       "      <td>NaN</td>\n",
       "      <td>NaN</td>\n",
       "      <td>NaN</td>\n",
       "      <td>NaN</td>\n",
       "      <td>NaN</td>\n",
       "      <td>NaN</td>\n",
       "      <td>NaN</td>\n",
       "      <td>NaN</td>\n",
       "      <td>NaN</td>\n",
       "      <td>NaN</td>\n",
       "      <td>NaN</td>\n",
       "      <td>NaN</td>\n",
       "      <td>NaN</td>\n",
       "      <td>NaN</td>\n",
       "      <td>NaN</td>\n",
       "      <td>NaN</td>\n",
       "      <td>NaN</td>\n",
       "      <td>NaN</td>\n",
       "      <td>NaN</td>\n",
       "      <td>NaN</td>\n",
       "      <td>NaN</td>\n",
       "      <td>NaN</td>\n",
       "      <td>NaN</td>\n",
       "      <td>NaN</td>\n",
       "      <td>NaN</td>\n",
       "      <td>NaN</td>\n",
       "      <td>NaN</td>\n",
       "      <td>NaN</td>\n",
       "      <td>NaN</td>\n",
       "      <td>NaN</td>\n",
       "    </tr>\n",
       "    <tr>\n",
       "      <th>...</th>\n",
       "      <td>...</td>\n",
       "      <td>...</td>\n",
       "      <td>...</td>\n",
       "      <td>...</td>\n",
       "      <td>...</td>\n",
       "      <td>...</td>\n",
       "      <td>...</td>\n",
       "      <td>...</td>\n",
       "      <td>...</td>\n",
       "      <td>...</td>\n",
       "      <td>...</td>\n",
       "      <td>...</td>\n",
       "      <td>...</td>\n",
       "      <td>...</td>\n",
       "      <td>...</td>\n",
       "      <td>...</td>\n",
       "      <td>...</td>\n",
       "      <td>...</td>\n",
       "      <td>...</td>\n",
       "      <td>...</td>\n",
       "      <td>...</td>\n",
       "      <td>...</td>\n",
       "      <td>...</td>\n",
       "      <td>...</td>\n",
       "      <td>...</td>\n",
       "      <td>...</td>\n",
       "      <td>...</td>\n",
       "      <td>...</td>\n",
       "      <td>...</td>\n",
       "      <td>...</td>\n",
       "      <td>...</td>\n",
       "      <td>...</td>\n",
       "      <td>...</td>\n",
       "      <td>...</td>\n",
       "      <td>...</td>\n",
       "      <td>...</td>\n",
       "      <td>...</td>\n",
       "      <td>...</td>\n",
       "      <td>...</td>\n",
       "      <td>...</td>\n",
       "      <td>...</td>\n",
       "      <td>...</td>\n",
       "      <td>...</td>\n",
       "      <td>...</td>\n",
       "      <td>...</td>\n",
       "      <td>...</td>\n",
       "      <td>...</td>\n",
       "      <td>...</td>\n",
       "      <td>...</td>\n",
       "      <td>...</td>\n",
       "      <td>...</td>\n",
       "      <td>...</td>\n",
       "      <td>...</td>\n",
       "      <td>...</td>\n",
       "      <td>...</td>\n",
       "      <td>...</td>\n",
       "      <td>...</td>\n",
       "      <td>...</td>\n",
       "      <td>...</td>\n",
       "      <td>...</td>\n",
       "      <td>...</td>\n",
       "      <td>...</td>\n",
       "      <td>...</td>\n",
       "      <td>...</td>\n",
       "      <td>...</td>\n",
       "      <td>...</td>\n",
       "      <td>...</td>\n",
       "      <td>...</td>\n",
       "      <td>...</td>\n",
       "      <td>...</td>\n",
       "      <td>...</td>\n",
       "      <td>...</td>\n",
       "      <td>...</td>\n",
       "      <td>...</td>\n",
       "      <td>...</td>\n",
       "      <td>...</td>\n",
       "      <td>...</td>\n",
       "      <td>...</td>\n",
       "      <td>...</td>\n",
       "      <td>...</td>\n",
       "      <td>...</td>\n",
       "    </tr>\n",
       "    <tr>\n",
       "      <th>Inbred_818</th>\n",
       "      <td>NaN</td>\n",
       "      <td>NaN</td>\n",
       "      <td>NaN</td>\n",
       "      <td>NaN</td>\n",
       "      <td>NaN</td>\n",
       "      <td>NaN</td>\n",
       "      <td>NaN</td>\n",
       "      <td>NaN</td>\n",
       "      <td>NaN</td>\n",
       "      <td>NaN</td>\n",
       "      <td>NaN</td>\n",
       "      <td>NaN</td>\n",
       "      <td>NaN</td>\n",
       "      <td>NaN</td>\n",
       "      <td>NaN</td>\n",
       "      <td>NaN</td>\n",
       "      <td>NaN</td>\n",
       "      <td>NaN</td>\n",
       "      <td>NaN</td>\n",
       "      <td>NaN</td>\n",
       "      <td>NaN</td>\n",
       "      <td>NaN</td>\n",
       "      <td>NaN</td>\n",
       "      <td>NaN</td>\n",
       "      <td>NaN</td>\n",
       "      <td>NaN</td>\n",
       "      <td>NaN</td>\n",
       "      <td>NaN</td>\n",
       "      <td>NaN</td>\n",
       "      <td>NaN</td>\n",
       "      <td>NaN</td>\n",
       "      <td>NaN</td>\n",
       "      <td>NaN</td>\n",
       "      <td>NaN</td>\n",
       "      <td>NaN</td>\n",
       "      <td>NaN</td>\n",
       "      <td>NaN</td>\n",
       "      <td>NaN</td>\n",
       "      <td>NaN</td>\n",
       "      <td>NaN</td>\n",
       "      <td>...</td>\n",
       "      <td>NaN</td>\n",
       "      <td>NaN</td>\n",
       "      <td>NaN</td>\n",
       "      <td>NaN</td>\n",
       "      <td>NaN</td>\n",
       "      <td>NaN</td>\n",
       "      <td>NaN</td>\n",
       "      <td>NaN</td>\n",
       "      <td>NaN</td>\n",
       "      <td>NaN</td>\n",
       "      <td>NaN</td>\n",
       "      <td>NaN</td>\n",
       "      <td>NaN</td>\n",
       "      <td>NaN</td>\n",
       "      <td>NaN</td>\n",
       "      <td>NaN</td>\n",
       "      <td>NaN</td>\n",
       "      <td>NaN</td>\n",
       "      <td>NaN</td>\n",
       "      <td>NaN</td>\n",
       "      <td>NaN</td>\n",
       "      <td>NaN</td>\n",
       "      <td>NaN</td>\n",
       "      <td>NaN</td>\n",
       "      <td>NaN</td>\n",
       "      <td>NaN</td>\n",
       "      <td>NaN</td>\n",
       "      <td>NaN</td>\n",
       "      <td>NaN</td>\n",
       "      <td>NaN</td>\n",
       "      <td>NaN</td>\n",
       "      <td>NaN</td>\n",
       "      <td>NaN</td>\n",
       "      <td>NaN</td>\n",
       "      <td>NaN</td>\n",
       "      <td>NaN</td>\n",
       "      <td>NaN</td>\n",
       "      <td>NaN</td>\n",
       "      <td>NaN</td>\n",
       "      <td>NaN</td>\n",
       "    </tr>\n",
       "    <tr>\n",
       "      <th>Inbred_819</th>\n",
       "      <td>NaN</td>\n",
       "      <td>NaN</td>\n",
       "      <td>NaN</td>\n",
       "      <td>NaN</td>\n",
       "      <td>NaN</td>\n",
       "      <td>NaN</td>\n",
       "      <td>NaN</td>\n",
       "      <td>NaN</td>\n",
       "      <td>NaN</td>\n",
       "      <td>NaN</td>\n",
       "      <td>NaN</td>\n",
       "      <td>NaN</td>\n",
       "      <td>NaN</td>\n",
       "      <td>NaN</td>\n",
       "      <td>NaN</td>\n",
       "      <td>NaN</td>\n",
       "      <td>NaN</td>\n",
       "      <td>NaN</td>\n",
       "      <td>NaN</td>\n",
       "      <td>NaN</td>\n",
       "      <td>NaN</td>\n",
       "      <td>NaN</td>\n",
       "      <td>NaN</td>\n",
       "      <td>NaN</td>\n",
       "      <td>NaN</td>\n",
       "      <td>NaN</td>\n",
       "      <td>NaN</td>\n",
       "      <td>NaN</td>\n",
       "      <td>NaN</td>\n",
       "      <td>NaN</td>\n",
       "      <td>NaN</td>\n",
       "      <td>NaN</td>\n",
       "      <td>NaN</td>\n",
       "      <td>NaN</td>\n",
       "      <td>NaN</td>\n",
       "      <td>NaN</td>\n",
       "      <td>NaN</td>\n",
       "      <td>NaN</td>\n",
       "      <td>NaN</td>\n",
       "      <td>NaN</td>\n",
       "      <td>...</td>\n",
       "      <td>NaN</td>\n",
       "      <td>NaN</td>\n",
       "      <td>NaN</td>\n",
       "      <td>NaN</td>\n",
       "      <td>NaN</td>\n",
       "      <td>NaN</td>\n",
       "      <td>NaN</td>\n",
       "      <td>NaN</td>\n",
       "      <td>NaN</td>\n",
       "      <td>NaN</td>\n",
       "      <td>NaN</td>\n",
       "      <td>NaN</td>\n",
       "      <td>NaN</td>\n",
       "      <td>NaN</td>\n",
       "      <td>NaN</td>\n",
       "      <td>NaN</td>\n",
       "      <td>NaN</td>\n",
       "      <td>NaN</td>\n",
       "      <td>NaN</td>\n",
       "      <td>NaN</td>\n",
       "      <td>NaN</td>\n",
       "      <td>NaN</td>\n",
       "      <td>NaN</td>\n",
       "      <td>NaN</td>\n",
       "      <td>NaN</td>\n",
       "      <td>NaN</td>\n",
       "      <td>NaN</td>\n",
       "      <td>NaN</td>\n",
       "      <td>NaN</td>\n",
       "      <td>NaN</td>\n",
       "      <td>NaN</td>\n",
       "      <td>NaN</td>\n",
       "      <td>NaN</td>\n",
       "      <td>NaN</td>\n",
       "      <td>NaN</td>\n",
       "      <td>NaN</td>\n",
       "      <td>NaN</td>\n",
       "      <td>NaN</td>\n",
       "      <td>NaN</td>\n",
       "      <td>NaN</td>\n",
       "    </tr>\n",
       "    <tr>\n",
       "      <th>Inbred_821</th>\n",
       "      <td>NaN</td>\n",
       "      <td>NaN</td>\n",
       "      <td>NaN</td>\n",
       "      <td>NaN</td>\n",
       "      <td>NaN</td>\n",
       "      <td>NaN</td>\n",
       "      <td>NaN</td>\n",
       "      <td>NaN</td>\n",
       "      <td>NaN</td>\n",
       "      <td>NaN</td>\n",
       "      <td>NaN</td>\n",
       "      <td>NaN</td>\n",
       "      <td>NaN</td>\n",
       "      <td>NaN</td>\n",
       "      <td>NaN</td>\n",
       "      <td>NaN</td>\n",
       "      <td>NaN</td>\n",
       "      <td>NaN</td>\n",
       "      <td>NaN</td>\n",
       "      <td>NaN</td>\n",
       "      <td>NaN</td>\n",
       "      <td>-0.024457</td>\n",
       "      <td>NaN</td>\n",
       "      <td>NaN</td>\n",
       "      <td>NaN</td>\n",
       "      <td>NaN</td>\n",
       "      <td>NaN</td>\n",
       "      <td>-0.016101</td>\n",
       "      <td>NaN</td>\n",
       "      <td>NaN</td>\n",
       "      <td>NaN</td>\n",
       "      <td>NaN</td>\n",
       "      <td>NaN</td>\n",
       "      <td>NaN</td>\n",
       "      <td>NaN</td>\n",
       "      <td>NaN</td>\n",
       "      <td>-0.015933</td>\n",
       "      <td>-0.018225</td>\n",
       "      <td>NaN</td>\n",
       "      <td>NaN</td>\n",
       "      <td>...</td>\n",
       "      <td>NaN</td>\n",
       "      <td>NaN</td>\n",
       "      <td>NaN</td>\n",
       "      <td>NaN</td>\n",
       "      <td>NaN</td>\n",
       "      <td>NaN</td>\n",
       "      <td>NaN</td>\n",
       "      <td>NaN</td>\n",
       "      <td>NaN</td>\n",
       "      <td>NaN</td>\n",
       "      <td>NaN</td>\n",
       "      <td>NaN</td>\n",
       "      <td>NaN</td>\n",
       "      <td>NaN</td>\n",
       "      <td>NaN</td>\n",
       "      <td>NaN</td>\n",
       "      <td>NaN</td>\n",
       "      <td>NaN</td>\n",
       "      <td>NaN</td>\n",
       "      <td>NaN</td>\n",
       "      <td>NaN</td>\n",
       "      <td>NaN</td>\n",
       "      <td>NaN</td>\n",
       "      <td>NaN</td>\n",
       "      <td>NaN</td>\n",
       "      <td>NaN</td>\n",
       "      <td>NaN</td>\n",
       "      <td>NaN</td>\n",
       "      <td>NaN</td>\n",
       "      <td>NaN</td>\n",
       "      <td>NaN</td>\n",
       "      <td>NaN</td>\n",
       "      <td>NaN</td>\n",
       "      <td>NaN</td>\n",
       "      <td>NaN</td>\n",
       "      <td>NaN</td>\n",
       "      <td>NaN</td>\n",
       "      <td>NaN</td>\n",
       "      <td>NaN</td>\n",
       "      <td>NaN</td>\n",
       "    </tr>\n",
       "    <tr>\n",
       "      <th>Inbred_828</th>\n",
       "      <td>NaN</td>\n",
       "      <td>NaN</td>\n",
       "      <td>NaN</td>\n",
       "      <td>NaN</td>\n",
       "      <td>NaN</td>\n",
       "      <td>NaN</td>\n",
       "      <td>NaN</td>\n",
       "      <td>NaN</td>\n",
       "      <td>NaN</td>\n",
       "      <td>NaN</td>\n",
       "      <td>NaN</td>\n",
       "      <td>NaN</td>\n",
       "      <td>NaN</td>\n",
       "      <td>NaN</td>\n",
       "      <td>NaN</td>\n",
       "      <td>NaN</td>\n",
       "      <td>NaN</td>\n",
       "      <td>NaN</td>\n",
       "      <td>NaN</td>\n",
       "      <td>NaN</td>\n",
       "      <td>NaN</td>\n",
       "      <td>-0.075811</td>\n",
       "      <td>NaN</td>\n",
       "      <td>NaN</td>\n",
       "      <td>NaN</td>\n",
       "      <td>NaN</td>\n",
       "      <td>NaN</td>\n",
       "      <td>NaN</td>\n",
       "      <td>NaN</td>\n",
       "      <td>NaN</td>\n",
       "      <td>NaN</td>\n",
       "      <td>NaN</td>\n",
       "      <td>NaN</td>\n",
       "      <td>NaN</td>\n",
       "      <td>NaN</td>\n",
       "      <td>NaN</td>\n",
       "      <td>NaN</td>\n",
       "      <td>0.067818</td>\n",
       "      <td>NaN</td>\n",
       "      <td>NaN</td>\n",
       "      <td>...</td>\n",
       "      <td>NaN</td>\n",
       "      <td>NaN</td>\n",
       "      <td>NaN</td>\n",
       "      <td>NaN</td>\n",
       "      <td>NaN</td>\n",
       "      <td>NaN</td>\n",
       "      <td>NaN</td>\n",
       "      <td>NaN</td>\n",
       "      <td>NaN</td>\n",
       "      <td>NaN</td>\n",
       "      <td>NaN</td>\n",
       "      <td>NaN</td>\n",
       "      <td>NaN</td>\n",
       "      <td>NaN</td>\n",
       "      <td>NaN</td>\n",
       "      <td>NaN</td>\n",
       "      <td>NaN</td>\n",
       "      <td>NaN</td>\n",
       "      <td>NaN</td>\n",
       "      <td>NaN</td>\n",
       "      <td>NaN</td>\n",
       "      <td>NaN</td>\n",
       "      <td>NaN</td>\n",
       "      <td>NaN</td>\n",
       "      <td>NaN</td>\n",
       "      <td>NaN</td>\n",
       "      <td>NaN</td>\n",
       "      <td>NaN</td>\n",
       "      <td>NaN</td>\n",
       "      <td>NaN</td>\n",
       "      <td>NaN</td>\n",
       "      <td>NaN</td>\n",
       "      <td>NaN</td>\n",
       "      <td>NaN</td>\n",
       "      <td>NaN</td>\n",
       "      <td>NaN</td>\n",
       "      <td>NaN</td>\n",
       "      <td>NaN</td>\n",
       "      <td>NaN</td>\n",
       "      <td>NaN</td>\n",
       "    </tr>\n",
       "    <tr>\n",
       "      <th>Inbred_836</th>\n",
       "      <td>NaN</td>\n",
       "      <td>NaN</td>\n",
       "      <td>NaN</td>\n",
       "      <td>NaN</td>\n",
       "      <td>NaN</td>\n",
       "      <td>NaN</td>\n",
       "      <td>NaN</td>\n",
       "      <td>NaN</td>\n",
       "      <td>NaN</td>\n",
       "      <td>NaN</td>\n",
       "      <td>NaN</td>\n",
       "      <td>NaN</td>\n",
       "      <td>NaN</td>\n",
       "      <td>NaN</td>\n",
       "      <td>NaN</td>\n",
       "      <td>NaN</td>\n",
       "      <td>NaN</td>\n",
       "      <td>NaN</td>\n",
       "      <td>NaN</td>\n",
       "      <td>NaN</td>\n",
       "      <td>NaN</td>\n",
       "      <td>NaN</td>\n",
       "      <td>NaN</td>\n",
       "      <td>NaN</td>\n",
       "      <td>NaN</td>\n",
       "      <td>-0.039867</td>\n",
       "      <td>NaN</td>\n",
       "      <td>NaN</td>\n",
       "      <td>NaN</td>\n",
       "      <td>NaN</td>\n",
       "      <td>NaN</td>\n",
       "      <td>NaN</td>\n",
       "      <td>NaN</td>\n",
       "      <td>NaN</td>\n",
       "      <td>0.033782</td>\n",
       "      <td>NaN</td>\n",
       "      <td>NaN</td>\n",
       "      <td>NaN</td>\n",
       "      <td>NaN</td>\n",
       "      <td>NaN</td>\n",
       "      <td>...</td>\n",
       "      <td>NaN</td>\n",
       "      <td>NaN</td>\n",
       "      <td>NaN</td>\n",
       "      <td>NaN</td>\n",
       "      <td>NaN</td>\n",
       "      <td>NaN</td>\n",
       "      <td>NaN</td>\n",
       "      <td>NaN</td>\n",
       "      <td>NaN</td>\n",
       "      <td>NaN</td>\n",
       "      <td>NaN</td>\n",
       "      <td>NaN</td>\n",
       "      <td>NaN</td>\n",
       "      <td>NaN</td>\n",
       "      <td>NaN</td>\n",
       "      <td>NaN</td>\n",
       "      <td>NaN</td>\n",
       "      <td>NaN</td>\n",
       "      <td>NaN</td>\n",
       "      <td>NaN</td>\n",
       "      <td>NaN</td>\n",
       "      <td>NaN</td>\n",
       "      <td>NaN</td>\n",
       "      <td>NaN</td>\n",
       "      <td>NaN</td>\n",
       "      <td>NaN</td>\n",
       "      <td>NaN</td>\n",
       "      <td>NaN</td>\n",
       "      <td>NaN</td>\n",
       "      <td>NaN</td>\n",
       "      <td>NaN</td>\n",
       "      <td>NaN</td>\n",
       "      <td>NaN</td>\n",
       "      <td>NaN</td>\n",
       "      <td>NaN</td>\n",
       "      <td>NaN</td>\n",
       "      <td>NaN</td>\n",
       "      <td>NaN</td>\n",
       "      <td>NaN</td>\n",
       "      <td>NaN</td>\n",
       "    </tr>\n",
       "  </tbody>\n",
       "</table>\n",
       "<p>593 rows × 496 columns</p>\n",
       "</div>"
      ],
      "text/plain": [
       "TESTER       Tester_1345  Tester_1349  ...  Tester_828  Tester_829\n",
       "INBRED                                 ...                        \n",
       "Inbred_1071    -0.013548          NaN  ...         NaN         NaN\n",
       "Inbred_122           NaN          NaN  ...         NaN         NaN\n",
       "Inbred_1337          NaN          NaN  ...         NaN         NaN\n",
       "Inbred_1339          NaN          NaN  ...         NaN         NaN\n",
       "Inbred_1340          NaN     0.013377  ...         NaN         NaN\n",
       "...                  ...          ...  ...         ...         ...\n",
       "Inbred_818           NaN          NaN  ...         NaN         NaN\n",
       "Inbred_819           NaN          NaN  ...         NaN         NaN\n",
       "Inbred_821           NaN          NaN  ...         NaN         NaN\n",
       "Inbred_828           NaN          NaN  ...         NaN         NaN\n",
       "Inbred_836           NaN          NaN  ...         NaN         NaN\n",
       "\n",
       "[593 rows x 496 columns]"
      ]
     },
     "execution_count": 199,
     "metadata": {
      "tags": []
     },
     "output_type": "execute_result"
    }
   ],
   "source": [
    "X_incomplete_log"
   ]
  },
  {
   "cell_type": "code",
   "execution_count": null,
   "metadata": {
    "colab": {},
    "colab_type": "code",
    "id": "ukyZ6bZV-uVF"
   },
   "outputs": [],
   "source": [
    "si = SoftImpute(max_iters = 1000)\n"
   ]
  },
  {
   "cell_type": "code",
   "execution_count": null,
   "metadata": {
    "colab": {},
    "colab_type": "code",
    "id": "RBNvkREi8ynp"
   },
   "outputs": [],
   "source": [
    "# X_incomplete_normalized = BiScaler().fit_transform(train_na)\n",
    "X_filled_softimpute = si.fit_transform(train_na)"
   ]
  },
  {
   "cell_type": "code",
   "execution_count": null,
   "metadata": {
    "colab": {
     "base_uri": "https://localhost:8080/",
     "height": 34
    },
    "colab_type": "code",
    "id": "2vl0iQWT9hN9",
    "outputId": "dc13f44b-e4e8-4452-9023-1ac08d887467"
   },
   "outputs": [
    {
     "data": {
      "text/plain": [
       "0.0002389444608362629"
      ]
     },
     "execution_count": 23,
     "metadata": {
      "tags": []
     },
     "output_type": "execute_result"
    }
   ],
   "source": [
    "get_mse(np.exp(X_filled_softimpute), np.exp(test))"
   ]
  },
  {
   "cell_type": "code",
   "execution_count": null,
   "metadata": {
    "colab": {
     "base_uri": "https://localhost:8080/",
     "height": 279
    },
    "colab_type": "code",
    "id": "SB-xMg7vaYkX",
    "outputId": "5f3ed116-1bc6-409c-ed3c-82e052000e69"
   },
   "outputs": [
    {
     "data": {
      "image/png": "[encoded data removed]",
      "text/plain": [
       "<Figure size 432x288 with 1 Axes>"
      ]
     },
     "metadata": {
      "tags": []
     },
     "output_type": "display_data"
    }
   ],
   "source": [
    "plt.scatter(np.exp(test[test.nonzero()]).flatten(), np.exp(X_filled_softimpute[test.nonzero()].flatten()), alpha = 0.5)\n",
    "#plt.plot(np.exp(test[test.nonzero()]).flatten(), alpha = 0.5)\n",
    "plt.xlabel(\"test\")\n",
    "plt.ylabel(\"pred test\")\n",
    "plt.show()"
   ]
  },
  {
   "cell_type": "code",
   "execution_count": null,
   "metadata": {
    "colab": {
     "base_uri": "https://localhost:8080/",
     "height": 34
    },
    "colab_type": "code",
    "id": "iU82IrHVaGCc",
    "outputId": "f0ea9603-9dd8-4342-de07-88a16475cd4f"
   },
   "outputs": [
    {
     "data": {
      "text/plain": [
       "0.013356212376477744"
      ]
     },
     "execution_count": 371,
     "metadata": {
      "tags": []
     },
     "output_type": "execute_result"
    }
   ],
   "source": [
    "np.sqrt(0.00017838840904557725)"
   ]
  },
  {
   "cell_type": "code",
   "execution_count": null,
   "metadata": {
    "colab": {
     "base_uri": "https://localhost:8080/",
     "height": 34
    },
    "colab_type": "code",
    "id": "_1xVgy0XJvP2",
    "outputId": "de96d182-3094-4661-b0d5-fc9a9463149a"
   },
   "outputs": [
    {
     "data": {
      "text/plain": [
       "1.2400148732500003"
      ]
     },
     "execution_count": 324,
     "metadata": {
      "tags": []
     },
     "output_type": "execute_result"
    }
   ],
   "source": [
    "np.exp(train).max()"
   ]
  },
  {
   "cell_type": "code",
   "execution_count": null,
   "metadata": {
    "colab": {
     "base_uri": "https://localhost:8080/",
     "height": 34
    },
    "colab_type": "code",
    "id": "UttwhX-9FrD9",
    "outputId": "df393c27-4112-4ad7-903e-fbabce21668f"
   },
   "outputs": [
    {
     "data": {
      "text/plain": [
       "0.6502730801666666"
      ]
     },
     "execution_count": 325,
     "metadata": {
      "tags": []
     },
     "output_type": "execute_result"
    }
   ],
   "source": [
    "np.exp(X_filled_softimpute).min()"
   ]
  },
  {
   "cell_type": "code",
   "execution_count": null,
   "metadata": {
    "colab": {
     "base_uri": "https://localhost:8080/",
     "height": 34
    },
    "colab_type": "code",
    "id": "32DSrBid-Owg",
    "outputId": "f8a9c134-c70a-4853-cde6-369c38a6c8d2"
   },
   "outputs": [
    {
     "data": {
      "text/plain": [
       "1.2400148732500003"
      ]
     },
     "execution_count": 326,
     "metadata": {
      "tags": []
     },
     "output_type": "execute_result"
    }
   ],
   "source": [
    "np.exp(X_filled_softimpute).max()"
   ]
  },
  {
   "cell_type": "code",
   "execution_count": null,
   "metadata": {
    "colab": {},
    "colab_type": "code",
    "id": "KcdFmdKoGlgz"
   },
   "outputs": [],
   "source": []
  },
  {
   "cell_type": "code",
   "execution_count": null,
   "metadata": {
    "colab": {
     "base_uri": "https://localhost:8080/",
     "height": 34
    },
    "colab_type": "code",
    "id": "aVxSKP3B6W61",
    "outputId": "d5340421-021a-408b-b2f8-b70c859331d9"
   },
   "outputs": [
    {
     "data": {
      "text/plain": [
       "0.002958621269561941"
      ]
     },
     "execution_count": 123,
     "metadata": {
      "tags": []
     },
     "output_type": "execute_result"
    }
   ],
   "source": [
    "get_mse(MF_SGD.predict_all(),test_df.values)"
   ]
  },
  {
   "cell_type": "code",
   "execution_count": null,
   "metadata": {
    "colab": {
     "base_uri": "https://localhost:8080/",
     "height": 34
    },
    "colab_type": "code",
    "id": "QQ3SqmcWh3tA",
    "outputId": "57c756bd-193f-4fee-957f-8586d33b0ec2"
   },
   "outputs": [
    {
     "data": {
      "text/plain": [
       "0.002907758392533215"
      ]
     },
     "execution_count": 117,
     "metadata": {
      "tags": []
     },
     "output_type": "execute_result"
    }
   ],
   "source": [
    "get_mse(np.exp(MF_SGD.predict_all()),test_df.values)"
   ]
  },
  {
   "cell_type": "code",
   "execution_count": null,
   "metadata": {
    "colab": {},
    "colab_type": "code",
    "id": "DyFJtiTNiNhl"
   },
   "outputs": [],
   "source": [
    "res = np.exp(MF_SGD.predict_all())"
   ]
  },
  {
   "cell_type": "code",
   "execution_count": null,
   "metadata": {
    "colab": {
     "base_uri": "https://localhost:8080/",
     "height": 34
    },
    "colab_type": "code",
    "id": "AbswyQGhiZo-",
    "outputId": "fade015e-7ca6-467d-a202-67a17de1e571"
   },
   "outputs": [
    {
     "data": {
      "text/plain": [
       "0.7541088983952152"
      ]
     },
     "execution_count": 93,
     "metadata": {
      "tags": []
     },
     "output_type": "execute_result"
    }
   ],
   "source": [
    "res.min()"
   ]
  },
  {
   "cell_type": "code",
   "execution_count": null,
   "metadata": {
    "colab": {
     "base_uri": "https://localhost:8080/",
     "height": 34
    },
    "colab_type": "code",
    "id": "wKsYKgBvivEV",
    "outputId": "5f249f6c-79aa-4777-b4c4-dbbd8d9c6e83"
   },
   "outputs": [
    {
     "data": {
      "text/plain": [
       "1.169347899343899"
      ]
     },
     "execution_count": 94,
     "metadata": {
      "tags": []
     },
     "output_type": "execute_result"
    }
   ],
   "source": [
    "res.max()"
   ]
  },
  {
   "cell_type": "code",
   "execution_count": null,
   "metadata": {
    "colab": {
     "base_uri": "https://localhost:8080/",
     "height": 34
    },
    "colab_type": "code",
    "id": "GKzuq53Diwyq",
    "outputId": "88691997-1a54-437c-f083-c55d7bd6e8cc"
   },
   "outputs": [
    {
     "data": {
      "text/plain": [
       "1.24001487325"
      ]
     },
     "execution_count": 55,
     "metadata": {
      "tags": []
     },
     "output_type": "execute_result"
    }
   ],
   "source": [
    "train_df.values.max()"
   ]
  },
  {
   "cell_type": "code",
   "execution_count": null,
   "metadata": {
    "colab": {
     "base_uri": "https://localhost:8080/",
     "height": 51
    },
    "colab_type": "code",
    "id": "9eoGo4e8i0K5",
    "outputId": "e4e6384e-593f-4f78-fb57-2ee9fd75beb7"
   },
   "outputs": [
    {
     "data": {
      "text/plain": [
       "(array([  0,   0,   0, ..., 592, 592, 592]),\n",
       " array([  0,   1,   2, ..., 493, 494, 495]))"
      ]
     },
     "execution_count": 56,
     "metadata": {
      "tags": []
     },
     "output_type": "execute_result"
    }
   ],
   "source": [
    "res.nonzero()"
   ]
  },
  {
   "cell_type": "code",
   "execution_count": null,
   "metadata": {
    "colab": {
     "base_uri": "https://localhost:8080/",
     "height": 284
    },
    "colab_type": "code",
    "id": "E2t7XYqInpNS",
    "outputId": "5e5b4790-acd9-4791-9c08-2c2088a02268"
   },
   "outputs": [
    {
     "data": {
      "image/png": "[encoded data removed]",
      "text/plain": [
       "<Figure size 432x288 with 1 Axes>"
      ]
     },
     "metadata": {
      "tags": []
     },
     "output_type": "display_data"
    }
   ],
   "source": [
    "np.exp(MF_SGD.predict_all())\n",
    "plt.hist(np.exp(MF_SGD.predict_all())[test.nonzero()].flatten(), alpha = 0.5, label = \"test prediction\",bins = 20)\n",
    "plt.title(\"Histogram of Test Prediction vs Test Data\")\n",
    "plt.hist(np.exp(test)[test.nonzero()].flatten(), alpha = 0.5, label = \"test data\",bins = 20)\n",
    "plt.legend(loc = \"best\")\n",
    "plt.show()"
   ]
  },
  {
   "cell_type": "code",
   "execution_count": null,
   "metadata": {
    "colab": {
     "base_uri": "https://localhost:8080/",
     "height": 284
    },
    "colab_type": "code",
    "id": "m3nGrW7Vn50m",
    "outputId": "e98fb5ef-33d0-4e28-b256-a64837b640c8"
   },
   "outputs": [
    {
     "data": {
      "image/png": "[encoded data removed]",
      "text/plain": [
       "<Figure size 432x288 with 1 Axes>"
      ]
     },
     "metadata": {
      "tags": []
     },
     "output_type": "display_data"
    }
   ],
   "source": [
    "plt.hist(np.exp(MF_SGD.predict_all())[train.nonzero()].flatten(), alpha = 0.5, label = \"train prediction\")\n",
    "plt.title(\"Histogram of Train Prediction vs Train Data\")\n",
    "plt.hist(np.exp(train)[train.nonzero()].flatten(), alpha = 0.5, label = \"train data\")\n",
    "plt.legend(loc = \"best\")\n",
    "plt.show()"
   ]
  },
  {
   "cell_type": "code",
   "execution_count": null,
   "metadata": {
    "colab": {
     "base_uri": "https://localhost:8080/",
     "height": 284
    },
    "colab_type": "code",
    "id": "pZN-6Uh2Gnwj",
    "outputId": "f3f73dfa-7171-4066-bdec-968e3b67ff1a"
   },
   "outputs": [
    {
     "data": {
      "image/png": "[encoded data removed]",
      "text/plain": [
       "<Figure size 432x288 with 1 Axes>"
      ]
     },
     "metadata": {
      "tags": []
     },
     "output_type": "display_data"
    }
   ],
   "source": [
    "plt.hist(np.exp(X_filled_softimpute)[test.nonzero()].flatten(), alpha = 0.5, label = \"test prediction\")\n",
    "plt.title(\"Histogram of Test Prediction vs Test Data\")\n",
    "plt.hist(np.exp(test)[test.nonzero()].flatten(), alpha = 0.5, label = \"test data\")\n",
    "plt.legend(loc = \"best\")\n",
    "plt.show()"
   ]
  },
  {
   "cell_type": "code",
   "execution_count": null,
   "metadata": {
    "colab": {
     "base_uri": "https://localhost:8080/",
     "height": 284
    },
    "colab_type": "code",
    "id": "6WlxfeItZbZI",
    "outputId": "59bbfad0-715d-4db1-d618-04c92322b796"
   },
   "outputs": [
    {
     "data": {
      "image/png": "[encoded data removed]",
      "text/plain": [
       "<Figure size 432x288 with 1 Axes>"
      ]
     },
     "metadata": {
      "tags": []
     },
     "output_type": "display_data"
    }
   ],
   "source": [
    "plt.hist(np.exp(X_filled_softimpute)[train.nonzero()].flatten(), alpha = 0.5, label = \"train prediction\")\n",
    "plt.title(\"Histogram of Train Prediction vs Train Data\")\n",
    "plt.hist(np.exp(train)[train.nonzero()].flatten(), alpha = 0.5, label = \"train data\")\n",
    "plt.legend(loc = \"best\")\n",
    "plt.show()"
   ]
  },
  {
   "cell_type": "code",
   "execution_count": null,
   "metadata": {
    "colab": {
     "base_uri": "https://localhost:8080/",
     "height": 34
    },
    "colab_type": "code",
    "id": "ZvF4jHweY-ab",
    "outputId": "0f3176fd-9b88-4044-9a11-17e8f27c6228"
   },
   "outputs": [
    {
     "data": {
      "text/plain": [
       "0.9037870733770542"
      ]
     },
     "execution_count": 365,
     "metadata": {
      "tags": []
     },
     "output_type": "execute_result"
    }
   ],
   "source": [
    "np.exp(X_filled_softimpute)[test.nonzero()].flatten().min()"
   ]
  },
  {
   "cell_type": "code",
   "execution_count": null,
   "metadata": {
    "colab": {
     "base_uri": "https://localhost:8080/",
     "height": 34
    },
    "colab_type": "code",
    "id": "hvH4hi-nZBEd",
    "outputId": "2c179ada-abc9-4228-e03b-c073c4339c8e"
   },
   "outputs": [
    {
     "data": {
      "text/plain": [
       "0.725141606"
      ]
     },
     "execution_count": 366,
     "metadata": {
      "tags": []
     },
     "output_type": "execute_result"
    }
   ],
   "source": [
    "np.exp(test)[test.nonzero()].flatten().min()"
   ]
  },
  {
   "cell_type": "code",
   "execution_count": null,
   "metadata": {
    "colab": {
     "base_uri": "https://localhost:8080/",
     "height": 136
    },
    "colab_type": "code",
    "id": "lV1ce0DFYKnr",
    "outputId": "6fae3fda-8d3b-404d-a730-2d8f8f594017"
   },
   "outputs": [
    {
     "data": {
      "text/plain": [
       "array([[0., 0., 0., ..., 0., 0., 0.],\n",
       "       [0., 0., 0., ..., 0., 0., 0.],\n",
       "       [0., 0., 0., ..., 0., 0., 0.],\n",
       "       ...,\n",
       "       [0., 0., 0., ..., 0., 0., 0.],\n",
       "       [0., 0., 0., ..., 0., 0., 0.],\n",
       "       [0., 0., 0., ..., 0., 0., 0.]])"
      ]
     },
     "execution_count": 348,
     "metadata": {
      "tags": []
     },
     "output_type": "execute_result"
    }
   ],
   "source": [
    "test"
   ]
  },
  {
   "cell_type": "code",
   "execution_count": null,
   "metadata": {
    "colab": {
     "base_uri": "https://localhost:8080/",
     "height": 34
    },
    "colab_type": "code",
    "id": "qd6PfA0POiHr",
    "outputId": "449c76f9-08f0-4da3-9107-6133262e477f"
   },
   "outputs": [
    {
     "data": {
      "text/plain": [
       "True"
      ]
     },
     "execution_count": 330,
     "metadata": {
      "tags": []
     },
     "output_type": "execute_result"
    }
   ],
   "source": [
    "np.all(train*test) == 0"
   ]
  },
  {
   "cell_type": "code",
   "execution_count": null,
   "metadata": {
    "colab": {
     "base_uri": "https://localhost:8080/",
     "height": 353
    },
    "colab_type": "code",
    "id": "HxOit7lpGwaH",
    "outputId": "d9623e17-0b4c-4f8e-adaa-487e9adc8b99"
   },
   "outputs": [
    {
     "data": {
      "text/plain": [
       "(array([  2.,   2.,  15.,  37., 129., 298., 238.,  78.,  30.,   6.]),\n",
       " array([0.9049697 , 0.9213087 , 0.9376477 , 0.95398671, 0.97032571,\n",
       "        0.98666471, 1.00300371, 1.01934272, 1.03568172, 1.05202072,\n",
       "        1.06835973]),\n",
       " <a list of 10 Patch objects>)"
      ]
     },
     "execution_count": 332,
     "metadata": {
      "tags": []
     },
     "output_type": "execute_result"
    },
    {
     "data": {
      "image/png": "[encoded data removed]",
      "text/plain": [
       "<Figure size 432x288 with 1 Axes>"
      ]
     },
     "metadata": {
      "tags": []
     },
     "output_type": "display_data"
    }
   ],
   "source": [
    "plt.hist(np.exp(X_filled_softimpute)[test.nonzero()].flatten())"
   ]
  },
  {
   "cell_type": "code",
   "execution_count": null,
   "metadata": {
    "colab": {
     "base_uri": "https://localhost:8080/",
     "height": 354
    },
    "colab_type": "code",
    "id": "A08n0V8aG1WF",
    "outputId": "321be8d7-ae81-4ccf-b3f0-8e542237cb13"
   },
   "outputs": [
    {
     "data": {
      "text/plain": [
       "(array([ 1.,  2.,  3., 16., 17., 40., 55., 58., 28., 14.]),\n",
       " array([0.73414242, 0.77209419, 0.81004596, 0.84799773, 0.8859495 ,\n",
       "        0.92390128, 0.96185305, 0.99980482, 1.03775659, 1.07570836,\n",
       "        1.11366013]),\n",
       " <a list of 10 Patch objects>)"
      ]
     },
     "execution_count": 218,
     "metadata": {
      "tags": []
     },
     "output_type": "execute_result"
    },
    {
     "data": {
      "image/png": "[encoded data removed]",
      "text/plain": [
       "<Figure size 432x288 with 1 Axes>"
      ]
     },
     "metadata": {
      "tags": []
     },
     "output_type": "display_data"
    }
   ],
   "source": [
    "plt.hist(test_df.values[test_df.values.nonzero()].flatten())"
   ]
  },
  {
   "cell_type": "code",
   "execution_count": null,
   "metadata": {
    "colab": {
     "base_uri": "https://localhost:8080/",
     "height": 370
    },
    "colab_type": "code",
    "id": "TeOj1S3Fi7WX",
    "outputId": "df7c31d4-f0ad-4f55-e825-8991511d9965"
   },
   "outputs": [
    {
     "data": {
      "text/plain": [
       "(array([  12.,   39.,  125.,  714., 2224., 3899., 2810.,  763.,   89.,\n",
       "          10.]),\n",
       " array([0.83456988, 0.8635518 , 0.89253372, 0.92151563, 0.95049755,\n",
       "        0.97947947, 1.00846139, 1.03744331, 1.06642522, 1.09540714,\n",
       "        1.12438906]),\n",
       " <a list of 10 Patch objects>)"
      ]
     },
     "execution_count": 67,
     "metadata": {
      "tags": []
     },
     "output_type": "execute_result"
    },
    {
     "data": {
      "image/png": "[encoded data removed]",
      "text/plain": [
       "<Figure size 432x288 with 1 Axes>"
      ]
     },
     "metadata": {
      "tags": []
     },
     "output_type": "display_data"
    }
   ],
   "source": [
    "plt.hist(res[train_df.values.nonzero()].flatten())"
   ]
  },
  {
   "cell_type": "code",
   "execution_count": null,
   "metadata": {
    "colab": {
     "base_uri": "https://localhost:8080/",
     "height": 370
    },
    "colab_type": "code",
    "id": "4QXcboBIi9w5",
    "outputId": "3936dd19-7abe-443e-f1ac-35aaab4fa601"
   },
   "outputs": [
    {
     "data": {
      "text/plain": [
       "(array([   4.,   17.,   59.,  304., 1430., 3945., 3748., 1024.,  141.,\n",
       "          13.]),\n",
       " array([0.65027308, 0.70924726, 0.76822144, 0.82719562, 0.8861698 ,\n",
       "        0.94514398, 1.00411816, 1.06309234, 1.12206651, 1.18104069,\n",
       "        1.24001487]),\n",
       " <a list of 10 Patch objects>)"
      ]
     },
     "execution_count": 66,
     "metadata": {
      "tags": []
     },
     "output_type": "execute_result"
    },
    {
     "data": {
      "image/png": "[encoded data removed]",
      "text/plain": [
       "<Figure size 432x288 with 1 Axes>"
      ]
     },
     "metadata": {
      "tags": []
     },
     "output_type": "display_data"
    }
   ],
   "source": [
    "plt.hist(train_df.values[train_df.values.nonzero()].flatten())"
   ]
  },
  {
   "cell_type": "code",
   "execution_count": null,
   "metadata": {
    "colab": {
     "base_uri": "https://localhost:8080/",
     "height": 34
    },
    "colab_type": "code",
    "id": "RqfFkQ-gjIl4",
    "outputId": "c1824de3-ec0e-48dc-c136-fbc1b99bac9c"
   },
   "outputs": [
    {
     "data": {
      "text/plain": [
       "array([  0,   0,   0, ..., 592, 592, 592])"
      ]
     },
     "execution_count": 63,
     "metadata": {
      "tags": []
     },
     "output_type": "execute_result"
    }
   ],
   "source": [
    "train_df.values.nonzero()[0]"
   ]
  },
  {
   "cell_type": "code",
   "execution_count": null,
   "metadata": {
    "colab": {
     "base_uri": "https://localhost:8080/",
     "height": 561
    },
    "colab_type": "code",
    "id": "gIeZ0UaCjUZQ",
    "outputId": "30df9729-18d9-4419-b76a-280571eb6987"
   },
   "outputs": [
    {
     "name": "stdout",
     "output_type": "stream",
     "text": [
      "Rate: 1e-05\n",
      "New optimal hyperparameters\n",
      "learning_rate                                             1e-05\n",
      "n_iter                                                      250\n",
      "train_mse                                            0.00344385\n",
      "test_mse                                             0.00463857\n",
      "model            <__main__.ExplicitMF object at 0x7f80681b1438>\n",
      "dtype: object\n",
      "Rate: 0.0001\n",
      "New optimal hyperparameters\n",
      "learning_rate                                            0.0001\n",
      "n_iter                                                      250\n",
      "train_mse                                            0.00279288\n",
      "test_mse                                             0.00404349\n",
      "model            <__main__.ExplicitMF object at 0x7f806b72f6d8>\n",
      "dtype: object\n",
      "Rate: 0.001\n",
      "New optimal hyperparameters\n",
      "learning_rate                                             0.001\n",
      "n_iter                                                      250\n",
      "train_mse                                            0.00224101\n",
      "test_mse                                             0.00321647\n",
      "model            <__main__.ExplicitMF object at 0x7f80681d7ac8>\n",
      "dtype: object\n",
      "Rate: 0.01\n",
      "New optimal hyperparameters\n",
      "learning_rate                                              0.01\n",
      "n_iter                                                       50\n",
      "train_mse                                            0.00222698\n",
      "test_mse                                             0.00317759\n",
      "model            <__main__.ExplicitMF object at 0x7f806b72f6d8>\n",
      "dtype: object\n"
     ]
    }
   ],
   "source": [
    "iter_array = [1, 2, 5, 10, 25, 50, 100, 200,250]\n",
    "learning_rates = [1e-5, 1e-4, 1e-3, 1e-2]\n",
    "\n",
    "best_params = {}\n",
    "best_params['learning_rate'] = None\n",
    "best_params['n_iter'] = 0\n",
    "best_params['train_mse'] = np.inf\n",
    "best_params['test_mse'] = np.inf\n",
    "best_params['model'] = None\n",
    "\n",
    "\n",
    "for rate in learning_rates:\n",
    "    print ('Rate: {}'.format(rate))\n",
    "    MF_SGD = ExplicitMF(train_df_log, n_factors=35, learning='sgd')\n",
    "    MF_SGD.calculate_learning_curve(iter_array, test_df_log, learning_rate=rate)\n",
    "    min_idx = np.argmin(MF_SGD.test_mse)\n",
    "    if MF_SGD.test_mse[min_idx] < best_params['test_mse']:\n",
    "        best_params['n_iter'] = iter_array[min_idx]\n",
    "        best_params['learning_rate'] = rate\n",
    "        best_params['train_mse'] = MF_SGD.train_mse[min_idx]\n",
    "        best_params['test_mse'] = MF_SGD.test_mse[min_idx]\n",
    "        best_params['model'] = MF_SGD\n",
    "        print ('New optimal hyperparameters')\n",
    "        print (pd.Series(best_params))"
   ]
  },
  {
   "cell_type": "code",
   "execution_count": null,
   "metadata": {
    "colab": {
     "base_uri": "https://localhost:8080/",
     "height": 102
    },
    "colab_type": "code",
    "id": "myenpXyYkM61",
    "outputId": "87253f7e-3f63-44e8-8310-3fb9475bb84f"
   },
   "outputs": [
    {
     "data": {
      "text/plain": [
       "{'learning_rate': 0.01,\n",
       " 'model': <__main__.ExplicitMF at 0x7f806b72f6d8>,\n",
       " 'n_iter': 50,\n",
       " 'test_mse': 0.0031775932985626527,\n",
       " 'train_mse': 0.00222698179104251}"
      ]
     },
     "execution_count": 86,
     "metadata": {
      "tags": []
     },
     "output_type": "execute_result"
    }
   ],
   "source": [
    "best_params #for learning rate"
   ]
  },
  {
   "cell_type": "code",
   "execution_count": null,
   "metadata": {
    "colab": {
     "base_uri": "https://localhost:8080/",
     "height": 1000
    },
    "colab_type": "code",
    "id": "zPioO-5mmdpO",
    "outputId": "26982db2-c8d2-4c5f-dfc1-79cd85bf4dc1"
   },
   "outputs": [
    {
     "name": "stdout",
     "output_type": "stream",
     "text": [
      "Factors: 5\n",
      "Regularization: 0.001\n",
      "New optimal hyperparameters\n",
      "n_factors                                                 5\n",
      "reg                                                   0.001\n",
      "n_iter                                                  250\n",
      "train_mse                                        0.00429246\n",
      "test_mse                                          0.0101425\n",
      "model        <__main__.ExplicitMF object at 0x7f8067d91c88>\n",
      "dtype: object\n",
      "Regularization: 0.01\n",
      "New optimal hyperparameters\n",
      "n_factors                                                 5\n",
      "reg                                                    0.01\n",
      "n_iter                                                  250\n",
      "train_mse                                        0.00394383\n",
      "test_mse                                         0.00921916\n",
      "model        <__main__.ExplicitMF object at 0x7f8067d91d68>\n",
      "dtype: object\n",
      "Regularization: 0.1\n",
      "New optimal hyperparameters\n",
      "n_factors                                                 5\n",
      "reg                                                     0.1\n",
      "n_iter                                                  250\n",
      "train_mse                                        0.00249107\n",
      "test_mse                                         0.00546074\n",
      "model        <__main__.ExplicitMF object at 0x7f8067d91c88>\n",
      "dtype: object\n",
      "Regularization: 1.0\n",
      "New optimal hyperparameters\n",
      "n_factors                                                 5\n",
      "reg                                                       1\n",
      "n_iter                                                  250\n",
      "train_mse                                        0.00257677\n",
      "test_mse                                         0.00351219\n",
      "model        <__main__.ExplicitMF object at 0x7f8067d91d68>\n",
      "dtype: object\n",
      "Factors: 10\n",
      "Regularization: 0.001\n",
      "Regularization: 0.01\n",
      "Regularization: 0.1\n",
      "New optimal hyperparameters\n",
      "n_factors                                                10\n",
      "reg                                                     0.1\n",
      "n_iter                                                  250\n",
      "train_mse                                           0.00226\n",
      "test_mse                                         0.00345181\n",
      "model        <__main__.ExplicitMF object at 0x7f8067d91c88>\n",
      "dtype: object\n",
      "Regularization: 1.0\n",
      "Factors: 20\n",
      "Regularization: 0.001\n",
      "Regularization: 0.01\n",
      "New optimal hyperparameters\n",
      "n_factors                                                20\n",
      "reg                                                    0.01\n",
      "n_iter                                                  250\n",
      "train_mse                                        0.00222838\n",
      "test_mse                                         0.00314663\n",
      "model        <__main__.ExplicitMF object at 0x7f8067d91ef0>\n",
      "dtype: object\n",
      "Regularization: 0.1\n",
      "Regularization: 1.0\n",
      "Factors: 25\n",
      "Regularization: 0.001\n",
      "Regularization: 0.01\n",
      "Regularization: 0.1\n",
      "Regularization: 1.0\n",
      "Factors: 30\n",
      "Regularization: 0.001\n",
      "Regularization: 0.01\n",
      "Regularization: 0.1\n",
      "Regularization: 1.0\n",
      "Factors: 35\n",
      "Regularization: 0.001\n",
      "Regularization: 0.01\n",
      "Regularization: 0.1\n",
      "Regularization: 1.0\n",
      "Factors: 40\n",
      "Regularization: 0.001\n",
      "Regularization: 0.01\n",
      "New optimal hyperparameters\n",
      "n_factors                                                40\n",
      "reg                                                    0.01\n",
      "n_iter                                                  250\n",
      "train_mse                                        0.00220789\n",
      "test_mse                                         0.00313444\n",
      "model        <__main__.ExplicitMF object at 0x7f8067d91eb8>\n",
      "dtype: object\n",
      "Regularization: 0.1\n",
      "Regularization: 1.0\n"
     ]
    }
   ],
   "source": [
    "iter_array = [1, 2, 5, 10, 25, 50, 100, 200, 250]\n",
    "latent_factors = [ 5, 10, 20, 25, 30, 35, 40]\n",
    "regularizations = [0.001, 0.01, 0.1, 1.]\n",
    "regularizations.sort()\n",
    "\n",
    "best_params = {}\n",
    "best_params['n_factors'] = latent_factors[0]\n",
    "best_params['reg'] = regularizations[0]\n",
    "best_params['n_iter'] = 0\n",
    "best_params['train_mse'] = np.inf\n",
    "best_params['test_mse'] = np.inf\n",
    "best_params['model'] = None\n",
    "\n",
    "for fact in latent_factors:\n",
    "    print ('Factors: {}'.format(fact))\n",
    "    for reg in regularizations:\n",
    "        print ('Regularization: {}'.format(reg))\n",
    "        MF_SGD = ExplicitMF(train_df_log, n_factors=fact, learning='sgd',\\\n",
    "                            user_fact_reg=reg, item_fact_reg=reg, \\\n",
    "                            user_bias_reg=reg, item_bias_reg=reg)\n",
    "        MF_SGD.calculate_learning_curve(iter_array, test_df_log, learning_rate=0.001)\n",
    "        min_idx = np.argmin(MF_SGD.test_mse)\n",
    "        if MF_SGD.test_mse[min_idx] < best_params['test_mse']:\n",
    "            best_params['n_factors'] = fact\n",
    "            best_params['reg'] = reg\n",
    "            best_params['n_iter'] = iter_array[min_idx]\n",
    "            best_params['train_mse'] = MF_SGD.train_mse[min_idx]\n",
    "            best_params['test_mse'] = MF_SGD.test_mse[min_idx]\n",
    "            best_params['model'] = MF_SGD\n",
    "            print ('New optimal hyperparameters')\n",
    "            print (pd.Series(best_params))"
   ]
  },
  {
   "cell_type": "code",
   "execution_count": null,
   "metadata": {
    "colab": {
     "base_uri": "https://localhost:8080/",
     "height": 119
    },
    "colab_type": "code",
    "id": "rk1uAd6GyJmd",
    "outputId": "9ca10b38-3638-4f26-e2bb-b67a426109e5"
   },
   "outputs": [
    {
     "data": {
      "text/plain": [
       "{'model': <__main__.ExplicitMF at 0x7f8067d91eb8>,\n",
       " 'n_factors': 40,\n",
       " 'n_iter': 250,\n",
       " 'reg': 0.01,\n",
       " 'test_mse': 0.0031344368103530963,\n",
       " 'train_mse': 0.002207891888466097}"
      ]
     },
     "execution_count": 88,
     "metadata": {
      "tags": []
     },
     "output_type": "execute_result"
    }
   ],
   "source": [
    "best_params #for factors and reg"
   ]
  },
  {
   "cell_type": "code",
   "execution_count": null,
   "metadata": {
    "colab": {},
    "colab_type": "code",
    "id": "tvBNz4wIMJET"
   },
   "outputs": [],
   "source": [
    "from numpy.linalg import solve\n",
    "\n",
    "class ExplicitMF():\n",
    "    def __init__(self, \n",
    "                 ratings, \n",
    "                 n_factors=40, \n",
    "                 item_reg=0.0, \n",
    "                 user_reg=0.0,\n",
    "                 verbose=False):\n",
    "        \"\"\"\n",
    "        Train a matrix factorization model to predict empty \n",
    "        entries in a matrix. The terminology assumes a \n",
    "        ratings matrix which is ~ user x item\n",
    "        \n",
    "        Params\n",
    "        ======\n",
    "        ratings : (ndarray)\n",
    "            User x Item matrix with corresponding ratings\n",
    "        \n",
    "        n_factors : (int)\n",
    "            Number of latent factors to use in matrix \n",
    "            factorization model\n",
    "        \n",
    "        item_reg : (float)\n",
    "            Regularization term for item latent factors\n",
    "        \n",
    "        user_reg : (float)\n",
    "            Regularization term for user latent factors\n",
    "        \n",
    "        verbose : (bool)\n",
    "            Whether or not to printout training progress\n",
    "        \"\"\"\n",
    "        \n",
    "        self.ratings = ratings\n",
    "        self.n_users, self.n_items = ratings.shape\n",
    "        self.n_factors = n_factors\n",
    "        self.item_reg = item_reg\n",
    "        self.user_reg = user_reg\n",
    "        self._v = verbose\n",
    "\n",
    "    def als_step(self,\n",
    "                 latent_vectors,\n",
    "                 fixed_vecs,\n",
    "                 ratings,\n",
    "                 _lambda,\n",
    "                 type='user'):\n",
    "        \"\"\"\n",
    "        One of the two ALS steps. Solve for the latent vectors\n",
    "        specified by type.\n",
    "        \"\"\"\n",
    "        if type == 'user':\n",
    "            # Precompute\n",
    "            YTY = fixed_vecs.T.dot(fixed_vecs)\n",
    "            lambdaI = np.eye(YTY.shape[0]) * _lambda\n",
    "\n",
    "            for u in range(latent_vectors.shape[0]):\n",
    "                latent_vectors[u, :] = solve((YTY + lambdaI), \n",
    "                                             ratings[u, :].dot(fixed_vecs))\n",
    "        elif type == 'item':\n",
    "            # Precompute\n",
    "            XTX = fixed_vecs.T.dot(fixed_vecs)\n",
    "            lambdaI = np.eye(XTX.shape[0]) * _lambda\n",
    "            \n",
    "            for i in range(latent_vectors.shape[0]):\n",
    "                latent_vectors[i, :] = solve((XTX + lambdaI), \n",
    "                                             ratings[:, i].T.dot(fixed_vecs))\n",
    "        return latent_vectors\n",
    "\n",
    "    def train(self, n_iter=10):\n",
    "        \"\"\" Train model for n_iter iterations from scratch.\"\"\"\n",
    "        # initialize latent vectors\n",
    "        self.user_vecs = np.random.random((self.n_users, self.n_factors))\n",
    "        self.item_vecs = np.random.random((self.n_items, self.n_factors))\n",
    "        \n",
    "        self.partial_train(n_iter)\n",
    "    \n",
    "    def partial_train(self, n_iter):\n",
    "        \"\"\" \n",
    "        Train model for n_iter iterations. Can be \n",
    "        called multiple times for further training.\n",
    "        \"\"\"\n",
    "        ctr = 1\n",
    "        while ctr <= n_iter:\n",
    "            if ctr % 10 == 0 and self._v:\n",
    "                print ('\\tcurrent iteration: {}'.format(ctr))\n",
    "            self.user_vecs = self.als_step(self.user_vecs, \n",
    "                                           self.item_vecs, \n",
    "                                           self.ratings, \n",
    "                                           self.user_reg, \n",
    "                                           type='user')\n",
    "            self.item_vecs = self.als_step(self.item_vecs, \n",
    "                                           self.user_vecs, \n",
    "                                           self.ratings, \n",
    "                                           self.item_reg, \n",
    "                                           type='item')\n",
    "            ctr += 1\n",
    "    \n",
    "    def predict_all(self):\n",
    "        \"\"\" Predict ratings for every user and item. \"\"\"\n",
    "        predictions = np.zeros((self.user_vecs.shape[0], \n",
    "                                self.item_vecs.shape[0]))\n",
    "        for u in range(self.user_vecs.shape[0]):\n",
    "            for i in range(self.item_vecs.shape[0]):\n",
    "                predictions[u, i] = self.predict(u, i)\n",
    "                \n",
    "        return predictions\n",
    "    def predict(self, u, i):\n",
    "        \"\"\" Single user and item prediction. \"\"\"\n",
    "        return self.user_vecs[u, :].dot(self.item_vecs[i, :].T)\n",
    "    \n",
    "    def calculate_learning_curve(self, iter_array, test):\n",
    "        \"\"\"\n",
    "        Keep track of MSE as a function of training iterations.\n",
    "        \n",
    "        Params\n",
    "        ======\n",
    "        iter_array : (list)\n",
    "            List of numbers of iterations to train for each step of \n",
    "            the learning curve. e.g. [1, 5, 10, 20]\n",
    "        test : (2D ndarray)\n",
    "            Testing dataset (assumed to be user x item).\n",
    "        \n",
    "        The function creates two new class attributes:\n",
    "        \n",
    "        train_mse : (list)\n",
    "            Training data MSE values for each value of iter_array\n",
    "        test_mse : (list)\n",
    "            Test data MSE values for each value of iter_array\n",
    "        \"\"\"\n",
    "        iter_array.sort()\n",
    "        self.train_mse =[]\n",
    "        self.test_mse = []\n",
    "        iter_diff = 0\n",
    "        for (i, n_iter) in enumerate(iter_array):\n",
    "            if self._v:\n",
    "                print ('Iteration: {}'.format(n_iter))\n",
    "            if i == 0:\n",
    "                self.train(n_iter - iter_diff)\n",
    "            else:\n",
    "                self.partial_train(n_iter - iter_diff)\n",
    "\n",
    "            predictions = self.predict_all()\n",
    "\n",
    "            self.train_mse += [get_mse(predictions, self.ratings)]\n",
    "            self.test_mse += [get_mse(predictions, test)]\n",
    "            if self._v:\n",
    "                print ('Train mse: ' + str(self.train_mse[-1]))\n",
    "                print ('Test mse: ' + str(self.test_mse[-1]))\n",
    "            iter_diff = n_iter"
   ]
  },
  {
   "cell_type": "code",
   "execution_count": null,
   "metadata": {
    "colab": {},
    "colab_type": "code",
    "id": "tpzDfHY8l2YJ"
   },
   "outputs": [],
   "source": [
    "MF_ALS = ExplicitMF(train_df_log, n_factors=30, \\\n",
    "                    user_reg=0.1, item_reg=0.1)\n",
    "\n",
    "iter_array = [1, 2, 5, 10, 25, 50, 100]\n",
    "MF_ALS.calculate_learning_curve(iter_array, test_df_log)"
   ]
  },
  {
   "cell_type": "code",
   "execution_count": null,
   "metadata": {
    "colab": {},
    "colab_type": "code",
    "id": "iXW3u7y0W2ow"
   },
   "outputs": [],
   "source": [
    "MF_ALS = ExplicitMF(train, n_factors=30, \\\n",
    "                    user_reg=0.1, item_reg=0.1)\n",
    "\n",
    "iter_array = [1, 2, 5, 10, 25, 50, 100]\n",
    "MF_ALS.calculate_learning_curve(iter_array, test)"
   ]
  },
  {
   "cell_type": "code",
   "execution_count": null,
   "metadata": {
    "colab": {
     "base_uri": "https://localhost:8080/",
     "height": 102
    },
    "colab_type": "code",
    "id": "I_41PIOgl_SD",
    "outputId": "d2a4de2c-380a-4945-ce4f-e44182f52d11"
   },
   "outputs": [
    {
     "name": "stdout",
     "output_type": "stream",
     "text": [
      "0.679361917984153\n",
      "1.2320636483990755\n",
      "mse of ALS method:  1.0176985949065653\n",
      "1.2400148732500003 0.6502730801666666\n",
      "1.2043619012222222 0.7284031588571429\n"
     ]
    }
   ],
   "source": [
    "#mse of ALS method \n",
    "als_pred = MF_ALS.predict_all()\n",
    "als_pred = np.exp(als_pred)\n",
    "print(als_pred.min())\n",
    "print(als_pred.max())\n",
    "print(\"mse of ALS method: \", get_mse(als_pred, test)) # it is better than SGD method :o \n",
    "print((np.exp(train)).max(), (np.exp(train)).min())\n",
    "print((np.exp(test)).max(), (np.exp(test)).min())"
   ]
  },
  {
   "cell_type": "code",
   "execution_count": null,
   "metadata": {
    "colab": {
     "base_uri": "https://localhost:8080/",
     "height": 308
    },
    "colab_type": "code",
    "id": "Y2kJUaZ6mzGr",
    "outputId": "199cb7ee-ecee-46fe-9bfc-3b735d3d184d"
   },
   "outputs": [
    {
     "data": {
      "image/png": "[encoded data removed]",
      "text/plain": [
       "<Figure size 432x288 with 1 Axes>"
      ]
     },
     "metadata": {
      "tags": []
     },
     "output_type": "display_data"
    }
   ],
   "source": [
    "plot_learning_curve(iter_array, MF_ALS)"
   ]
  },
  {
   "cell_type": "code",
   "execution_count": null,
   "metadata": {
    "colab": {},
    "colab_type": "code",
    "id": "i-F3wLAvnfwO"
   },
   "outputs": [],
   "source": [
    "# my code to process the training data to have at least 1 entry in each row or column\n",
    "train_df = pd.read_csv(\"CC2020_train_final.csv\")\n",
    "test_df = pd.read_csv(\"CC2020_test_final.csv\")"
   ]
  },
  {
   "cell_type": "code",
   "execution_count": null,
   "metadata": {
    "colab": {
     "base_uri": "https://localhost:8080/",
     "height": 232
    },
    "colab_type": "code",
    "id": "CRN7Df6XKjFi",
    "outputId": "895b8f65-88f3-42ae-ffda-1a0b9c244342"
   },
   "outputs": [
    {
     "ename": "ValueError",
     "evalue": "ignored",
     "output_type": "error",
     "traceback": [
      "\u001b[0;31m---------------------------------------------------------------------------\u001b[0m",
      "\u001b[0;31mValueError\u001b[0m                                Traceback (most recent call last)",
      "\u001b[0;32m<ipython-input-6-4267cc6095b6>\u001b[0m in \u001b[0;36m<module>\u001b[0;34m()\u001b[0m\n\u001b[1;32m      1\u001b[0m \u001b[0ma\u001b[0m \u001b[0;34m=\u001b[0m \u001b[0mnp\u001b[0m\u001b[0;34m.\u001b[0m\u001b[0marray\u001b[0m\u001b[0;34m(\u001b[0m\u001b[0;34m[\u001b[0m\u001b[0;36m0\u001b[0m\u001b[0;34m,\u001b[0m\u001b[0;36m0\u001b[0m\u001b[0;34m,\u001b[0m\u001b[0;36m0\u001b[0m\u001b[0;34m]\u001b[0m\u001b[0;34m)\u001b[0m\u001b[0;34m\u001b[0m\u001b[0;34m\u001b[0m\u001b[0m\n\u001b[1;32m      2\u001b[0m \u001b[0ma\u001b[0m\u001b[0;34m.\u001b[0m\u001b[0mnonzero\u001b[0m\u001b[0;34m(\u001b[0m\u001b[0;34m)\u001b[0m\u001b[0;34m[\u001b[0m\u001b[0;36m0\u001b[0m\u001b[0;34m]\u001b[0m\u001b[0;34m\u001b[0m\u001b[0;34m\u001b[0m\u001b[0m\n\u001b[0;32m----> 3\u001b[0;31m \u001b[0mnp\u001b[0m\u001b[0;34m.\u001b[0m\u001b[0mrandom\u001b[0m\u001b[0;34m.\u001b[0m\u001b[0mchoice\u001b[0m\u001b[0;34m(\u001b[0m\u001b[0ma\u001b[0m\u001b[0;34m.\u001b[0m\u001b[0mnonzero\u001b[0m\u001b[0;34m(\u001b[0m\u001b[0;34m)\u001b[0m\u001b[0;34m[\u001b[0m\u001b[0;36m0\u001b[0m\u001b[0;34m]\u001b[0m\u001b[0;34m)\u001b[0m\u001b[0;34m\u001b[0m\u001b[0;34m\u001b[0m\u001b[0m\n\u001b[0m",
      "\u001b[0;32mmtrand.pyx\u001b[0m in \u001b[0;36mnumpy.random.mtrand.RandomState.choice\u001b[0;34m()\u001b[0m\n",
      "\u001b[0;31mValueError\u001b[0m: 'a' cannot be empty unless no samples are taken"
     ]
    }
   ],
   "source": [
    "a = np.array([0,0,0])\n",
    "a.nonzero()[0]\n",
    "np.random.choice(a.nonzero()[0])"
   ]
  },
  {
   "cell_type": "code",
   "execution_count": null,
   "metadata": {
    "colab": {
     "base_uri": "https://localhost:8080/",
     "height": 306
    },
    "colab_type": "code",
    "id": "7bUAayrsHJZN",
    "outputId": "cb58ad63-d8d6-4af9-bf3f-4414bb439580"
   },
   "outputs": [
    {
     "name": "stdout",
     "output_type": "stream",
     "text": [
      "593\n",
      "496\n",
      "593\n",
      "496\n"
     ]
    },
    {
     "data": {
      "text/plain": [
       "array([[-0.01354771,  0.0561005 ,  0.02342727, ...,  0.        ,\n",
       "         0.        ,  0.        ],\n",
       "       [ 0.        ,  0.        ,  0.        , ...,  0.        ,\n",
       "         0.        ,  0.        ],\n",
       "       [ 0.        ,  0.        ,  0.        , ...,  0.        ,\n",
       "         0.        ,  0.        ],\n",
       "       ...,\n",
       "       [ 0.        ,  0.        ,  0.        , ...,  0.        ,\n",
       "         0.        ,  0.        ],\n",
       "       [ 0.        ,  0.        ,  0.        , ...,  0.        ,\n",
       "         0.        ,  0.        ],\n",
       "       [ 0.        ,  0.02078493,  0.        , ...,  0.        ,\n",
       "         0.        ,  0.        ]])"
      ]
     },
     "execution_count": 7,
     "metadata": {
      "tags": []
     },
     "output_type": "execute_result"
    }
   ],
   "source": [
    "train_df = train_df[['INBRED', 'TESTER', 'YIELD']]\n",
    "grouped_df = train_df.groupby(['INBRED','TESTER'], as_index=False).mean()\n",
    "grouped_df['YIELD'] = np.log(grouped_df['YIELD']).values\n",
    "train_df = grouped_df\n",
    "def train_test_split(mat):\n",
    "    test = np.zeros(mat.shape)\n",
    "    train = mat.copy()\n",
    "    for inbred in range(mat.shape[0]):\n",
    "        test_yields = np.random.choice(mat[inbred, :].nonzero()[0], \n",
    "                                        size=max(1, len(mat[inbred, :].nonzero()[0])//10), \n",
    "                                        replace=False)\n",
    "        train[inbred, test_yields] = 0.\n",
    "        test[inbred, test_yields] = mat[inbred, test_yields]\n",
    "        \n",
    "    # Test and training are truly disjoint\n",
    "    assert(np.all((train * test) == 0)) \n",
    "    return train, test\n",
    "inbred_index = {}\n",
    "tester_index = {}\n",
    "i = 0\n",
    "j = 0\n",
    "for idx, row in train_df.iterrows():\n",
    "    if row['INBRED'] not in inbred_index:\n",
    "        inbred_index[row['INBRED']] = i\n",
    "        i += 1\n",
    "    if row['TESTER'] not in tester_index:\n",
    "        tester_index[row['TESTER']] = j\n",
    "        j += 1\n",
    "print(len(inbred_index))\n",
    "print(len(tester_index))\n",
    "print(i)\n",
    "print(j)\n",
    "n_inbred = 593\n",
    "n_tester = 496\n",
    "mat = np.zeros((n_inbred, n_tester))\n",
    "for row in train_df.itertuples():\n",
    "    mat[inbred_index[row[1]], tester_index[row[2]]] = row[3]\n",
    "mat\n",
    "\n"
   ]
  },
  {
   "cell_type": "code",
   "execution_count": null,
   "metadata": {
    "colab": {},
    "colab_type": "code",
    "id": "Xd7RWAzpMZqu"
   },
   "outputs": [],
   "source": [
    "def train_test_split(mat):\n",
    "    test = np.zeros(mat.shape)\n",
    "    train = mat.copy()\n",
    "    for inbred in range(mat.shape[0]):\n",
    "        if (mat[inbred, :].sum() == 0): print(\"row is zero\")\n",
    "        # print(mat[inbred, :].sum())\n",
    "        test_yields = np.random.choice(mat[inbred, :].nonzero()[0], \n",
    "                                        size=max(0, len(mat[inbred, :].nonzero()[0])//10), \n",
    "                                        replace=False)\n",
    "        train[inbred, test_yields] = 0.\n",
    "        test[inbred, test_yields] = mat[inbred, test_yields]\n",
    "        \n",
    "    # Test and training are truly disjoint\n",
    "    assert(np.all((train * test) == 0)) \n",
    "    return train, test"
   ]
  },
  {
   "cell_type": "code",
   "execution_count": null,
   "metadata": {
    "colab": {},
    "colab_type": "code",
    "id": "8uCV6ZqXHppH"
   },
   "outputs": [],
   "source": [
    "train, test = train_test_split(mat)"
   ]
  },
  {
   "cell_type": "code",
   "execution_count": null,
   "metadata": {
    "colab": {},
    "colab_type": "code",
    "id": "Nxk38opVHuei"
   },
   "outputs": [],
   "source": [
    "mat_na = np.zeros(mat.shape)\n",
    "for i in range(len(mat)):\n",
    "    for j in range(len(mat[0])):\n",
    "        if mat[i,j] == 0:\n",
    "            mat_na[i,j] = np.nan\n",
    "        else:\n",
    "            mat_na[i,j] = mat[i,j]"
   ]
  },
  {
   "cell_type": "code",
   "execution_count": null,
   "metadata": {
    "colab": {
     "base_uri": "https://localhost:8080/",
     "height": 238
    },
    "colab_type": "code",
    "id": "_NuGb9N_H7h-",
    "outputId": "2c19410f-9ec0-4345-f85d-827e9c4fc2b7"
   },
   "outputs": [
    {
     "data": {
      "text/plain": [
       "array([[-0.01354771,  0.0561005 ,  0.02342727, ...,         nan,\n",
       "                nan,         nan],\n",
       "       [        nan,         nan,         nan, ...,         nan,\n",
       "                nan,         nan],\n",
       "       [        nan,         nan,         nan, ...,         nan,\n",
       "                nan,         nan],\n",
       "       ...,\n",
       "       [        nan,         nan,         nan, ...,         nan,\n",
       "                nan,         nan],\n",
       "       [        nan,         nan,         nan, ...,         nan,\n",
       "                nan,         nan],\n",
       "       [        nan,  0.02078493,         nan, ...,         nan,\n",
       "                nan,         nan]])"
      ]
     },
     "execution_count": 11,
     "metadata": {
      "tags": []
     },
     "output_type": "execute_result"
    }
   ],
   "source": [
    "mat_na"
   ]
  },
  {
   "cell_type": "code",
   "execution_count": null,
   "metadata": {
    "colab": {},
    "colab_type": "code",
    "id": "J-JYZ6h6I5v2"
   },
   "outputs": [],
   "source": [
    "train_na = np.zeros(train.shape)\n",
    "for i in range(len(train)):\n",
    "    for j in range(len(train[0])):\n",
    "        if train[i,j] == 0:\n",
    "            train_na[i,j] = np.nan\n",
    "        else:\n",
    "            train_na[i,j] = train[i,j]"
   ]
  },
  {
   "cell_type": "code",
   "execution_count": null,
   "metadata": {
    "colab": {
     "base_uri": "https://localhost:8080/",
     "height": 34
    },
    "colab_type": "code",
    "id": "UH9eD5qTJP5F",
    "outputId": "ca31fb58-e59b-48a0-d4ae-5c2dd79bbfb3"
   },
   "outputs": [
    {
     "data": {
      "text/plain": [
       "(593, 496)"
      ]
     },
     "execution_count": 14,
     "metadata": {
      "tags": []
     },
     "output_type": "execute_result"
    }
   ],
   "source": [
    "mat.shape"
   ]
  },
  {
   "cell_type": "code",
   "execution_count": null,
   "metadata": {
    "colab": {
     "base_uri": "https://localhost:8080/",
     "height": 136
    },
    "colab_type": "code",
    "id": "KTvuJZ5_LDpm",
    "outputId": "ab16a26e-980e-4f76-94ae-ed004fb450fa"
   },
   "outputs": [
    {
     "data": {
      "text/plain": [
       "array([[False, False, False, ...,  True,  True,  True],\n",
       "       [ True,  True,  True, ...,  True,  True,  True],\n",
       "       [ True,  True,  True, ...,  True,  True,  True],\n",
       "       ...,\n",
       "       [ True,  True,  True, ...,  True,  True,  True],\n",
       "       [ True,  True,  True, ...,  True,  True,  True],\n",
       "       [ True, False,  True, ...,  True,  True,  True]])"
      ]
     },
     "execution_count": 15,
     "metadata": {
      "tags": []
     },
     "output_type": "execute_result"
    }
   ],
   "source": [
    "np.isnan(train_na[0:])"
   ]
  },
  {
   "cell_type": "code",
   "execution_count": null,
   "metadata": {
    "colab": {},
    "colab_type": "code",
    "id": "6wCh6pVnNTjL"
   },
   "outputs": [],
   "source": [
    "for i in range(train.shape[0]):\n",
    "    if train[i,:].sum() == 0:\n",
    "        print(\"row is zero\")"
   ]
  },
  {
   "cell_type": "code",
   "execution_count": null,
   "metadata": {
    "colab": {},
    "colab_type": "code",
    "id": "KJblBq-ATJCp"
   },
   "outputs": [],
   "source": [
    "for i in range(mat.shape[0]):\n",
    "    if mat[i,:].sum() == 0:\n",
    "        print(\"row is zeros\")"
   ]
  },
  {
   "cell_type": "code",
   "execution_count": null,
   "metadata": {
    "colab": {},
    "colab_type": "code",
    "id": "uOsXtBzATbPv"
   },
   "outputs": [],
   "source": [
    "#https://gist.github.com/kastnerkyle/9341182\n",
    "\n",
    "# (C) Kyle Kastner, June 2014\n",
    "# License: BSD 3 clause\n",
    "\n",
    "import numpy as np\n",
    "from scipy import sparse\n",
    "\n",
    "\n",
    "def minibatch_indices(X, minibatch_size):\n",
    "    X = list(X)\n",
    "    minibatch_indices = np.arange(0, len(X), minibatch_size)\n",
    "    minibatch_indices = np.asarray(list(minibatch_indices) + [len(X)])\n",
    "    start_indices = minibatch_indices[:-1]\n",
    "    end_indices = minibatch_indices[1:]\n",
    "    return zip(start_indices, end_indices)\n",
    "\n",
    "\n",
    "def shuffle_in_unison(a, b):\n",
    "    \"\"\"\n",
    "    http://stackoverflow.com/questions/4601373/better-way-to-shuffle-two-numpy-arrays-in-unison\n",
    "    \"\"\"\n",
    "    rng_state = np.random.get_state()\n",
    "    np.random.shuffle(a)\n",
    "    np.random.set_state(rng_state)\n",
    "    np.random.shuffle(b)\n",
    "\n",
    "\n",
    "def PMF(X, rank=10, learning_rate=0.001, momentum=0.8,\n",
    "        regularization=0.25, minibatch_size=1000, max_epoch=1000,\n",
    "        nan_value=0, status_percentage=0.1, random_state=None):\n",
    "    \"\"\"\n",
    "    Python implementation of Probabilistic Matrix Factorization (PMF).\n",
    "    Parameters\n",
    "    ----------\n",
    "    X: numpy array or scipy.sparse coo matrix, shape (n_users, n_items)\n",
    "        Input data. If a dense array is passed in, it will be converted to a\n",
    "        sparse matrix by looking for all `nan_value` numbers and treating them\n",
    "        as empty.\n",
    "    rank: int, optional (default=10)\n",
    "       Rank of the low-rank factor matrices. A higher rank should result in a\n",
    "       better approximation, at the cost of more memory and slower computataion.\n",
    "    learning_rate: float, optional (default=0.001)\n",
    "        Learning rate for minibatch gradient descent.\n",
    "    momentum: float, optional (default=0.8)\n",
    "        Momentum for minibatch gradient descent.\n",
    "    regularization: float, optional (default=0.25)\n",
    "        L2 regularization penalty for minibatch gradient descent.\n",
    "    minibatch_size: int, optional (default=1000)\n",
    "       The size of each minibatch. If this is larger than size of the dataset,\n",
    "       will default to running over the whole dataset.\n",
    "    max_epoch: int, optional (default=1000)\n",
    "        The maximum number of epochs.\n",
    "    nan_value: int, optional (default=0)\n",
    "        This value will be masked out of the input for calculations\n",
    "        Should match the value considered the \"not rated\" in the dataset X.\n",
    "    status_percentage: float in (0, 1), optional (default=0.1)\n",
    "        The relative percentage of `max_epochs` when status will be printed.\n",
    "        For example, 0.1 is every 10%, 0.01 is every 1%, and so on. For\n",
    "        the default values of max_epoch=1000, status_percentage=0.1 this\n",
    "        is equivalent to a status print every 100 epochs.\n",
    "    random_state: RandomState, int, or None, optional (default=None)\n",
    "        Random state to pass in. Can be an int, None, or np.random.RandomState\n",
    "        object.\n",
    "    Returns\n",
    "    -------\n",
    "    U: array-like, shape (X.shape[0], rank)\n",
    "        Row basis for reconstruction.\n",
    "        Usage:\n",
    "        reconstruction = np.dot(U, V.T) + X_mean\n",
    "    V: array-like, shape (X.shape[1], rank)\n",
    "        Column basis for reconstruction.\n",
    "        Usage:\n",
    "        reconstruction = np.dot(U, V.T) + X_mean\n",
    "    X_mean: float\n",
    "        Global mean prediction, needed for reconstruction\n",
    "        Usage\n",
    "        reconstruction = np.dot(U, V.T) + X_mean\n",
    "    Notes\n",
    "    -----\n",
    "    Based on code from Ruslan Salakhutdinov\n",
    "    http://www.cs.toronto.edu/~rsalakhu/code_BPMF/pmf.m\n",
    "    Probabilistic Matrix Factorization, R. Salakhutdinov and A. Mnih,\n",
    "    Advances in Neural Information Processing Systems 20, 2008\n",
    "    \"\"\"\n",
    "    if not sparse.isspmatrix_coo(X):\n",
    "        val_index = np.where(X != nan_value)\n",
    "        X = sparse.coo_matrix((X[val_index[0], val_index[1]],\n",
    "                               (val_index[0], val_index[1])))\n",
    "    # Simplest prediction is the global mean\n",
    "    X_mean = X.mean()\n",
    "    lr = learning_rate\n",
    "    reg = regularization\n",
    "    mom = momentum\n",
    "    if random_state is None or type(random_state) is int:\n",
    "        random_state = np.random.RandomState(random_state)\n",
    "    N, M = X.shape\n",
    "    U = 0.1 * random_state.randn(N, rank)\n",
    "    V = 0.1 * random_state.randn(M, rank)\n",
    "    U_inc = np.zeros_like(U)\n",
    "    V_inc = np.zeros_like(V)\n",
    "    dU = np.zeros_like(U)\n",
    "    dV = np.zeros_like(V)\n",
    "    epoch = 0\n",
    "    status_inc = int(np.ceil(max_epoch * status_percentage))\n",
    "    print(\"Printing updates every %i epochs\" % status_inc)\n",
    "    status_points = list(range(0, max_epoch, status_inc)) + [max_epoch - 1]\n",
    "    # Need this in order to index\n",
    "    X_s = X.tolil()\n",
    "    while epoch < max_epoch:\n",
    "        # Get indices for non-NaN values\n",
    "        r, c = X.nonzero()\n",
    "        mb_indices = minibatch_indices(zip(r, c), minibatch_size)\n",
    "        mb_indices = list(mb_indices)\n",
    "        n_batches = len(mb_indices)\n",
    "        shuffle_in_unison(r, c)\n",
    "        mean_abs_err = 0.\n",
    "        for i, j in mb_indices:\n",
    "            # Reset derivative matrices each minibatch\n",
    "            dU[:, :] = 0.\n",
    "            dV[:, :] = 0.\n",
    "            # Slice out row and column indices\n",
    "            r_i = r[i:j]\n",
    "            c_i = c[i:j]\n",
    "            # Get data corresponding to the row and column indices\n",
    "            X_i = X_s[r_i, c_i].toarray().ravel() - X_mean\n",
    "            # Compute predictions\n",
    "            pred = np.sum(U[r_i] * V[c_i], axis=1)\n",
    "            # Compute how algorithm is doing\n",
    "            mean_abs_err += np.sum(np.abs(pred - X_i)) / (n_batches * (j - i))\n",
    "            # Loss has a tendency to be unstable, but is the \"right thing\"\n",
    "            # to monitor instead of sum_abs_err\n",
    "            # pred_loss = (pred - X_i) ** 2\n",
    "            # Compute gradients\n",
    "            grad_loss = 2 * (pred - X_i)\n",
    "            grad_U = grad_loss[:, None] * V[c_i] + reg * U[r_i]\n",
    "            grad_V = grad_loss[:, None] * U[r_i] + reg * V[c_i]\n",
    "            dU[r_i] = grad_U\n",
    "            dV[c_i] = grad_V\n",
    "            # Momentum storage\n",
    "            U_inc = mom * U_inc + lr * dU\n",
    "            V_inc = mom * V_inc + lr * dV\n",
    "            U -= U_inc\n",
    "            V -= V_inc\n",
    "        if epoch in status_points:\n",
    "            print(\"Epoch %i of %i\" % (epoch + 1, max_epoch))\n",
    "            print(\"Mean absolute error %f\" % (mean_abs_err))\n",
    "        epoch += 1\n",
    "    return U, V, X_mean\n",
    "\n",
    "\n",
    "\n",
    "import matplotlib.pyplot as plt\n"
   ]
  },
  {
   "cell_type": "code",
   "execution_count": null,
   "metadata": {
    "colab": {
     "base_uri": "https://localhost:8080/",
     "height": 1000
    },
    "colab_type": "code",
    "id": "joVcbrawLwnU",
    "outputId": "73882ce4-1f97-4609-85e5-aab7e75686b7"
   },
   "outputs": [
    {
     "name": "stdout",
     "output_type": "stream",
     "text": [
      "Printing updates every 25 epochs\n",
      "Epoch 1 of 250\n",
      "Mean absolute error 1.641900\n",
      "Epoch 26 of 250\n",
      "Mean absolute error 0.675860\n",
      "Epoch 51 of 250\n",
      "Mean absolute error 0.158021\n",
      "Epoch 76 of 250\n",
      "Mean absolute error 0.123713\n",
      "Epoch 101 of 250\n",
      "Mean absolute error 0.128096\n",
      "Epoch 126 of 250\n",
      "Mean absolute error 0.120701\n",
      "Epoch 151 of 250\n",
      "Mean absolute error 0.135587\n",
      "Epoch 176 of 250\n",
      "Mean absolute error 0.135484\n",
      "Epoch 201 of 250\n",
      "Mean absolute error 0.123773\n",
      "Epoch 226 of 250\n",
      "Mean absolute error 0.116977\n",
      "Epoch 250 of 250\n",
      "Mean absolute error 0.115955\n"
     ]
    },
    {
     "data": {
      "image/png": "[encoded data removed]",
      "text/plain": [
       "<Figure size 288x360 with 1 Axes>"
      ]
     },
     "metadata": {
      "tags": []
     },
     "output_type": "display_data"
    },
    {
     "data": {
      "image/png": "[encoded data removed]",
      "text/plain": [
       "<Figure size 288x360 with 1 Axes>"
      ]
     },
     "metadata": {
      "tags": []
     },
     "output_type": "display_data"
    }
   ],
   "source": [
    "R = np.array([[5, 3, 0, 1],\n",
    "                [4, 0, 0, 1],\n",
    "                [1, 1, 0, 5],\n",
    "                [1, 0, 0, 4],\n",
    "                [0, 1, 5, 4]], dtype=float)\n",
    "U, V, m = PMF(R, learning_rate=0.001, momentum=0.95,\\\n",
    "                minibatch_size=2, rank=5, max_epoch=250, random_state=1999)\n",
    "R2 = np.dot(U, V.T) + m\n",
    "plt.matshow(R * (R > 0))\n",
    "plt.title(\"Ground truth ratings\")\n",
    "plt.matshow(R2 * (R > 0))\n",
    "plt.title(\"Predicted ratings\")\n",
    "plt.show()"
   ]
  },
  {
   "cell_type": "code",
   "execution_count": null,
   "metadata": {
    "colab": {
     "base_uri": "https://localhost:8080/",
     "height": 408
    },
    "colab_type": "code",
    "id": "BnLPOYYvMJ50",
    "outputId": "6e9240c0-0cae-4aa7-ff64-b5c9452688f2"
   },
   "outputs": [
    {
     "name": "stdout",
     "output_type": "stream",
     "text": [
      "Printing updates every 25 epochs\n",
      "Epoch 1 of 250\n",
      "Mean absolute error 0.058866\n",
      "Epoch 26 of 250\n",
      "Mean absolute error 0.044674\n",
      "Epoch 51 of 250\n",
      "Mean absolute error 0.044937\n",
      "Epoch 76 of 250\n",
      "Mean absolute error 0.045001\n",
      "Epoch 101 of 250\n",
      "Mean absolute error 0.045016\n",
      "Epoch 126 of 250\n",
      "Mean absolute error 0.045024\n",
      "Epoch 151 of 250\n",
      "Mean absolute error 0.045023\n",
      "Epoch 176 of 250\n",
      "Mean absolute error 0.045024\n",
      "Epoch 201 of 250\n",
      "Mean absolute error 0.045027\n",
      "Epoch 226 of 250\n",
      "Mean absolute error 0.045030\n",
      "Epoch 250 of 250\n",
      "Mean absolute error 0.045027\n"
     ]
    }
   ],
   "source": [
    "U, V, m = PMF(train, learning_rate=0.001, momentum=0.95,\\\n",
    "                minibatch_size=5, rank=30, max_epoch=250, random_state=1999)"
   ]
  },
  {
   "cell_type": "code",
   "execution_count": null,
   "metadata": {
    "colab": {},
    "colab_type": "code",
    "id": "hu5J9e9nNPv6"
   },
   "outputs": [],
   "source": [
    "pred = np.dot(U, V.T) + m"
   ]
  },
  {
   "cell_type": "code",
   "execution_count": null,
   "metadata": {
    "colab": {
     "base_uri": "https://localhost:8080/",
     "height": 34
    },
    "colab_type": "code",
    "id": "z3CaSBfJNYM6",
    "outputId": "94733f26-3ab6-4f8e-afa8-29165876947c"
   },
   "outputs": [
    {
     "data": {
      "text/plain": [
       "1.0154126011071843e-05"
      ]
     },
     "execution_count": 48,
     "metadata": {
      "tags": []
     },
     "output_type": "execute_result"
    }
   ],
   "source": [
    "get_mse(np.exp(pred), np.exp(test))"
   ]
  },
  {
   "cell_type": "code",
   "execution_count": null,
   "metadata": {
    "colab": {
     "base_uri": "https://localhost:8080/",
     "height": 281
    },
    "colab_type": "code",
    "id": "2l9P4Q0SNfkQ",
    "outputId": "c5ef43e1-cd33-4e74-e078-d39743303e5f"
   },
   "outputs": [
    {
     "data": {
      "image/png": "[encoded data removed]",
      "text/plain": [
       "<Figure size 432x288 with 1 Axes>"
      ]
     },
     "metadata": {
      "tags": []
     },
     "output_type": "display_data"
    }
   ],
   "source": [
    "plt.hist(np.exp(pred)[train.nonzero()].flatten(), alpha = 0.5, label = \"test prediction\")\n",
    "plt.title(\"Histogram of Test Prediction vs Test Data\")\n",
    "plt.hist(np.exp(train)[train.nonzero()].flatten(), alpha = 0.5, label = \"test data\")\n",
    "plt.legend(loc = \"best\")\n",
    "plt.show()"
   ]
  },
  {
   "cell_type": "code",
   "execution_count": null,
   "metadata": {
    "colab": {
     "base_uri": "https://localhost:8080/",
     "height": 367
    },
    "colab_type": "code",
    "id": "4Rk5sK32PgNR",
    "outputId": "0a6bc1c4-3141-4aa5-acfa-1ea6a1e48d10"
   },
   "outputs": [
    {
     "data": {
      "text/plain": [
       "(array([3.00000e+00, 4.00000e+00, 7.00000e+00, 2.94084e+05, 2.40000e+01,\n",
       "        3.00000e+00, 1.00000e+00, 1.00000e+00, 0.00000e+00, 1.00000e+00]),\n",
       " array([0.99229637, 0.99427585, 0.99625532, 0.9982348 , 1.00021427,\n",
       "        1.00219375, 1.00417323, 1.0061527 , 1.00813218, 1.01011166,\n",
       "        1.01209113]),\n",
       " <a list of 10 Patch objects>)"
      ]
     },
     "execution_count": 50,
     "metadata": {
      "tags": []
     },
     "output_type": "execute_result"
    },
    {
     "data": {
      "image/png": "[encoded data removed]",
      "text/plain": [
       "<Figure size 432x288 with 1 Axes>"
      ]
     },
     "metadata": {
      "tags": []
     },
     "output_type": "display_data"
    }
   ],
   "source": [
    "plt.hist(np.exp(pred).flatten(), alpha = 0.5, label = \"test prediction\")"
   ]
  },
  {
   "cell_type": "code",
   "execution_count": null,
   "metadata": {
    "colab": {
     "base_uri": "https://localhost:8080/",
     "height": 238
    },
    "colab_type": "code",
    "id": "SwqhC1BxPraw",
    "outputId": "e6639a2c-56f9-42a1-b2b0-33833cbf0c61"
   },
   "outputs": [
    {
     "data": {
      "text/plain": [
       "array([[0.99980659, 0.99980659, 0.99980659, ..., 0.99980659, 0.99980659,\n",
       "        0.99980659],\n",
       "       [0.99980659, 0.99980659, 0.99980659, ..., 0.99980659, 0.99980659,\n",
       "        0.99980659],\n",
       "       [0.99980634, 0.9998066 , 0.9998066 , ..., 0.99980512, 0.99980875,\n",
       "        0.99980689],\n",
       "       ...,\n",
       "       [0.99980656, 0.99980659, 0.99980659, ..., 0.99980659, 0.99980666,\n",
       "        0.99980659],\n",
       "       [0.99980657, 0.99980659, 0.99980659, ..., 0.99980658, 0.99980665,\n",
       "        0.99980659],\n",
       "       [0.99980659, 0.99980659, 0.99980659, ..., 0.99980659, 0.99980659,\n",
       "        0.99980659]])"
      ]
     },
     "execution_count": 51,
     "metadata": {
      "tags": []
     },
     "output_type": "execute_result"
    }
   ],
   "source": [
    "np.exp(pred)"
   ]
  },
  {
   "cell_type": "code",
   "execution_count": null,
   "metadata": {
    "colab": {
     "base_uri": "https://localhost:8080/",
     "height": 34
    },
    "colab_type": "code",
    "id": "5sjuGZfIPNzP",
    "outputId": "cf9cd191-19ff-408c-f1ea-f446822ced78"
   },
   "outputs": [
    {
     "data": {
      "text/plain": [
       "0.9365675660995203"
      ]
     },
     "execution_count": 41,
     "metadata": {
      "tags": []
     },
     "output_type": "execute_result"
    }
   ],
   "source": [
    "np.exp(pred).min()"
   ]
  },
  {
   "cell_type": "code",
   "execution_count": null,
   "metadata": {
    "colab": {
     "base_uri": "https://localhost:8080/",
     "height": 34
    },
    "colab_type": "code",
    "id": "JjtO3xL7PUlE",
    "outputId": "1f2c7691-196d-4095-c2b0-b325b4ce7058"
   },
   "outputs": [
    {
     "data": {
      "text/plain": [
       "1.0783314444061725"
      ]
     },
     "execution_count": 42,
     "metadata": {
      "tags": []
     },
     "output_type": "execute_result"
    }
   ],
   "source": [
    "np.exp(pred).max()"
   ]
  },
  {
   "cell_type": "code",
   "execution_count": null,
   "metadata": {
    "colab": {},
    "colab_type": "code",
    "id": "1E4DlpKWNhQp"
   },
   "outputs": [],
   "source": [
    "#explore this for graph auto encoder\n",
    "#https://github.com/tkipf/gae"
   ]
  }
 ],
 "metadata": {
  "colab": {
   "collapsed_sections": [],
   "name": "syngenta_data_exploration.ipynb",
   "provenance": []
  },
  "kernelspec": {
   "display_name": "Python-3",
   "language": "python",
   "name": "python3"
  },
  "language_info": {
   "codemirror_mode": {
    "name": "ipython",
    "version": 3
   },
   "file_extension": ".py",
   "mimetype": "text/x-python",
   "name": "python",
   "nbconvert_exporter": "python",
   "pygments_lexer": "ipython3",
   "version": "3.6.7"
  }
 },
 "nbformat": 4,
 "nbformat_minor": 2
}
