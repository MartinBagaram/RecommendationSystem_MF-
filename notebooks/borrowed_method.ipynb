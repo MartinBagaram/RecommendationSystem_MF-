{
 "cells": [
  {
   "cell_type": "code",
   "execution_count": 1,
   "metadata": {},
   "outputs": [],
   "source": [
    "%matplotlib inline\n",
    "import matplotlib\n",
    "import matplotlib.pyplot as plt\n",
    "import numpy as np\n",
    "import pandas as pd"
   ]
  },
  {
   "cell_type": "markdown",
   "metadata": {},
   "source": [
    "Prepare the dataset for the algorithm"
   ]
  },
  {
   "cell_type": "code",
   "execution_count": 17,
   "metadata": {},
   "outputs": [
    {
     "data": {
      "text/html": [
       "<div>\n",
       "<style scoped>\n",
       "    .dataframe tbody tr th:only-of-type {\n",
       "        vertical-align: middle;\n",
       "    }\n",
       "\n",
       "    .dataframe tbody tr th {\n",
       "        vertical-align: top;\n",
       "    }\n",
       "\n",
       "    .dataframe thead th {\n",
       "        text-align: right;\n",
       "    }\n",
       "</style>\n",
       "<table border=\"1\" class=\"dataframe\">\n",
       "  <thead>\n",
       "    <tr style=\"text-align: right;\">\n",
       "      <th></th>\n",
       "      <th>INBRED</th>\n",
       "      <th>TESTER</th>\n",
       "      <th>avg</th>\n",
       "      <th>med</th>\n",
       "      <th>sd</th>\n",
       "      <th>cv</th>\n",
       "      <th>qt</th>\n",
       "    </tr>\n",
       "  </thead>\n",
       "  <tbody>\n",
       "    <tr>\n",
       "      <th>0</th>\n",
       "      <td>Inbred_1071</td>\n",
       "      <td>Tester_1345</td>\n",
       "      <td>0.986544</td>\n",
       "      <td>1.012475</td>\n",
       "      <td>0.128227</td>\n",
       "      <td>0.129976</td>\n",
       "      <td>3</td>\n",
       "    </tr>\n",
       "    <tr>\n",
       "      <th>1</th>\n",
       "      <td>Inbred_1071</td>\n",
       "      <td>Tester_4373</td>\n",
       "      <td>1.057704</td>\n",
       "      <td>1.059865</td>\n",
       "      <td>0.092430</td>\n",
       "      <td>0.087388</td>\n",
       "      <td>6</td>\n",
       "    </tr>\n",
       "    <tr>\n",
       "      <th>2</th>\n",
       "      <td>Inbred_1071</td>\n",
       "      <td>Tester_4473</td>\n",
       "      <td>1.023704</td>\n",
       "      <td>1.044409</td>\n",
       "      <td>0.103460</td>\n",
       "      <td>0.101064</td>\n",
       "      <td>5</td>\n",
       "    </tr>\n",
       "    <tr>\n",
       "      <th>3</th>\n",
       "      <td>Inbred_1071</td>\n",
       "      <td>Tester_4541</td>\n",
       "      <td>1.014735</td>\n",
       "      <td>1.025219</td>\n",
       "      <td>0.046778</td>\n",
       "      <td>0.046099</td>\n",
       "      <td>4</td>\n",
       "    </tr>\n",
       "    <tr>\n",
       "      <th>4</th>\n",
       "      <td>Inbred_1071</td>\n",
       "      <td>Tester_5305</td>\n",
       "      <td>1.062727</td>\n",
       "      <td>1.036744</td>\n",
       "      <td>0.088751</td>\n",
       "      <td>0.083513</td>\n",
       "      <td>6</td>\n",
       "    </tr>\n",
       "  </tbody>\n",
       "</table>\n",
       "</div>"
      ],
      "text/plain": [
       "        INBRED       TESTER       avg       med        sd        cv  qt\n",
       "0  Inbred_1071  Tester_1345  0.986544  1.012475  0.128227  0.129976   3\n",
       "1  Inbred_1071  Tester_4373  1.057704  1.059865  0.092430  0.087388   6\n",
       "2  Inbred_1071  Tester_4473  1.023704  1.044409  0.103460  0.101064   5\n",
       "3  Inbred_1071  Tester_4541  1.014735  1.025219  0.046778  0.046099   4\n",
       "4  Inbred_1071  Tester_5305  1.062727  1.036744  0.088751  0.083513   6"
      ]
     },
     "execution_count": 17,
     "metadata": {},
     "output_type": "execute_result"
    }
   ],
   "source": [
    "df.head()"
   ]
  },
  {
   "cell_type": "code",
   "execution_count": 22,
   "metadata": {},
   "outputs": [],
   "source": [
    "df = pd.read_csv(\"train_data.csv\")\n",
    "df.drop(labels=df.columns[0], axis=1, inplace=True)\n",
    "df_rotated = df.pivot(index='INBRED', columns='TESTER', values='avg')\n",
    "df_rotated.fillna(0.0, inplace=True)"
   ]
  },
  {
   "cell_type": "code",
   "execution_count": 24,
   "metadata": {},
   "outputs": [],
   "source": [
    "R = df_rotated.values"
   ]
  },
  {
   "cell_type": "code",
   "execution_count": null,
   "metadata": {},
   "outputs": [],
   "source": []
  },
  {
   "cell_type": "code",
   "execution_count": 91,
   "metadata": {},
   "outputs": [],
   "source": [
    "class MF():\n",
    "    \n",
    "    def __init__(self, R, K, alpha, beta, iterations):\n",
    "        \"\"\"\n",
    "        Perform matrix factorization to predict empty\n",
    "        entries in a matrix.\n",
    "        \n",
    "        Arguments\n",
    "        - R (ndarray)   : user-item rating matrix\n",
    "        - K (int)       : number of latent dimensions\n",
    "        - alpha (float) : learning rate\n",
    "        - beta (float)  : regularization parameter\n",
    "        \"\"\"\n",
    "        \n",
    "        self.R = R\n",
    "        self.num_users, self.num_items = R.shape\n",
    "        self.K = K\n",
    "        self.alpha = alpha\n",
    "        self.beta = beta\n",
    "        self.iterations = iterations\n",
    "\n",
    "    def train(self):\n",
    "        # Initialize user and item latent feature matrice\n",
    "        self.P = np.random.normal(scale=1./self.K, size=(self.num_users, self.K))\n",
    "        self.Q = np.random.normal(scale=1./self.K, size=(self.num_items, self.K))\n",
    "        \n",
    "        # Initialize the biases\n",
    "        self.b_u = np.zeros(self.num_users)\n",
    "        self.b_i = np.zeros(self.num_items)\n",
    "        self.b = np.mean(self.R[np.where(self.R != 0)])\n",
    "        \n",
    "        # Create a list of training samples\n",
    "        self.samples = [\n",
    "            (i, j, self.R[i, j])\n",
    "            for i in range(self.num_users)\n",
    "            for j in range(self.num_items)\n",
    "            if self.R[i, j] > 0\n",
    "        ]\n",
    "        \n",
    "        # Perform stochastic gradient descent for number of iterations\n",
    "        training_process = []\n",
    "        for i in range(self.iterations):\n",
    "            np.random.shuffle(self.samples)\n",
    "            self.sgd()\n",
    "            mse = self.mse()\n",
    "            training_process.append((i, mse))\n",
    "            if (i+1) % 10 == 0:\n",
    "                print(\"Iteration: %d ; error = %.4f\" % (i+1, mse))\n",
    "        \n",
    "        return training_process\n",
    "\n",
    "    def mse(self):\n",
    "        \"\"\"\n",
    "        A function to compute the total mean square error\n",
    "        \"\"\"\n",
    "        xs, ys = self.R.nonzero()\n",
    "        predicted = self.full_matrix()\n",
    "        error = 0\n",
    "        for x, y in zip(xs, ys):\n",
    "            error += pow(self.R[x, y] - predicted[x, y], 2)\n",
    "        return np.sqrt(error)\n",
    "\n",
    "    def sgd(self):\n",
    "        \"\"\"\n",
    "        Perform stochastic graident descent\n",
    "        \"\"\"\n",
    "        for i, j, r in self.samples:\n",
    "            # Computer prediction and error\n",
    "            prediction = self.get_rating(i, j)\n",
    "            e = (r - prediction)\n",
    "            \n",
    "            # Update biases\n",
    "            self.b_u[i] += self.alpha * (e - self.beta * self.b_u[i])\n",
    "            self.b_i[j] += self.alpha * (e - self.beta * self.b_i[j])\n",
    "            \n",
    "            # Create copy of row of P since we need to update it but use older values for update on Q\n",
    "            P_i = self.P[i, :][:]\n",
    "            \n",
    "            # Update user and item latent feature matrices\n",
    "            self.P[i, :] += self.alpha * (e * self.Q[j, :] - self.beta * self.P[i,:])\n",
    "            self.Q[j, :] += self.alpha * (e * P_i - self.beta * self.Q[j,:])\n",
    "\n",
    "    def get_rating(self, i, j):\n",
    "        \"\"\"\n",
    "        Get the predicted rating of user i and item j\n",
    "        \"\"\"\n",
    "        prediction = self.b + self.b_u[i] + self.b_i[j] + self.P[i, :].dot(self.Q[j, :].T)\n",
    "        return prediction\n",
    "    \n",
    "    def full_matrix(self):\n",
    "        \"\"\"\n",
    "        Computer the full matrix using the resultant biases, P and Q\n",
    "        \"\"\"\n",
    "        return mf.b_u[:,np.newaxis] + mf.b_i[np.newaxis:,] + mf.P.dot(mf.Q.T)  + mf.b\n",
    "\n",
    "# R = np.array([\n",
    "#     [5, 3, 0, 1],\n",
    "#     [4, 0, 0, 1],\n",
    "#     [1, 1, 0, 5],\n",
    "#     [1, 0, 0, 4],\n",
    "#     [0, 1, 5, 4],\n",
    "# ])\n",
    "\n",
    "\n",
    "\n",
    "\n"
   ]
  },
  {
   "cell_type": "code",
   "execution_count": 109,
   "metadata": {},
   "outputs": [
    {
     "name": "stdout",
     "output_type": "stream",
     "text": [
      "Iteration: 10 ; error = 4.7924\n",
      "Iteration: 20 ; error = 4.2890\n",
      "Iteration: 30 ; error = 4.0409\n",
      "Iteration: 40 ; error = 3.9029\n",
      "Iteration: 50 ; error = 3.7843\n",
      "Iteration: 60 ; error = 3.6669\n",
      "Iteration: 70 ; error = 3.5736\n",
      "Iteration: 80 ; error = 3.4996\n",
      "Iteration: 90 ; error = 3.4294\n",
      "Iteration: 100 ; error = 3.3801\n",
      "Iteration: 110 ; error = 3.3276\n",
      "Iteration: 120 ; error = 3.2679\n",
      "Iteration: 130 ; error = 3.2206\n",
      "Iteration: 140 ; error = 3.1764\n",
      "Iteration: 150 ; error = 3.1386\n",
      "Iteration: 160 ; error = 3.1458\n",
      "Iteration: 170 ; error = 3.0967\n",
      "Iteration: 180 ; error = 3.0654\n",
      "Iteration: 190 ; error = 3.0352\n",
      "Iteration: 200 ; error = 3.0035\n",
      "Iteration: 210 ; error = 2.9897\n",
      "Iteration: 220 ; error = 2.9567\n",
      "Iteration: 230 ; error = 2.9395\n",
      "Iteration: 240 ; error = 2.9012\n",
      "Iteration: 250 ; error = 2.8812\n",
      "Iteration: 260 ; error = 2.8711\n",
      "Iteration: 270 ; error = 2.8495\n",
      "Iteration: 280 ; error = 2.8342\n",
      "Iteration: 290 ; error = 2.8142\n",
      "Iteration: 300 ; error = 2.8027\n",
      "Iteration: 310 ; error = 2.7768\n",
      "Iteration: 320 ; error = 2.7581\n",
      "Iteration: 330 ; error = 2.7702\n",
      "Iteration: 340 ; error = 2.7290\n",
      "Iteration: 350 ; error = 2.7309\n",
      "Iteration: 360 ; error = 2.7207\n",
      "Iteration: 370 ; error = 2.7078\n",
      "Iteration: 380 ; error = 2.6955\n",
      "Iteration: 390 ; error = 2.6832\n",
      "Iteration: 400 ; error = 2.6657\n",
      "Iteration: 410 ; error = 2.6571\n",
      "Iteration: 420 ; error = 2.6620\n",
      "Iteration: 430 ; error = 2.6367\n",
      "Iteration: 440 ; error = 2.6498\n",
      "Iteration: 450 ; error = 2.6206\n",
      "Iteration: 460 ; error = 2.6175\n",
      "Iteration: 470 ; error = 2.6187\n",
      "Iteration: 480 ; error = 2.6033\n",
      "Iteration: 490 ; error = 2.5975\n",
      "Iteration: 500 ; error = 2.5849\n",
      "Iteration: 510 ; error = 2.5771\n",
      "Iteration: 520 ; error = 2.5730\n",
      "Iteration: 530 ; error = 2.5815\n",
      "Iteration: 540 ; error = 2.5620\n",
      "Iteration: 550 ; error = 2.5346\n",
      "Iteration: 560 ; error = 2.5437\n",
      "Iteration: 570 ; error = 2.5527\n",
      "Iteration: 580 ; error = 2.5382\n",
      "Iteration: 590 ; error = 2.5215\n",
      "Iteration: 600 ; error = 2.5443\n",
      "Iteration: 610 ; error = 2.5236\n",
      "Iteration: 620 ; error = 2.5068\n",
      "Iteration: 630 ; error = 2.5055\n",
      "Iteration: 640 ; error = 2.5114\n",
      "Iteration: 650 ; error = 2.5002\n",
      "Iteration: 660 ; error = 2.5140\n",
      "Iteration: 670 ; error = 2.4931\n",
      "Iteration: 680 ; error = 2.5020\n",
      "Iteration: 690 ; error = 2.4806\n",
      "Iteration: 700 ; error = 2.4807\n",
      "Iteration: 710 ; error = 2.4860\n",
      "Iteration: 720 ; error = 2.4742\n",
      "Iteration: 730 ; error = 2.4700\n",
      "Iteration: 740 ; error = 2.4678\n",
      "Iteration: 750 ; error = 2.4728\n",
      "Iteration: 760 ; error = 2.4461\n",
      "Iteration: 770 ; error = 2.4605\n",
      "Iteration: 780 ; error = 2.4829\n",
      "Iteration: 790 ; error = 2.4641\n",
      "Iteration: 800 ; error = 2.4455\n",
      "Iteration: 810 ; error = 2.4586\n",
      "Iteration: 820 ; error = 2.4605\n",
      "Iteration: 830 ; error = 2.4452\n",
      "Iteration: 840 ; error = 2.4622\n",
      "Iteration: 850 ; error = 2.4541\n",
      "Iteration: 860 ; error = 2.4481\n",
      "Iteration: 870 ; error = 2.4515\n",
      "Iteration: 880 ; error = 2.4188\n",
      "Iteration: 890 ; error = 2.4330\n",
      "Iteration: 900 ; error = 2.4233\n",
      "Iteration: 910 ; error = 2.4285\n",
      "Iteration: 920 ; error = 2.4130\n",
      "Iteration: 930 ; error = 2.4217\n",
      "Iteration: 940 ; error = 2.4089\n",
      "Iteration: 950 ; error = 2.4063\n",
      "Iteration: 960 ; error = 2.4147\n",
      "Iteration: 970 ; error = 2.4119\n",
      "Iteration: 980 ; error = 2.3943\n",
      "Iteration: 990 ; error = 2.3972\n",
      "Iteration: 1000 ; error = 2.3991\n",
      "\n",
      "Global bias:\n",
      "0.9959099104466108\n"
     ]
    }
   ],
   "source": [
    "mf = MF(R, K=5, alpha=0.1, beta=0.00001, iterations=1000)\n",
    "training_process = mf.train()\n",
    "print()\n",
    "# print(\"P x Q:\")\n",
    "# print(mf.full_matrix())\n",
    "# print()\n",
    "print(\"Global bias:\")\n",
    "print(mf.b)\n",
    "# print()\n",
    "# print(\"User bias:\")\n",
    "# print(mf.b_u)\n",
    "# print()\n",
    "# print(\"Item bias:\")\n",
    "# print(mf.b_i)\n"
   ]
  },
  {
   "cell_type": "code",
   "execution_count": 110,
   "metadata": {},
   "outputs": [
    {
     "data": {
      "image/png": "[encoded data removed]",
      "text/plain": [
       "<Figure size 1152x288 with 1 Axes>"
      ]
     },
     "metadata": {
      "needs_background": "light"
     },
     "output_type": "display_data"
    }
   ],
   "source": [
    "x = [x for x, y in training_process]\n",
    "y = [y for x, y in training_process]\n",
    "plt.figure(figsize=((16,4)))\n",
    "plt.plot(x, y)\n",
    "plt.xticks(x, x)\n",
    "plt.xlabel(\"Iterations\")\n",
    "plt.ylabel(\"Mean Square Error\")\n",
    "plt.grid(axis=\"y\")\n",
    "\n"
   ]
  },
  {
   "cell_type": "code",
   "execution_count": 111,
   "metadata": {},
   "outputs": [
    {
     "data": {
      "text/plain": [
       "(array([2.00000e+00, 1.10000e+01, 2.48000e+02, 4.50200e+03, 1.19315e+05,\n",
       "        1.63454e+05, 4.25900e+03, 1.54000e+02, 7.00000e+00, 2.00000e+00]),\n",
       " array([-0.36427904, -0.09660504,  0.17106897,  0.43874297,  0.70641698,\n",
       "         0.97409098,  1.24176498,  1.50943899,  1.77711299,  2.044787  ,\n",
       "         2.312461  ]),\n",
       " <a list of 10 Patch objects>)"
      ]
     },
     "execution_count": 111,
     "metadata": {},
     "output_type": "execute_result"
    },
    {
     "data": {
      "image/png": "[encoded data removed]",
      "text/plain": [
       "<Figure size 432x288 with 1 Axes>"
      ]
     },
     "metadata": {
      "needs_background": "light"
     },
     "output_type": "display_data"
    }
   ],
   "source": [
    "x = mf.full_matrix()\n",
    "plt.hist(np.reshape(x, R.shape[0]*R.shape[1], 1))"
   ]
  },
  {
   "cell_type": "code",
   "execution_count": 112,
   "metadata": {},
   "outputs": [],
   "source": [
    "pred = mf.full_matrix()"
   ]
  },
  {
   "cell_type": "markdown",
   "metadata": {},
   "source": [
    "First let put the data back in a data fram"
   ]
  },
  {
   "cell_type": "code",
   "execution_count": 113,
   "metadata": {},
   "outputs": [],
   "source": [
    "pref_df = pd.DataFrame(pred, columns=df_rotated.columns, index=df_rotated.index)"
   ]
  },
  {
   "cell_type": "code",
   "execution_count": null,
   "metadata": {},
   "outputs": [],
   "source": []
  },
  {
   "cell_type": "code",
   "execution_count": 125,
   "metadata": {},
   "outputs": [],
   "source": [
    "df_test = pd.read_csv(\"test_data.csv\")\n",
    "df_test.drop(labels=df_test.columns[0], axis=1, inplace=True)\n",
    "df_test_rotated = df_test.pivot(index='INBRED', columns='TESTER', values='avg')\n",
    "# df_test_rotated.fillna(-999.0, inplace=True)"
   ]
  },
  {
   "cell_type": "markdown",
   "metadata": {},
   "source": [
    "Compute the testing MSE"
   ]
  },
  {
   "cell_type": "code",
   "execution_count": 155,
   "metadata": {},
   "outputs": [],
   "source": [
    "rmse = 0\n",
    "arr = []\n",
    "for idx, row in df_test_rotated.iterrows():\n",
    "    if idx in pref_df.index:\n",
    "        arr.append([pow((df_test_rotated.loc[idx, col] - pref_df.loc[idx, col]), 2) for col, val in row.iteritems() if ~np.isnan(val) and col in df_rotated.columns ])\n",
    "count = len(arr)\n",
    "rmse = np.sqrt(sum(np.sum(arr))/count)"
   ]
  },
  {
   "cell_type": "code",
   "execution_count": 156,
   "metadata": {},
   "outputs": [
    {
     "data": {
      "text/plain": [
       "0.13297615364881699"
      ]
     },
     "execution_count": 156,
     "metadata": {},
     "output_type": "execute_result"
    }
   ],
   "source": [
    "rmse"
   ]
  },
  {
   "cell_type": "code",
   "execution_count": 159,
   "metadata": {},
   "outputs": [
    {
     "data": {
      "text/plain": [
       "(array([985.,  61.,  23.,   9.,   6.,   2.,   1.,   0.,   0.,   1.]),\n",
       " array([6.44678660e-09, 1.91994586e-02, 3.83989107e-02, 5.75983628e-02,\n",
       "        7.67978149e-02, 9.59972670e-02, 1.15196719e-01, 1.34396171e-01,\n",
       "        1.53595623e-01, 1.72795075e-01, 1.91994528e-01]),\n",
       " <a list of 10 Patch objects>)"
      ]
     },
     "execution_count": 159,
     "metadata": {},
     "output_type": "execute_result"
    },
    {
     "data": {
      "image/png": "[encoded data removed]",
      "text/plain": [
       "<Figure size 432x288 with 1 Axes>"
      ]
     },
     "metadata": {
      "needs_background": "light"
     },
     "output_type": "display_data"
    }
   ],
   "source": [
    "plt.hist(np.sum(arr))"
   ]
  },
  {
   "cell_type": "code",
   "execution_count": 161,
   "metadata": {},
   "outputs": [],
   "source": [
    "import seaborn as sns"
   ]
  },
  {
   "cell_type": "code",
   "execution_count": 162,
   "metadata": {},
   "outputs": [
    {
     "name": "stderr",
     "output_type": "stream",
     "text": [
      "C:\\Users\\Martins\\Anaconda3\\lib\\site-packages\\scipy\\stats\\stats.py:1713: FutureWarning: Using a non-tuple sequence for multidimensional indexing is deprecated; use `arr[tuple(seq)]` instead of `arr[seq]`. In the future this will be interpreted as an array index, `arr[np.array(seq)]`, which will result either in an error or a different result.\n",
      "  return np.add.reduce(sorted[indexer] * weights, axis=axis) / sumval\n"
     ]
    },
    {
     "data": {
      "text/plain": [
       "<matplotlib.axes._subplots.AxesSubplot at 0x20041b61e80>"
      ]
     },
     "execution_count": 162,
     "metadata": {},
     "output_type": "execute_result"
    },
    {
     "data": {
      "image/png": "[encoded data removed]",
      "text/plain": [
       "<Figure size 432x288 with 1 Axes>"
      ]
     },
     "metadata": {
      "needs_background": "light"
     },
     "output_type": "display_data"
    }
   ],
   "source": [
    "sns.distplot(np.sum(arr))"
   ]
  },
  {
   "cell_type": "code",
   "execution_count": 2,
   "metadata": {},
   "outputs": [
    {
     "ename": "SyntaxError",
     "evalue": "unexpected EOF while parsing (<ipython-input-2-b6b840d7d7b3>, line 20)",
     "output_type": "error",
     "traceback": [
      "\u001b[1;36m  File \u001b[1;32m\"<ipython-input-2-b6b840d7d7b3>\"\u001b[1;36m, line \u001b[1;32m20\u001b[0m\n\u001b[1;33m    class write():\u001b[0m\n\u001b[1;37m                  ^\u001b[0m\n\u001b[1;31mSyntaxError\u001b[0m\u001b[1;31m:\u001b[0m unexpected EOF while parsing\n"
     ]
    }
   ],
   "source": [
    "kmax = 30\n",
    "ks  = range(2, kmax+1, 2)\n",
    "alphas = [10**i for i in range(-5,0)]\n",
    "betas = [10**i for i in range(-5,0)]\n",
    "lambdas = [10**i for i in range(-5,0)]\n",
    "best_test_error = {}\n",
    "for k in ks:\n",
    "    print(f'running k = {k}')\n",
    "    if k > 5:\n",
    "        for a in alphas:\n",
    "            for beta in betas:\n",
    "                for lambda_bias in lambdas:\n",
    "                    mf = MF(train, K=k, alpha=a, beta=beta, iterations=300, lambda_bias=lambda_bias)\n",
    "                    training_process, test_process = mf.train()\n",
    "                    best_test_error[(k, a, beta, lambda_bias)] = min(test_process)\n",
    "\n",
    "                    \n",
    "                    \n",
    "                    \n"
   ]
  },
  {
   "cell_type": "code",
   "execution_count": 1,
   "metadata": {},
   "outputs": [],
   "source": [
    "class Write():\n",
    "    def __init__(self):\n",
    "        self.i = 0\n",
    "    \n",
    "    def __call__(self, nums):\n",
    "        output = [nums]\n",
    "        print(nums)\n",
    "        return output"
   ]
  },
  {
   "cell_type": "code",
   "execution_count": 2,
   "metadata": {},
   "outputs": [],
   "source": [
    "from multiprocessing import Pool"
   ]
  },
  {
   "cell_type": "code",
   "execution_count": null,
   "metadata": {},
   "outputs": [],
   "source": [
    "class Write():\n",
    "    def __init__(self):\n",
    "        self.i = 0\n",
    "    \n",
    "    def __call__(self, nums):\n",
    "        output = [nums]\n",
    "        print(nums)\n",
    "        return output\n",
    "try:\n",
    "    pool = Pool(2) # on 8 processors\n",
    "    engine = Write()\n",
    "    data_outputs = pool.map(engine, [1,2,3])\n",
    "finally: # To make sure processes are closed in the end, even if errors happen\n",
    "    pool.join()\n",
    "    pool.close()\n",
    "    "
   ]
  },
  {
   "cell_type": "code",
   "execution_count": null,
   "metadata": {},
   "outputs": [],
   "source": [
    "from multiprocessing import Pool\n",
    "\n",
    "def f(x):\n",
    "    return x*x\n",
    "\n",
    "if __name__ == '__main__':\n",
    "    p = Pool(5)\n",
    "    print(p.map(f, [1, 2, 3]))"
   ]
  },
  {
   "cell_type": "code",
   "execution_count": null,
   "metadata": {},
   "outputs": [],
   "source": []
  }
 ],
 "metadata": {
  "kernelspec": {
   "display_name": "Python 3",
   "language": "python",
   "name": "python3"
  },
  "language_info": {
   "codemirror_mode": {
    "name": "ipython",
    "version": 3
   },
   "file_extension": ".py",
   "mimetype": "text/x-python",
   "name": "python",
   "nbconvert_exporter": "python",
   "pygments_lexer": "ipython3",
   "version": "3.7.3"
  }
 },
 "nbformat": 4,
 "nbformat_minor": 4
}
