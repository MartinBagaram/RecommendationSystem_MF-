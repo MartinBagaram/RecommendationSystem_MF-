{
 "cells": [
  {
   "cell_type": "code",
   "execution_count": 1,
   "metadata": {
    "colab": {},
    "colab_type": "code",
    "id": "4f0Ku1K1iSmw"
   },
   "outputs": [],
   "source": [
    "import os\n",
    "import numpy as np\n",
    "import matplotlib.pyplot as plt\n",
    "import pandas as pd"
   ]
  },
  {
   "cell_type": "code",
   "execution_count": 3,
   "metadata": {
    "colab": {},
    "colab_type": "code",
    "id": "kP-RFebeilp4"
   },
   "outputs": [],
   "source": [
    "train_df = pd.read_csv(\"CC2020_train_final.csv\")\n",
    "# test_df = pd.read_csv(\"CC2020_test_final.csv\")"
   ]
  },
  {
   "cell_type": "code",
   "execution_count": 4,
   "metadata": {
    "colab": {
     "base_uri": "https://localhost:8080/",
     "height": 195
    },
    "colab_type": "code",
    "collapsed": false,
    "id": "Q7E8LgoojI_E",
    "jupyter": {
     "outputs_hidden": false
    },
    "outputId": "60aa04cc-0c7a-4bc6-efb1-93d76229df53"
   },
   "outputs": [
    {
     "data": {
      "text/html": [
       "<div>\n",
       "<style scoped>\n",
       "    .dataframe tbody tr th:only-of-type {\n",
       "        vertical-align: middle;\n",
       "    }\n",
       "\n",
       "    .dataframe tbody tr th {\n",
       "        vertical-align: top;\n",
       "    }\n",
       "\n",
       "    .dataframe thead th {\n",
       "        text-align: right;\n",
       "    }\n",
       "</style>\n",
       "<table border=\"1\" class=\"dataframe\">\n",
       "  <thead>\n",
       "    <tr style=\"text-align: right;\">\n",
       "      <th></th>\n",
       "      <th>YEAR</th>\n",
       "      <th>LOCATION</th>\n",
       "      <th>INBRED</th>\n",
       "      <th>INBRED_CLUSTER</th>\n",
       "      <th>TESTER</th>\n",
       "      <th>TESTER_CLUSTER</th>\n",
       "      <th>YIELD</th>\n",
       "      <th>Unnamed: 7</th>\n",
       "      <th>Unnamed: 8</th>\n",
       "      <th>Unnamed: 9</th>\n",
       "    </tr>\n",
       "  </thead>\n",
       "  <tbody>\n",
       "    <tr>\n",
       "      <th>0</th>\n",
       "      <td>18</td>\n",
       "      <td>Loc 5608</td>\n",
       "      <td>Inbred_142</td>\n",
       "      <td>Cluster11</td>\n",
       "      <td>Tester_740</td>\n",
       "      <td>Cluster10</td>\n",
       "      <td>1.135462</td>\n",
       "      <td>NaN</td>\n",
       "      <td>NaN</td>\n",
       "      <td>NaN</td>\n",
       "    </tr>\n",
       "    <tr>\n",
       "      <th>1</th>\n",
       "      <td>18</td>\n",
       "      <td>Loc 4533</td>\n",
       "      <td>Inbred_142</td>\n",
       "      <td>Cluster11</td>\n",
       "      <td>Tester_740</td>\n",
       "      <td>Cluster10</td>\n",
       "      <td>1.139813</td>\n",
       "      <td>NaN</td>\n",
       "      <td>NaN</td>\n",
       "      <td>NaN</td>\n",
       "    </tr>\n",
       "    <tr>\n",
       "      <th>2</th>\n",
       "      <td>18</td>\n",
       "      <td>Loc 5620</td>\n",
       "      <td>Inbred_142</td>\n",
       "      <td>Cluster11</td>\n",
       "      <td>Tester_740</td>\n",
       "      <td>Cluster10</td>\n",
       "      <td>1.117778</td>\n",
       "      <td>NaN</td>\n",
       "      <td>NaN</td>\n",
       "      <td>NaN</td>\n",
       "    </tr>\n",
       "    <tr>\n",
       "      <th>3</th>\n",
       "      <td>18</td>\n",
       "      <td>Loc 4732</td>\n",
       "      <td>Inbred_142</td>\n",
       "      <td>Cluster11</td>\n",
       "      <td>Tester_740</td>\n",
       "      <td>Cluster10</td>\n",
       "      <td>1.171366</td>\n",
       "      <td>NaN</td>\n",
       "      <td>NaN</td>\n",
       "      <td>NaN</td>\n",
       "    </tr>\n",
       "    <tr>\n",
       "      <th>4</th>\n",
       "      <td>18</td>\n",
       "      <td>Loc 5500</td>\n",
       "      <td>Inbred_142</td>\n",
       "      <td>Cluster11</td>\n",
       "      <td>Tester_740</td>\n",
       "      <td>Cluster10</td>\n",
       "      <td>1.059364</td>\n",
       "      <td>NaN</td>\n",
       "      <td>NaN</td>\n",
       "      <td>NaN</td>\n",
       "    </tr>\n",
       "  </tbody>\n",
       "</table>\n",
       "</div>"
      ],
      "text/plain": [
       "   YEAR  LOCATION      INBRED INBRED_CLUSTER      TESTER TESTER_CLUSTER  \\\n",
       "0    18  Loc 5608  Inbred_142      Cluster11  Tester_740      Cluster10   \n",
       "1    18  Loc 4533  Inbred_142      Cluster11  Tester_740      Cluster10   \n",
       "2    18  Loc 5620  Inbred_142      Cluster11  Tester_740      Cluster10   \n",
       "3    18  Loc 4732  Inbred_142      Cluster11  Tester_740      Cluster10   \n",
       "4    18  Loc 5500  Inbred_142      Cluster11  Tester_740      Cluster10   \n",
       "\n",
       "      YIELD  Unnamed: 7  Unnamed: 8  Unnamed: 9  \n",
       "0  1.135462         NaN         NaN         NaN  \n",
       "1  1.139813         NaN         NaN         NaN  \n",
       "2  1.117778         NaN         NaN         NaN  \n",
       "3  1.171366         NaN         NaN         NaN  \n",
       "4  1.059364         NaN         NaN         NaN  "
      ]
     },
     "execution_count": 4,
     "metadata": {},
     "output_type": "execute_result"
    }
   ],
   "source": [
    "train_df.head()"
   ]
  },
  {
   "cell_type": "code",
   "execution_count": 5,
   "metadata": {
    "colab": {},
    "colab_type": "code",
    "id": "cYl4mQ-iX4Bu"
   },
   "outputs": [],
   "source": [
    "train_df = train_df[['INBRED', 'TESTER', 'YIELD']]"
   ]
  },
  {
   "cell_type": "code",
   "execution_count": 6,
   "metadata": {
    "colab": {
     "base_uri": "https://localhost:8080/",
     "height": 34
    },
    "colab_type": "code",
    "collapsed": false,
    "id": "OGWRd0wKdgnn",
    "jupyter": {
     "outputs_hidden": false
    },
    "outputId": "a52d4d4b-0061-49d6-fcf9-1dbcc6e0e873"
   },
   "outputs": [
    {
     "data": {
      "text/plain": [
       "0.047235945"
      ]
     },
     "execution_count": 6,
     "metadata": {},
     "output_type": "execute_result"
    }
   ],
   "source": [
    "train_df['YIELD'].min()"
   ]
  },
  {
   "cell_type": "code",
   "execution_count": 7,
   "metadata": {
    "colab": {
     "base_uri": "https://localhost:8080/",
     "height": 34
    },
    "colab_type": "code",
    "collapsed": false,
    "id": "SLTCbrdadmzW",
    "jupyter": {
     "outputs_hidden": false
    },
    "outputId": "fb7f0e9b-4271-4108-c5b7-025697cf4611"
   },
   "outputs": [
    {
     "data": {
      "text/plain": [
       "1.8000826730000001"
      ]
     },
     "execution_count": 7,
     "metadata": {},
     "output_type": "execute_result"
    }
   ],
   "source": [
    "train_df['YIELD'].max()"
   ]
  },
  {
   "cell_type": "code",
   "execution_count": 8,
   "metadata": {
    "colab": {
     "base_uri": "https://localhost:8080/",
     "height": 639
    },
    "colab_type": "code",
    "collapsed": false,
    "id": "3hbPY-sOX_lo",
    "jupyter": {
     "outputs_hidden": false
    },
    "outputId": "498aa655-9180-4dd1-a6e3-03858643ea13"
   },
   "outputs": [
    {
     "data": {
      "text/html": [
       "<div>\n",
       "<style scoped>\n",
       "    .dataframe tbody tr th:only-of-type {\n",
       "        vertical-align: middle;\n",
       "    }\n",
       "\n",
       "    .dataframe tbody tr th {\n",
       "        vertical-align: top;\n",
       "    }\n",
       "\n",
       "    .dataframe thead th {\n",
       "        text-align: right;\n",
       "    }\n",
       "</style>\n",
       "<table border=\"1\" class=\"dataframe\">\n",
       "  <thead>\n",
       "    <tr style=\"text-align: right;\">\n",
       "      <th></th>\n",
       "      <th>INBRED</th>\n",
       "      <th>TESTER</th>\n",
       "      <th>YIELD</th>\n",
       "    </tr>\n",
       "  </thead>\n",
       "  <tbody>\n",
       "    <tr>\n",
       "      <th>0</th>\n",
       "      <td>Inbred_142</td>\n",
       "      <td>Tester_740</td>\n",
       "      <td>1.135462</td>\n",
       "    </tr>\n",
       "    <tr>\n",
       "      <th>1</th>\n",
       "      <td>Inbred_142</td>\n",
       "      <td>Tester_740</td>\n",
       "      <td>1.139813</td>\n",
       "    </tr>\n",
       "    <tr>\n",
       "      <th>2</th>\n",
       "      <td>Inbred_142</td>\n",
       "      <td>Tester_740</td>\n",
       "      <td>1.117778</td>\n",
       "    </tr>\n",
       "    <tr>\n",
       "      <th>3</th>\n",
       "      <td>Inbred_142</td>\n",
       "      <td>Tester_740</td>\n",
       "      <td>1.171366</td>\n",
       "    </tr>\n",
       "    <tr>\n",
       "      <th>4</th>\n",
       "      <td>Inbred_142</td>\n",
       "      <td>Tester_740</td>\n",
       "      <td>1.059364</td>\n",
       "    </tr>\n",
       "    <tr>\n",
       "      <th>5</th>\n",
       "      <td>Inbred_142</td>\n",
       "      <td>Tester_740</td>\n",
       "      <td>1.040588</td>\n",
       "    </tr>\n",
       "    <tr>\n",
       "      <th>6</th>\n",
       "      <td>Inbred_142</td>\n",
       "      <td>Tester_740</td>\n",
       "      <td>1.002265</td>\n",
       "    </tr>\n",
       "    <tr>\n",
       "      <th>7</th>\n",
       "      <td>Inbred_142</td>\n",
       "      <td>Tester_740</td>\n",
       "      <td>0.971066</td>\n",
       "    </tr>\n",
       "    <tr>\n",
       "      <th>8</th>\n",
       "      <td>Inbred_142</td>\n",
       "      <td>Tester_743</td>\n",
       "      <td>1.289008</td>\n",
       "    </tr>\n",
       "    <tr>\n",
       "      <th>9</th>\n",
       "      <td>Inbred_142</td>\n",
       "      <td>Tester_743</td>\n",
       "      <td>0.960433</td>\n",
       "    </tr>\n",
       "    <tr>\n",
       "      <th>10</th>\n",
       "      <td>Inbred_142</td>\n",
       "      <td>Tester_743</td>\n",
       "      <td>1.160681</td>\n",
       "    </tr>\n",
       "    <tr>\n",
       "      <th>11</th>\n",
       "      <td>Inbred_142</td>\n",
       "      <td>Tester_743</td>\n",
       "      <td>0.892488</td>\n",
       "    </tr>\n",
       "    <tr>\n",
       "      <th>12</th>\n",
       "      <td>Inbred_142</td>\n",
       "      <td>Tester_743</td>\n",
       "      <td>1.101912</td>\n",
       "    </tr>\n",
       "    <tr>\n",
       "      <th>13</th>\n",
       "      <td>Inbred_142</td>\n",
       "      <td>Tester_743</td>\n",
       "      <td>0.924533</td>\n",
       "    </tr>\n",
       "    <tr>\n",
       "      <th>14</th>\n",
       "      <td>Inbred_142</td>\n",
       "      <td>Tester_743</td>\n",
       "      <td>0.959319</td>\n",
       "    </tr>\n",
       "    <tr>\n",
       "      <th>15</th>\n",
       "      <td>Inbred_142</td>\n",
       "      <td>Tester_743</td>\n",
       "      <td>1.317003</td>\n",
       "    </tr>\n",
       "    <tr>\n",
       "      <th>16</th>\n",
       "      <td>Inbred_740</td>\n",
       "      <td>Tester_757</td>\n",
       "      <td>0.914693</td>\n",
       "    </tr>\n",
       "    <tr>\n",
       "      <th>17</th>\n",
       "      <td>Inbred_740</td>\n",
       "      <td>Tester_757</td>\n",
       "      <td>0.947855</td>\n",
       "    </tr>\n",
       "    <tr>\n",
       "      <th>18</th>\n",
       "      <td>Inbred_740</td>\n",
       "      <td>Tester_757</td>\n",
       "      <td>0.938258</td>\n",
       "    </tr>\n",
       "    <tr>\n",
       "      <th>19</th>\n",
       "      <td>Inbred_740</td>\n",
       "      <td>Tester_757</td>\n",
       "      <td>1.037171</td>\n",
       "    </tr>\n",
       "  </tbody>\n",
       "</table>\n",
       "</div>"
      ],
      "text/plain": [
       "        INBRED      TESTER     YIELD\n",
       "0   Inbred_142  Tester_740  1.135462\n",
       "1   Inbred_142  Tester_740  1.139813\n",
       "2   Inbred_142  Tester_740  1.117778\n",
       "3   Inbred_142  Tester_740  1.171366\n",
       "4   Inbred_142  Tester_740  1.059364\n",
       "5   Inbred_142  Tester_740  1.040588\n",
       "6   Inbred_142  Tester_740  1.002265\n",
       "7   Inbred_142  Tester_740  0.971066\n",
       "8   Inbred_142  Tester_743  1.289008\n",
       "9   Inbred_142  Tester_743  0.960433\n",
       "10  Inbred_142  Tester_743  1.160681\n",
       "11  Inbred_142  Tester_743  0.892488\n",
       "12  Inbred_142  Tester_743  1.101912\n",
       "13  Inbred_142  Tester_743  0.924533\n",
       "14  Inbred_142  Tester_743  0.959319\n",
       "15  Inbred_142  Tester_743  1.317003\n",
       "16  Inbred_740  Tester_757  0.914693\n",
       "17  Inbred_740  Tester_757  0.947855\n",
       "18  Inbred_740  Tester_757  0.938258\n",
       "19  Inbred_740  Tester_757  1.037171"
      ]
     },
     "execution_count": 8,
     "metadata": {},
     "output_type": "execute_result"
    }
   ],
   "source": [
    "train_df.head(20)"
   ]
  },
  {
   "cell_type": "code",
   "execution_count": 9,
   "metadata": {
    "colab": {},
    "colab_type": "code",
    "id": "MIQfghRxW9Zp"
   },
   "outputs": [],
   "source": [
    "grouped_df = train_df.groupby(['INBRED','TESTER'], as_index=False).mean()"
   ]
  },
  {
   "cell_type": "code",
   "execution_count": 10,
   "metadata": {
    "colab": {
     "base_uri": "https://localhost:8080/",
     "height": 195
    },
    "colab_type": "code",
    "collapsed": false,
    "id": "JJAiOBL9XNva",
    "jupyter": {
     "outputs_hidden": false
    },
    "outputId": "713756be-77c8-4eb6-96a2-1b1c3004b93a"
   },
   "outputs": [
    {
     "data": {
      "text/html": [
       "<div>\n",
       "<style scoped>\n",
       "    .dataframe tbody tr th:only-of-type {\n",
       "        vertical-align: middle;\n",
       "    }\n",
       "\n",
       "    .dataframe tbody tr th {\n",
       "        vertical-align: top;\n",
       "    }\n",
       "\n",
       "    .dataframe thead th {\n",
       "        text-align: right;\n",
       "    }\n",
       "</style>\n",
       "<table border=\"1\" class=\"dataframe\">\n",
       "  <thead>\n",
       "    <tr style=\"text-align: right;\">\n",
       "      <th></th>\n",
       "      <th>INBRED</th>\n",
       "      <th>TESTER</th>\n",
       "      <th>YIELD</th>\n",
       "    </tr>\n",
       "  </thead>\n",
       "  <tbody>\n",
       "    <tr>\n",
       "      <th>0</th>\n",
       "      <td>Inbred_1071</td>\n",
       "      <td>Tester_1345</td>\n",
       "      <td>0.986544</td>\n",
       "    </tr>\n",
       "    <tr>\n",
       "      <th>1</th>\n",
       "      <td>Inbred_1071</td>\n",
       "      <td>Tester_4373</td>\n",
       "      <td>1.057704</td>\n",
       "    </tr>\n",
       "    <tr>\n",
       "      <th>2</th>\n",
       "      <td>Inbred_1071</td>\n",
       "      <td>Tester_4473</td>\n",
       "      <td>1.023704</td>\n",
       "    </tr>\n",
       "    <tr>\n",
       "      <th>3</th>\n",
       "      <td>Inbred_1071</td>\n",
       "      <td>Tester_4541</td>\n",
       "      <td>1.014735</td>\n",
       "    </tr>\n",
       "    <tr>\n",
       "      <th>4</th>\n",
       "      <td>Inbred_1071</td>\n",
       "      <td>Tester_5305</td>\n",
       "      <td>1.062727</td>\n",
       "    </tr>\n",
       "  </tbody>\n",
       "</table>\n",
       "</div>"
      ],
      "text/plain": [
       "        INBRED       TESTER     YIELD\n",
       "0  Inbred_1071  Tester_1345  0.986544\n",
       "1  Inbred_1071  Tester_4373  1.057704\n",
       "2  Inbred_1071  Tester_4473  1.023704\n",
       "3  Inbred_1071  Tester_4541  1.014735\n",
       "4  Inbred_1071  Tester_5305  1.062727"
      ]
     },
     "execution_count": 10,
     "metadata": {},
     "output_type": "execute_result"
    }
   ],
   "source": [
    "grouped_df.head()"
   ]
  },
  {
   "cell_type": "code",
   "execution_count": 11,
   "metadata": {},
   "outputs": [
    {
     "name": "stdout",
     "output_type": "stream",
     "text": [
      "0.6502730801666666\n",
      "1.2400148732500003\n"
     ]
    }
   ],
   "source": [
    "print(grouped_df['YIELD'].min())\n",
    "print(grouped_df['YIELD'].max())"
   ]
  },
  {
   "cell_type": "code",
   "execution_count": 12,
   "metadata": {
    "colab": {
     "base_uri": "https://localhost:8080/",
     "height": 34
    },
    "colab_type": "code",
    "collapsed": false,
    "id": "BItKA5qcYNcP",
    "jupyter": {
     "outputs_hidden": false
    },
    "outputId": "8f82455d-cace-4efb-ff65-e36dd28c0578"
   },
   "outputs": [
    {
     "data": {
      "text/plain": [
       "10919"
      ]
     },
     "execution_count": 12,
     "metadata": {},
     "output_type": "execute_result"
    }
   ],
   "source": [
    "len(grouped_df)"
   ]
  },
  {
   "cell_type": "code",
   "execution_count": null,
   "metadata": {
    "colab": {
     "base_uri": "https://localhost:8080/",
     "height": 195
    },
    "colab_type": "code",
    "collapsed": false,
    "id": "FUv845IaWtJY",
    "jupyter": {
     "outputs_hidden": false
    },
    "outputId": "77c3e177-3379-42bc-bf5c-0ae530f35e8c"
   },
   "outputs": [
    {
     "data": {
      "text/html": [
       "<div>\n",
       "<style scoped>\n",
       "    .dataframe tbody tr th:only-of-type {\n",
       "        vertical-align: middle;\n",
       "    }\n",
       "\n",
       "    .dataframe tbody tr th {\n",
       "        vertical-align: top;\n",
       "    }\n",
       "\n",
       "    .dataframe thead th {\n",
       "        text-align: right;\n",
       "    }\n",
       "</style>\n",
       "<table border=\"1\" class=\"dataframe\">\n",
       "  <thead>\n",
       "    <tr style=\"text-align: right;\">\n",
       "      <th></th>\n",
       "      <th>INBRED</th>\n",
       "      <th>INBRED_CLUSTER</th>\n",
       "      <th>TESTER</th>\n",
       "      <th>TESTER_CLUSTER</th>\n",
       "      <th>YIELD</th>\n",
       "    </tr>\n",
       "  </thead>\n",
       "  <tbody>\n",
       "    <tr>\n",
       "      <th>0</th>\n",
       "      <td>Inbred_1071</td>\n",
       "      <td>Cluster8</td>\n",
       "      <td>Tester_5450</td>\n",
       "      <td>Cluster5</td>\n",
       "      <td>NaN</td>\n",
       "    </tr>\n",
       "    <tr>\n",
       "      <th>1</th>\n",
       "      <td>Inbred_122</td>\n",
       "      <td>Cluster12</td>\n",
       "      <td>Tester_4336</td>\n",
       "      <td>Cluster6</td>\n",
       "      <td>NaN</td>\n",
       "    </tr>\n",
       "    <tr>\n",
       "      <th>2</th>\n",
       "      <td>Inbred_1337</td>\n",
       "      <td>Cluster17</td>\n",
       "      <td>Tester_2652</td>\n",
       "      <td>Cluster1</td>\n",
       "      <td>NaN</td>\n",
       "    </tr>\n",
       "    <tr>\n",
       "      <th>3</th>\n",
       "      <td>Inbred_1337</td>\n",
       "      <td>Cluster17</td>\n",
       "      <td>Tester_4373</td>\n",
       "      <td>Cluster3</td>\n",
       "      <td>NaN</td>\n",
       "    </tr>\n",
       "    <tr>\n",
       "      <th>4</th>\n",
       "      <td>Inbred_1339</td>\n",
       "      <td>Cluster17</td>\n",
       "      <td>Tester_4238</td>\n",
       "      <td>Cluster11</td>\n",
       "      <td>NaN</td>\n",
       "    </tr>\n",
       "  </tbody>\n",
       "</table>\n",
       "</div>"
      ],
      "text/plain": [
       "        INBRED INBRED_CLUSTER       TESTER TESTER_CLUSTER  YIELD\n",
       "0  Inbred_1071       Cluster8  Tester_5450       Cluster5    NaN\n",
       "1   Inbred_122      Cluster12  Tester_4336       Cluster6    NaN\n",
       "2  Inbred_1337      Cluster17  Tester_2652       Cluster1    NaN\n",
       "3  Inbred_1337      Cluster17  Tester_4373       Cluster3    NaN\n",
       "4  Inbred_1339      Cluster17  Tester_4238      Cluster11    NaN"
      ]
     },
     "execution_count": 14,
     "metadata": {
      "tags": []
     },
     "output_type": "execute_result"
    }
   ],
   "source": [
    "# test_df.head()"
   ]
  },
  {
   "cell_type": "code",
   "execution_count": 14,
   "metadata": {
    "colab": {},
    "colab_type": "code",
    "id": "ZkwtR-R6zSd-"
   },
   "outputs": [],
   "source": [
    "grouped_df['YIELD'] = np.log(grouped_df['YIELD']).values"
   ]
  },
  {
   "cell_type": "code",
   "execution_count": 15,
   "metadata": {
    "colab": {
     "base_uri": "https://localhost:8080/",
     "height": 195
    },
    "colab_type": "code",
    "collapsed": false,
    "id": "zwXuVfD8zZ_3",
    "jupyter": {
     "outputs_hidden": false
    },
    "outputId": "ae15b60c-61a2-4329-83d5-2a0bc25617a6"
   },
   "outputs": [
    {
     "data": {
      "text/html": [
       "<div>\n",
       "<style scoped>\n",
       "    .dataframe tbody tr th:only-of-type {\n",
       "        vertical-align: middle;\n",
       "    }\n",
       "\n",
       "    .dataframe tbody tr th {\n",
       "        vertical-align: top;\n",
       "    }\n",
       "\n",
       "    .dataframe thead th {\n",
       "        text-align: right;\n",
       "    }\n",
       "</style>\n",
       "<table border=\"1\" class=\"dataframe\">\n",
       "  <thead>\n",
       "    <tr style=\"text-align: right;\">\n",
       "      <th></th>\n",
       "      <th>INBRED</th>\n",
       "      <th>TESTER</th>\n",
       "      <th>YIELD</th>\n",
       "    </tr>\n",
       "  </thead>\n",
       "  <tbody>\n",
       "    <tr>\n",
       "      <th>0</th>\n",
       "      <td>Inbred_1071</td>\n",
       "      <td>Tester_1345</td>\n",
       "      <td>-0.013548</td>\n",
       "    </tr>\n",
       "    <tr>\n",
       "      <th>1</th>\n",
       "      <td>Inbred_1071</td>\n",
       "      <td>Tester_4373</td>\n",
       "      <td>0.056100</td>\n",
       "    </tr>\n",
       "    <tr>\n",
       "      <th>2</th>\n",
       "      <td>Inbred_1071</td>\n",
       "      <td>Tester_4473</td>\n",
       "      <td>0.023427</td>\n",
       "    </tr>\n",
       "    <tr>\n",
       "      <th>3</th>\n",
       "      <td>Inbred_1071</td>\n",
       "      <td>Tester_4541</td>\n",
       "      <td>0.014627</td>\n",
       "    </tr>\n",
       "    <tr>\n",
       "      <th>4</th>\n",
       "      <td>Inbred_1071</td>\n",
       "      <td>Tester_5305</td>\n",
       "      <td>0.060838</td>\n",
       "    </tr>\n",
       "  </tbody>\n",
       "</table>\n",
       "</div>"
      ],
      "text/plain": [
       "        INBRED       TESTER     YIELD\n",
       "0  Inbred_1071  Tester_1345 -0.013548\n",
       "1  Inbred_1071  Tester_4373  0.056100\n",
       "2  Inbred_1071  Tester_4473  0.023427\n",
       "3  Inbred_1071  Tester_4541  0.014627\n",
       "4  Inbred_1071  Tester_5305  0.060838"
      ]
     },
     "execution_count": 15,
     "metadata": {},
     "output_type": "execute_result"
    }
   ],
   "source": [
    "grouped_df.head()"
   ]
  },
  {
   "cell_type": "code",
   "execution_count": 18,
   "metadata": {
    "colab": {},
    "colab_type": "code",
    "id": "KJCc3nzxYfkr"
   },
   "outputs": [],
   "source": [
    "train_df = grouped_df"
   ]
  },
  {
   "cell_type": "code",
   "execution_count": 19,
   "metadata": {
    "colab": {
     "base_uri": "https://localhost:8080/",
     "height": 34
    },
    "colab_type": "code",
    "collapsed": false,
    "id": "8x1Ty7WGmGt8",
    "jupyter": {
     "outputs_hidden": false
    },
    "outputId": "ed31e54d-0d52-4044-daa9-ed7c64fdba1f"
   },
   "outputs": [
    {
     "data": {
      "text/plain": [
       "10919"
      ]
     },
     "execution_count": 19,
     "metadata": {},
     "output_type": "execute_result"
    }
   ],
   "source": [
    "len(train_df)"
   ]
  },
  {
   "cell_type": "code",
   "execution_count": 20,
   "metadata": {
    "colab": {
     "base_uri": "https://localhost:8080/",
     "height": 50
    },
    "colab_type": "code",
    "collapsed": false,
    "id": "CwKwD_6zjLYU",
    "jupyter": {
     "outputs_hidden": false
    },
    "outputId": "4a95160f-6f3f-478c-d961-ebe4f1d50ec8"
   },
   "outputs": [
    {
     "name": "stdout",
     "output_type": "stream",
     "text": [
      "593\n",
      "496\n"
     ]
    }
   ],
   "source": [
    "print(len(train_df['INBRED'].unique()))\n",
    "print(len(train_df['TESTER'].unique()))\n"
   ]
  },
  {
   "cell_type": "code",
   "execution_count": 21,
   "metadata": {
    "colab": {
     "base_uri": "https://localhost:8080/",
     "height": 84
    },
    "colab_type": "code",
    "collapsed": false,
    "id": "t7BEMr1Nmhxn",
    "jupyter": {
     "outputs_hidden": false
    },
    "outputId": "bd0e8628-b64f-42e2-da4d-fbcfe9f2047b"
   },
   "outputs": [
    {
     "name": "stdout",
     "output_type": "stream",
     "text": [
      "593\n",
      "496\n",
      "593\n",
      "496\n"
     ]
    }
   ],
   "source": [
    "inbred_index = {}\n",
    "tester_index = {}\n",
    "i = 0\n",
    "j = 0\n",
    "for idx, row in train_df.iterrows():\n",
    "    if row['INBRED'] not in inbred_index:\n",
    "        inbred_index[row['INBRED']] = i\n",
    "        i += 1\n",
    "    if row['TESTER'] not in tester_index:\n",
    "        tester_index[row['TESTER']] = j\n",
    "        j += 1\n",
    "print(len(inbred_index))\n",
    "print(len(tester_index))\n",
    "print(i)\n",
    "print(j)"
   ]
  },
  {
   "cell_type": "code",
   "execution_count": 23,
   "metadata": {},
   "outputs": [
    {
     "data": {
      "text/html": [
       "<div>\n",
       "<style scoped>\n",
       "    .dataframe tbody tr th:only-of-type {\n",
       "        vertical-align: middle;\n",
       "    }\n",
       "\n",
       "    .dataframe tbody tr th {\n",
       "        vertical-align: top;\n",
       "    }\n",
       "\n",
       "    .dataframe thead th {\n",
       "        text-align: right;\n",
       "    }\n",
       "</style>\n",
       "<table border=\"1\" class=\"dataframe\">\n",
       "  <thead>\n",
       "    <tr style=\"text-align: right;\">\n",
       "      <th></th>\n",
       "      <th>INBRED</th>\n",
       "      <th>TESTER</th>\n",
       "      <th>YIELD</th>\n",
       "    </tr>\n",
       "  </thead>\n",
       "  <tbody>\n",
       "    <tr>\n",
       "      <th>0</th>\n",
       "      <td>Inbred_1071</td>\n",
       "      <td>Tester_1345</td>\n",
       "      <td>-0.013548</td>\n",
       "    </tr>\n",
       "    <tr>\n",
       "      <th>1</th>\n",
       "      <td>Inbred_1071</td>\n",
       "      <td>Tester_4373</td>\n",
       "      <td>0.056100</td>\n",
       "    </tr>\n",
       "    <tr>\n",
       "      <th>2</th>\n",
       "      <td>Inbred_1071</td>\n",
       "      <td>Tester_4473</td>\n",
       "      <td>0.023427</td>\n",
       "    </tr>\n",
       "    <tr>\n",
       "      <th>3</th>\n",
       "      <td>Inbred_1071</td>\n",
       "      <td>Tester_4541</td>\n",
       "      <td>0.014627</td>\n",
       "    </tr>\n",
       "    <tr>\n",
       "      <th>4</th>\n",
       "      <td>Inbred_1071</td>\n",
       "      <td>Tester_5305</td>\n",
       "      <td>0.060838</td>\n",
       "    </tr>\n",
       "  </tbody>\n",
       "</table>\n",
       "</div>"
      ],
      "text/plain": [
       "        INBRED       TESTER     YIELD\n",
       "0  Inbred_1071  Tester_1345 -0.013548\n",
       "1  Inbred_1071  Tester_4373  0.056100\n",
       "2  Inbred_1071  Tester_4473  0.023427\n",
       "3  Inbred_1071  Tester_4541  0.014627\n",
       "4  Inbred_1071  Tester_5305  0.060838"
      ]
     },
     "execution_count": 23,
     "metadata": {},
     "output_type": "execute_result"
    }
   ],
   "source": [
    "train_df.head()"
   ]
  },
  {
   "cell_type": "code",
   "execution_count": 22,
   "metadata": {
    "colab": {
     "base_uri": "https://localhost:8080/",
     "height": 235
    },
    "colab_type": "code",
    "collapsed": false,
    "id": "q05pRcWuY8Tl",
    "jupyter": {
     "outputs_hidden": false
    },
    "outputId": "88c855e3-a233-442e-d6cc-e5e29cb0f15d"
   },
   "outputs": [
    {
     "data": {
      "text/plain": [
       "array([[-0.01354771,  0.0561005 ,  0.02342727, ...,  0.        ,\n",
       "         0.        ,  0.        ],\n",
       "       [ 0.        ,  0.        ,  0.        , ...,  0.        ,\n",
       "         0.        ,  0.        ],\n",
       "       [ 0.        ,  0.        ,  0.        , ...,  0.        ,\n",
       "         0.        ,  0.        ],\n",
       "       ...,\n",
       "       [ 0.        ,  0.        ,  0.        , ...,  0.        ,\n",
       "         0.        ,  0.        ],\n",
       "       [ 0.        ,  0.        ,  0.        , ...,  0.        ,\n",
       "         0.        ,  0.        ],\n",
       "       [ 0.        ,  0.02078493,  0.        , ...,  0.        ,\n",
       "         0.        ,  0.        ]])"
      ]
     },
     "execution_count": 22,
     "metadata": {},
     "output_type": "execute_result"
    }
   ],
   "source": [
    "n_inbred = 593\n",
    "n_tester = 496\n",
    "mat = np.zeros((n_inbred, n_tester))\n",
    "for row in train_df.itertuples():\n",
    "    mat[inbred_index[row[1]], tester_index[row[2]]] = row[3]\n",
    "mat"
   ]
  },
  {
   "cell_type": "code",
   "execution_count": 25,
   "metadata": {
    "colab": {
     "base_uri": "https://localhost:8080/",
     "height": 34
    },
    "colab_type": "code",
    "collapsed": false,
    "id": "W1JEt0fueVtS",
    "jupyter": {
     "outputs_hidden": false
    },
    "outputId": "50da78f5-7d9a-4ba3-e4c2-6c7cf970ddaa"
   },
   "outputs": [
    {
     "name": "stdout",
     "output_type": "stream",
     "text": [
      "1.2400148732500003\n"
     ]
    }
   ],
   "source": [
    "print(np.exp(mat).max())"
   ]
  },
  {
   "cell_type": "code",
   "execution_count": 26,
   "metadata": {
    "colab": {
     "base_uri": "https://localhost:8080/",
     "height": 67
    },
    "colab_type": "code",
    "collapsed": false,
    "id": "QTB0-VxpY8Qc",
    "jupyter": {
     "outputs_hidden": false
    },
    "outputId": "b5543974-b4df-4fcc-81e3-bc4702403635"
   },
   "outputs": [
    {
     "name": "stdout",
     "output_type": "stream",
     "text": [
      "593 inbred\n",
      "496 tester\n",
      "Sparsity: 3.71%\n"
     ]
    }
   ],
   "source": [
    "print (str(n_inbred) + ' inbred')\n",
    "print (str(n_tester) + ' tester')\n",
    "sparsity = float(len(mat.nonzero()[0]))\n",
    "sparsity /= (mat.shape[0] * mat.shape[1])\n",
    "sparsity *= 100\n",
    "print ('Sparsity: {:4.2f}%'.format(sparsity))"
   ]
  },
  {
   "cell_type": "code",
   "execution_count": 27,
   "metadata": {
    "colab": {},
    "colab_type": "code",
    "id": "qvKkmHGTY8M0"
   },
   "outputs": [],
   "source": [
    "def train_test_split(mat):\n",
    "    test = np.zeros(mat.shape)\n",
    "    train = mat.copy()\n",
    "    for inbred in range(mat.shape[0]):\n",
    "        test_yields = np.random.choice(mat[inbred, :].nonzero()[0], \n",
    "                                        size=max(1, len(mat[inbred, :].nonzero()[0])//10), \n",
    "                                        replace=False)\n",
    "        train[inbred, test_yields] = 0.\n",
    "        test[inbred, test_yields] = mat[inbred, test_yields]\n",
    "        \n",
    "    # Test and training are truly disjoint\n",
    "    assert(np.all((train * test) == 0)) \n",
    "    return train, test"
   ]
  },
  {
   "cell_type": "code",
   "execution_count": 28,
   "metadata": {
    "colab": {},
    "colab_type": "code",
    "id": "jNFblKMEY8Ic"
   },
   "outputs": [],
   "source": [
    "train, test = train_test_split(mat)"
   ]
  },
  {
   "cell_type": "code",
   "execution_count": 29,
   "metadata": {
    "colab": {},
    "colab_type": "code",
    "id": "ZAyXcJ1CY8Ey"
   },
   "outputs": [
    {
     "name": "stdout",
     "output_type": "stream",
     "text": [
      "9937\n",
      "982\n"
     ]
    }
   ],
   "source": [
    "print(len(train.nonzero()[0]))\n",
    "print(len(test.nonzero()[0]))"
   ]
  },
  {
   "cell_type": "code",
   "execution_count": 30,
   "metadata": {
    "colab": {},
    "colab_type": "code",
    "id": "c1s454Puafbt"
   },
   "outputs": [],
   "source": [
    "from sklearn.metrics import mean_squared_error\n",
    "\n",
    "def get_mse(pred, actual):\n",
    "    # Ignore nonzero terms.\n",
    "    pred = pred[actual.nonzero()].flatten()\n",
    "    actual = actual[actual.nonzero()].flatten()\n",
    "    return mean_squared_error(pred, actual)"
   ]
  },
  {
   "cell_type": "code",
   "execution_count": null,
   "metadata": {
    "colab": {},
    "colab_type": "code",
    "collapsed": true,
    "id": "oCv5gZ_3bAuS",
    "jupyter": {
     "outputs_hidden": true
    }
   },
   "outputs": [],
   "source": [
    "# SGD method"
   ]
  },
  {
   "cell_type": "markdown",
   "metadata": {
    "colab_type": "text",
    "id": "-rrPPTf_iiGC"
   },
   "source": [
    "#optimal learning rate is 0.01, just train longer, test mse is still going down"
   ]
  },
  {
   "cell_type": "code",
   "execution_count": null,
   "metadata": {
    "colab": {
     "base_uri": "https://localhost:8080/",
     "height": 1000
    },
    "colab_type": "code",
    "collapsed": false,
    "id": "Er3HXhhnbAft",
    "jupyter": {
     "outputs_hidden": false
    },
    "outputId": "94122e88-e3ca-46d4-ff5b-640a37760e96"
   },
   "outputs": [
    {
     "name": "stdout",
     "output_type": "stream",
     "text": [
      "Factors: 2\n",
      "Regularization: 0.001\n",
      "New optimal hyperparameters\n",
      "n_factors                                                 2\n",
      "reg                                                   0.001\n",
      "n_iter                                                  200\n",
      "train_mse                                        0.00217992\n",
      "test_mse                                         0.00687204\n",
      "model        <__main__.ExplicitMF object at 0x7f9e73ce5cf8>\n",
      "dtype: object\n",
      "Regularization: 0.01\n",
      "New optimal hyperparameters\n",
      "n_factors                                                 2\n",
      "reg                                                    0.01\n",
      "n_iter                                                  200\n",
      "train_mse                                         0.0021357\n",
      "test_mse                                         0.00421075\n",
      "model        <__main__.ExplicitMF object at 0x7f9e73cadf60>\n",
      "dtype: object\n",
      "Regularization: 0.1\n",
      "New optimal hyperparameters\n",
      "n_factors                                                 2\n",
      "reg                                                     0.1\n",
      "n_iter                                                  200\n",
      "train_mse                                        0.00219718\n",
      "test_mse                                         0.00299343\n",
      "model        <__main__.ExplicitMF object at 0x7f9e73ce5cf8>\n",
      "dtype: object\n",
      "Regularization: 1.0\n",
      "New optimal hyperparameters\n",
      "n_factors                                                 2\n",
      "reg                                                       1\n",
      "n_iter                                                  100\n",
      "train_mse                                        0.00256022\n",
      "test_mse                                         0.00293022\n",
      "model        <__main__.ExplicitMF object at 0x7f9e73f071d0>\n",
      "dtype: object\n",
      "Factors: 5\n",
      "Regularization: 0.001\n",
      "Regularization: 0.01\n",
      "Regularization: 0.1\n",
      "New optimal hyperparameters\n",
      "n_factors                                                 5\n",
      "reg                                                     0.1\n",
      "n_iter                                                  200\n",
      "train_mse                                         0.0022033\n",
      "test_mse                                         0.00279498\n",
      "model        <__main__.ExplicitMF object at 0x7f9e73cad438>\n",
      "dtype: object\n",
      "Regularization: 1.0\n",
      "Factors: 10\n",
      "Regularization: 0.001\n",
      "Regularization: 0.01\n",
      "Regularization: 0.1\n",
      "New optimal hyperparameters\n",
      "n_factors                                                10\n",
      "reg                                                     0.1\n",
      "n_iter                                                  100\n",
      "train_mse                                        0.00219798\n",
      "test_mse                                         0.00277374\n",
      "model        <__main__.ExplicitMF object at 0x7f9e73bbcfd0>\n",
      "dtype: object\n",
      "Regularization: 1.0\n",
      "Factors: 20\n",
      "Regularization: 0.001\n",
      "Regularization: 0.01\n",
      "Regularization: 0.1\n",
      "New optimal hyperparameters\n",
      "n_factors                                                20\n",
      "reg                                                     0.1\n",
      "n_iter                                                   50\n",
      "train_mse                                        0.00219986\n",
      "test_mse                                         0.00277197\n",
      "model        <__main__.ExplicitMF object at 0x7f9e73b88fd0>\n",
      "dtype: object\n",
      "Regularization: 1.0\n",
      "Factors: 40\n",
      "Regularization: 0.001\n",
      "Regularization: 0.01\n",
      "Regularization: 0.1\n",
      "New optimal hyperparameters\n",
      "n_factors                                                40\n",
      "reg                                                     0.1\n",
      "n_iter                                                   50\n",
      "train_mse                                        0.00220916\n",
      "test_mse                                          0.0027663\n",
      "model        <__main__.ExplicitMF object at 0x7f9e73bbc390>\n",
      "dtype: object\n",
      "Regularization: 1.0\n",
      "Factors: 80\n",
      "Regularization: 0.001\n",
      "Regularization: 0.01\n",
      "Regularization: 0.1\n",
      "Regularization: 1.0\n"
     ]
    }
   ],
   "source": [
    "#ignore this for now\n",
    "iter_array = [1, 2, 5, 10, 25, 50, 100, 200]\n",
    "latent_factors = [2, 5, 10, 20, 40, 80]\n",
    "regularizations = [0.001, 0.01, 0.1, 1.]\n",
    "regularizations.sort()\n",
    "\n",
    "best_params = {}\n",
    "best_params['n_factors'] = latent_factors[0]\n",
    "best_params['reg'] = regularizations[0]\n",
    "best_params['n_iter'] = 0\n",
    "best_params['train_mse'] = np.inf\n",
    "best_params['test_mse'] = np.inf\n",
    "best_params['model'] = None\n",
    "\n",
    "for fact in latent_factors:\n",
    "    print ('Factors: {}'.format(fact))\n",
    "    for reg in regularizations:\n",
    "        print ('Regularization: {}'.format(reg))\n",
    "        MF_SGD = ExplicitMF(train, n_factors=fact, learning='sgd',\\\n",
    "                            user_fact_reg=reg, item_fact_reg=reg, \\\n",
    "                            user_bias_reg=reg, item_bias_reg=reg)\n",
    "        MF_SGD.calculate_learning_curve(iter_array, test, learning_rate=0.01)\n",
    "        min_idx = np.argmin(MF_SGD.test_mse)\n",
    "        if MF_SGD.test_mse[min_idx] < best_params['test_mse']:\n",
    "            best_params['n_factors'] = fact\n",
    "            best_params['reg'] = reg\n",
    "            best_params['n_iter'] = iter_array[min_idx]\n",
    "            best_params['train_mse'] = MF_SGD.train_mse[min_idx]\n",
    "            best_params['test_mse'] = MF_SGD.test_mse[min_idx]\n",
    "            best_params['model'] = MF_SGD\n",
    "            print ('New optimal hyperparameters')\n",
    "            print (pd.Series(best_params))"
   ]
  },
  {
   "cell_type": "markdown",
   "metadata": {
    "colab_type": "text",
    "id": "uFkFwEq8XJuy"
   },
   "source": [
    "The optimal regularization is 0.1, factor is 40, iteration is 50. Test mse is 0.002766."
   ]
  },
  {
   "cell_type": "code",
   "execution_count": null,
   "metadata": {
    "colab": {},
    "colab_type": "code",
    "collapsed": true,
    "id": "Ds_S_rVr67N7",
    "jupyter": {
     "outputs_hidden": true
    }
   },
   "outputs": [],
   "source": [
    "#Using optimal parameters:\n",
    "MF_SGD = ExplicitMF(train,\n",
    "                    n_factors=40,\n",
    "                    learning='sgd',\n",
    "                    item_fact_reg=0.1, \n",
    "                    user_fact_reg=0.1,\n",
    "                    item_bias_reg=0.1,\n",
    "                    user_bias_reg=0.1,\n",
    "                    verbose=False)\n",
    "iter_array = [1, 2, 5, 10, 25, 50, 100, 200]\n",
    "MF_SGD.calculate_learning_curve(iter_array, test, learning_rate=0.001)"
   ]
  },
  {
   "cell_type": "code",
   "execution_count": null,
   "metadata": {
    "colab": {
     "base_uri": "https://localhost:8080/",
     "height": 308
    },
    "colab_type": "code",
    "collapsed": false,
    "id": "geoabO6OAYlz",
    "jupyter": {
     "outputs_hidden": false
    },
    "outputId": "8f5fa394-914a-40df-a66f-357b07b073e7"
   },
   "outputs": [
    {
     "data": {
      "image/png": "[encoded data removed]",
      "text/plain": [
       "<Figure size 432x288 with 1 Axes>"
      ]
     },
     "metadata": {
      "tags": []
     },
     "output_type": "display_data"
    }
   ],
   "source": [
    "plot_learning_curve(iter_array, MF_SGD)"
   ]
  },
  {
   "cell_type": "code",
   "execution_count": null,
   "metadata": {
    "colab": {
     "base_uri": "https://localhost:8080/",
     "height": 101
    },
    "colab_type": "code",
    "collapsed": false,
    "id": "LvstmSfgIGJ9",
    "jupyter": {
     "outputs_hidden": false
    },
    "outputId": "892d8342-8c1c-4ac3-d585-a4df34dc5187"
   },
   "outputs": [
    {
     "name": "stdout",
     "output_type": "stream",
     "text": [
      "0.7850286788471259\n",
      "1.1333628524133736\n",
      "0.0012093682620044092\n",
      "1.2400148732500003 0.6502730801666666\n",
      "1.2003269764444444 0.769659925\n"
     ]
    }
   ],
   "source": [
    "#optimal mse with 200 iterations, lr = 0.001, reg = 0.1\n",
    "sgd_pred = MF_SGD.predict_all()\n",
    "sgd_pred = np.exp(sgd_pred)\n",
    "print(sgd_pred.min())\n",
    "print(sgd_pred.max())\n",
    "print(get_mse(sgd_pred, np.exp(test)))\n",
    "print((np.exp(train)).max(), (np.exp(train)).min())\n",
    "print((np.exp(test)).max(), (np.exp(test)).min())"
   ]
  },
  {
   "cell_type": "code",
   "execution_count": null,
   "metadata": {
    "colab": {},
    "colab_type": "code",
    "collapsed": true,
    "id": "vD6gO2icbAb3",
    "jupyter": {
     "outputs_hidden": true
    }
   },
   "outputs": [],
   "source": [
    "#mse with 200 iterations, lr = 0.001, reg = 0.0\n",
    "sgd_pred = MF_SGD.predict_all()"
   ]
  },
  {
   "cell_type": "code",
   "execution_count": null,
   "metadata": {
    "colab": {},
    "colab_type": "code",
    "collapsed": true,
    "id": "ay9VE-eeb9c9",
    "jupyter": {
     "outputs_hidden": true
    }
   },
   "outputs": [],
   "source": [
    "sgd_pred = np.exp(sgd_pred)"
   ]
  },
  {
   "cell_type": "code",
   "execution_count": null,
   "metadata": {
    "colab": {
     "base_uri": "https://localhost:8080/",
     "height": 50
    },
    "colab_type": "code",
    "collapsed": false,
    "id": "uVwABRxmcCAa",
    "jupyter": {
     "outputs_hidden": false
    },
    "outputId": "ea73913f-efe4-4b78-bbd7-63635dd20465"
   },
   "outputs": [
    {
     "name": "stdout",
     "output_type": "stream",
     "text": [
      "0.774166564201764\n",
      "1.1468905674972405\n"
     ]
    }
   ],
   "source": [
    "print(sgd_pred.min())\n",
    "print(sgd_pred.max())"
   ]
  },
  {
   "cell_type": "code",
   "execution_count": null,
   "metadata": {
    "colab": {
     "base_uri": "https://localhost:8080/",
     "height": 34
    },
    "colab_type": "code",
    "collapsed": false,
    "id": "i5aysXGqcxFS",
    "jupyter": {
     "outputs_hidden": false
    },
    "outputId": "469127b5-b114-4c28-9cca-6528e0a50fd6"
   },
   "outputs": [
    {
     "data": {
      "text/plain": [
       "0.001398625431115368"
      ]
     },
     "execution_count": 60,
     "metadata": {
      "tags": []
     },
     "output_type": "execute_result"
    }
   ],
   "source": [
    "get_mse(sgd_pred, np.exp(test))"
   ]
  },
  {
   "cell_type": "code",
   "execution_count": null,
   "metadata": {
    "colab": {
     "base_uri": "https://localhost:8080/",
     "height": 34
    },
    "colab_type": "code",
    "collapsed": false,
    "id": "JpdcUp3cXgrB",
    "jupyter": {
     "outputs_hidden": false
    },
    "outputId": "ca28ec02-1845-4987-c7f2-3ff1c36d10da"
   },
   "outputs": [
    {
     "data": {
      "text/plain": [
       "0.03739820090746837"
      ]
     },
     "execution_count": 3,
     "metadata": {
      "tags": []
     },
     "output_type": "execute_result"
    }
   ],
   "source": [
    "np.sqrt(0.001398625431115368)"
   ]
  },
  {
   "cell_type": "code",
   "execution_count": null,
   "metadata": {
    "colab": {
     "base_uri": "https://localhost:8080/",
     "height": 1000
    },
    "colab_type": "code",
    "collapsed": false,
    "id": "WqwgeR3Lc-z6",
    "jupyter": {
     "outputs_hidden": false
    },
    "outputId": "cb792d2c-ea63-4af6-905e-52b12aa9b3a5"
   },
   "outputs": [
    {
     "data": {
      "text/plain": [
       "array([0.99595989, 1.0935703 , 0.92989218, 0.9733557 , 0.98020322,\n",
       "       1.09808822, 1.02801922, 1.0007896 , 1.1075743 , 1.0408443 ,\n",
       "       1.07213042, 1.04683444, 1.01284143, 0.97304463, 1.1144358 ,\n",
       "       1.0038347 , 1.02003998, 1.0230238 , 1.03643716, 1.0297199 ,\n",
       "       1.02979271, 0.9093601 , 0.89887879, 1.04954327, 1.00333398,\n",
       "       1.00643438, 1.00612108, 0.9476967 , 0.9670515 , 0.96192659,\n",
       "       1.00403296, 0.98646296, 0.99807117, 0.99212444, 0.9777635 ,\n",
       "       0.98582016, 0.98830197, 1.05953311, 1.04365136, 0.95792964,\n",
       "       1.12376709, 1.00134136, 0.9386786 , 0.98295916, 0.95625396,\n",
       "       1.1323969 , 0.98996853, 1.0871176 , 1.12018473, 1.09481536,\n",
       "       0.96762568, 0.9880103 , 0.99925098, 0.96226657, 1.01447403,\n",
       "       1.01577157, 1.04424918, 1.03120578, 1.0229613 , 1.07295956,\n",
       "       1.02395942, 0.99742515, 1.09492782, 1.01996826, 0.96780167,\n",
       "       0.96156357, 1.14101241, 0.91338632, 1.02173775, 0.93447344,\n",
       "       0.95314969, 1.03729349, 1.0119981 , 1.04612653, 1.06370305,\n",
       "       1.00268272, 0.99334104, 0.96772433, 1.02321139, 1.07689407,\n",
       "       1.07817336, 1.01073676, 0.97713432, 0.98250932, 0.96937723,\n",
       "       1.03647832, 1.05121291, 1.09565209, 0.93069526, 1.02669874,\n",
       "       0.9066687 , 1.05668741, 1.11809006, 0.94772934, 1.03639613,\n",
       "       1.05902611, 0.88469046, 0.96684405, 0.9798671 , 1.07052192,\n",
       "       1.07040993, 1.03124014, 0.99328307, 0.99796748, 0.94946209,\n",
       "       0.99245169, 0.90616068, 1.01824326, 0.96786991, 0.97530071,\n",
       "       1.00354336, 0.9898654 , 0.99557025, 0.86075361, 0.86586904,\n",
       "       0.99074751, 0.96848254, 0.98308848, 0.96966061, 0.95102053,\n",
       "       1.07065546, 0.93391393, 1.03192395, 0.97819485, 1.01954416,\n",
       "       0.99317158, 0.91681628, 1.03289746, 0.88347847, 0.90256565,\n",
       "       0.98395419, 1.01655113, 1.02716568, 1.10424608, 0.94702191,\n",
       "       0.98121379, 0.97125879, 0.99299411, 1.00882799, 1.02171724,\n",
       "       0.97643955, 0.97240339, 1.01828423, 1.08381249, 1.16747442,\n",
       "       1.07244397, 0.98010034, 0.98000259, 1.0021777 , 0.86933745,\n",
       "       1.01414885, 0.95239518, 1.04078099, 0.97066649, 1.00673771,\n",
       "       0.88253524, 0.95358085, 0.89451261, 0.94602759, 0.99926337,\n",
       "       0.97895203, 1.00041373, 1.0313523 , 1.02159866, 1.01564256,\n",
       "       0.78404654, 0.90496597, 1.00155545, 1.03225643, 0.93157324,\n",
       "       0.98606373, 1.02061144, 0.89753373, 0.94018565, 0.90493284,\n",
       "       1.00848056, 1.0181318 , 1.06862686, 1.06017638, 1.07951628,\n",
       "       0.86767921, 0.97722919, 0.98493488, 0.97835749, 1.00645055,\n",
       "       0.97422804, 0.99598646, 0.91942811, 1.00316497, 0.98050413,\n",
       "       0.91083803, 1.03401601, 1.07199606, 0.98858789, 1.02180412,\n",
       "       1.02065245, 1.03439568, 0.96904753, 1.06630993, 1.03237162,\n",
       "       0.95372714, 0.92518235, 0.99525494, 1.03942873, 1.03790389,\n",
       "       0.99949585, 1.05865415, 0.97991475, 1.07201415, 1.03447928,\n",
       "       0.90961155, 1.02542805, 0.92677301, 1.06462469, 1.07036927,\n",
       "       0.95150691, 0.9402032 , 0.98206408, 1.04782579, 1.02168983,\n",
       "       1.03211854, 1.03491934, 1.02602836, 1.04243068, 1.01759394,\n",
       "       1.01923184, 0.99662239, 0.91893912, 1.00124052, 0.9931217 ,\n",
       "       1.13887483, 1.02968795, 0.88923621, 0.98375328, 0.98449384,\n",
       "       1.07658005, 0.90099053, 0.90123598, 0.9709712 , 0.98091575,\n",
       "       0.93171867, 1.02882677, 0.89739764, 0.83846698, 0.92693618,\n",
       "       1.04382066, 1.06520616, 0.96647855, 1.06163734, 0.99413529,\n",
       "       1.03120039, 0.97110145, 1.01440741, 1.04880565, 1.00983551,\n",
       "       0.99641394, 1.06643018, 0.95871744, 0.91049871, 1.01880214,\n",
       "       1.01686822, 0.94634991, 1.08120222, 1.10747736, 0.89603932,\n",
       "       0.9426324 , 1.03064703, 1.1050754 , 0.9935773 , 0.92915953,\n",
       "       1.018865  , 1.00525378, 1.04439336, 1.11229342, 1.1001541 ,\n",
       "       1.00293343, 1.12277916, 0.9760394 , 1.04790762, 1.00221845,\n",
       "       1.03357566, 1.06924709, 0.96965701, 0.98169855, 0.9661695 ,\n",
       "       1.02237758, 1.00574318, 1.0045999 , 1.02648589, 1.00080051,\n",
       "       0.9996022 , 1.02071975, 1.01476511, 1.00597287, 0.93026893,\n",
       "       1.00257542, 1.00346217, 1.00640405, 1.00382905, 1.03805788,\n",
       "       0.95570263, 1.06075462, 1.02252533, 1.00023526, 0.82465434,\n",
       "       0.99162898, 1.00387235, 1.02882629, 1.02166397, 0.91420336,\n",
       "       0.93270021, 0.98454254, 0.88083886, 1.02013698, 0.92392348,\n",
       "       1.07111599, 0.98213826, 1.04625377, 0.93163534, 1.10002408,\n",
       "       1.06832216, 0.94504505, 0.97217439, 1.04624877, 1.06320244,\n",
       "       0.98295279, 1.0429898 , 0.89496062, 0.97154633, 0.87625312,\n",
       "       0.841538  , 0.99912294, 0.97340508, 1.00198536, 1.1352629 ,\n",
       "       0.95048621, 1.08883567, 0.94310701, 0.99696471, 0.99607888,\n",
       "       1.0047637 , 1.00001007, 1.01045862, 1.02109806, 0.93355135,\n",
       "       0.97685363, 1.02658822, 1.00113815, 1.01019686, 0.96786207,\n",
       "       1.00694981, 1.00118101, 1.05427716, 1.00254384, 0.96247417,\n",
       "       0.98365369, 0.97081248, 0.96721216, 0.91366988, 0.96613923,\n",
       "       1.03066352, 0.96110798, 1.04989354, 0.95090613, 0.99319047,\n",
       "       0.95718486, 0.87764172, 1.04408481, 0.9954721 , 0.86957633,\n",
       "       0.97158015, 1.02504296, 0.94856847, 0.92500155, 0.91101557,\n",
       "       0.89864764, 1.01739606, 0.98135079, 0.99671417, 1.00441694,\n",
       "       1.02616031, 0.97370232, 0.90082962, 1.03224974, 0.95403496,\n",
       "       0.94525853, 0.9796551 , 1.04429333, 1.03014739, 1.03332112,\n",
       "       0.89765559, 0.96365712, 0.97499524, 1.04941695, 1.00897312,\n",
       "       0.89380168, 0.92250602, 0.95690644, 1.01130809, 0.97328255,\n",
       "       0.96206802, 1.03546336, 1.05304128, 1.10739322, 1.05718943,\n",
       "       0.97691931, 0.93135423, 0.96358521, 0.94588829, 1.02394188,\n",
       "       0.90763651, 0.94063031, 1.0008483 , 1.04388168, 0.97953535,\n",
       "       1.02813441, 0.94663312, 0.90868794, 1.00420006, 0.97322026,\n",
       "       0.99660612, 0.96518018, 0.88185759, 1.02376706, 1.04534852,\n",
       "       0.99714807, 1.03921499, 0.95378688, 1.02607306, 0.9124589 ,\n",
       "       0.95550962, 0.87993462, 1.07048178, 0.94752863, 1.05987338,\n",
       "       1.07329502, 0.96507717, 1.07782422, 0.96432934, 0.86873048,\n",
       "       0.97300698, 1.06174008, 1.06879386, 0.85774107, 0.92916776,\n",
       "       0.97834048, 0.98801906, 0.97149117, 1.07058145, 0.9924754 ,\n",
       "       0.99549163, 1.0560365 , 1.01331474, 0.86851095, 1.00940618,\n",
       "       1.00585724, 0.79485449, 0.99842468, 1.03346617, 0.93858068,\n",
       "       0.98158455, 0.99627424, 1.05080689, 1.01979775, 0.99472984,\n",
       "       1.00522606, 0.82258699, 1.0301307 , 0.9843267 , 0.99834797,\n",
       "       1.02603253, 0.93432632, 0.96881541, 0.94475101, 0.96545805,\n",
       "       1.04749313, 1.0572895 , 1.05101357, 1.01954434, 0.95194056,\n",
       "       0.99442247, 1.02485278, 0.97121408, 1.04080583, 1.05258535,\n",
       "       0.97111655, 0.94275956, 0.96141897, 0.91858999, 1.03211474,\n",
       "       1.06118793, 0.9996737 , 1.02721775, 1.0213231 , 0.97845282,\n",
       "       1.07816597, 1.0206842 , 1.12386611, 0.97208352, 1.09656595,\n",
       "       1.08514605, 1.01103989, 0.99568951, 0.99660231, 1.02626457,\n",
       "       0.96594016, 0.98336585, 1.05767391, 0.9708374 , 1.01139102,\n",
       "       1.00010972, 1.00778597, 1.00994172, 0.90784699, 0.9096648 ,\n",
       "       0.99623155, 1.01838646, 0.91466247, 1.04346724, 1.03018452,\n",
       "       1.08106919, 1.0136022 , 0.99869403, 0.88073358, 1.07513737,\n",
       "       0.93012784, 1.00047192, 0.98743507, 1.03340898, 1.03287355,\n",
       "       0.97645465, 0.94583151, 0.9865548 , 0.98839102, 0.9528635 ,\n",
       "       1.0152547 , 0.93626877, 1.09362402, 0.92310712, 0.95768514,\n",
       "       0.99955693, 1.01281709, 0.94008983, 0.99766356, 1.04026847,\n",
       "       1.06750509, 0.99401341, 1.0132434 , 1.03940742, 1.04854718,\n",
       "       0.94777033, 0.95931958, 1.06307054, 1.02895442, 1.02237739,\n",
       "       1.02884214, 1.03629232, 0.96016696, 0.98697673, 0.97685363,\n",
       "       0.99798861, 1.11631706, 1.03043034, 1.07119536, 1.04047409,\n",
       "       1.02932365, 0.98977787, 0.92275325, 1.00937097, 1.00639452,\n",
       "       0.94818018, 0.95601281, 0.99430839, 0.97757814, 1.08994533,\n",
       "       0.99898414, 1.00071809, 1.06732577, 0.93049466, 0.99167557,\n",
       "       1.05011255, 0.92116272, 1.11242503, 0.83912664, 0.98132027,\n",
       "       0.97719049, 0.98735936, 1.06320963, 0.93938562, 0.92373577,\n",
       "       0.96946701, 0.93999268, 0.89834279, 0.93233335, 1.01345119,\n",
       "       0.78656346, 0.96282852, 0.94713838, 0.96839053, 1.07852029,\n",
       "       1.05799329, 0.95444347, 0.98539329, 0.9432819 , 0.98735669,\n",
       "       1.02957712, 1.17492229, 1.02967764, 1.06174221, 0.97572454,\n",
       "       0.9708768 , 1.08011887, 1.00074496, 0.9691143 , 0.99126673,\n",
       "       0.97004864, 0.92872874, 0.95959847, 0.91997205, 0.98294647,\n",
       "       0.97886229, 1.0438276 , 1.11351122, 1.07989913, 1.00910497,\n",
       "       1.04418578, 0.98846948, 0.99782577, 1.04764615, 0.96744845,\n",
       "       1.02008243, 1.04503173, 1.10452138, 1.00376507, 0.9780347 ,\n",
       "       1.03868067, 1.04110937, 0.99370599, 0.99193506, 1.01791945,\n",
       "       0.99703668, 1.03914647, 1.0195294 , 1.04862321, 0.95756811,\n",
       "       1.03342284, 0.72381777, 1.01631492, 0.98743517, 1.1136924 ,\n",
       "       1.04843826, 1.11787366, 1.07549936, 1.08802492, 1.00728238,\n",
       "       1.07752868, 1.03159587, 0.98677007, 0.99566927, 1.14955901,\n",
       "       0.95632765, 0.8328925 , 1.10810005, 0.97296064, 1.09891613,\n",
       "       0.98137755, 1.02995775, 1.05847163, 0.86596484, 0.94863133,\n",
       "       1.00857555, 0.98221922, 0.97265196, 0.97171571, 1.03233651,\n",
       "       0.99839724, 1.06249811, 0.95318515, 1.04105052, 1.07424557,\n",
       "       1.04384666, 0.93519469, 1.06981894, 1.03629326, 1.02179867,\n",
       "       1.03563789, 1.01447541, 0.99884479, 1.09689999, 1.0107852 ,\n",
       "       0.90867936, 0.89150079, 1.00585129, 0.93884807, 0.99507464,\n",
       "       1.08934912, 1.04591938, 1.01753979, 1.00199346, 0.96718527,\n",
       "       1.01427505, 1.04754092, 0.98599336, 0.95469569, 1.03498096,\n",
       "       1.02674136, 0.99994849, 0.99019241, 0.94562736, 0.95415656,\n",
       "       1.01107962, 1.06307617, 1.04651587, 1.05225434, 1.00344161,\n",
       "       1.08830291, 1.03063024, 1.00246651, 0.96766447, 0.95618433,\n",
       "       1.00596834, 0.88074295, 1.01748683, 1.06061727, 1.04691352,\n",
       "       1.01751852, 1.04685282, 1.00972821, 1.02634319, 0.99593788,\n",
       "       0.99956822, 0.92075482, 0.93585739, 1.00201717, 0.9863278 ,\n",
       "       1.01116691, 0.93244071, 0.97281286, 0.91150448, 1.01759172,\n",
       "       1.02729773, 0.98167779, 0.96518262, 0.89943279, 0.93293967,\n",
       "       0.965264  , 1.0384945 , 1.03444157, 1.01568088, 1.04253878,\n",
       "       0.96980406, 0.93362667, 0.97000064, 1.08671356, 0.94299232,\n",
       "       1.0092567 , 0.97398556, 1.01313822, 0.97700863, 0.99113461,\n",
       "       0.96854524, 0.9879657 , 1.00757545, 0.9975715 , 0.93104016,\n",
       "       0.99578415, 0.99303548, 1.11275874, 1.0736491 , 0.95343446,\n",
       "       1.04159032, 1.1034905 , 0.94904585, 1.04550974, 1.00211536,\n",
       "       0.98660643, 1.0628744 , 0.79167216, 1.03841795, 1.00447526,\n",
       "       1.01338558, 0.83366634, 0.73414242, 0.99598637, 0.96344272,\n",
       "       0.96355758, 0.95770347, 1.0232198 , 1.03846258, 0.96830691,\n",
       "       1.01005072, 0.91142124, 0.98923593, 1.05490202, 1.03599782,\n",
       "       0.92829145, 0.94096661, 0.88293304, 0.9588093 , 1.0267482 ,\n",
       "       1.0295405 , 1.01171843, 1.02717073, 0.95441571, 1.06399591,\n",
       "       1.02606197, 0.97174597, 1.02910078, 0.96264443, 0.9775725 ,\n",
       "       0.98723124, 1.10771506, 0.98165639, 0.94776093, 1.05741884,\n",
       "       1.00097382, 0.93710604, 0.99526568, 0.98738273, 1.09279697,\n",
       "       1.03105631, 0.91512036, 1.03240031, 0.99748788, 1.00155066,\n",
       "       0.96502399, 1.07298866, 0.96402578, 0.87321884, 1.0168957 ,\n",
       "       0.99521622, 1.03552703, 1.02767807, 1.08055966, 1.05842248,\n",
       "       1.032909  , 1.03684022, 1.0165804 , 0.94362123, 0.92733322,\n",
       "       0.95671628, 0.87896809, 1.07510669, 0.92694396, 0.99150098,\n",
       "       1.0636023 , 1.01938211, 1.00816047, 0.93048301, 0.9754128 ,\n",
       "       1.02307127, 0.95535181, 0.86973984, 1.0527824 , 1.11226675,\n",
       "       0.95315166, 1.11060329, 1.08710013, 1.07109068, 0.99852521,\n",
       "       1.12112755, 1.08009897, 0.99362179, 1.00390486, 1.01924876,\n",
       "       0.86657345, 1.04341565, 1.12349566, 0.99756109, 0.9870395 ,\n",
       "       0.99815204, 1.01995844, 1.00339895, 0.99274945, 1.06101838,\n",
       "       1.01455595, 0.94879389, 0.99943014, 0.99878128, 0.99509963,\n",
       "       0.99200816, 0.97875122, 1.07606315, 0.92642303, 0.93713137,\n",
       "       0.96171468, 1.02668226, 1.0757423 , 0.96822775, 0.98580428,\n",
       "       1.00441781, 0.97052943, 0.8516898 , 1.04099449, 0.9313764 ,\n",
       "       0.96642549, 1.00843527, 0.99970268, 0.93764527, 0.96657886,\n",
       "       1.0384391 , 0.99564778, 1.03175967, 0.99218135, 0.99530397,\n",
       "       1.01028008, 0.96238375, 1.00298593, 0.94302253, 1.0867048 ,\n",
       "       0.95414929, 1.08990168, 0.9561111 , 0.9931493 , 0.97456404,\n",
       "       1.00628124, 0.97139823, 0.97166552, 0.99011534, 0.91826996,\n",
       "       1.00103654, 0.99586078, 0.86346479, 0.98197803, 1.06348166,\n",
       "       1.00961086, 0.96822925, 1.00328857, 0.94812511, 0.94814552,\n",
       "       1.0103852 , 0.91225419, 0.99180586, 1.09997931, 1.04632976,\n",
       "       0.99587127, 1.02596411, 1.04513293, 1.05159973, 0.89110093,\n",
       "       1.01997486, 0.99379941, 0.94945545, 1.04004552, 1.01383683,\n",
       "       0.74440514, 1.11070556, 1.05907676, 0.89183661, 1.0494377 ,\n",
       "       0.98734921, 1.03370123, 0.94518977, 1.04421483, 0.99978395,\n",
       "       1.10154018, 1.06635171, 1.03162846, 1.04109722, 1.04228183,\n",
       "       0.88367089, 1.02948401, 1.06090333, 1.05469415, 0.98522279,\n",
       "       1.01572737, 1.03324329, 0.98381807, 1.09123453, 0.93143416,\n",
       "       0.98157757, 1.02654702, 1.0585526 , 1.08704002, 0.94779453,\n",
       "       0.84698187, 0.99800514, 1.05327728, 0.94112754, 1.03710226,\n",
       "       0.97710297, 1.00682498])"
      ]
     },
     "execution_count": 64,
     "metadata": {
      "tags": []
     },
     "output_type": "execute_result"
    }
   ],
   "source": [
    "np.exp(test[test.nonzero()])"
   ]
  },
  {
   "cell_type": "code",
   "execution_count": null,
   "metadata": {
    "colab": {
     "base_uri": "https://localhost:8080/",
     "height": 34
    },
    "colab_type": "code",
    "collapsed": false,
    "id": "cSnoxNNwcL6W",
    "jupyter": {
     "outputs_hidden": false
    },
    "outputId": "b3866278-e257-4550-bf20-931a7465ae04"
   },
   "outputs": [
    {
     "name": "stdout",
     "output_type": "stream",
     "text": [
      "1.2400148732500003 0.6502730801666666\n"
     ]
    }
   ],
   "source": [
    "print((np.exp(train)).max(), (np.exp(train)).min())"
   ]
  },
  {
   "cell_type": "code",
   "execution_count": null,
   "metadata": {
    "colab": {
     "base_uri": "https://localhost:8080/",
     "height": 34
    },
    "colab_type": "code",
    "collapsed": false,
    "id": "wnHMOC0ud01s",
    "jupyter": {
     "outputs_hidden": false
    },
    "outputId": "c5bac1c7-0377-4476-8897-ccdc8c0be107"
   },
   "outputs": [
    {
     "name": "stdout",
     "output_type": "stream",
     "text": [
      "1.1749222929166667 0.7238177681666667\n"
     ]
    }
   ],
   "source": [
    "print((np.exp(test)).max(), (np.exp(test)).min())"
   ]
  },
  {
   "cell_type": "code",
   "execution_count": null,
   "metadata": {
    "colab": {
     "base_uri": "https://localhost:8080/",
     "height": 34
    },
    "colab_type": "code",
    "collapsed": false,
    "id": "dHMQ7RT8fCwN",
    "jupyter": {
     "outputs_hidden": false
    },
    "outputId": "b000edb3-ccf6-4ffb-85b1-a93eee6c834a"
   },
   "outputs": [
    {
     "name": "stdout",
     "output_type": "stream",
     "text": [
      "1.2400148732500003 0.6502730801666666\n"
     ]
    }
   ],
   "source": [
    "print((np.exp(mat)).max(), (np.exp(mat)).min())"
   ]
  },
  {
   "cell_type": "code",
   "execution_count": null,
   "metadata": {
    "colab": {
     "base_uri": "https://localhost:8080/",
     "height": 101
    },
    "colab_type": "code",
    "collapsed": false,
    "id": "MfKH04uucaDv",
    "jupyter": {
     "outputs_hidden": false
    },
    "outputId": "bc45f085-3ad7-427d-ba45-c25f2c6d272e"
   },
   "outputs": [
    {
     "name": "stdout",
     "output_type": "stream",
     "text": [
      "0.6830645062841967\n",
      "1.2048353840408792\n",
      "3.8004391371094696e-05\n",
      "1.2400148732500003 0.6502730801666666\n",
      "1.2003269764444444 0.769659925\n"
     ]
    }
   ],
   "source": [
    "#mse of ALS method \n",
    "als_pred = MF_ALS.predict_all()\n",
    "als_pred = np.exp(als_pred)\n",
    "print(als_pred.min())\n",
    "print(als_pred.max())\n",
    "print(get_mse(als_pred, np.exp(test))) # it is better than SGD method :o \n",
    "print((np.exp(train)).max(), (np.exp(train)).min())\n",
    "print((np.exp(test)).max(), (np.exp(test)).min())"
   ]
  },
  {
   "cell_type": "code",
   "execution_count": null,
   "metadata": {
    "colab": {
     "base_uri": "https://localhost:8080/",
     "height": 34
    },
    "colab_type": "code",
    "collapsed": false,
    "id": "U29BxUZTJdjL",
    "jupyter": {
     "outputs_hidden": false
    },
    "outputId": "f91abbab-12ad-4d0e-f7b0-daea15cb4697"
   },
   "outputs": [
    {
     "name": "stdout",
     "output_type": "stream",
     "text": [
      "3.8004391371094696e-05\n"
     ]
    }
   ],
   "source": [
    "print(get_mse(als_pred, np.exp(test)))"
   ]
  },
  {
   "cell_type": "code",
   "execution_count": null,
   "metadata": {
    "colab": {
     "base_uri": "https://localhost:8080/",
     "height": 369
    },
    "colab_type": "code",
    "collapsed": false,
    "id": "ajWrG_wMcrNv",
    "jupyter": {
     "outputs_hidden": false
    },
    "outputId": "cfa2b77b-3fd3-4670-e1b9-c88825bc5742"
   },
   "outputs": [
    {
     "data": {
      "text/plain": [
       "(array([4.00000e+00, 4.00000e+00, 8.00000e+00, 2.60000e+01, 2.06000e+02,\n",
       "        1.54660e+04, 2.78224e+05, 1.80000e+02, 8.00000e+00, 2.00000e+00]),\n",
       " array([0.68306451, 0.73524159, 0.78741868, 0.83959577, 0.89177286,\n",
       "        0.94394995, 0.99612703, 1.04830412, 1.10048121, 1.1526583 ,\n",
       "        1.20483538]),\n",
       " <a list of 10 Patch objects>)"
      ]
     },
     "execution_count": 60,
     "metadata": {
      "tags": []
     },
     "output_type": "execute_result"
    },
    {
     "data": {
      "image/png": "[encoded data removed]",
      "text/plain": [
       "<Figure size 432x288 with 1 Axes>"
      ]
     },
     "metadata": {
      "tags": []
     },
     "output_type": "display_data"
    }
   ],
   "source": [
    "plt.hist(np.exp(MF_ALS.predict_all()).flatten())"
   ]
  },
  {
   "cell_type": "code",
   "execution_count": null,
   "metadata": {
    "colab": {
     "base_uri": "https://localhost:8080/",
     "height": 369
    },
    "colab_type": "code",
    "collapsed": false,
    "id": "PljRkjobLIWO",
    "jupyter": {
     "outputs_hidden": false
    },
    "outputId": "09227bd3-7dfa-4518-b042-9fd3c4f5abf7"
   },
   "outputs": [
    {
     "data": {
      "text/plain": [
       "(array([2.10000e+01, 2.42000e+02, 1.14200e+03, 7.83500e+03, 3.80630e+04,\n",
       "        1.02331e+05, 1.08116e+05, 3.36240e+04, 2.66200e+03, 9.20000e+01]),\n",
       " array([0.78502868, 0.8198621 , 0.85469551, 0.88952893, 0.92436235,\n",
       "        0.95919577, 0.99402918, 1.0288626 , 1.06369602, 1.09852944,\n",
       "        1.13336285]),\n",
       " <a list of 10 Patch objects>)"
      ]
     },
     "execution_count": 77,
     "metadata": {
      "tags": []
     },
     "output_type": "execute_result"
    },
    {
     "data": {
      "image/png": "[encoded data removed]",
      "text/plain": [
       "<Figure size 432x288 with 1 Axes>"
      ]
     },
     "metadata": {
      "tags": []
     },
     "output_type": "display_data"
    }
   ],
   "source": [
    "plt.hist(np.exp(MF_SGD.predict_all()).flatten())"
   ]
  },
  {
   "cell_type": "code",
   "execution_count": null,
   "metadata": {
    "colab": {
     "base_uri": "https://localhost:8080/",
     "height": 369
    },
    "colab_type": "code",
    "collapsed": false,
    "id": "5WZqd5DdJydc",
    "jupyter": {
     "outputs_hidden": false
    },
    "outputId": "a07b6b7a-f921-44f1-c4a0-76553475f766"
   },
   "outputs": [
    {
     "data": {
      "text/plain": [
       "(array([7.0000e+00, 8.2000e+01, 1.3000e+01, 1.0558e+04, 5.1000e+01,\n",
       "        2.4000e+01, 1.4000e+02, 3.8000e+01, 0.0000e+00, 6.0000e+00]),\n",
       " array([0.92314956, 0.94503098, 0.9669124 , 0.98879382, 1.01067525,\n",
       "        1.03255667, 1.05443809, 1.07631951, 1.09820093, 1.12008235,\n",
       "        1.14196378]),\n",
       " <a list of 10 Patch objects>)"
      ]
     },
     "execution_count": 76,
     "metadata": {
      "tags": []
     },
     "output_type": "execute_result"
    },
    {
     "data": {
      "image/png": "[encoded data removed]",
      "text/plain": [
       "<Figure size 432x288 with 1 Axes>"
      ]
     },
     "metadata": {
      "tags": []
     },
     "output_type": "display_data"
    }
   ],
   "source": [
    "plt.hist(np.exp(mat.flatten()[mat.nonzero()[0]]))"
   ]
  },
  {
   "cell_type": "code",
   "execution_count": null,
   "metadata": {
    "colab": {
     "base_uri": "https://localhost:8080/",
     "height": 50
    },
    "colab_type": "code",
    "collapsed": false,
    "id": "2l3rK6iIJ_2N",
    "jupyter": {
     "outputs_hidden": false
    },
    "outputId": "b2bf9a17-2d0c-480b-97dd-3097c039df10"
   },
   "outputs": [
    {
     "data": {
      "text/plain": [
       "array([-0.01354771, -0.01354771, -0.01354771, ...,  0.        ,\n",
       "        0.        ,  0.        ])"
      ]
     },
     "execution_count": 74,
     "metadata": {
      "tags": []
     },
     "output_type": "execute_result"
    }
   ],
   "source": [
    "mat.flatten()[mat.nonzero()[0]]"
   ]
  },
  {
   "cell_type": "code",
   "execution_count": null,
   "metadata": {
    "colab": {
     "base_uri": "https://localhost:8080/",
     "height": 34
    },
    "colab_type": "code",
    "collapsed": false,
    "id": "rEiKdlxdKGLO",
    "jupyter": {
     "outputs_hidden": false
    },
    "outputId": "8c393bf1-d20c-4e72-e0fb-b40b37d355f7"
   },
   "outputs": [
    {
     "data": {
      "text/plain": [
       "(10919,)"
      ]
     },
     "execution_count": 65,
     "metadata": {
      "tags": []
     },
     "output_type": "execute_result"
    }
   ],
   "source": [
    "(mat.nonzero()[0]).flatten().shape"
   ]
  },
  {
   "cell_type": "markdown",
   "metadata": {
    "colab_type": "text",
    "id": "bR3g7hGOY3_0"
   },
   "source": [
    "Below is SGD with Pascal's Method:"
   ]
  },
  {
   "cell_type": "code",
   "execution_count": null,
   "metadata": {
    "colab": {},
    "colab_type": "code",
    "collapsed": true,
    "id": "7Wrg6UGZiZrF",
    "jupyter": {
     "outputs_hidden": true
    }
   },
   "outputs": [],
   "source": [
    "n = 593 #inbred\n",
    "m = 496 #tester"
   ]
  },
  {
   "cell_type": "code",
   "execution_count": 31,
   "metadata": {
    "colab": {
     "base_uri": "https://localhost:8080/",
     "height": 34
    },
    "colab_type": "code",
    "collapsed": false,
    "id": "2K7LuRJxnRaE",
    "jupyter": {
     "outputs_hidden": false
    },
    "outputId": "6ed2ea08-53f4-41ca-bfaa-772fe2d173f7"
   },
   "outputs": [
    {
     "name": "stdout",
     "output_type": "stream",
     "text": [
      "Inbred_1071 0\n"
     ]
    }
   ],
   "source": [
    "for k,v in inbred_index.items():\n",
    "    print(k,v)\n",
    "    break"
   ]
  },
  {
   "cell_type": "code",
   "execution_count": 32,
   "metadata": {
    "colab": {},
    "colab_type": "code",
    "id": "5OII0L9jjiZ7"
   },
   "outputs": [],
   "source": [
    "#mean square error\n",
    "def mse(n,m,U,V,S_mat, S_dict, average = False):\n",
    "    loss = 0\n",
    "    num_elements = S_mat.nnz\n",
    "    if not average:\n",
    "        for (k,v) in S_dict.items():\n",
    "            loss += (U[k[0],:].dot(V[k[1],:]) - v)**2\n",
    "    else:\n",
    "        for (k,v) in S_dict.items():\n",
    "            loss += (U[k[0]]*V[k[1]] - v)**2      \n",
    "    return (loss/num_elements)"
   ]
  },
  {
   "cell_type": "code",
   "execution_count": 33,
   "metadata": {
    "colab": {},
    "colab_type": "code",
    "id": "YiqmvPV4zdyB"
   },
   "outputs": [],
   "source": [
    "#mean square error after exponential to convert back to non-negative\n",
    "def mse_exp(n,m,U,V,S_mat, S_dict, average = False):\n",
    "    loss = 0\n",
    "    num_elements = S_mat.nnz\n",
    "    if not average:\n",
    "        for (k,v) in S_dict.items():\n",
    "            loss += (np.exp(U[k[0],:].dot(V[k[1],:])) - np.exp(v))**2\n",
    "    else:\n",
    "        for (k,v) in S_dict.items():\n",
    "            loss += (U[k[0]]*V[k[1]] - v)**2      \n",
    "    return (loss/num_elements)"
   ]
  },
  {
   "cell_type": "code",
   "execution_count": 34,
   "metadata": {
    "colab": {},
    "colab_type": "code",
    "id": "DeE8VsFejmIS"
   },
   "outputs": [],
   "source": [
    "def mae(n,m,U,V,S_mat, S_dict, average = False):\n",
    "    loss = 0\n",
    "    num_elements = S_mat.nnz\n",
    "    if not average:\n",
    "        for (k,v) in S_dict.items():\n",
    "            loss += np.abs(U[k[0],:].dot(V[k[1],:]) - v)\n",
    "    else:\n",
    "        for (k,v) in S_dict.items():\n",
    "            loss += np.abs(U[k[0]]*V[k[1]] - v)      \n",
    "    return (loss/num_elements)"
   ]
  },
  {
   "cell_type": "code",
   "execution_count": 35,
   "metadata": {
    "colab": {},
    "colab_type": "code",
    "id": "EP9DUlzNjoBO"
   },
   "outputs": [],
   "source": [
    "#mean abs error\n",
    "def mae1(n,m,U,V,S_mat,S_dict, average = False):\n",
    "    loss = 0\n",
    "    for i in range(n): #n users\n",
    "        user_i = S_mat.getrow(i)\n",
    "        N = user_i.size\n",
    "        sum_user_i = 0\n",
    "        if not average:\n",
    "            for j in range(m): #j ratings\n",
    "                if (i,j) in S_dict:\n",
    "                    sum_user_i += np.abs(U[i,:].dot(V[j,:]) - S_dict[(i,j)]) #S_mat.todok()[i,j])\n",
    "        else:\n",
    "            for j in range(m): # j ratings\n",
    "                if (i,j) in S_dict:\n",
    "                    sum_user_i += np.abs(U[i]*V[j] - S_dict[(i,j)]) #- S_mat.todok()[i,j])\n",
    "        loss += sum_user_i"
   ]
  },
  {
   "cell_type": "code",
   "execution_count": 36,
   "metadata": {
    "colab": {},
    "colab_type": "code",
    "id": "zd7zOhWOjppT"
   },
   "outputs": [],
   "source": [
    "# import sparse module from SciPy package \n",
    "from scipy import sparse\n",
    "# import uniform module to create random numbers\n",
    "from scipy.stats import uniform\n",
    "import scipy\n",
    "from scipy.sparse.linalg import svds, eigs"
   ]
  },
  {
   "cell_type": "code",
   "execution_count": 38,
   "metadata": {
    "colab": {},
    "colab_type": "code",
    "id": "MNXsw2RVjrxP"
   },
   "outputs": [],
   "source": [
    "#Parse to sparse matrix\n",
    "i_index = []\n",
    "j_index = []\n",
    "s_rating = []\n",
    "\n",
    "user_dict = {}\n",
    "joke_dict = {}\n",
    "for idx, row in train_df.iterrows():\n",
    "    i_index.append(inbred_index[row['INBRED']])\n",
    "    j_index.append(tester_index[row['TESTER']])\n",
    "    s_rating.append(row['YIELD'])\n",
    "    if inbred_index[row['INBRED']] not in user_dict:\n",
    "        user_dict[inbred_index[row['INBRED']]] = [tester_index[row['TESTER']]]\n",
    "    else:\n",
    "        user_dict[inbred_index[row['INBRED']]].append(tester_index[row['TESTER']])\n",
    "    if tester_index[row['TESTER']] not in joke_dict:\n",
    "        joke_dict[tester_index[row['TESTER']]] = [inbred_index[row['INBRED']]]\n",
    "    else:\n",
    "        joke_dict[tester_index[row['TESTER']]].append(inbred_index[row['INBRED']])"
   ]
  },
  {
   "cell_type": "code",
   "execution_count": 39,
   "metadata": {
    "colab": {},
    "colab_type": "code",
    "id": "2k9qf-WZrbGz"
   },
   "outputs": [],
   "source": [
    "S_mat = sparse.coo_matrix((s_rating, (i_index, j_index)))"
   ]
  },
  {
   "cell_type": "code",
   "execution_count": 40,
   "metadata": {
    "colab": {
     "base_uri": "https://localhost:8080/",
     "height": 34
    },
    "colab_type": "code",
    "collapsed": false,
    "id": "oI_cWGkQvQrI",
    "jupyter": {
     "outputs_hidden": false
    },
    "outputId": "af4717a4-7c6e-4f80-d422-969007ac67fd"
   },
   "outputs": [
    {
     "data": {
      "text/plain": [
       "592"
      ]
     },
     "execution_count": 40,
     "metadata": {},
     "output_type": "execute_result"
    }
   ],
   "source": [
    "max(i_index)"
   ]
  },
  {
   "cell_type": "code",
   "execution_count": 41,
   "metadata": {
    "colab": {
     "base_uri": "https://localhost:8080/",
     "height": 34
    },
    "colab_type": "code",
    "collapsed": false,
    "id": "XfkcQAK-t2Hh",
    "jupyter": {
     "outputs_hidden": false
    },
    "outputId": "e6bed09a-5352-4b0c-9a29-20f8b6c64ed4"
   },
   "outputs": [
    {
     "data": {
      "text/plain": [
       "(593, 496)"
      ]
     },
     "execution_count": 41,
     "metadata": {},
     "output_type": "execute_result"
    }
   ],
   "source": [
    "S_mat.shape"
   ]
  },
  {
   "cell_type": "code",
   "execution_count": 42,
   "metadata": {
    "colab": {},
    "colab_type": "code",
    "id": "yr1Ei1KWrieD"
   },
   "outputs": [],
   "source": [
    "d = [1,2,5,10,20,50]\n",
    "U, S, VT = svds(S_mat, k=d[2])"
   ]
  },
  {
   "cell_type": "code",
   "execution_count": 43,
   "metadata": {
    "colab": {
     "base_uri": "https://localhost:8080/",
     "height": 34
    },
    "colab_type": "code",
    "collapsed": false,
    "id": "3kefRdrLribL",
    "jupyter": {
     "outputs_hidden": false
    },
    "outputId": "a9d0fce1-4565-457f-82e5-811e3ae98dfc"
   },
   "outputs": [
    {
     "data": {
      "text/plain": [
       "(593, 5)"
      ]
     },
     "execution_count": 43,
     "metadata": {},
     "output_type": "execute_result"
    }
   ],
   "source": [
    "U.shape"
   ]
  },
  {
   "cell_type": "code",
   "execution_count": 44,
   "metadata": {
    "colab": {
     "base_uri": "https://localhost:8080/",
     "height": 34
    },
    "colab_type": "code",
    "collapsed": false,
    "id": "peOrUn_FriX7",
    "jupyter": {
     "outputs_hidden": false
    },
    "outputId": "13b308b8-e29f-4541-9db5-806315a81d39"
   },
   "outputs": [
    {
     "data": {
      "text/plain": [
       "(5, 496)"
      ]
     },
     "execution_count": 44,
     "metadata": {},
     "output_type": "execute_result"
    }
   ],
   "source": [
    "VT.shape"
   ]
  },
  {
   "cell_type": "code",
   "execution_count": 45,
   "metadata": {
    "colab": {
     "base_uri": "https://localhost:8080/",
     "height": 34
    },
    "colab_type": "code",
    "collapsed": false,
    "id": "W0MnpeoSriUr",
    "jupyter": {
     "outputs_hidden": false
    },
    "outputId": "8e5bd543-0db7-4297-bef3-eb5ebc7e3092"
   },
   "outputs": [
    {
     "data": {
      "text/plain": [
       "(5,)"
      ]
     },
     "execution_count": 45,
     "metadata": {},
     "output_type": "execute_result"
    }
   ],
   "source": [
    "S.shape"
   ]
  },
  {
   "cell_type": "code",
   "execution_count": 46,
   "metadata": {
    "colab": {
     "base_uri": "https://localhost:8080/",
     "height": 34
    },
    "colab_type": "code",
    "collapsed": false,
    "id": "c_dhuFBhr_wP",
    "jupyter": {
     "outputs_hidden": false
    },
    "outputId": "ac963102-236c-4d9b-df7e-1923ce23f65f"
   },
   "outputs": [
    {
     "data": {
      "text/plain": [
       "10919"
      ]
     },
     "execution_count": 46,
     "metadata": {},
     "output_type": "execute_result"
    }
   ],
   "source": [
    "len(train_df)"
   ]
  },
  {
   "cell_type": "code",
   "execution_count": 47,
   "metadata": {
    "colab": {
     "base_uri": "https://localhost:8080/",
     "height": 34
    },
    "colab_type": "code",
    "collapsed": false,
    "id": "MWeIRTv-sOoX",
    "jupyter": {
     "outputs_hidden": false
    },
    "outputId": "3aefdf06-77f8-46cd-f28f-83267e1bf8da"
   },
   "outputs": [
    {
     "data": {
      "text/plain": [
       "593"
      ]
     },
     "execution_count": 47,
     "metadata": {},
     "output_type": "execute_result"
    }
   ],
   "source": [
    "len(user_dict)"
   ]
  },
  {
   "cell_type": "code",
   "execution_count": 48,
   "metadata": {
    "colab": {
     "base_uri": "https://localhost:8080/",
     "height": 34
    },
    "colab_type": "code",
    "collapsed": false,
    "id": "oBcJUw83tODF",
    "jupyter": {
     "outputs_hidden": false
    },
    "outputId": "bd2ec1fa-3a67-4c3f-998f-f1bc7163c26a"
   },
   "outputs": [
    {
     "data": {
      "text/plain": [
       "496"
      ]
     },
     "execution_count": 48,
     "metadata": {},
     "output_type": "execute_result"
    }
   ],
   "source": [
    "len(set(j_index))"
   ]
  },
  {
   "cell_type": "code",
   "execution_count": 49,
   "metadata": {
    "colab": {
     "base_uri": "https://localhost:8080/",
     "height": 34
    },
    "colab_type": "code",
    "collapsed": false,
    "id": "JHkxgDB6sKJf",
    "jupyter": {
     "outputs_hidden": false
    },
    "outputId": "d8453e4d-bf52-48e3-81e1-5eed9ccdcb24"
   },
   "outputs": [
    {
     "data": {
      "text/plain": [
       "593"
      ]
     },
     "execution_count": 49,
     "metadata": {},
     "output_type": "execute_result"
    }
   ],
   "source": [
    "len(inbred_index)"
   ]
  },
  {
   "cell_type": "code",
   "execution_count": 50,
   "metadata": {
    "colab": {
     "base_uri": "https://localhost:8080/",
     "height": 34
    },
    "colab_type": "code",
    "collapsed": false,
    "id": "rEmt0HGjuKkN",
    "jupyter": {
     "outputs_hidden": false
    },
    "outputId": "7d3ecd2b-a375-4fca-e7ed-94d2192b94c9"
   },
   "outputs": [
    {
     "data": {
      "text/plain": [
       "291954"
      ]
     },
     "execution_count": 50,
     "metadata": {},
     "output_type": "execute_result"
    }
   ],
   "source": [
    "494*591"
   ]
  },
  {
   "cell_type": "code",
   "execution_count": null,
   "metadata": {
    "colab": {},
    "colab_type": "code",
    "collapsed": true,
    "id": "7m5QAMPpuOya",
    "jupyter": {
     "outputs_hidden": true
    }
   },
   "outputs": [],
   "source": []
  },
  {
   "cell_type": "code",
   "execution_count": 51,
   "metadata": {
    "colab": {},
    "colab_type": "code",
    "id": "lb1ubtIGkADt"
   },
   "outputs": [],
   "source": [
    "#Parse to dictionary\n",
    "S_dict = {}\n",
    "for i, row in train_df.iterrows():\n",
    "    S_dict[(inbred_index[row['INBRED']], tester_index[row['TESTER']])] = row['YIELD']"
   ]
  },
  {
   "cell_type": "code",
   "execution_count": null,
   "metadata": {
    "colab": {
     "base_uri": "https://localhost:8080/",
     "height": 196
    },
    "colab_type": "code",
    "collapsed": false,
    "id": "e51_DDCDkGdL",
    "jupyter": {
     "outputs_hidden": false
    },
    "outputId": "a95d09c0-2a31-4fc3-9701-422fa5aaf58a"
   },
   "outputs": [
    {
     "ename": "KeyError",
     "evalue": "ignored",
     "output_type": "error",
     "traceback": [
      "\u001b[0;31m---------------------------------------------------------------------------\u001b[0m",
      "\u001b[0;31mKeyError\u001b[0m                                  Traceback (most recent call last)",
      "\u001b[0;32m<ipython-input-33-3b2a0db75192>\u001b[0m in \u001b[0;36m<module>\u001b[0;34m()\u001b[0m\n\u001b[1;32m      1\u001b[0m \u001b[0mS_dict_test\u001b[0m \u001b[0;34m=\u001b[0m \u001b[0;34m{\u001b[0m\u001b[0;34m}\u001b[0m\u001b[0;34m\u001b[0m\u001b[0;34m\u001b[0m\u001b[0m\n\u001b[1;32m      2\u001b[0m \u001b[0;32mfor\u001b[0m \u001b[0mi\u001b[0m\u001b[0;34m,\u001b[0m \u001b[0mrow\u001b[0m \u001b[0;32min\u001b[0m \u001b[0mtest_df\u001b[0m\u001b[0;34m.\u001b[0m\u001b[0miterrows\u001b[0m\u001b[0;34m(\u001b[0m\u001b[0;34m)\u001b[0m\u001b[0;34m:\u001b[0m\u001b[0;34m\u001b[0m\u001b[0;34m\u001b[0m\u001b[0m\n\u001b[0;32m----> 3\u001b[0;31m     \u001b[0mS_dict_test\u001b[0m\u001b[0;34m[\u001b[0m\u001b[0;34m(\u001b[0m\u001b[0minbred_index\u001b[0m\u001b[0;34m[\u001b[0m\u001b[0mrow\u001b[0m\u001b[0;34m[\u001b[0m\u001b[0;34m'INBRED'\u001b[0m\u001b[0;34m]\u001b[0m\u001b[0;34m]\u001b[0m\u001b[0;34m,\u001b[0m \u001b[0mtester_index\u001b[0m\u001b[0;34m[\u001b[0m\u001b[0mrow\u001b[0m\u001b[0;34m[\u001b[0m\u001b[0;34m'TESTER'\u001b[0m\u001b[0;34m]\u001b[0m\u001b[0;34m]\u001b[0m\u001b[0;34m)\u001b[0m\u001b[0;34m]\u001b[0m \u001b[0;34m=\u001b[0m \u001b[0mrow\u001b[0m\u001b[0;34m[\u001b[0m\u001b[0;34m'avg'\u001b[0m\u001b[0;34m]\u001b[0m\u001b[0;34m\u001b[0m\u001b[0;34m\u001b[0m\u001b[0m\n\u001b[0m",
      "\u001b[0;31mKeyError\u001b[0m: 'Inbred_5342'"
     ]
    }
   ],
   "source": [
    "# S_dict_test = {}\n",
    "# for i, row in test_df.iterrows():\n",
    "#     S_dict_test[(inbred_index[row['INBRED']], tester_index[row['TESTER']])] = row['avg']"
   ]
  },
  {
   "cell_type": "code",
   "execution_count": 53,
   "metadata": {
    "colab": {
     "base_uri": "https://localhost:8080/",
     "height": 50
    },
    "colab_type": "code",
    "collapsed": false,
    "id": "23hD7vtPmCB8",
    "jupyter": {
     "outputs_hidden": false
    },
    "outputId": "3f749aa9-c91f-464a-bce7-a65a79221388"
   },
   "outputs": [
    {
     "name": "stdout",
     "output_type": "stream",
     "text": [
      "593\n",
      "496\n"
     ]
    }
   ],
   "source": [
    "n, m = (593, 496)\n",
    "print(n)\n",
    "print(m)"
   ]
  },
  {
   "cell_type": "code",
   "execution_count": 91,
   "metadata": {
    "colab": {
     "base_uri": "https://localhost:8080/",
     "height": 437
    },
    "colab_type": "code",
    "collapsed": false,
    "id": "0NsoaK-rlsqk",
    "jupyter": {
     "outputs_hidden": false
    },
    "outputId": "d15681c4-f7aa-4f05-cbfc-452d148bdfe0"
   },
   "outputs": [
    {
     "name": "stdout",
     "output_type": "stream",
     "text": [
      "Iteration: 0, mse loss: 111304855547218.4\n",
      "Iteration: 20, mse loss: 59.98760522418472\n",
      "Iteration: 40, mse loss: 1.055545199899729\n",
      "Iteration: 60, mse loss: 0.24674279822026463\n",
      "Iteration: 80, mse loss: 0.09953609981895234\n"
     ]
    }
   ],
   "source": [
    "# We will try to update every joke and users (like Pascal suggests)\n",
    "# E.g: for each user i\n",
    "#          for each joke j of that user\n",
    "#              update the vector of user i \n",
    "# Yayyy, it is decreasing, Pascal is awesome\n",
    "# See if we can get to mse train around 16 \n",
    "# Yes, we do get to 16 \n",
    "lambda_ = 0.1\n",
    "lr = 0.001\n",
    "lr_v = 0.001\n",
    "lr_u = 0.001\n",
    "d = 30\n",
    "U = np.random.randn(n,d)\n",
    "V = np.random.randn(m,d)\n",
    "loss = []\n",
    "for iter in range(100):\n",
    "    #fix u update v\n",
    "    for j in range(m): #m jokes m = 100\n",
    "        for user_idx in joke_dict[j]:\n",
    "            V[j,:] -= lr*((U[user_idx,:].dot(V[j,:]) - S_dict[(user_idx, j)])*U[user_idx,:] + lambda_*V[j,:])   \n",
    "    \n",
    "    #fix v update u\n",
    "    for i in range(n): #n users n = 24983\n",
    "        for joke_idx in user_dict[i]:\n",
    "            U[i,:] -= lr*((U[i,:].dot(V[joke_idx,:]) - S_dict[(i, joke_idx)])*V[joke_idx,:] + lambda_*U[i,:])\n",
    "    \n",
    "    loss.append(mse_exp(n,m,U,V,S_mat, S_dict,average = False))\n",
    "    if iter %20 == 0:\n",
    "        print(\"Iteration: {}, mse loss: {}\".format(iter, loss[iter]))"
   ]
  },
  {
   "cell_type": "code",
   "execution_count": 55,
   "metadata": {
    "colab": {
     "base_uri": "https://localhost:8080/",
     "height": 50
    },
    "colab_type": "code",
    "collapsed": false,
    "id": "g8ufIZgew7z1",
    "jupyter": {
     "outputs_hidden": false
    },
    "outputId": "0e694ec1-d387-472f-d110-f49e7755c28c"
   },
   "outputs": [
    {
     "name": "stdout",
     "output_type": "stream",
     "text": [
      "(593, 5)\n",
      "(496, 5)\n"
     ]
    }
   ],
   "source": [
    "print(U.shape)\n",
    "print(V.shape)"
   ]
  },
  {
   "cell_type": "code",
   "execution_count": 92,
   "metadata": {
    "colab": {},
    "colab_type": "code",
    "id": "aAzh5Ctyx05x"
   },
   "outputs": [],
   "source": [
    "res = U.dot(V.T)"
   ]
  },
  {
   "cell_type": "code",
   "execution_count": 93,
   "metadata": {
    "colab": {
     "base_uri": "https://localhost:8080/",
     "height": 34
    },
    "colab_type": "code",
    "collapsed": false,
    "id": "wzeA_B0lx3uf",
    "jupyter": {
     "outputs_hidden": false
    },
    "outputId": "dfca9840-bca2-488b-cd00-fae01fec99d1"
   },
   "outputs": [
    {
     "data": {
      "text/plain": [
       "147380"
      ]
     },
     "execution_count": 93,
     "metadata": {},
     "output_type": "execute_result"
    }
   ],
   "source": [
    "(res < 0).sum()"
   ]
  },
  {
   "cell_type": "code",
   "execution_count": 94,
   "metadata": {
    "colab": {
     "base_uri": "https://localhost:8080/",
     "height": 34
    },
    "colab_type": "code",
    "collapsed": false,
    "id": "akb23mjwyKm9",
    "jupyter": {
     "outputs_hidden": false
    },
    "outputId": "1d0d9c49-dfc8-4564-e3cb-063c8091474e"
   },
   "outputs": [
    {
     "data": {
      "text/plain": [
       "291954"
      ]
     },
     "execution_count": 94,
     "metadata": {},
     "output_type": "execute_result"
    }
   ],
   "source": [
    "591*494"
   ]
  },
  {
   "cell_type": "code",
   "execution_count": 95,
   "metadata": {
    "colab": {
     "base_uri": "https://localhost:8080/",
     "height": 34
    },
    "colab_type": "code",
    "collapsed": false,
    "id": "giWxAxRMyPzi",
    "jupyter": {
     "outputs_hidden": false
    },
    "outputId": "f4599285-a709-45fd-f315-0163d1f82d8d"
   },
   "outputs": [
    {
     "data": {
      "text/plain": [
       "-19.418975138275414"
      ]
     },
     "execution_count": 95,
     "metadata": {},
     "output_type": "execute_result"
    }
   ],
   "source": [
    "res.min()"
   ]
  },
  {
   "cell_type": "code",
   "execution_count": 96,
   "metadata": {
    "colab": {
     "base_uri": "https://localhost:8080/",
     "height": 517
    },
    "colab_type": "code",
    "collapsed": false,
    "id": "RgTgdxuzyTto",
    "jupyter": {
     "outputs_hidden": false
    },
    "outputId": "ea46dfa1-4cf9-4dd6-81fc-bf33f5a5fe73"
   },
   "outputs": [
    {
     "data": {
      "text/plain": [
       "(array([3.0000e+00, 4.0000e+00, 1.3000e+01, 2.0000e+01, 4.9000e+01,\n",
       "        1.3300e+02, 3.0400e+02, 7.1100e+02, 1.4610e+03, 2.9230e+03,\n",
       "        5.6810e+03, 1.0275e+04, 1.7500e+04, 2.8697e+04, 4.4436e+04,\n",
       "        7.8009e+04, 4.1421e+04, 2.6352e+04, 1.6530e+04, 9.4160e+03,\n",
       "        5.1110e+03, 2.6650e+03, 1.2980e+03, 6.1300e+02, 2.9600e+02,\n",
       "        1.2100e+02, 4.9000e+01, 2.5000e+01, 5.0000e+00, 7.0000e+00]),\n",
       " array([-19.41897514, -18.16023796, -16.90150079, -15.64276361,\n",
       "        -14.38402644, -13.12528926, -11.86655209, -10.60781491,\n",
       "         -9.34907773,  -8.09034056,  -6.83160338,  -5.57286621,\n",
       "         -4.31412903,  -3.05539186,  -1.79665468,  -0.53791751,\n",
       "          0.72081967,   1.97955685,   3.23829402,   4.4970312 ,\n",
       "          5.75576837,   7.01450555,   8.27324272,   9.5319799 ,\n",
       "         10.79071707,  12.04945425,  13.30819142,  14.5669286 ,\n",
       "         15.82566578,  17.08440295,  18.34314013]),\n",
       " <a list of 30 Patch objects>)"
      ]
     },
     "execution_count": 96,
     "metadata": {},
     "output_type": "execute_result"
    },
    {
     "data": {
      "image/png": "[encoded data removed]",
      "text/plain": [
       "<Figure size 432x288 with 1 Axes>"
      ]
     },
     "metadata": {
      "needs_background": "light"
     },
     "output_type": "display_data"
    }
   ],
   "source": [
    "plt.hist(res.ravel(),bins=30)"
   ]
  },
  {
   "cell_type": "code",
   "execution_count": 77,
   "metadata": {
    "colab": {
     "base_uri": "https://localhost:8080/",
     "height": 483
    },
    "colab_type": "code",
    "collapsed": true,
    "id": "QNFPYsGmylWL",
    "jupyter": {
     "outputs_hidden": true
    },
    "outputId": "288bc97d-492e-4860-9e0c-83d7d80dfb91"
   },
   "outputs": [
    {
     "ename": "KeyError",
     "evalue": "'avg'",
     "output_type": "error",
     "traceback": [
      "\u001b[1;31m---------------------------------------------------------------------------\u001b[0m",
      "\u001b[1;31mKeyError\u001b[0m                                  Traceback (most recent call last)",
      "\u001b[1;32m~\\AppData\\Local\\Continuum\\anaconda3\\lib\\site-packages\\pandas\\core\\indexes\\base.py\u001b[0m in \u001b[0;36mget_loc\u001b[1;34m(self, key, method, tolerance)\u001b[0m\n\u001b[0;32m   2656\u001b[0m             \u001b[1;32mtry\u001b[0m\u001b[1;33m:\u001b[0m\u001b[1;33m\u001b[0m\u001b[1;33m\u001b[0m\u001b[0m\n\u001b[1;32m-> 2657\u001b[1;33m                 \u001b[1;32mreturn\u001b[0m \u001b[0mself\u001b[0m\u001b[1;33m.\u001b[0m\u001b[0m_engine\u001b[0m\u001b[1;33m.\u001b[0m\u001b[0mget_loc\u001b[0m\u001b[1;33m(\u001b[0m\u001b[0mkey\u001b[0m\u001b[1;33m)\u001b[0m\u001b[1;33m\u001b[0m\u001b[1;33m\u001b[0m\u001b[0m\n\u001b[0m\u001b[0;32m   2658\u001b[0m             \u001b[1;32mexcept\u001b[0m \u001b[0mKeyError\u001b[0m\u001b[1;33m:\u001b[0m\u001b[1;33m\u001b[0m\u001b[1;33m\u001b[0m\u001b[0m\n",
      "\u001b[1;32mpandas/_libs/index.pyx\u001b[0m in \u001b[0;36mpandas._libs.index.IndexEngine.get_loc\u001b[1;34m()\u001b[0m\n",
      "\u001b[1;32mpandas/_libs/index.pyx\u001b[0m in \u001b[0;36mpandas._libs.index.IndexEngine.get_loc\u001b[1;34m()\u001b[0m\n",
      "\u001b[1;32mpandas/_libs/hashtable_class_helper.pxi\u001b[0m in \u001b[0;36mpandas._libs.hashtable.PyObjectHashTable.get_item\u001b[1;34m()\u001b[0m\n",
      "\u001b[1;32mpandas/_libs/hashtable_class_helper.pxi\u001b[0m in \u001b[0;36mpandas._libs.hashtable.PyObjectHashTable.get_item\u001b[1;34m()\u001b[0m\n",
      "\u001b[1;31mKeyError\u001b[0m: 'avg'",
      "\nDuring handling of the above exception, another exception occurred:\n",
      "\u001b[1;31mKeyError\u001b[0m                                  Traceback (most recent call last)",
      "\u001b[1;32m<ipython-input-77-9140908354ec>\u001b[0m in \u001b[0;36m<module>\u001b[1;34m\u001b[0m\n\u001b[1;32m----> 1\u001b[1;33m \u001b[0mplt\u001b[0m\u001b[1;33m.\u001b[0m\u001b[0mhist\u001b[0m\u001b[1;33m(\u001b[0m\u001b[0mtrain_df\u001b[0m\u001b[1;33m[\u001b[0m\u001b[1;34m'avg'\u001b[0m\u001b[1;33m]\u001b[0m\u001b[1;33m.\u001b[0m\u001b[0mvalues\u001b[0m\u001b[1;33m,\u001b[0m \u001b[0mbins\u001b[0m \u001b[1;33m=\u001b[0m \u001b[1;36m30\u001b[0m\u001b[1;33m)\u001b[0m\u001b[1;33m\u001b[0m\u001b[1;33m\u001b[0m\u001b[0m\n\u001b[0m",
      "\u001b[1;32m~\\AppData\\Local\\Continuum\\anaconda3\\lib\\site-packages\\pandas\\core\\frame.py\u001b[0m in \u001b[0;36m__getitem__\u001b[1;34m(self, key)\u001b[0m\n\u001b[0;32m   2925\u001b[0m             \u001b[1;32mif\u001b[0m \u001b[0mself\u001b[0m\u001b[1;33m.\u001b[0m\u001b[0mcolumns\u001b[0m\u001b[1;33m.\u001b[0m\u001b[0mnlevels\u001b[0m \u001b[1;33m>\u001b[0m \u001b[1;36m1\u001b[0m\u001b[1;33m:\u001b[0m\u001b[1;33m\u001b[0m\u001b[1;33m\u001b[0m\u001b[0m\n\u001b[0;32m   2926\u001b[0m                 \u001b[1;32mreturn\u001b[0m \u001b[0mself\u001b[0m\u001b[1;33m.\u001b[0m\u001b[0m_getitem_multilevel\u001b[0m\u001b[1;33m(\u001b[0m\u001b[0mkey\u001b[0m\u001b[1;33m)\u001b[0m\u001b[1;33m\u001b[0m\u001b[1;33m\u001b[0m\u001b[0m\n\u001b[1;32m-> 2927\u001b[1;33m             \u001b[0mindexer\u001b[0m \u001b[1;33m=\u001b[0m \u001b[0mself\u001b[0m\u001b[1;33m.\u001b[0m\u001b[0mcolumns\u001b[0m\u001b[1;33m.\u001b[0m\u001b[0mget_loc\u001b[0m\u001b[1;33m(\u001b[0m\u001b[0mkey\u001b[0m\u001b[1;33m)\u001b[0m\u001b[1;33m\u001b[0m\u001b[1;33m\u001b[0m\u001b[0m\n\u001b[0m\u001b[0;32m   2928\u001b[0m             \u001b[1;32mif\u001b[0m \u001b[0mis_integer\u001b[0m\u001b[1;33m(\u001b[0m\u001b[0mindexer\u001b[0m\u001b[1;33m)\u001b[0m\u001b[1;33m:\u001b[0m\u001b[1;33m\u001b[0m\u001b[1;33m\u001b[0m\u001b[0m\n\u001b[0;32m   2929\u001b[0m                 \u001b[0mindexer\u001b[0m \u001b[1;33m=\u001b[0m \u001b[1;33m[\u001b[0m\u001b[0mindexer\u001b[0m\u001b[1;33m]\u001b[0m\u001b[1;33m\u001b[0m\u001b[1;33m\u001b[0m\u001b[0m\n",
      "\u001b[1;32m~\\AppData\\Local\\Continuum\\anaconda3\\lib\\site-packages\\pandas\\core\\indexes\\base.py\u001b[0m in \u001b[0;36mget_loc\u001b[1;34m(self, key, method, tolerance)\u001b[0m\n\u001b[0;32m   2657\u001b[0m                 \u001b[1;32mreturn\u001b[0m \u001b[0mself\u001b[0m\u001b[1;33m.\u001b[0m\u001b[0m_engine\u001b[0m\u001b[1;33m.\u001b[0m\u001b[0mget_loc\u001b[0m\u001b[1;33m(\u001b[0m\u001b[0mkey\u001b[0m\u001b[1;33m)\u001b[0m\u001b[1;33m\u001b[0m\u001b[1;33m\u001b[0m\u001b[0m\n\u001b[0;32m   2658\u001b[0m             \u001b[1;32mexcept\u001b[0m \u001b[0mKeyError\u001b[0m\u001b[1;33m:\u001b[0m\u001b[1;33m\u001b[0m\u001b[1;33m\u001b[0m\u001b[0m\n\u001b[1;32m-> 2659\u001b[1;33m                 \u001b[1;32mreturn\u001b[0m \u001b[0mself\u001b[0m\u001b[1;33m.\u001b[0m\u001b[0m_engine\u001b[0m\u001b[1;33m.\u001b[0m\u001b[0mget_loc\u001b[0m\u001b[1;33m(\u001b[0m\u001b[0mself\u001b[0m\u001b[1;33m.\u001b[0m\u001b[0m_maybe_cast_indexer\u001b[0m\u001b[1;33m(\u001b[0m\u001b[0mkey\u001b[0m\u001b[1;33m)\u001b[0m\u001b[1;33m)\u001b[0m\u001b[1;33m\u001b[0m\u001b[1;33m\u001b[0m\u001b[0m\n\u001b[0m\u001b[0;32m   2660\u001b[0m         \u001b[0mindexer\u001b[0m \u001b[1;33m=\u001b[0m \u001b[0mself\u001b[0m\u001b[1;33m.\u001b[0m\u001b[0mget_indexer\u001b[0m\u001b[1;33m(\u001b[0m\u001b[1;33m[\u001b[0m\u001b[0mkey\u001b[0m\u001b[1;33m]\u001b[0m\u001b[1;33m,\u001b[0m \u001b[0mmethod\u001b[0m\u001b[1;33m=\u001b[0m\u001b[0mmethod\u001b[0m\u001b[1;33m,\u001b[0m \u001b[0mtolerance\u001b[0m\u001b[1;33m=\u001b[0m\u001b[0mtolerance\u001b[0m\u001b[1;33m)\u001b[0m\u001b[1;33m\u001b[0m\u001b[1;33m\u001b[0m\u001b[0m\n\u001b[0;32m   2661\u001b[0m         \u001b[1;32mif\u001b[0m \u001b[0mindexer\u001b[0m\u001b[1;33m.\u001b[0m\u001b[0mndim\u001b[0m \u001b[1;33m>\u001b[0m \u001b[1;36m1\u001b[0m \u001b[1;32mor\u001b[0m \u001b[0mindexer\u001b[0m\u001b[1;33m.\u001b[0m\u001b[0msize\u001b[0m \u001b[1;33m>\u001b[0m \u001b[1;36m1\u001b[0m\u001b[1;33m:\u001b[0m\u001b[1;33m\u001b[0m\u001b[1;33m\u001b[0m\u001b[0m\n",
      "\u001b[1;32mpandas/_libs/index.pyx\u001b[0m in \u001b[0;36mpandas._libs.index.IndexEngine.get_loc\u001b[1;34m()\u001b[0m\n",
      "\u001b[1;32mpandas/_libs/index.pyx\u001b[0m in \u001b[0;36mpandas._libs.index.IndexEngine.get_loc\u001b[1;34m()\u001b[0m\n",
      "\u001b[1;32mpandas/_libs/hashtable_class_helper.pxi\u001b[0m in \u001b[0;36mpandas._libs.hashtable.PyObjectHashTable.get_item\u001b[1;34m()\u001b[0m\n",
      "\u001b[1;32mpandas/_libs/hashtable_class_helper.pxi\u001b[0m in \u001b[0;36mpandas._libs.hashtable.PyObjectHashTable.get_item\u001b[1;34m()\u001b[0m\n",
      "\u001b[1;31mKeyError\u001b[0m: 'avg'"
     ]
    }
   ],
   "source": [
    "#plt.hist(train_df['avg'].values, bins = 30)"
   ]
  },
  {
   "cell_type": "code",
   "execution_count": 97,
   "metadata": {
    "colab": {},
    "colab_type": "code",
    "id": "o-Xurm4gy6jC"
   },
   "outputs": [],
   "source": [
    "res_exp = np.exp(res)"
   ]
  },
  {
   "cell_type": "code",
   "execution_count": 98,
   "metadata": {
    "colab": {
     "base_uri": "https://localhost:8080/",
     "height": 34
    },
    "colab_type": "code",
    "id": "cUqsDcyM0poy",
    "outputId": "07a26ac0-e3b2-4804-b864-d8d9349aa4ce"
   },
   "outputs": [
    {
     "data": {
      "text/plain": [
       "0"
      ]
     },
     "execution_count": 98,
     "metadata": {},
     "output_type": "execute_result"
    }
   ],
   "source": [
    "(res_exp < 0).sum()"
   ]
  },
  {
   "cell_type": "code",
   "execution_count": 99,
   "metadata": {
    "colab": {
     "base_uri": "https://localhost:8080/",
     "height": 517
    },
    "colab_type": "code",
    "collapsed": false,
    "id": "6bf7imaF0rt5",
    "jupyter": {
     "outputs_hidden": false
    },
    "outputId": "69e30c2f-9527-465f-e396-2cbdcedc7e77"
   },
   "outputs": [
    {
     "data": {
      "text/plain": [
       "(array([2.94103e+05, 1.20000e+01, 1.00000e+00, 4.00000e+00, 0.00000e+00,\n",
       "        1.00000e+00, 0.00000e+00, 0.00000e+00, 2.00000e+00, 1.00000e+00,\n",
       "        1.00000e+00, 2.00000e+00, 0.00000e+00, 0.00000e+00, 0.00000e+00,\n",
       "        0.00000e+00, 0.00000e+00, 0.00000e+00, 0.00000e+00, 0.00000e+00,\n",
       "        0.00000e+00, 0.00000e+00, 0.00000e+00, 0.00000e+00, 0.00000e+00,\n",
       "        0.00000e+00, 0.00000e+00, 0.00000e+00, 0.00000e+00, 1.00000e+00]),\n",
       " array([3.68507434e-09, 3.08463146e+06, 6.16926291e+06, 9.25389437e+06,\n",
       "        1.23385258e+07, 1.54231573e+07, 1.85077887e+07, 2.15924202e+07,\n",
       "        2.46770516e+07, 2.77616831e+07, 3.08463146e+07, 3.39309460e+07,\n",
       "        3.70155775e+07, 4.01002089e+07, 4.31848404e+07, 4.62694718e+07,\n",
       "        4.93541033e+07, 5.24387347e+07, 5.55233662e+07, 5.86079977e+07,\n",
       "        6.16926291e+07, 6.47772606e+07, 6.78618920e+07, 7.09465235e+07,\n",
       "        7.40311549e+07, 7.71157864e+07, 8.02004178e+07, 8.32850493e+07,\n",
       "        8.63696808e+07, 8.94543122e+07, 9.25389437e+07]),\n",
       " <a list of 30 Patch objects>)"
      ]
     },
     "execution_count": 99,
     "metadata": {},
     "output_type": "execute_result"
    },
    {
     "data": {
      "image/png": "[encoded data removed]",
      "text/plain": [
       "<Figure size 432x288 with 1 Axes>"
      ]
     },
     "metadata": {
      "needs_background": "light"
     },
     "output_type": "display_data"
    }
   ],
   "source": [
    "plt.hist(res_exp.ravel(),bins=30)"
   ]
  },
  {
   "cell_type": "code",
   "execution_count": 100,
   "metadata": {
    "colab": {
     "base_uri": "https://localhost:8080/",
     "height": 34
    },
    "colab_type": "code",
    "collapsed": false,
    "id": "Mz05oBYx0urw",
    "jupyter": {
     "outputs_hidden": false
    },
    "outputId": "3bb3ab7b-d8d2-4765-a8ce-49962c7cb33c"
   },
   "outputs": [
    {
     "data": {
      "text/plain": [
       "3.6850743383642473e-09"
      ]
     },
     "execution_count": 100,
     "metadata": {},
     "output_type": "execute_result"
    }
   ],
   "source": [
    "res_exp.min()"
   ]
  },
  {
   "cell_type": "code",
   "execution_count": 101,
   "metadata": {
    "colab": {
     "base_uri": "https://localhost:8080/",
     "height": 34
    },
    "colab_type": "code",
    "collapsed": false,
    "id": "M9HPx1cH1G5Q",
    "jupyter": {
     "outputs_hidden": false
    },
    "outputId": "bcf06bc8-2cfa-40e7-d0d4-32404c9ecee0"
   },
   "outputs": [
    {
     "data": {
      "text/plain": [
       "92538943.6678143"
      ]
     },
     "execution_count": 101,
     "metadata": {},
     "output_type": "execute_result"
    }
   ],
   "source": [
    "res_exp.max()"
   ]
  },
  {
   "cell_type": "code",
   "execution_count": 102,
   "metadata": {
    "colab": {
     "base_uri": "https://localhost:8080/",
     "height": 34
    },
    "colab_type": "code",
    "collapsed": false,
    "id": "n1aI27831IVX",
    "jupyter": {
     "outputs_hidden": false
    },
    "outputId": "a2ce9fa2-0124-45d7-920f-c8ba54d7eb3e"
   },
   "outputs": [
    {
     "data": {
      "text/plain": [
       "105047"
      ]
     },
     "execution_count": 102,
     "metadata": {},
     "output_type": "execute_result"
    }
   ],
   "source": [
    "(res_exp>2).sum()"
   ]
  },
  {
   "cell_type": "code",
   "execution_count": 103,
   "metadata": {
    "colab": {
     "base_uri": "https://localhost:8080/",
     "height": 486
    },
    "colab_type": "code",
    "collapsed": false,
    "id": "KT55gWmt1Qch",
    "jupyter": {
     "outputs_hidden": false
    },
    "outputId": "073bc41d-3035-42b6-f4e7-92c2690ac0bb"
   },
   "outputs": [
    {
     "data": {
      "text/plain": [
       "(array([105517.,  41863.,  28563.,  13137.,   8837.,   6756.,   5431.,\n",
       "          4389.,   3747.,   3139.,   2775.,   2434.,   2254.,   1955.,\n",
       "          1757.,   1646.,   1477.,   1390.,   1228.,   1178.,   1130.,\n",
       "          1035.,    932.,    934.,    872.,    830.,    787.,    729.,\n",
       "           770.,    655.]),\n",
       " array([3.68507434e-09, 4.99998203e-01, 9.99996402e-01, 1.49999460e+00,\n",
       "        1.99999280e+00, 2.49999100e+00, 2.99998920e+00, 3.49998740e+00,\n",
       "        3.99998560e+00, 4.49998380e+00, 4.99998199e+00, 5.49998019e+00,\n",
       "        5.99997839e+00, 6.49997659e+00, 6.99997479e+00, 7.49997299e+00,\n",
       "        7.99997119e+00, 8.49996939e+00, 8.99996759e+00, 9.49996579e+00,\n",
       "        9.99996399e+00, 1.04999622e+01, 1.09999604e+01, 1.14999586e+01,\n",
       "        1.19999568e+01, 1.24999550e+01, 1.29999532e+01, 1.34999514e+01,\n",
       "        1.39999496e+01, 1.44999478e+01, 1.49999460e+01]),\n",
       " <a list of 30 Patch objects>)"
      ]
     },
     "execution_count": 103,
     "metadata": {},
     "output_type": "execute_result"
    },
    {
     "data": {
      "image/png": "[encoded data removed]",
      "text/plain": [
       "<Figure size 432x288 with 1 Axes>"
      ]
     },
     "metadata": {
      "needs_background": "light"
     },
     "output_type": "display_data"
    }
   ],
   "source": [
    "plt.hist(res_exp.ravel()[res_exp.ravel()<15],bins =30)"
   ]
  },
  {
   "cell_type": "code",
   "execution_count": 104,
   "metadata": {
    "colab": {},
    "colab_type": "code",
    "id": "7KxYQIPi1ZGI"
   },
   "outputs": [
    {
     "data": {
      "text/plain": [
       "0.04264912572781344"
      ]
     },
     "execution_count": 104,
     "metadata": {},
     "output_type": "execute_result"
    }
   ],
   "source": [
    "get_mse(res, test)"
   ]
  },
  {
   "cell_type": "code",
   "execution_count": 105,
   "metadata": {},
   "outputs": [
    {
     "data": {
      "text/plain": [
       "0.2645751311064591"
      ]
     },
     "execution_count": 105,
     "metadata": {},
     "output_type": "execute_result"
    }
   ],
   "source": [
    "np.sqrt(0.07)"
   ]
  },
  {
   "cell_type": "code",
   "execution_count": 106,
   "metadata": {},
   "outputs": [
    {
     "data": {
      "text/plain": [
       "array([[-0.48493039, -0.22351255,  1.60105852, ...,  0.12582644,\n",
       "         0.92205631,  0.6879405 ],\n",
       "       [ 0.18997236,  0.02555858, -0.10480511, ...,  0.42407825,\n",
       "         0.38028449,  0.5153429 ],\n",
       "       [ 1.96317954,  0.56172598,  0.24123045, ...,  0.12379726,\n",
       "         0.83452308,  0.14113715],\n",
       "       ...,\n",
       "       [-0.3629331 , -0.68865564, -0.71378727, ...,  0.32386101,\n",
       "         1.4430395 ,  0.23456242],\n",
       "       [-1.53422051, -0.44465315, -1.12723766, ...,  1.18326136,\n",
       "         0.112955  ,  0.02071922],\n",
       "       [-0.24413675,  0.86743856, -0.36585434, ...,  0.12130933,\n",
       "         0.51908031, -2.20636192]])"
      ]
     },
     "execution_count": 106,
     "metadata": {},
     "output_type": "execute_result"
    }
   ],
   "source": [
    "U"
   ]
  },
  {
   "cell_type": "code",
   "execution_count": null,
   "metadata": {},
   "outputs": [],
   "source": []
  }
 ],
 "metadata": {
  "anaconda-cloud": {},
  "colab": {
   "collapsed_sections": [],
   "name": "syngenta_crop_challenge.ipynb",
   "provenance": []
  },
  "kernelspec": {
   "display_name": "Python 3",
   "language": "python",
   "name": "python3"
  },
  "language_info": {
   "codemirror_mode": {
    "name": "ipython",
    "version": 3
   },
   "file_extension": ".py",
   "mimetype": "text/x-python",
   "name": "python",
   "nbconvert_exporter": "python",
   "pygments_lexer": "ipython3",
   "version": "3.7.3"
  }
 },
 "nbformat": 4,
 "nbformat_minor": 4
}
