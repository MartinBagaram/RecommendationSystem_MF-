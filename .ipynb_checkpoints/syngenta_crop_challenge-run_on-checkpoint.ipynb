{
 "cells": [
  {
   "cell_type": "code",
   "execution_count": 1,
   "metadata": {
    "colab": {},
    "colab_type": "code",
    "id": "4f0Ku1K1iSmw"
   },
   "outputs": [],
   "source": [
    "import os\n",
    "import numpy as np\n",
    "import matplotlib.pyplot as plt\n",
    "import pandas as pd"
   ]
  },
  {
   "cell_type": "code",
   "execution_count": 3,
   "metadata": {
    "colab": {},
    "colab_type": "code",
    "id": "kP-RFebeilp4"
   },
   "outputs": [],
   "source": [
    "train_df = pd.read_csv(\"CC2020_train_final.csv\")\n",
    "# test_df = pd.read_csv(\"CC2020_test_final.csv\")"
   ]
  },
  {
   "cell_type": "code",
   "execution_count": 4,
   "metadata": {
    "colab": {
     "base_uri": "https://localhost:8080/",
     "height": 195
    },
    "colab_type": "code",
    "id": "Q7E8LgoojI_E",
    "jupyter": {
     "outputs_hidden": false
    },
    "outputId": "60aa04cc-0c7a-4bc6-efb1-93d76229df53"
   },
   "outputs": [
    {
     "data": {
      "text/html": [
       "<div>\n",
       "<style scoped>\n",
       "    .dataframe tbody tr th:only-of-type {\n",
       "        vertical-align: middle;\n",
       "    }\n",
       "\n",
       "    .dataframe tbody tr th {\n",
       "        vertical-align: top;\n",
       "    }\n",
       "\n",
       "    .dataframe thead th {\n",
       "        text-align: right;\n",
       "    }\n",
       "</style>\n",
       "<table border=\"1\" class=\"dataframe\">\n",
       "  <thead>\n",
       "    <tr style=\"text-align: right;\">\n",
       "      <th></th>\n",
       "      <th>YEAR</th>\n",
       "      <th>LOCATION</th>\n",
       "      <th>INBRED</th>\n",
       "      <th>INBRED_CLUSTER</th>\n",
       "      <th>TESTER</th>\n",
       "      <th>TESTER_CLUSTER</th>\n",
       "      <th>YIELD</th>\n",
       "      <th>Unnamed: 7</th>\n",
       "      <th>Unnamed: 8</th>\n",
       "      <th>Unnamed: 9</th>\n",
       "    </tr>\n",
       "  </thead>\n",
       "  <tbody>\n",
       "    <tr>\n",
       "      <th>0</th>\n",
       "      <td>18</td>\n",
       "      <td>Loc 5608</td>\n",
       "      <td>Inbred_142</td>\n",
       "      <td>Cluster11</td>\n",
       "      <td>Tester_740</td>\n",
       "      <td>Cluster10</td>\n",
       "      <td>1.135462</td>\n",
       "      <td>NaN</td>\n",
       "      <td>NaN</td>\n",
       "      <td>NaN</td>\n",
       "    </tr>\n",
       "    <tr>\n",
       "      <th>1</th>\n",
       "      <td>18</td>\n",
       "      <td>Loc 4533</td>\n",
       "      <td>Inbred_142</td>\n",
       "      <td>Cluster11</td>\n",
       "      <td>Tester_740</td>\n",
       "      <td>Cluster10</td>\n",
       "      <td>1.139813</td>\n",
       "      <td>NaN</td>\n",
       "      <td>NaN</td>\n",
       "      <td>NaN</td>\n",
       "    </tr>\n",
       "    <tr>\n",
       "      <th>2</th>\n",
       "      <td>18</td>\n",
       "      <td>Loc 5620</td>\n",
       "      <td>Inbred_142</td>\n",
       "      <td>Cluster11</td>\n",
       "      <td>Tester_740</td>\n",
       "      <td>Cluster10</td>\n",
       "      <td>1.117778</td>\n",
       "      <td>NaN</td>\n",
       "      <td>NaN</td>\n",
       "      <td>NaN</td>\n",
       "    </tr>\n",
       "    <tr>\n",
       "      <th>3</th>\n",
       "      <td>18</td>\n",
       "      <td>Loc 4732</td>\n",
       "      <td>Inbred_142</td>\n",
       "      <td>Cluster11</td>\n",
       "      <td>Tester_740</td>\n",
       "      <td>Cluster10</td>\n",
       "      <td>1.171366</td>\n",
       "      <td>NaN</td>\n",
       "      <td>NaN</td>\n",
       "      <td>NaN</td>\n",
       "    </tr>\n",
       "    <tr>\n",
       "      <th>4</th>\n",
       "      <td>18</td>\n",
       "      <td>Loc 5500</td>\n",
       "      <td>Inbred_142</td>\n",
       "      <td>Cluster11</td>\n",
       "      <td>Tester_740</td>\n",
       "      <td>Cluster10</td>\n",
       "      <td>1.059364</td>\n",
       "      <td>NaN</td>\n",
       "      <td>NaN</td>\n",
       "      <td>NaN</td>\n",
       "    </tr>\n",
       "  </tbody>\n",
       "</table>\n",
       "</div>"
      ],
      "text/plain": [
       "   YEAR  LOCATION      INBRED INBRED_CLUSTER      TESTER TESTER_CLUSTER  \\\n",
       "0    18  Loc 5608  Inbred_142      Cluster11  Tester_740      Cluster10   \n",
       "1    18  Loc 4533  Inbred_142      Cluster11  Tester_740      Cluster10   \n",
       "2    18  Loc 5620  Inbred_142      Cluster11  Tester_740      Cluster10   \n",
       "3    18  Loc 4732  Inbred_142      Cluster11  Tester_740      Cluster10   \n",
       "4    18  Loc 5500  Inbred_142      Cluster11  Tester_740      Cluster10   \n",
       "\n",
       "      YIELD  Unnamed: 7  Unnamed: 8  Unnamed: 9  \n",
       "0  1.135462         NaN         NaN         NaN  \n",
       "1  1.139813         NaN         NaN         NaN  \n",
       "2  1.117778         NaN         NaN         NaN  \n",
       "3  1.171366         NaN         NaN         NaN  \n",
       "4  1.059364         NaN         NaN         NaN  "
      ]
     },
     "execution_count": 4,
     "metadata": {},
     "output_type": "execute_result"
    }
   ],
   "source": [
    "train_df.head()"
   ]
  },
  {
   "cell_type": "code",
   "execution_count": 5,
   "metadata": {
    "colab": {},
    "colab_type": "code",
    "id": "cYl4mQ-iX4Bu"
   },
   "outputs": [],
   "source": [
    "train_df = train_df[['INBRED', 'TESTER', 'YIELD']]"
   ]
  },
  {
   "cell_type": "code",
   "execution_count": 6,
   "metadata": {
    "colab": {
     "base_uri": "https://localhost:8080/",
     "height": 34
    },
    "colab_type": "code",
    "id": "OGWRd0wKdgnn",
    "jupyter": {
     "outputs_hidden": false
    },
    "outputId": "a52d4d4b-0061-49d6-fcf9-1dbcc6e0e873"
   },
   "outputs": [
    {
     "data": {
      "text/plain": [
       "0.047235945"
      ]
     },
     "execution_count": 6,
     "metadata": {},
     "output_type": "execute_result"
    }
   ],
   "source": [
    "train_df['YIELD'].min()"
   ]
  },
  {
   "cell_type": "code",
   "execution_count": 7,
   "metadata": {
    "colab": {
     "base_uri": "https://localhost:8080/",
     "height": 34
    },
    "colab_type": "code",
    "id": "SLTCbrdadmzW",
    "jupyter": {
     "outputs_hidden": false
    },
    "outputId": "fb7f0e9b-4271-4108-c5b7-025697cf4611"
   },
   "outputs": [
    {
     "data": {
      "text/plain": [
       "1.8000826730000001"
      ]
     },
     "execution_count": 7,
     "metadata": {},
     "output_type": "execute_result"
    }
   ],
   "source": [
    "train_df['YIELD'].max()"
   ]
  },
  {
   "cell_type": "code",
   "execution_count": 8,
   "metadata": {
    "colab": {
     "base_uri": "https://localhost:8080/",
     "height": 639
    },
    "colab_type": "code",
    "id": "3hbPY-sOX_lo",
    "jupyter": {
     "outputs_hidden": false
    },
    "outputId": "498aa655-9180-4dd1-a6e3-03858643ea13"
   },
   "outputs": [
    {
     "data": {
      "text/html": [
       "<div>\n",
       "<style scoped>\n",
       "    .dataframe tbody tr th:only-of-type {\n",
       "        vertical-align: middle;\n",
       "    }\n",
       "\n",
       "    .dataframe tbody tr th {\n",
       "        vertical-align: top;\n",
       "    }\n",
       "\n",
       "    .dataframe thead th {\n",
       "        text-align: right;\n",
       "    }\n",
       "</style>\n",
       "<table border=\"1\" class=\"dataframe\">\n",
       "  <thead>\n",
       "    <tr style=\"text-align: right;\">\n",
       "      <th></th>\n",
       "      <th>INBRED</th>\n",
       "      <th>TESTER</th>\n",
       "      <th>YIELD</th>\n",
       "    </tr>\n",
       "  </thead>\n",
       "  <tbody>\n",
       "    <tr>\n",
       "      <th>0</th>\n",
       "      <td>Inbred_142</td>\n",
       "      <td>Tester_740</td>\n",
       "      <td>1.135462</td>\n",
       "    </tr>\n",
       "    <tr>\n",
       "      <th>1</th>\n",
       "      <td>Inbred_142</td>\n",
       "      <td>Tester_740</td>\n",
       "      <td>1.139813</td>\n",
       "    </tr>\n",
       "    <tr>\n",
       "      <th>2</th>\n",
       "      <td>Inbred_142</td>\n",
       "      <td>Tester_740</td>\n",
       "      <td>1.117778</td>\n",
       "    </tr>\n",
       "    <tr>\n",
       "      <th>3</th>\n",
       "      <td>Inbred_142</td>\n",
       "      <td>Tester_740</td>\n",
       "      <td>1.171366</td>\n",
       "    </tr>\n",
       "    <tr>\n",
       "      <th>4</th>\n",
       "      <td>Inbred_142</td>\n",
       "      <td>Tester_740</td>\n",
       "      <td>1.059364</td>\n",
       "    </tr>\n",
       "    <tr>\n",
       "      <th>5</th>\n",
       "      <td>Inbred_142</td>\n",
       "      <td>Tester_740</td>\n",
       "      <td>1.040588</td>\n",
       "    </tr>\n",
       "    <tr>\n",
       "      <th>6</th>\n",
       "      <td>Inbred_142</td>\n",
       "      <td>Tester_740</td>\n",
       "      <td>1.002265</td>\n",
       "    </tr>\n",
       "    <tr>\n",
       "      <th>7</th>\n",
       "      <td>Inbred_142</td>\n",
       "      <td>Tester_740</td>\n",
       "      <td>0.971066</td>\n",
       "    </tr>\n",
       "    <tr>\n",
       "      <th>8</th>\n",
       "      <td>Inbred_142</td>\n",
       "      <td>Tester_743</td>\n",
       "      <td>1.289008</td>\n",
       "    </tr>\n",
       "    <tr>\n",
       "      <th>9</th>\n",
       "      <td>Inbred_142</td>\n",
       "      <td>Tester_743</td>\n",
       "      <td>0.960433</td>\n",
       "    </tr>\n",
       "    <tr>\n",
       "      <th>10</th>\n",
       "      <td>Inbred_142</td>\n",
       "      <td>Tester_743</td>\n",
       "      <td>1.160681</td>\n",
       "    </tr>\n",
       "    <tr>\n",
       "      <th>11</th>\n",
       "      <td>Inbred_142</td>\n",
       "      <td>Tester_743</td>\n",
       "      <td>0.892488</td>\n",
       "    </tr>\n",
       "    <tr>\n",
       "      <th>12</th>\n",
       "      <td>Inbred_142</td>\n",
       "      <td>Tester_743</td>\n",
       "      <td>1.101912</td>\n",
       "    </tr>\n",
       "    <tr>\n",
       "      <th>13</th>\n",
       "      <td>Inbred_142</td>\n",
       "      <td>Tester_743</td>\n",
       "      <td>0.924533</td>\n",
       "    </tr>\n",
       "    <tr>\n",
       "      <th>14</th>\n",
       "      <td>Inbred_142</td>\n",
       "      <td>Tester_743</td>\n",
       "      <td>0.959319</td>\n",
       "    </tr>\n",
       "    <tr>\n",
       "      <th>15</th>\n",
       "      <td>Inbred_142</td>\n",
       "      <td>Tester_743</td>\n",
       "      <td>1.317003</td>\n",
       "    </tr>\n",
       "    <tr>\n",
       "      <th>16</th>\n",
       "      <td>Inbred_740</td>\n",
       "      <td>Tester_757</td>\n",
       "      <td>0.914693</td>\n",
       "    </tr>\n",
       "    <tr>\n",
       "      <th>17</th>\n",
       "      <td>Inbred_740</td>\n",
       "      <td>Tester_757</td>\n",
       "      <td>0.947855</td>\n",
       "    </tr>\n",
       "    <tr>\n",
       "      <th>18</th>\n",
       "      <td>Inbred_740</td>\n",
       "      <td>Tester_757</td>\n",
       "      <td>0.938258</td>\n",
       "    </tr>\n",
       "    <tr>\n",
       "      <th>19</th>\n",
       "      <td>Inbred_740</td>\n",
       "      <td>Tester_757</td>\n",
       "      <td>1.037171</td>\n",
       "    </tr>\n",
       "  </tbody>\n",
       "</table>\n",
       "</div>"
      ],
      "text/plain": [
       "        INBRED      TESTER     YIELD\n",
       "0   Inbred_142  Tester_740  1.135462\n",
       "1   Inbred_142  Tester_740  1.139813\n",
       "2   Inbred_142  Tester_740  1.117778\n",
       "3   Inbred_142  Tester_740  1.171366\n",
       "4   Inbred_142  Tester_740  1.059364\n",
       "5   Inbred_142  Tester_740  1.040588\n",
       "6   Inbred_142  Tester_740  1.002265\n",
       "7   Inbred_142  Tester_740  0.971066\n",
       "8   Inbred_142  Tester_743  1.289008\n",
       "9   Inbred_142  Tester_743  0.960433\n",
       "10  Inbred_142  Tester_743  1.160681\n",
       "11  Inbred_142  Tester_743  0.892488\n",
       "12  Inbred_142  Tester_743  1.101912\n",
       "13  Inbred_142  Tester_743  0.924533\n",
       "14  Inbred_142  Tester_743  0.959319\n",
       "15  Inbred_142  Tester_743  1.317003\n",
       "16  Inbred_740  Tester_757  0.914693\n",
       "17  Inbred_740  Tester_757  0.947855\n",
       "18  Inbred_740  Tester_757  0.938258\n",
       "19  Inbred_740  Tester_757  1.037171"
      ]
     },
     "execution_count": 8,
     "metadata": {},
     "output_type": "execute_result"
    }
   ],
   "source": [
    "train_df.head(20)"
   ]
  },
  {
   "cell_type": "code",
   "execution_count": 9,
   "metadata": {
    "colab": {},
    "colab_type": "code",
    "id": "MIQfghRxW9Zp"
   },
   "outputs": [],
   "source": [
    "grouped_df = train_df.groupby(['INBRED','TESTER'], as_index=False).mean()"
   ]
  },
  {
   "cell_type": "code",
   "execution_count": 10,
   "metadata": {
    "colab": {
     "base_uri": "https://localhost:8080/",
     "height": 195
    },
    "colab_type": "code",
    "id": "JJAiOBL9XNva",
    "jupyter": {
     "outputs_hidden": false
    },
    "outputId": "713756be-77c8-4eb6-96a2-1b1c3004b93a"
   },
   "outputs": [
    {
     "data": {
      "text/html": [
       "<div>\n",
       "<style scoped>\n",
       "    .dataframe tbody tr th:only-of-type {\n",
       "        vertical-align: middle;\n",
       "    }\n",
       "\n",
       "    .dataframe tbody tr th {\n",
       "        vertical-align: top;\n",
       "    }\n",
       "\n",
       "    .dataframe thead th {\n",
       "        text-align: right;\n",
       "    }\n",
       "</style>\n",
       "<table border=\"1\" class=\"dataframe\">\n",
       "  <thead>\n",
       "    <tr style=\"text-align: right;\">\n",
       "      <th></th>\n",
       "      <th>INBRED</th>\n",
       "      <th>TESTER</th>\n",
       "      <th>YIELD</th>\n",
       "    </tr>\n",
       "  </thead>\n",
       "  <tbody>\n",
       "    <tr>\n",
       "      <th>0</th>\n",
       "      <td>Inbred_1071</td>\n",
       "      <td>Tester_1345</td>\n",
       "      <td>0.986544</td>\n",
       "    </tr>\n",
       "    <tr>\n",
       "      <th>1</th>\n",
       "      <td>Inbred_1071</td>\n",
       "      <td>Tester_4373</td>\n",
       "      <td>1.057704</td>\n",
       "    </tr>\n",
       "    <tr>\n",
       "      <th>2</th>\n",
       "      <td>Inbred_1071</td>\n",
       "      <td>Tester_4473</td>\n",
       "      <td>1.023704</td>\n",
       "    </tr>\n",
       "    <tr>\n",
       "      <th>3</th>\n",
       "      <td>Inbred_1071</td>\n",
       "      <td>Tester_4541</td>\n",
       "      <td>1.014735</td>\n",
       "    </tr>\n",
       "    <tr>\n",
       "      <th>4</th>\n",
       "      <td>Inbred_1071</td>\n",
       "      <td>Tester_5305</td>\n",
       "      <td>1.062727</td>\n",
       "    </tr>\n",
       "  </tbody>\n",
       "</table>\n",
       "</div>"
      ],
      "text/plain": [
       "        INBRED       TESTER     YIELD\n",
       "0  Inbred_1071  Tester_1345  0.986544\n",
       "1  Inbred_1071  Tester_4373  1.057704\n",
       "2  Inbred_1071  Tester_4473  1.023704\n",
       "3  Inbred_1071  Tester_4541  1.014735\n",
       "4  Inbred_1071  Tester_5305  1.062727"
      ]
     },
     "execution_count": 10,
     "metadata": {},
     "output_type": "execute_result"
    }
   ],
   "source": [
    "grouped_df.head()"
   ]
  },
  {
   "cell_type": "code",
   "execution_count": 11,
   "metadata": {},
   "outputs": [
    {
     "name": "stdout",
     "output_type": "stream",
     "text": [
      "0.6502730801666666\n",
      "1.2400148732500003\n"
     ]
    }
   ],
   "source": [
    "print(grouped_df['YIELD'].min())\n",
    "print(grouped_df['YIELD'].max())"
   ]
  },
  {
   "cell_type": "code",
   "execution_count": 12,
   "metadata": {
    "colab": {
     "base_uri": "https://localhost:8080/",
     "height": 34
    },
    "colab_type": "code",
    "id": "BItKA5qcYNcP",
    "jupyter": {
     "outputs_hidden": false
    },
    "outputId": "8f82455d-cace-4efb-ff65-e36dd28c0578"
   },
   "outputs": [
    {
     "data": {
      "text/plain": [
       "10919"
      ]
     },
     "execution_count": 12,
     "metadata": {},
     "output_type": "execute_result"
    }
   ],
   "source": [
    "len(grouped_df)"
   ]
  },
  {
   "cell_type": "code",
   "execution_count": null,
   "metadata": {
    "colab": {
     "base_uri": "https://localhost:8080/",
     "height": 195
    },
    "colab_type": "code",
    "id": "FUv845IaWtJY",
    "jupyter": {
     "outputs_hidden": false
    },
    "outputId": "77c3e177-3379-42bc-bf5c-0ae530f35e8c"
   },
   "outputs": [
    {
     "data": {
      "text/html": [
       "<div>\n",
       "<style scoped>\n",
       "    .dataframe tbody tr th:only-of-type {\n",
       "        vertical-align: middle;\n",
       "    }\n",
       "\n",
       "    .dataframe tbody tr th {\n",
       "        vertical-align: top;\n",
       "    }\n",
       "\n",
       "    .dataframe thead th {\n",
       "        text-align: right;\n",
       "    }\n",
       "</style>\n",
       "<table border=\"1\" class=\"dataframe\">\n",
       "  <thead>\n",
       "    <tr style=\"text-align: right;\">\n",
       "      <th></th>\n",
       "      <th>INBRED</th>\n",
       "      <th>INBRED_CLUSTER</th>\n",
       "      <th>TESTER</th>\n",
       "      <th>TESTER_CLUSTER</th>\n",
       "      <th>YIELD</th>\n",
       "    </tr>\n",
       "  </thead>\n",
       "  <tbody>\n",
       "    <tr>\n",
       "      <th>0</th>\n",
       "      <td>Inbred_1071</td>\n",
       "      <td>Cluster8</td>\n",
       "      <td>Tester_5450</td>\n",
       "      <td>Cluster5</td>\n",
       "      <td>NaN</td>\n",
       "    </tr>\n",
       "    <tr>\n",
       "      <th>1</th>\n",
       "      <td>Inbred_122</td>\n",
       "      <td>Cluster12</td>\n",
       "      <td>Tester_4336</td>\n",
       "      <td>Cluster6</td>\n",
       "      <td>NaN</td>\n",
       "    </tr>\n",
       "    <tr>\n",
       "      <th>2</th>\n",
       "      <td>Inbred_1337</td>\n",
       "      <td>Cluster17</td>\n",
       "      <td>Tester_2652</td>\n",
       "      <td>Cluster1</td>\n",
       "      <td>NaN</td>\n",
       "    </tr>\n",
       "    <tr>\n",
       "      <th>3</th>\n",
       "      <td>Inbred_1337</td>\n",
       "      <td>Cluster17</td>\n",
       "      <td>Tester_4373</td>\n",
       "      <td>Cluster3</td>\n",
       "      <td>NaN</td>\n",
       "    </tr>\n",
       "    <tr>\n",
       "      <th>4</th>\n",
       "      <td>Inbred_1339</td>\n",
       "      <td>Cluster17</td>\n",
       "      <td>Tester_4238</td>\n",
       "      <td>Cluster11</td>\n",
       "      <td>NaN</td>\n",
       "    </tr>\n",
       "  </tbody>\n",
       "</table>\n",
       "</div>"
      ],
      "text/plain": [
       "        INBRED INBRED_CLUSTER       TESTER TESTER_CLUSTER  YIELD\n",
       "0  Inbred_1071       Cluster8  Tester_5450       Cluster5    NaN\n",
       "1   Inbred_122      Cluster12  Tester_4336       Cluster6    NaN\n",
       "2  Inbred_1337      Cluster17  Tester_2652       Cluster1    NaN\n",
       "3  Inbred_1337      Cluster17  Tester_4373       Cluster3    NaN\n",
       "4  Inbred_1339      Cluster17  Tester_4238      Cluster11    NaN"
      ]
     },
     "execution_count": 14,
     "metadata": {
      "tags": []
     },
     "output_type": "execute_result"
    }
   ],
   "source": [
    "# test_df.head()"
   ]
  },
  {
   "cell_type": "code",
   "execution_count": 14,
   "metadata": {
    "colab": {},
    "colab_type": "code",
    "id": "ZkwtR-R6zSd-"
   },
   "outputs": [],
   "source": [
    "grouped_df['YIELD'] = np.log(grouped_df['YIELD']).values"
   ]
  },
  {
   "cell_type": "code",
   "execution_count": 15,
   "metadata": {
    "colab": {
     "base_uri": "https://localhost:8080/",
     "height": 195
    },
    "colab_type": "code",
    "id": "zwXuVfD8zZ_3",
    "jupyter": {
     "outputs_hidden": false
    },
    "outputId": "ae15b60c-61a2-4329-83d5-2a0bc25617a6"
   },
   "outputs": [
    {
     "data": {
      "text/html": [
       "<div>\n",
       "<style scoped>\n",
       "    .dataframe tbody tr th:only-of-type {\n",
       "        vertical-align: middle;\n",
       "    }\n",
       "\n",
       "    .dataframe tbody tr th {\n",
       "        vertical-align: top;\n",
       "    }\n",
       "\n",
       "    .dataframe thead th {\n",
       "        text-align: right;\n",
       "    }\n",
       "</style>\n",
       "<table border=\"1\" class=\"dataframe\">\n",
       "  <thead>\n",
       "    <tr style=\"text-align: right;\">\n",
       "      <th></th>\n",
       "      <th>INBRED</th>\n",
       "      <th>TESTER</th>\n",
       "      <th>YIELD</th>\n",
       "    </tr>\n",
       "  </thead>\n",
       "  <tbody>\n",
       "    <tr>\n",
       "      <th>0</th>\n",
       "      <td>Inbred_1071</td>\n",
       "      <td>Tester_1345</td>\n",
       "      <td>-0.013548</td>\n",
       "    </tr>\n",
       "    <tr>\n",
       "      <th>1</th>\n",
       "      <td>Inbred_1071</td>\n",
       "      <td>Tester_4373</td>\n",
       "      <td>0.056100</td>\n",
       "    </tr>\n",
       "    <tr>\n",
       "      <th>2</th>\n",
       "      <td>Inbred_1071</td>\n",
       "      <td>Tester_4473</td>\n",
       "      <td>0.023427</td>\n",
       "    </tr>\n",
       "    <tr>\n",
       "      <th>3</th>\n",
       "      <td>Inbred_1071</td>\n",
       "      <td>Tester_4541</td>\n",
       "      <td>0.014627</td>\n",
       "    </tr>\n",
       "    <tr>\n",
       "      <th>4</th>\n",
       "      <td>Inbred_1071</td>\n",
       "      <td>Tester_5305</td>\n",
       "      <td>0.060838</td>\n",
       "    </tr>\n",
       "  </tbody>\n",
       "</table>\n",
       "</div>"
      ],
      "text/plain": [
       "        INBRED       TESTER     YIELD\n",
       "0  Inbred_1071  Tester_1345 -0.013548\n",
       "1  Inbred_1071  Tester_4373  0.056100\n",
       "2  Inbred_1071  Tester_4473  0.023427\n",
       "3  Inbred_1071  Tester_4541  0.014627\n",
       "4  Inbred_1071  Tester_5305  0.060838"
      ]
     },
     "execution_count": 15,
     "metadata": {},
     "output_type": "execute_result"
    }
   ],
   "source": [
    "grouped_df.head()"
   ]
  },
  {
   "cell_type": "code",
   "execution_count": 18,
   "metadata": {
    "colab": {},
    "colab_type": "code",
    "id": "KJCc3nzxYfkr"
   },
   "outputs": [],
   "source": [
    "train_df = grouped_df"
   ]
  },
  {
   "cell_type": "code",
   "execution_count": 19,
   "metadata": {
    "colab": {
     "base_uri": "https://localhost:8080/",
     "height": 34
    },
    "colab_type": "code",
    "id": "8x1Ty7WGmGt8",
    "jupyter": {
     "outputs_hidden": false
    },
    "outputId": "ed31e54d-0d52-4044-daa9-ed7c64fdba1f"
   },
   "outputs": [
    {
     "data": {
      "text/plain": [
       "10919"
      ]
     },
     "execution_count": 19,
     "metadata": {},
     "output_type": "execute_result"
    }
   ],
   "source": [
    "len(train_df)"
   ]
  },
  {
   "cell_type": "code",
   "execution_count": 20,
   "metadata": {
    "colab": {
     "base_uri": "https://localhost:8080/",
     "height": 50
    },
    "colab_type": "code",
    "id": "CwKwD_6zjLYU",
    "jupyter": {
     "outputs_hidden": false
    },
    "outputId": "4a95160f-6f3f-478c-d961-ebe4f1d50ec8"
   },
   "outputs": [
    {
     "name": "stdout",
     "output_type": "stream",
     "text": [
      "593\n",
      "496\n"
     ]
    }
   ],
   "source": [
    "print(len(train_df['INBRED'].unique()))\n",
    "print(len(train_df['TESTER'].unique()))\n"
   ]
  },
  {
   "cell_type": "code",
   "execution_count": 21,
   "metadata": {
    "colab": {
     "base_uri": "https://localhost:8080/",
     "height": 84
    },
    "colab_type": "code",
    "id": "t7BEMr1Nmhxn",
    "jupyter": {
     "outputs_hidden": false
    },
    "outputId": "bd0e8628-b64f-42e2-da4d-fbcfe9f2047b"
   },
   "outputs": [
    {
     "name": "stdout",
     "output_type": "stream",
     "text": [
      "593\n",
      "496\n",
      "593\n",
      "496\n"
     ]
    }
   ],
   "source": [
    "inbred_index = {}\n",
    "tester_index = {}\n",
    "i = 0\n",
    "j = 0\n",
    "for idx, row in train_df.iterrows():\n",
    "    if row['INBRED'] not in inbred_index:\n",
    "        inbred_index[row['INBRED']] = i\n",
    "        i += 1\n",
    "    if row['TESTER'] not in tester_index:\n",
    "        tester_index[row['TESTER']] = j\n",
    "        j += 1\n",
    "print(len(inbred_index))\n",
    "print(len(tester_index))\n",
    "print(i)\n",
    "print(j)"
   ]
  },
  {
   "cell_type": "code",
   "execution_count": 23,
   "metadata": {},
   "outputs": [
    {
     "data": {
      "text/html": [
       "<div>\n",
       "<style scoped>\n",
       "    .dataframe tbody tr th:only-of-type {\n",
       "        vertical-align: middle;\n",
       "    }\n",
       "\n",
       "    .dataframe tbody tr th {\n",
       "        vertical-align: top;\n",
       "    }\n",
       "\n",
       "    .dataframe thead th {\n",
       "        text-align: right;\n",
       "    }\n",
       "</style>\n",
       "<table border=\"1\" class=\"dataframe\">\n",
       "  <thead>\n",
       "    <tr style=\"text-align: right;\">\n",
       "      <th></th>\n",
       "      <th>INBRED</th>\n",
       "      <th>TESTER</th>\n",
       "      <th>YIELD</th>\n",
       "    </tr>\n",
       "  </thead>\n",
       "  <tbody>\n",
       "    <tr>\n",
       "      <th>0</th>\n",
       "      <td>Inbred_1071</td>\n",
       "      <td>Tester_1345</td>\n",
       "      <td>-0.013548</td>\n",
       "    </tr>\n",
       "    <tr>\n",
       "      <th>1</th>\n",
       "      <td>Inbred_1071</td>\n",
       "      <td>Tester_4373</td>\n",
       "      <td>0.056100</td>\n",
       "    </tr>\n",
       "    <tr>\n",
       "      <th>2</th>\n",
       "      <td>Inbred_1071</td>\n",
       "      <td>Tester_4473</td>\n",
       "      <td>0.023427</td>\n",
       "    </tr>\n",
       "    <tr>\n",
       "      <th>3</th>\n",
       "      <td>Inbred_1071</td>\n",
       "      <td>Tester_4541</td>\n",
       "      <td>0.014627</td>\n",
       "    </tr>\n",
       "    <tr>\n",
       "      <th>4</th>\n",
       "      <td>Inbred_1071</td>\n",
       "      <td>Tester_5305</td>\n",
       "      <td>0.060838</td>\n",
       "    </tr>\n",
       "  </tbody>\n",
       "</table>\n",
       "</div>"
      ],
      "text/plain": [
       "        INBRED       TESTER     YIELD\n",
       "0  Inbred_1071  Tester_1345 -0.013548\n",
       "1  Inbred_1071  Tester_4373  0.056100\n",
       "2  Inbred_1071  Tester_4473  0.023427\n",
       "3  Inbred_1071  Tester_4541  0.014627\n",
       "4  Inbred_1071  Tester_5305  0.060838"
      ]
     },
     "execution_count": 23,
     "metadata": {},
     "output_type": "execute_result"
    }
   ],
   "source": [
    "train_df.head()"
   ]
  },
  {
   "cell_type": "code",
   "execution_count": 22,
   "metadata": {
    "colab": {
     "base_uri": "https://localhost:8080/",
     "height": 235
    },
    "colab_type": "code",
    "id": "q05pRcWuY8Tl",
    "jupyter": {
     "outputs_hidden": false
    },
    "outputId": "88c855e3-a233-442e-d6cc-e5e29cb0f15d"
   },
   "outputs": [
    {
     "data": {
      "text/plain": [
       "array([[-0.01354771,  0.0561005 ,  0.02342727, ...,  0.        ,\n",
       "         0.        ,  0.        ],\n",
       "       [ 0.        ,  0.        ,  0.        , ...,  0.        ,\n",
       "         0.        ,  0.        ],\n",
       "       [ 0.        ,  0.        ,  0.        , ...,  0.        ,\n",
       "         0.        ,  0.        ],\n",
       "       ...,\n",
       "       [ 0.        ,  0.        ,  0.        , ...,  0.        ,\n",
       "         0.        ,  0.        ],\n",
       "       [ 0.        ,  0.        ,  0.        , ...,  0.        ,\n",
       "         0.        ,  0.        ],\n",
       "       [ 0.        ,  0.02078493,  0.        , ...,  0.        ,\n",
       "         0.        ,  0.        ]])"
      ]
     },
     "execution_count": 22,
     "metadata": {},
     "output_type": "execute_result"
    }
   ],
   "source": [
    "n_inbred = 593\n",
    "n_tester = 496\n",
    "mat = np.zeros((n_inbred, n_tester))\n",
    "for row in train_df.itertuples():\n",
    "    mat[inbred_index[row[1]], tester_index[row[2]]] = row[3]\n",
    "mat"
   ]
  },
  {
   "cell_type": "code",
   "execution_count": 25,
   "metadata": {
    "colab": {
     "base_uri": "https://localhost:8080/",
     "height": 34
    },
    "colab_type": "code",
    "id": "W1JEt0fueVtS",
    "jupyter": {
     "outputs_hidden": false
    },
    "outputId": "50da78f5-7d9a-4ba3-e4c2-6c7cf970ddaa"
   },
   "outputs": [
    {
     "name": "stdout",
     "output_type": "stream",
     "text": [
      "1.2400148732500003\n"
     ]
    }
   ],
   "source": [
    "# print(np.exp(mat).max())"
   ]
  },
  {
   "cell_type": "code",
   "execution_count": 26,
   "metadata": {
    "colab": {
     "base_uri": "https://localhost:8080/",
     "height": 67
    },
    "colab_type": "code",
    "id": "QTB0-VxpY8Qc",
    "jupyter": {
     "outputs_hidden": false
    },
    "outputId": "b5543974-b4df-4fcc-81e3-bc4702403635"
   },
   "outputs": [
    {
     "name": "stdout",
     "output_type": "stream",
     "text": [
      "593 inbred\n",
      "496 tester\n",
      "Sparsity: 3.71%\n"
     ]
    }
   ],
   "source": [
    "print (str(n_inbred) + ' inbred')\n",
    "print (str(n_tester) + ' tester')\n",
    "sparsity = float(len(mat.nonzero()[0]))\n",
    "sparsity /= (mat.shape[0] * mat.shape[1])\n",
    "sparsity *= 100\n",
    "print ('Sparsity: {:4.2f}%'.format(sparsity))"
   ]
  },
  {
   "cell_type": "code",
   "execution_count": 27,
   "metadata": {
    "colab": {},
    "colab_type": "code",
    "id": "qvKkmHGTY8M0"
   },
   "outputs": [],
   "source": [
    "def train_test_split(mat):\n",
    "    test = np.zeros(mat.shape)\n",
    "    train = mat.copy()\n",
    "    for inbred in range(mat.shape[0]):\n",
    "        test_yields = np.random.choice(mat[inbred, :].nonzero()[0], \n",
    "                                        size=max(1, len(mat[inbred, :].nonzero()[0])//10), \n",
    "                                        replace=False)\n",
    "        train[inbred, test_yields] = 0.\n",
    "        test[inbred, test_yields] = mat[inbred, test_yields]\n",
    "        \n",
    "    # Test and training are truly disjoint\n",
    "    assert(np.all((train * test) == 0)) \n",
    "    return train, test"
   ]
  },
  {
   "cell_type": "code",
   "execution_count": 28,
   "metadata": {
    "colab": {},
    "colab_type": "code",
    "id": "jNFblKMEY8Ic"
   },
   "outputs": [],
   "source": [
    "train, test = train_test_split(mat)"
   ]
  },
  {
   "cell_type": "code",
   "execution_count": 29,
   "metadata": {
    "colab": {},
    "colab_type": "code",
    "id": "ZAyXcJ1CY8Ey"
   },
   "outputs": [
    {
     "name": "stdout",
     "output_type": "stream",
     "text": [
      "9937\n",
      "982\n"
     ]
    }
   ],
   "source": [
    "# print(len(train.nonzero()[0]))\n",
    "# print(len(test.nonzero()[0]))"
   ]
  },
  {
   "cell_type": "code",
   "execution_count": 30,
   "metadata": {
    "colab": {},
    "colab_type": "code",
    "id": "c1s454Puafbt"
   },
   "outputs": [],
   "source": [
    "from sklearn.metrics import mean_squared_error\n",
    "\n",
    "def get_mse(pred, actual):\n",
    "    # Ignore nonzero terms.\n",
    "    pred = pred[actual.nonzero()].flatten()\n",
    "    actual = actual[actual.nonzero()].flatten()\n",
    "    return mean_squared_error(pred, actual)"
   ]
  },
  {
   "cell_type": "code",
   "execution_count": null,
   "metadata": {
    "colab": {},
    "colab_type": "code",
    "collapsed": true,
    "id": "oCv5gZ_3bAuS",
    "jupyter": {
     "outputs_hidden": true
    }
   },
   "outputs": [],
   "source": [
    "# SGD method"
   ]
  },
  {
   "cell_type": "markdown",
   "metadata": {
    "colab_type": "text",
    "id": "bR3g7hGOY3_0"
   },
   "source": [
    "Below is SGD with Pascal's Method:"
   ]
  },
  {
   "cell_type": "code",
   "execution_count": null,
   "metadata": {
    "colab": {},
    "colab_type": "code",
    "collapsed": true,
    "id": "7Wrg6UGZiZrF",
    "jupyter": {
     "outputs_hidden": true
    }
   },
   "outputs": [],
   "source": [
    "n = 593 #inbred\n",
    "m = 496 #tester"
   ]
  },
  {
   "cell_type": "code",
   "execution_count": 31,
   "metadata": {
    "colab": {
     "base_uri": "https://localhost:8080/",
     "height": 34
    },
    "colab_type": "code",
    "id": "2K7LuRJxnRaE",
    "jupyter": {
     "outputs_hidden": false
    },
    "outputId": "6ed2ea08-53f4-41ca-bfaa-772fe2d173f7"
   },
   "outputs": [
    {
     "name": "stdout",
     "output_type": "stream",
     "text": [
      "Inbred_1071 0\n"
     ]
    }
   ],
   "source": [
    "for k,v in inbred_index.items():\n",
    "    print(k,v)\n",
    "    break"
   ]
  },
  {
   "cell_type": "code",
   "execution_count": 32,
   "metadata": {
    "colab": {},
    "colab_type": "code",
    "id": "5OII0L9jjiZ7"
   },
   "outputs": [],
   "source": [
    "#mean square error\n",
    "def mse(n,m,U,V,S_mat, S_dict, average = False):\n",
    "    loss = 0\n",
    "    num_elements = S_mat.nnz\n",
    "    if not average:\n",
    "        for (k,v) in S_dict.items():\n",
    "            loss += (U[k[0],:].dot(V[k[1],:]) - v)**2\n",
    "    else:\n",
    "        for (k,v) in S_dict.items():\n",
    "            loss += (U[k[0]]*V[k[1]] - v)**2      \n",
    "    return (loss/num_elements)"
   ]
  },
  {
   "cell_type": "code",
   "execution_count": 33,
   "metadata": {
    "colab": {},
    "colab_type": "code",
    "id": "YiqmvPV4zdyB"
   },
   "outputs": [],
   "source": [
    "#mean square error after exponential to convert back to non-negative\n",
    "def mse_exp(n,m,U,V,S_mat, S_dict, average = False):\n",
    "    loss = 0\n",
    "    num_elements = S_mat.nnz\n",
    "    if not average:\n",
    "        for (k,v) in S_dict.items():\n",
    "            loss += (np.exp(U[k[0],:].dot(V[k[1],:])) - np.exp(v))**2\n",
    "    else:\n",
    "        for (k,v) in S_dict.items():\n",
    "            loss += (U[k[0]]*V[k[1]] - v)**2      \n",
    "    return (loss/num_elements)"
   ]
  },
  {
   "cell_type": "code",
   "execution_count": 34,
   "metadata": {
    "colab": {},
    "colab_type": "code",
    "id": "DeE8VsFejmIS"
   },
   "outputs": [],
   "source": [
    "def mae(n,m,U,V,S_mat, S_dict, average = False):\n",
    "    loss = 0\n",
    "    num_elements = S_mat.nnz\n",
    "    if not average:\n",
    "        for (k,v) in S_dict.items():\n",
    "            loss += np.abs(U[k[0],:].dot(V[k[1],:]) - v)\n",
    "    else:\n",
    "        for (k,v) in S_dict.items():\n",
    "            loss += np.abs(U[k[0]]*V[k[1]] - v)      \n",
    "    return (loss/num_elements)"
   ]
  },
  {
   "cell_type": "code",
   "execution_count": 35,
   "metadata": {
    "colab": {},
    "colab_type": "code",
    "id": "EP9DUlzNjoBO"
   },
   "outputs": [],
   "source": [
    "#mean abs error\n",
    "def mae1(n,m,U,V,S_mat,S_dict, average = False):\n",
    "    loss = 0\n",
    "    for i in range(n): #n users\n",
    "        user_i = S_mat.getrow(i)\n",
    "        N = user_i.size\n",
    "        sum_user_i = 0\n",
    "        if not average:\n",
    "            for j in range(m): #j ratings\n",
    "                if (i,j) in S_dict:\n",
    "                    sum_user_i += np.abs(U[i,:].dot(V[j,:]) - S_dict[(i,j)]) #S_mat.todok()[i,j])\n",
    "        else:\n",
    "            for j in range(m): # j ratings\n",
    "                if (i,j) in S_dict:\n",
    "                    sum_user_i += np.abs(U[i]*V[j] - S_dict[(i,j)]) #- S_mat.todok()[i,j])\n",
    "        loss += sum_user_i"
   ]
  },
  {
   "cell_type": "code",
   "execution_count": 36,
   "metadata": {
    "colab": {},
    "colab_type": "code",
    "id": "zd7zOhWOjppT"
   },
   "outputs": [],
   "source": [
    "# import sparse module from SciPy package \n",
    "from scipy import sparse\n",
    "# import uniform module to create random numbers\n",
    "from scipy.stats import uniform\n",
    "import scipy\n",
    "from scipy.sparse.linalg import svds, eigs"
   ]
  },
  {
   "cell_type": "code",
   "execution_count": 38,
   "metadata": {
    "colab": {},
    "colab_type": "code",
    "id": "MNXsw2RVjrxP"
   },
   "outputs": [],
   "source": [
    "#Parse to sparse matrix\n",
    "i_index = []\n",
    "j_index = []\n",
    "s_rating = []\n",
    "\n",
    "user_dict = {}\n",
    "joke_dict = {}\n",
    "for idx, row in train_df.iterrows():\n",
    "    i_index.append(inbred_index[row['INBRED']])\n",
    "    j_index.append(tester_index[row['TESTER']])\n",
    "    s_rating.append(row['YIELD'])\n",
    "    if inbred_index[row['INBRED']] not in user_dict:\n",
    "        user_dict[inbred_index[row['INBRED']]] = [tester_index[row['TESTER']]]\n",
    "    else:\n",
    "        user_dict[inbred_index[row['INBRED']]].append(tester_index[row['TESTER']])\n",
    "    if tester_index[row['TESTER']] not in joke_dict:\n",
    "        joke_dict[tester_index[row['TESTER']]] = [inbred_index[row['INBRED']]]\n",
    "    else:\n",
    "        joke_dict[tester_index[row['TESTER']]].append(inbred_index[row['INBRED']])"
   ]
  },
  {
   "cell_type": "code",
   "execution_count": 39,
   "metadata": {
    "colab": {},
    "colab_type": "code",
    "id": "2k9qf-WZrbGz"
   },
   "outputs": [],
   "source": [
    "S_mat = sparse.coo_matrix((s_rating, (i_index, j_index)))"
   ]
  },
  {
   "cell_type": "code",
   "execution_count": 40,
   "metadata": {
    "colab": {
     "base_uri": "https://localhost:8080/",
     "height": 34
    },
    "colab_type": "code",
    "id": "oI_cWGkQvQrI",
    "jupyter": {
     "outputs_hidden": false
    },
    "outputId": "af4717a4-7c6e-4f80-d422-969007ac67fd"
   },
   "outputs": [
    {
     "data": {
      "text/plain": [
       "592"
      ]
     },
     "execution_count": 40,
     "metadata": {},
     "output_type": "execute_result"
    }
   ],
   "source": [
    "max(i_index)"
   ]
  },
  {
   "cell_type": "code",
   "execution_count": 41,
   "metadata": {
    "colab": {
     "base_uri": "https://localhost:8080/",
     "height": 34
    },
    "colab_type": "code",
    "id": "XfkcQAK-t2Hh",
    "jupyter": {
     "outputs_hidden": false
    },
    "outputId": "e6bed09a-5352-4b0c-9a29-20f8b6c64ed4"
   },
   "outputs": [
    {
     "data": {
      "text/plain": [
       "(593, 496)"
      ]
     },
     "execution_count": 41,
     "metadata": {},
     "output_type": "execute_result"
    }
   ],
   "source": [
    "S_mat.shape"
   ]
  },
  {
   "cell_type": "code",
   "execution_count": 42,
   "metadata": {
    "colab": {},
    "colab_type": "code",
    "id": "yr1Ei1KWrieD"
   },
   "outputs": [],
   "source": [
    "d = [1,2,5,10,20,50]\n",
    "U, S, VT = svds(S_mat, k=d[2])"
   ]
  },
  {
   "cell_type": "code",
   "execution_count": 43,
   "metadata": {
    "colab": {
     "base_uri": "https://localhost:8080/",
     "height": 34
    },
    "colab_type": "code",
    "id": "3kefRdrLribL",
    "jupyter": {
     "outputs_hidden": false
    },
    "outputId": "a9d0fce1-4565-457f-82e5-811e3ae98dfc"
   },
   "outputs": [
    {
     "data": {
      "text/plain": [
       "(593, 5)"
      ]
     },
     "execution_count": 43,
     "metadata": {},
     "output_type": "execute_result"
    }
   ],
   "source": [
    "U.shape"
   ]
  },
  {
   "cell_type": "code",
   "execution_count": 44,
   "metadata": {
    "colab": {
     "base_uri": "https://localhost:8080/",
     "height": 34
    },
    "colab_type": "code",
    "id": "peOrUn_FriX7",
    "jupyter": {
     "outputs_hidden": false
    },
    "outputId": "13b308b8-e29f-4541-9db5-806315a81d39"
   },
   "outputs": [
    {
     "data": {
      "text/plain": [
       "(5, 496)"
      ]
     },
     "execution_count": 44,
     "metadata": {},
     "output_type": "execute_result"
    }
   ],
   "source": [
    "VT.shape"
   ]
  },
  {
   "cell_type": "code",
   "execution_count": 45,
   "metadata": {
    "colab": {
     "base_uri": "https://localhost:8080/",
     "height": 34
    },
    "colab_type": "code",
    "id": "W0MnpeoSriUr",
    "jupyter": {
     "outputs_hidden": false
    },
    "outputId": "8e5bd543-0db7-4297-bef3-eb5ebc7e3092"
   },
   "outputs": [
    {
     "data": {
      "text/plain": [
       "(5,)"
      ]
     },
     "execution_count": 45,
     "metadata": {},
     "output_type": "execute_result"
    }
   ],
   "source": [
    "S.shape"
   ]
  },
  {
   "cell_type": "code",
   "execution_count": 46,
   "metadata": {
    "colab": {
     "base_uri": "https://localhost:8080/",
     "height": 34
    },
    "colab_type": "code",
    "id": "c_dhuFBhr_wP",
    "jupyter": {
     "outputs_hidden": false
    },
    "outputId": "ac963102-236c-4d9b-df7e-1923ce23f65f"
   },
   "outputs": [
    {
     "data": {
      "text/plain": [
       "10919"
      ]
     },
     "execution_count": 46,
     "metadata": {},
     "output_type": "execute_result"
    }
   ],
   "source": [
    "len(train_df)"
   ]
  },
  {
   "cell_type": "code",
   "execution_count": 47,
   "metadata": {
    "colab": {
     "base_uri": "https://localhost:8080/",
     "height": 34
    },
    "colab_type": "code",
    "id": "MWeIRTv-sOoX",
    "jupyter": {
     "outputs_hidden": false
    },
    "outputId": "3aefdf06-77f8-46cd-f28f-83267e1bf8da"
   },
   "outputs": [
    {
     "data": {
      "text/plain": [
       "593"
      ]
     },
     "execution_count": 47,
     "metadata": {},
     "output_type": "execute_result"
    }
   ],
   "source": [
    "len(user_dict)"
   ]
  },
  {
   "cell_type": "code",
   "execution_count": 48,
   "metadata": {
    "colab": {
     "base_uri": "https://localhost:8080/",
     "height": 34
    },
    "colab_type": "code",
    "id": "oBcJUw83tODF",
    "jupyter": {
     "outputs_hidden": false
    },
    "outputId": "bd2ec1fa-3a67-4c3f-998f-f1bc7163c26a"
   },
   "outputs": [
    {
     "data": {
      "text/plain": [
       "496"
      ]
     },
     "execution_count": 48,
     "metadata": {},
     "output_type": "execute_result"
    }
   ],
   "source": [
    "len(set(j_index))"
   ]
  },
  {
   "cell_type": "code",
   "execution_count": 49,
   "metadata": {
    "colab": {
     "base_uri": "https://localhost:8080/",
     "height": 34
    },
    "colab_type": "code",
    "id": "JHkxgDB6sKJf",
    "jupyter": {
     "outputs_hidden": false
    },
    "outputId": "d8453e4d-bf52-48e3-81e1-5eed9ccdcb24"
   },
   "outputs": [
    {
     "data": {
      "text/plain": [
       "593"
      ]
     },
     "execution_count": 49,
     "metadata": {},
     "output_type": "execute_result"
    }
   ],
   "source": [
    "len(inbred_index)"
   ]
  },
  {
   "cell_type": "code",
   "execution_count": 50,
   "metadata": {
    "colab": {
     "base_uri": "https://localhost:8080/",
     "height": 34
    },
    "colab_type": "code",
    "id": "rEmt0HGjuKkN",
    "jupyter": {
     "outputs_hidden": false
    },
    "outputId": "7d3ecd2b-a375-4fca-e7ed-94d2192b94c9"
   },
   "outputs": [
    {
     "data": {
      "text/plain": [
       "291954"
      ]
     },
     "execution_count": 50,
     "metadata": {},
     "output_type": "execute_result"
    }
   ],
   "source": [
    "494*591"
   ]
  },
  {
   "cell_type": "code",
   "execution_count": null,
   "metadata": {
    "colab": {},
    "colab_type": "code",
    "collapsed": true,
    "id": "7m5QAMPpuOya",
    "jupyter": {
     "outputs_hidden": true
    }
   },
   "outputs": [],
   "source": []
  },
  {
   "cell_type": "code",
   "execution_count": 51,
   "metadata": {
    "colab": {},
    "colab_type": "code",
    "id": "lb1ubtIGkADt"
   },
   "outputs": [],
   "source": [
    "#Parse to dictionary\n",
    "S_dict = {}\n",
    "for i, row in train_df.iterrows():\n",
    "    S_dict[(inbred_index[row['INBRED']], tester_index[row['TESTER']])] = row['YIELD']"
   ]
  },
  {
   "cell_type": "code",
   "execution_count": null,
   "metadata": {
    "colab": {
     "base_uri": "https://localhost:8080/",
     "height": 196
    },
    "colab_type": "code",
    "id": "e51_DDCDkGdL",
    "jupyter": {
     "outputs_hidden": false
    },
    "outputId": "a95d09c0-2a31-4fc3-9701-422fa5aaf58a"
   },
   "outputs": [
    {
     "ename": "KeyError",
     "evalue": "ignored",
     "output_type": "error",
     "traceback": [
      "\u001b[0;31m---------------------------------------------------------------------------\u001b[0m",
      "\u001b[0;31mKeyError\u001b[0m                                  Traceback (most recent call last)",
      "\u001b[0;32m<ipython-input-33-3b2a0db75192>\u001b[0m in \u001b[0;36m<module>\u001b[0;34m()\u001b[0m\n\u001b[1;32m      1\u001b[0m \u001b[0mS_dict_test\u001b[0m \u001b[0;34m=\u001b[0m \u001b[0;34m{\u001b[0m\u001b[0;34m}\u001b[0m\u001b[0;34m\u001b[0m\u001b[0;34m\u001b[0m\u001b[0m\n\u001b[1;32m      2\u001b[0m \u001b[0;32mfor\u001b[0m \u001b[0mi\u001b[0m\u001b[0;34m,\u001b[0m \u001b[0mrow\u001b[0m \u001b[0;32min\u001b[0m \u001b[0mtest_df\u001b[0m\u001b[0;34m.\u001b[0m\u001b[0miterrows\u001b[0m\u001b[0;34m(\u001b[0m\u001b[0;34m)\u001b[0m\u001b[0;34m:\u001b[0m\u001b[0;34m\u001b[0m\u001b[0;34m\u001b[0m\u001b[0m\n\u001b[0;32m----> 3\u001b[0;31m     \u001b[0mS_dict_test\u001b[0m\u001b[0;34m[\u001b[0m\u001b[0;34m(\u001b[0m\u001b[0minbred_index\u001b[0m\u001b[0;34m[\u001b[0m\u001b[0mrow\u001b[0m\u001b[0;34m[\u001b[0m\u001b[0;34m'INBRED'\u001b[0m\u001b[0;34m]\u001b[0m\u001b[0;34m]\u001b[0m\u001b[0;34m,\u001b[0m \u001b[0mtester_index\u001b[0m\u001b[0;34m[\u001b[0m\u001b[0mrow\u001b[0m\u001b[0;34m[\u001b[0m\u001b[0;34m'TESTER'\u001b[0m\u001b[0;34m]\u001b[0m\u001b[0;34m]\u001b[0m\u001b[0;34m)\u001b[0m\u001b[0;34m]\u001b[0m \u001b[0;34m=\u001b[0m \u001b[0mrow\u001b[0m\u001b[0;34m[\u001b[0m\u001b[0;34m'avg'\u001b[0m\u001b[0;34m]\u001b[0m\u001b[0;34m\u001b[0m\u001b[0;34m\u001b[0m\u001b[0m\n\u001b[0m",
      "\u001b[0;31mKeyError\u001b[0m: 'Inbred_5342'"
     ]
    }
   ],
   "source": [
    "# S_dict_test = {}\n",
    "# for i, row in test_df.iterrows():\n",
    "#     S_dict_test[(inbred_index[row['INBRED']], tester_index[row['TESTER']])] = row['avg']"
   ]
  },
  {
   "cell_type": "code",
   "execution_count": 53,
   "metadata": {
    "colab": {
     "base_uri": "https://localhost:8080/",
     "height": 50
    },
    "colab_type": "code",
    "id": "23hD7vtPmCB8",
    "jupyter": {
     "outputs_hidden": false
    },
    "outputId": "3f749aa9-c91f-464a-bce7-a65a79221388"
   },
   "outputs": [
    {
     "name": "stdout",
     "output_type": "stream",
     "text": [
      "593\n",
      "496\n"
     ]
    }
   ],
   "source": [
    "n, m = (593, 496)\n",
    "print(n)\n",
    "print(m)"
   ]
  },
  {
   "cell_type": "code",
   "execution_count": 91,
   "metadata": {
    "colab": {
     "base_uri": "https://localhost:8080/",
     "height": 437
    },
    "colab_type": "code",
    "id": "0NsoaK-rlsqk",
    "jupyter": {
     "outputs_hidden": false
    },
    "outputId": "d15681c4-f7aa-4f05-cbfc-452d148bdfe0"
   },
   "outputs": [
    {
     "name": "stdout",
     "output_type": "stream",
     "text": [
      "Iteration: 0, mse loss: 111304855547218.4\n",
      "Iteration: 20, mse loss: 59.98760522418472\n",
      "Iteration: 40, mse loss: 1.055545199899729\n",
      "Iteration: 60, mse loss: 0.24674279822026463\n",
      "Iteration: 80, mse loss: 0.09953609981895234\n"
     ]
    }
   ],
   "source": [
    "# We will try to update every joke and users (like Pascal suggests)\n",
    "# E.g: for each user i\n",
    "#          for each joke j of that user\n",
    "#              update the vector of user i \n",
    "lambda_ = 0.1\n",
    "lr = 0.001\n",
    "lr_v = 0.001\n",
    "lr_u = 0.001\n",
    "d = 30\n",
    "U = np.random.randn(n,d)\n",
    "V = np.random.randn(m,d)\n",
    "loss = []\n",
    "for iter in range(100):\n",
    "    #fix u update v\n",
    "    for j in range(m): #m jokes m = 100\n",
    "        for user_idx in joke_dict[j]:\n",
    "            V[j,:] -= lr*((U[user_idx,:].dot(V[j,:]) - S_dict[(user_idx, j)])*U[user_idx,:] + lambda_*V[j,:])   \n",
    "    \n",
    "    #fix v update u\n",
    "    for i in range(n): #n users n = 24983\n",
    "        for joke_idx in user_dict[i]:\n",
    "            U[i,:] -= lr*((U[i,:].dot(V[joke_idx,:]) - S_dict[(i, joke_idx)])*V[joke_idx,:] + lambda_*U[i,:])\n",
    "    \n",
    "    loss.append(mse_exp(n,m,U,V,S_mat, S_dict,average = False))\n",
    "    if iter %20 == 0:\n",
    "        print(\"Iteration: {}, mse loss: {}\".format(iter, loss[iter]))"
   ]
  },
  {
   "cell_type": "code",
   "execution_count": 55,
   "metadata": {
    "colab": {
     "base_uri": "https://localhost:8080/",
     "height": 50
    },
    "colab_type": "code",
    "id": "g8ufIZgew7z1",
    "jupyter": {
     "outputs_hidden": false
    },
    "outputId": "0e694ec1-d387-472f-d110-f49e7755c28c"
   },
   "outputs": [
    {
     "name": "stdout",
     "output_type": "stream",
     "text": [
      "(593, 5)\n",
      "(496, 5)\n"
     ]
    }
   ],
   "source": [
    "print(U.shape)\n",
    "print(V.shape)"
   ]
  },
  {
   "cell_type": "code",
   "execution_count": 92,
   "metadata": {
    "colab": {},
    "colab_type": "code",
    "id": "aAzh5Ctyx05x"
   },
   "outputs": [],
   "source": [
    "res = U.dot(V.T)"
   ]
  },
  {
   "cell_type": "code",
   "execution_count": 93,
   "metadata": {
    "colab": {
     "base_uri": "https://localhost:8080/",
     "height": 34
    },
    "colab_type": "code",
    "id": "wzeA_B0lx3uf",
    "jupyter": {
     "outputs_hidden": false
    },
    "outputId": "dfca9840-bca2-488b-cd00-fae01fec99d1"
   },
   "outputs": [
    {
     "data": {
      "text/plain": [
       "147380"
      ]
     },
     "execution_count": 93,
     "metadata": {},
     "output_type": "execute_result"
    }
   ],
   "source": [
    "(res < 0).sum()"
   ]
  },
  {
   "cell_type": "code",
   "execution_count": 94,
   "metadata": {
    "colab": {
     "base_uri": "https://localhost:8080/",
     "height": 34
    },
    "colab_type": "code",
    "id": "akb23mjwyKm9",
    "jupyter": {
     "outputs_hidden": false
    },
    "outputId": "1d0d9c49-dfc8-4564-e3cb-063c8091474e"
   },
   "outputs": [
    {
     "data": {
      "text/plain": [
       "291954"
      ]
     },
     "execution_count": 94,
     "metadata": {},
     "output_type": "execute_result"
    }
   ],
   "source": [
    "591*494"
   ]
  },
  {
   "cell_type": "code",
   "execution_count": 95,
   "metadata": {
    "colab": {
     "base_uri": "https://localhost:8080/",
     "height": 34
    },
    "colab_type": "code",
    "id": "giWxAxRMyPzi",
    "jupyter": {
     "outputs_hidden": false
    },
    "outputId": "f4599285-a709-45fd-f315-0163d1f82d8d"
   },
   "outputs": [
    {
     "data": {
      "text/plain": [
       "-19.418975138275414"
      ]
     },
     "execution_count": 95,
     "metadata": {},
     "output_type": "execute_result"
    }
   ],
   "source": [
    "res.min()"
   ]
  },
  {
   "cell_type": "code",
   "execution_count": 96,
   "metadata": {
    "colab": {
     "base_uri": "https://localhost:8080/",
     "height": 517
    },
    "colab_type": "code",
    "id": "RgTgdxuzyTto",
    "jupyter": {
     "outputs_hidden": false
    },
    "outputId": "ea46dfa1-4cf9-4dd6-81fc-bf33f5a5fe73"
   },
   "outputs": [
    {
     "data": {
      "text/plain": [
       "(array([3.0000e+00, 4.0000e+00, 1.3000e+01, 2.0000e+01, 4.9000e+01,\n",
       "        1.3300e+02, 3.0400e+02, 7.1100e+02, 1.4610e+03, 2.9230e+03,\n",
       "        5.6810e+03, 1.0275e+04, 1.7500e+04, 2.8697e+04, 4.4436e+04,\n",
       "        7.8009e+04, 4.1421e+04, 2.6352e+04, 1.6530e+04, 9.4160e+03,\n",
       "        5.1110e+03, 2.6650e+03, 1.2980e+03, 6.1300e+02, 2.9600e+02,\n",
       "        1.2100e+02, 4.9000e+01, 2.5000e+01, 5.0000e+00, 7.0000e+00]),\n",
       " array([-19.41897514, -18.16023796, -16.90150079, -15.64276361,\n",
       "        -14.38402644, -13.12528926, -11.86655209, -10.60781491,\n",
       "         -9.34907773,  -8.09034056,  -6.83160338,  -5.57286621,\n",
       "         -4.31412903,  -3.05539186,  -1.79665468,  -0.53791751,\n",
       "          0.72081967,   1.97955685,   3.23829402,   4.4970312 ,\n",
       "          5.75576837,   7.01450555,   8.27324272,   9.5319799 ,\n",
       "         10.79071707,  12.04945425,  13.30819142,  14.5669286 ,\n",
       "         15.82566578,  17.08440295,  18.34314013]),\n",
       " <a list of 30 Patch objects>)"
      ]
     },
     "execution_count": 96,
     "metadata": {},
     "output_type": "execute_result"
    },
    {
     "data": {
      "image/png": "[encoded data removed]",
      "text/plain": [
       "<Figure size 432x288 with 1 Axes>"
      ]
     },
     "metadata": {
      "needs_background": "light"
     },
     "output_type": "display_data"
    }
   ],
   "source": [
    "plt.hist(res.ravel(),bins=30)"
   ]
  },
  {
   "cell_type": "code",
   "execution_count": 77,
   "metadata": {
    "colab": {
     "base_uri": "https://localhost:8080/",
     "height": 483
    },
    "colab_type": "code",
    "collapsed": true,
    "id": "QNFPYsGmylWL",
    "jupyter": {
     "outputs_hidden": true
    },
    "outputId": "288bc97d-492e-4860-9e0c-83d7d80dfb91"
   },
   "outputs": [
    {
     "ename": "KeyError",
     "evalue": "'avg'",
     "output_type": "error",
     "traceback": [
      "\u001b[1;31m---------------------------------------------------------------------------\u001b[0m",
      "\u001b[1;31mKeyError\u001b[0m                                  Traceback (most recent call last)",
      "\u001b[1;32m~\\AppData\\Local\\Continuum\\anaconda3\\lib\\site-packages\\pandas\\core\\indexes\\base.py\u001b[0m in \u001b[0;36mget_loc\u001b[1;34m(self, key, method, tolerance)\u001b[0m\n\u001b[0;32m   2656\u001b[0m             \u001b[1;32mtry\u001b[0m\u001b[1;33m:\u001b[0m\u001b[1;33m\u001b[0m\u001b[1;33m\u001b[0m\u001b[0m\n\u001b[1;32m-> 2657\u001b[1;33m                 \u001b[1;32mreturn\u001b[0m \u001b[0mself\u001b[0m\u001b[1;33m.\u001b[0m\u001b[0m_engine\u001b[0m\u001b[1;33m.\u001b[0m\u001b[0mget_loc\u001b[0m\u001b[1;33m(\u001b[0m\u001b[0mkey\u001b[0m\u001b[1;33m)\u001b[0m\u001b[1;33m\u001b[0m\u001b[1;33m\u001b[0m\u001b[0m\n\u001b[0m\u001b[0;32m   2658\u001b[0m             \u001b[1;32mexcept\u001b[0m \u001b[0mKeyError\u001b[0m\u001b[1;33m:\u001b[0m\u001b[1;33m\u001b[0m\u001b[1;33m\u001b[0m\u001b[0m\n",
      "\u001b[1;32mpandas/_libs/index.pyx\u001b[0m in \u001b[0;36mpandas._libs.index.IndexEngine.get_loc\u001b[1;34m()\u001b[0m\n",
      "\u001b[1;32mpandas/_libs/index.pyx\u001b[0m in \u001b[0;36mpandas._libs.index.IndexEngine.get_loc\u001b[1;34m()\u001b[0m\n",
      "\u001b[1;32mpandas/_libs/hashtable_class_helper.pxi\u001b[0m in \u001b[0;36mpandas._libs.hashtable.PyObjectHashTable.get_item\u001b[1;34m()\u001b[0m\n",
      "\u001b[1;32mpandas/_libs/hashtable_class_helper.pxi\u001b[0m in \u001b[0;36mpandas._libs.hashtable.PyObjectHashTable.get_item\u001b[1;34m()\u001b[0m\n",
      "\u001b[1;31mKeyError\u001b[0m: 'avg'",
      "\nDuring handling of the above exception, another exception occurred:\n",
      "\u001b[1;31mKeyError\u001b[0m                                  Traceback (most recent call last)",
      "\u001b[1;32m<ipython-input-77-9140908354ec>\u001b[0m in \u001b[0;36m<module>\u001b[1;34m\u001b[0m\n\u001b[1;32m----> 1\u001b[1;33m \u001b[0mplt\u001b[0m\u001b[1;33m.\u001b[0m\u001b[0mhist\u001b[0m\u001b[1;33m(\u001b[0m\u001b[0mtrain_df\u001b[0m\u001b[1;33m[\u001b[0m\u001b[1;34m'avg'\u001b[0m\u001b[1;33m]\u001b[0m\u001b[1;33m.\u001b[0m\u001b[0mvalues\u001b[0m\u001b[1;33m,\u001b[0m \u001b[0mbins\u001b[0m \u001b[1;33m=\u001b[0m \u001b[1;36m30\u001b[0m\u001b[1;33m)\u001b[0m\u001b[1;33m\u001b[0m\u001b[1;33m\u001b[0m\u001b[0m\n\u001b[0m",
      "\u001b[1;32m~\\AppData\\Local\\Continuum\\anaconda3\\lib\\site-packages\\pandas\\core\\frame.py\u001b[0m in \u001b[0;36m__getitem__\u001b[1;34m(self, key)\u001b[0m\n\u001b[0;32m   2925\u001b[0m             \u001b[1;32mif\u001b[0m \u001b[0mself\u001b[0m\u001b[1;33m.\u001b[0m\u001b[0mcolumns\u001b[0m\u001b[1;33m.\u001b[0m\u001b[0mnlevels\u001b[0m \u001b[1;33m>\u001b[0m \u001b[1;36m1\u001b[0m\u001b[1;33m:\u001b[0m\u001b[1;33m\u001b[0m\u001b[1;33m\u001b[0m\u001b[0m\n\u001b[0;32m   2926\u001b[0m                 \u001b[1;32mreturn\u001b[0m \u001b[0mself\u001b[0m\u001b[1;33m.\u001b[0m\u001b[0m_getitem_multilevel\u001b[0m\u001b[1;33m(\u001b[0m\u001b[0mkey\u001b[0m\u001b[1;33m)\u001b[0m\u001b[1;33m\u001b[0m\u001b[1;33m\u001b[0m\u001b[0m\n\u001b[1;32m-> 2927\u001b[1;33m             \u001b[0mindexer\u001b[0m \u001b[1;33m=\u001b[0m \u001b[0mself\u001b[0m\u001b[1;33m.\u001b[0m\u001b[0mcolumns\u001b[0m\u001b[1;33m.\u001b[0m\u001b[0mget_loc\u001b[0m\u001b[1;33m(\u001b[0m\u001b[0mkey\u001b[0m\u001b[1;33m)\u001b[0m\u001b[1;33m\u001b[0m\u001b[1;33m\u001b[0m\u001b[0m\n\u001b[0m\u001b[0;32m   2928\u001b[0m             \u001b[1;32mif\u001b[0m \u001b[0mis_integer\u001b[0m\u001b[1;33m(\u001b[0m\u001b[0mindexer\u001b[0m\u001b[1;33m)\u001b[0m\u001b[1;33m:\u001b[0m\u001b[1;33m\u001b[0m\u001b[1;33m\u001b[0m\u001b[0m\n\u001b[0;32m   2929\u001b[0m                 \u001b[0mindexer\u001b[0m \u001b[1;33m=\u001b[0m \u001b[1;33m[\u001b[0m\u001b[0mindexer\u001b[0m\u001b[1;33m]\u001b[0m\u001b[1;33m\u001b[0m\u001b[1;33m\u001b[0m\u001b[0m\n",
      "\u001b[1;32m~\\AppData\\Local\\Continuum\\anaconda3\\lib\\site-packages\\pandas\\core\\indexes\\base.py\u001b[0m in \u001b[0;36mget_loc\u001b[1;34m(self, key, method, tolerance)\u001b[0m\n\u001b[0;32m   2657\u001b[0m                 \u001b[1;32mreturn\u001b[0m \u001b[0mself\u001b[0m\u001b[1;33m.\u001b[0m\u001b[0m_engine\u001b[0m\u001b[1;33m.\u001b[0m\u001b[0mget_loc\u001b[0m\u001b[1;33m(\u001b[0m\u001b[0mkey\u001b[0m\u001b[1;33m)\u001b[0m\u001b[1;33m\u001b[0m\u001b[1;33m\u001b[0m\u001b[0m\n\u001b[0;32m   2658\u001b[0m             \u001b[1;32mexcept\u001b[0m \u001b[0mKeyError\u001b[0m\u001b[1;33m:\u001b[0m\u001b[1;33m\u001b[0m\u001b[1;33m\u001b[0m\u001b[0m\n\u001b[1;32m-> 2659\u001b[1;33m                 \u001b[1;32mreturn\u001b[0m \u001b[0mself\u001b[0m\u001b[1;33m.\u001b[0m\u001b[0m_engine\u001b[0m\u001b[1;33m.\u001b[0m\u001b[0mget_loc\u001b[0m\u001b[1;33m(\u001b[0m\u001b[0mself\u001b[0m\u001b[1;33m.\u001b[0m\u001b[0m_maybe_cast_indexer\u001b[0m\u001b[1;33m(\u001b[0m\u001b[0mkey\u001b[0m\u001b[1;33m)\u001b[0m\u001b[1;33m)\u001b[0m\u001b[1;33m\u001b[0m\u001b[1;33m\u001b[0m\u001b[0m\n\u001b[0m\u001b[0;32m   2660\u001b[0m         \u001b[0mindexer\u001b[0m \u001b[1;33m=\u001b[0m \u001b[0mself\u001b[0m\u001b[1;33m.\u001b[0m\u001b[0mget_indexer\u001b[0m\u001b[1;33m(\u001b[0m\u001b[1;33m[\u001b[0m\u001b[0mkey\u001b[0m\u001b[1;33m]\u001b[0m\u001b[1;33m,\u001b[0m \u001b[0mmethod\u001b[0m\u001b[1;33m=\u001b[0m\u001b[0mmethod\u001b[0m\u001b[1;33m,\u001b[0m \u001b[0mtolerance\u001b[0m\u001b[1;33m=\u001b[0m\u001b[0mtolerance\u001b[0m\u001b[1;33m)\u001b[0m\u001b[1;33m\u001b[0m\u001b[1;33m\u001b[0m\u001b[0m\n\u001b[0;32m   2661\u001b[0m         \u001b[1;32mif\u001b[0m \u001b[0mindexer\u001b[0m\u001b[1;33m.\u001b[0m\u001b[0mndim\u001b[0m \u001b[1;33m>\u001b[0m \u001b[1;36m1\u001b[0m \u001b[1;32mor\u001b[0m \u001b[0mindexer\u001b[0m\u001b[1;33m.\u001b[0m\u001b[0msize\u001b[0m \u001b[1;33m>\u001b[0m \u001b[1;36m1\u001b[0m\u001b[1;33m:\u001b[0m\u001b[1;33m\u001b[0m\u001b[1;33m\u001b[0m\u001b[0m\n",
      "\u001b[1;32mpandas/_libs/index.pyx\u001b[0m in \u001b[0;36mpandas._libs.index.IndexEngine.get_loc\u001b[1;34m()\u001b[0m\n",
      "\u001b[1;32mpandas/_libs/index.pyx\u001b[0m in \u001b[0;36mpandas._libs.index.IndexEngine.get_loc\u001b[1;34m()\u001b[0m\n",
      "\u001b[1;32mpandas/_libs/hashtable_class_helper.pxi\u001b[0m in \u001b[0;36mpandas._libs.hashtable.PyObjectHashTable.get_item\u001b[1;34m()\u001b[0m\n",
      "\u001b[1;32mpandas/_libs/hashtable_class_helper.pxi\u001b[0m in \u001b[0;36mpandas._libs.hashtable.PyObjectHashTable.get_item\u001b[1;34m()\u001b[0m\n",
      "\u001b[1;31mKeyError\u001b[0m: 'avg'"
     ]
    }
   ],
   "source": [
    "#plt.hist(train_df['avg'].values, bins = 30)"
   ]
  },
  {
   "cell_type": "code",
   "execution_count": 97,
   "metadata": {
    "colab": {},
    "colab_type": "code",
    "id": "o-Xurm4gy6jC"
   },
   "outputs": [],
   "source": [
    "res_exp = np.exp(res)"
   ]
  },
  {
   "cell_type": "code",
   "execution_count": 98,
   "metadata": {
    "colab": {
     "base_uri": "https://localhost:8080/",
     "height": 34
    },
    "colab_type": "code",
    "id": "cUqsDcyM0poy",
    "outputId": "07a26ac0-e3b2-4804-b864-d8d9349aa4ce"
   },
   "outputs": [
    {
     "data": {
      "text/plain": [
       "0"
      ]
     },
     "execution_count": 98,
     "metadata": {},
     "output_type": "execute_result"
    }
   ],
   "source": [
    "(res_exp < 0).sum()"
   ]
  },
  {
   "cell_type": "code",
   "execution_count": 99,
   "metadata": {
    "colab": {
     "base_uri": "https://localhost:8080/",
     "height": 517
    },
    "colab_type": "code",
    "id": "6bf7imaF0rt5",
    "jupyter": {
     "outputs_hidden": false
    },
    "outputId": "69e30c2f-9527-465f-e396-2cbdcedc7e77"
   },
   "outputs": [
    {
     "data": {
      "text/plain": [
       "(array([2.94103e+05, 1.20000e+01, 1.00000e+00, 4.00000e+00, 0.00000e+00,\n",
       "        1.00000e+00, 0.00000e+00, 0.00000e+00, 2.00000e+00, 1.00000e+00,\n",
       "        1.00000e+00, 2.00000e+00, 0.00000e+00, 0.00000e+00, 0.00000e+00,\n",
       "        0.00000e+00, 0.00000e+00, 0.00000e+00, 0.00000e+00, 0.00000e+00,\n",
       "        0.00000e+00, 0.00000e+00, 0.00000e+00, 0.00000e+00, 0.00000e+00,\n",
       "        0.00000e+00, 0.00000e+00, 0.00000e+00, 0.00000e+00, 1.00000e+00]),\n",
       " array([3.68507434e-09, 3.08463146e+06, 6.16926291e+06, 9.25389437e+06,\n",
       "        1.23385258e+07, 1.54231573e+07, 1.85077887e+07, 2.15924202e+07,\n",
       "        2.46770516e+07, 2.77616831e+07, 3.08463146e+07, 3.39309460e+07,\n",
       "        3.70155775e+07, 4.01002089e+07, 4.31848404e+07, 4.62694718e+07,\n",
       "        4.93541033e+07, 5.24387347e+07, 5.55233662e+07, 5.86079977e+07,\n",
       "        6.16926291e+07, 6.47772606e+07, 6.78618920e+07, 7.09465235e+07,\n",
       "        7.40311549e+07, 7.71157864e+07, 8.02004178e+07, 8.32850493e+07,\n",
       "        8.63696808e+07, 8.94543122e+07, 9.25389437e+07]),\n",
       " <a list of 30 Patch objects>)"
      ]
     },
     "execution_count": 99,
     "metadata": {},
     "output_type": "execute_result"
    },
    {
     "data": {
      "image/png": "[encoded data removed]",
      "text/plain": [
       "<Figure size 432x288 with 1 Axes>"
      ]
     },
     "metadata": {
      "needs_background": "light"
     },
     "output_type": "display_data"
    }
   ],
   "source": [
    "plt.hist(res_exp.ravel(),bins=30)"
   ]
  },
  {
   "cell_type": "code",
   "execution_count": 100,
   "metadata": {
    "colab": {
     "base_uri": "https://localhost:8080/",
     "height": 34
    },
    "colab_type": "code",
    "id": "Mz05oBYx0urw",
    "jupyter": {
     "outputs_hidden": false
    },
    "outputId": "3bb3ab7b-d8d2-4765-a8ce-49962c7cb33c"
   },
   "outputs": [
    {
     "data": {
      "text/plain": [
       "3.6850743383642473e-09"
      ]
     },
     "execution_count": 100,
     "metadata": {},
     "output_type": "execute_result"
    }
   ],
   "source": [
    "res_exp.min()"
   ]
  },
  {
   "cell_type": "code",
   "execution_count": 101,
   "metadata": {
    "colab": {
     "base_uri": "https://localhost:8080/",
     "height": 34
    },
    "colab_type": "code",
    "id": "M9HPx1cH1G5Q",
    "jupyter": {
     "outputs_hidden": false
    },
    "outputId": "bcf06bc8-2cfa-40e7-d0d4-32404c9ecee0"
   },
   "outputs": [
    {
     "data": {
      "text/plain": [
       "92538943.6678143"
      ]
     },
     "execution_count": 101,
     "metadata": {},
     "output_type": "execute_result"
    }
   ],
   "source": [
    "res_exp.max()"
   ]
  },
  {
   "cell_type": "code",
   "execution_count": 102,
   "metadata": {
    "colab": {
     "base_uri": "https://localhost:8080/",
     "height": 34
    },
    "colab_type": "code",
    "id": "n1aI27831IVX",
    "jupyter": {
     "outputs_hidden": false
    },
    "outputId": "a2ce9fa2-0124-45d7-920f-c8ba54d7eb3e"
   },
   "outputs": [
    {
     "data": {
      "text/plain": [
       "105047"
      ]
     },
     "execution_count": 102,
     "metadata": {},
     "output_type": "execute_result"
    }
   ],
   "source": [
    "(res_exp>2).sum()"
   ]
  },
  {
   "cell_type": "code",
   "execution_count": 103,
   "metadata": {
    "colab": {
     "base_uri": "https://localhost:8080/",
     "height": 486
    },
    "colab_type": "code",
    "id": "KT55gWmt1Qch",
    "jupyter": {
     "outputs_hidden": false
    },
    "outputId": "073bc41d-3035-42b6-f4e7-92c2690ac0bb"
   },
   "outputs": [
    {
     "data": {
      "text/plain": [
       "(array([105517.,  41863.,  28563.,  13137.,   8837.,   6756.,   5431.,\n",
       "          4389.,   3747.,   3139.,   2775.,   2434.,   2254.,   1955.,\n",
       "          1757.,   1646.,   1477.,   1390.,   1228.,   1178.,   1130.,\n",
       "          1035.,    932.,    934.,    872.,    830.,    787.,    729.,\n",
       "           770.,    655.]),\n",
       " array([3.68507434e-09, 4.99998203e-01, 9.99996402e-01, 1.49999460e+00,\n",
       "        1.99999280e+00, 2.49999100e+00, 2.99998920e+00, 3.49998740e+00,\n",
       "        3.99998560e+00, 4.49998380e+00, 4.99998199e+00, 5.49998019e+00,\n",
       "        5.99997839e+00, 6.49997659e+00, 6.99997479e+00, 7.49997299e+00,\n",
       "        7.99997119e+00, 8.49996939e+00, 8.99996759e+00, 9.49996579e+00,\n",
       "        9.99996399e+00, 1.04999622e+01, 1.09999604e+01, 1.14999586e+01,\n",
       "        1.19999568e+01, 1.24999550e+01, 1.29999532e+01, 1.34999514e+01,\n",
       "        1.39999496e+01, 1.44999478e+01, 1.49999460e+01]),\n",
       " <a list of 30 Patch objects>)"
      ]
     },
     "execution_count": 103,
     "metadata": {},
     "output_type": "execute_result"
    },
    {
     "data": {
      "image/png": "[encoded data removed]",
      "text/plain": [
       "<Figure size 432x288 with 1 Axes>"
      ]
     },
     "metadata": {
      "needs_background": "light"
     },
     "output_type": "display_data"
    }
   ],
   "source": [
    "plt.hist(res_exp.ravel()[res_exp.ravel()<15],bins =30)"
   ]
  },
  {
   "cell_type": "code",
   "execution_count": 104,
   "metadata": {
    "colab": {},
    "colab_type": "code",
    "id": "7KxYQIPi1ZGI"
   },
   "outputs": [
    {
     "data": {
      "text/plain": [
       "0.04264912572781344"
      ]
     },
     "execution_count": 104,
     "metadata": {},
     "output_type": "execute_result"
    }
   ],
   "source": [
    "get_mse(res, test)"
   ]
  },
  {
   "cell_type": "code",
   "execution_count": 105,
   "metadata": {},
   "outputs": [
    {
     "data": {
      "text/plain": [
       "0.2645751311064591"
      ]
     },
     "execution_count": 105,
     "metadata": {},
     "output_type": "execute_result"
    }
   ],
   "source": [
    "np.sqrt(0.07)"
   ]
  },
  {
   "cell_type": "code",
   "execution_count": 106,
   "metadata": {},
   "outputs": [
    {
     "data": {
      "text/plain": [
       "array([[-0.48493039, -0.22351255,  1.60105852, ...,  0.12582644,\n",
       "         0.92205631,  0.6879405 ],\n",
       "       [ 0.18997236,  0.02555858, -0.10480511, ...,  0.42407825,\n",
       "         0.38028449,  0.5153429 ],\n",
       "       [ 1.96317954,  0.56172598,  0.24123045, ...,  0.12379726,\n",
       "         0.83452308,  0.14113715],\n",
       "       ...,\n",
       "       [-0.3629331 , -0.68865564, -0.71378727, ...,  0.32386101,\n",
       "         1.4430395 ,  0.23456242],\n",
       "       [-1.53422051, -0.44465315, -1.12723766, ...,  1.18326136,\n",
       "         0.112955  ,  0.02071922],\n",
       "       [-0.24413675,  0.86743856, -0.36585434, ...,  0.12130933,\n",
       "         0.51908031, -2.20636192]])"
      ]
     },
     "execution_count": 106,
     "metadata": {},
     "output_type": "execute_result"
    }
   ],
   "source": [
    "U"
   ]
  },
  {
   "cell_type": "code",
   "execution_count": null,
   "metadata": {},
   "outputs": [],
   "source": []
  },
  {
   "cell_type": "code",
   "execution_count": 183,
   "metadata": {},
   "outputs": [],
   "source": [
    "class MF():\n",
    "    \n",
    "    def __init__(self, R, K, alpha, beta, iterations, lambda_bias):\n",
    "        \"\"\"\n",
    "        Perform matrix factorization to predict empty\n",
    "        entries in a matrix.\n",
    "        \n",
    "        Arguments\n",
    "        - R (ndarray)   : user-item rating matrix\n",
    "        - K (int)       : number of latent dimensions\n",
    "        - alpha (float) : learning rate\n",
    "        - beta (float)  : regularization parameter\n",
    "        \"\"\"\n",
    "        \n",
    "        self.R = R\n",
    "        self.num_users, self.num_items = R.shape\n",
    "        self.K = K\n",
    "        self.alpha = alpha\n",
    "        self.beta = beta\n",
    "        self.lambda_bias = lambda_bias\n",
    "        self.iterations = iterations\n",
    "\n",
    "    def train(self):\n",
    "        # Initialize user and item latent feature matrice\n",
    "        self.P = np.random.normal(scale=1./self.K, size=(self.num_users, self.K))\n",
    "        self.Q = np.random.normal(scale=1./self.K, size=(self.num_items, self.K))\n",
    "        \n",
    "        # Initialize the biases\n",
    "        self.b_u = np.zeros(self.num_users)\n",
    "        self.b_i = np.zeros(self.num_items)\n",
    "        self.b = np.mean(self.R[np.where(self.R != 0)])\n",
    "        \n",
    "        # Create a list of training samples\n",
    "        self.samples = [\n",
    "            (i, j, self.R[i, j])\n",
    "            for i in range(self.num_users)\n",
    "            for j in range(self.num_items)\n",
    "            if self.R[i, j] > 0\n",
    "        ]\n",
    "        \n",
    "        # Perform stochastic gradient descent for number of iterations\n",
    "        training_process = []\n",
    "        test_process = []\n",
    "        for i in range(self.iterations):\n",
    "            np.random.shuffle(self.samples)\n",
    "            self.sgd()\n",
    "            mse = self.mse()\n",
    "            training_process.append((i, mse))\n",
    "            if (i+1) % 10 == 0:\n",
    "#                 print(\"Iteration: %d ; error = %.4f\" % (i+1, mse))\n",
    "                temp_pred = self.full_matrix()\n",
    "                test_process.append(get_mse(temp_pred, test))\n",
    "        \n",
    "        return training_process, test_process\n",
    "\n",
    "    def mse(self):\n",
    "        \"\"\"\n",
    "        A function to compute the total mean square error\n",
    "        \"\"\"\n",
    "        xs, ys = self.R.nonzero()\n",
    "        predicted = self.full_matrix()\n",
    "        error = 0\n",
    "        for x, y in zip(xs, ys):\n",
    "            error += pow(self.R[x, y] - predicted[x, y], 2)\n",
    "        error /= len(xs)\n",
    "        return np.sqrt(error)\n",
    "\n",
    "    def sgd(self):\n",
    "        \"\"\"\n",
    "        Perform stochastic graident descent\n",
    "        \"\"\"\n",
    "        for i, j, r in self.samples:\n",
    "            # Computer prediction and error\n",
    "            prediction = self.get_rating(i, j)\n",
    "            e = (r - prediction)\n",
    "            \n",
    "            # Update biases\n",
    "            self.b_u[i] += self.alpha * (e - self.lambda_bias * self.b_u[i])\n",
    "            self.b_i[j] += self.alpha * (e - self.lambda_bias * self.b_i[j])\n",
    "            \n",
    "            # Create copy of row of P since we need to update it but use older values for update on Q\n",
    "            P_i = self.P[i, :][:]\n",
    "            \n",
    "            # Update user and item latent feature matrices\n",
    "            self.P[i, :] += self.alpha * (e * self.Q[j, :] - self.beta * self.P[i,:])\n",
    "            self.Q[j, :] += self.alpha * (e * P_i - self.beta * self.Q[j,:])\n",
    "\n",
    "    def get_rating(self, i, j):\n",
    "        \"\"\"\n",
    "        Get the predicted rating of user i and item j\n",
    "        \"\"\"\n",
    "        prediction = self.b + self.b_u[i] + self.b_i[j] + self.P[i, :].dot(self.Q[j, :].T)\n",
    "        return prediction\n",
    "    \n",
    "    def full_matrix(self):\n",
    "        \"\"\"\n",
    "        Computer the full matrix using the resultant biases, P and Q\n",
    "        \"\"\"\n",
    "        return mf.b_u[:,np.newaxis] + mf.b_i[np.newaxis:,] + mf.P.dot(mf.Q.T)  + mf.b\n",
    "\n",
    "# R = np.array([\n",
    "#     [5, 3, 0, 1],\n",
    "#     [4, 0, 0, 1],\n",
    "#     [1, 1, 0, 5],\n",
    "#     [1, 0, 0, 4],\n",
    "#     [0, 1, 5, 4],\n",
    "# ])\n",
    "\n",
    "\n",
    "\n",
    "\n"
   ]
  },
  {
   "cell_type": "code",
   "execution_count": 185,
   "metadata": {},
   "outputs": [
    {
     "name": "stdout",
     "output_type": "stream",
     "text": [
      "running k = 2\n",
      "running k = 4\n",
      "running k = 6\n"
     ]
    },
    {
     "ename": "KeyboardInterrupt",
     "evalue": "",
     "output_type": "error",
     "traceback": [
      "\u001b[1;31m---------------------------------------------------------------------------\u001b[0m",
      "\u001b[1;31mKeyboardInterrupt\u001b[0m                         Traceback (most recent call last)",
      "\u001b[1;32m<ipython-input-185-acf4af44b4b1>\u001b[0m in \u001b[0;36m<module>\u001b[1;34m\u001b[0m\n\u001b[0;32m     12\u001b[0m                 \u001b[1;32mfor\u001b[0m \u001b[0mlambda_bias\u001b[0m \u001b[1;32min\u001b[0m \u001b[0mlambdas\u001b[0m\u001b[1;33m:\u001b[0m\u001b[1;33m\u001b[0m\u001b[1;33m\u001b[0m\u001b[0m\n\u001b[0;32m     13\u001b[0m                     \u001b[0mmf\u001b[0m \u001b[1;33m=\u001b[0m \u001b[0mMF\u001b[0m\u001b[1;33m(\u001b[0m\u001b[0mtrain\u001b[0m\u001b[1;33m,\u001b[0m \u001b[0mK\u001b[0m\u001b[1;33m=\u001b[0m\u001b[0mk\u001b[0m\u001b[1;33m,\u001b[0m \u001b[0malpha\u001b[0m\u001b[1;33m=\u001b[0m\u001b[0ma\u001b[0m\u001b[1;33m,\u001b[0m \u001b[0mbeta\u001b[0m\u001b[1;33m=\u001b[0m\u001b[0mbeta\u001b[0m\u001b[1;33m,\u001b[0m \u001b[0miterations\u001b[0m\u001b[1;33m=\u001b[0m\u001b[1;36m300\u001b[0m\u001b[1;33m,\u001b[0m \u001b[0mlambda_bias\u001b[0m\u001b[1;33m=\u001b[0m\u001b[0mlambda_bias\u001b[0m\u001b[1;33m)\u001b[0m\u001b[1;33m\u001b[0m\u001b[1;33m\u001b[0m\u001b[0m\n\u001b[1;32m---> 14\u001b[1;33m                     \u001b[0mtraining_process\u001b[0m\u001b[1;33m,\u001b[0m \u001b[0mtest_process\u001b[0m \u001b[1;33m=\u001b[0m \u001b[0mmf\u001b[0m\u001b[1;33m.\u001b[0m\u001b[0mtrain\u001b[0m\u001b[1;33m(\u001b[0m\u001b[1;33m)\u001b[0m\u001b[1;33m\u001b[0m\u001b[1;33m\u001b[0m\u001b[0m\n\u001b[0m\u001b[0;32m     15\u001b[0m                     \u001b[0mbest_test_error\u001b[0m\u001b[1;33m[\u001b[0m\u001b[1;33m(\u001b[0m\u001b[0mk\u001b[0m\u001b[1;33m,\u001b[0m \u001b[0ma\u001b[0m\u001b[1;33m,\u001b[0m \u001b[0mbeta\u001b[0m\u001b[1;33m,\u001b[0m \u001b[0mlambda_bias\u001b[0m\u001b[1;33m)\u001b[0m\u001b[1;33m]\u001b[0m \u001b[1;33m=\u001b[0m \u001b[0mmin\u001b[0m\u001b[1;33m(\u001b[0m\u001b[0mtest_process\u001b[0m\u001b[1;33m)\u001b[0m\u001b[1;33m\u001b[0m\u001b[1;33m\u001b[0m\u001b[0m\n\u001b[0;32m     16\u001b[0m \u001b[1;33m\u001b[0m\u001b[0m\n",
      "\u001b[1;32m<ipython-input-183-3daaf9f2db61>\u001b[0m in \u001b[0;36mtrain\u001b[1;34m(self)\u001b[0m\n\u001b[0;32m     44\u001b[0m         \u001b[1;32mfor\u001b[0m \u001b[0mi\u001b[0m \u001b[1;32min\u001b[0m \u001b[0mrange\u001b[0m\u001b[1;33m(\u001b[0m\u001b[0mself\u001b[0m\u001b[1;33m.\u001b[0m\u001b[0miterations\u001b[0m\u001b[1;33m)\u001b[0m\u001b[1;33m:\u001b[0m\u001b[1;33m\u001b[0m\u001b[1;33m\u001b[0m\u001b[0m\n\u001b[0;32m     45\u001b[0m             \u001b[0mnp\u001b[0m\u001b[1;33m.\u001b[0m\u001b[0mrandom\u001b[0m\u001b[1;33m.\u001b[0m\u001b[0mshuffle\u001b[0m\u001b[1;33m(\u001b[0m\u001b[0mself\u001b[0m\u001b[1;33m.\u001b[0m\u001b[0msamples\u001b[0m\u001b[1;33m)\u001b[0m\u001b[1;33m\u001b[0m\u001b[1;33m\u001b[0m\u001b[0m\n\u001b[1;32m---> 46\u001b[1;33m             \u001b[0mself\u001b[0m\u001b[1;33m.\u001b[0m\u001b[0msgd\u001b[0m\u001b[1;33m(\u001b[0m\u001b[1;33m)\u001b[0m\u001b[1;33m\u001b[0m\u001b[1;33m\u001b[0m\u001b[0m\n\u001b[0m\u001b[0;32m     47\u001b[0m             \u001b[0mmse\u001b[0m \u001b[1;33m=\u001b[0m \u001b[0mself\u001b[0m\u001b[1;33m.\u001b[0m\u001b[0mmse\u001b[0m\u001b[1;33m(\u001b[0m\u001b[1;33m)\u001b[0m\u001b[1;33m\u001b[0m\u001b[1;33m\u001b[0m\u001b[0m\n\u001b[0;32m     48\u001b[0m             \u001b[0mtraining_process\u001b[0m\u001b[1;33m.\u001b[0m\u001b[0mappend\u001b[0m\u001b[1;33m(\u001b[0m\u001b[1;33m(\u001b[0m\u001b[0mi\u001b[0m\u001b[1;33m,\u001b[0m \u001b[0mmse\u001b[0m\u001b[1;33m)\u001b[0m\u001b[1;33m)\u001b[0m\u001b[1;33m\u001b[0m\u001b[1;33m\u001b[0m\u001b[0m\n",
      "\u001b[1;32m<ipython-input-183-3daaf9f2db61>\u001b[0m in \u001b[0;36msgd\u001b[1;34m(self)\u001b[0m\n\u001b[0;32m     72\u001b[0m         \u001b[1;32mfor\u001b[0m \u001b[0mi\u001b[0m\u001b[1;33m,\u001b[0m \u001b[0mj\u001b[0m\u001b[1;33m,\u001b[0m \u001b[0mr\u001b[0m \u001b[1;32min\u001b[0m \u001b[0mself\u001b[0m\u001b[1;33m.\u001b[0m\u001b[0msamples\u001b[0m\u001b[1;33m:\u001b[0m\u001b[1;33m\u001b[0m\u001b[1;33m\u001b[0m\u001b[0m\n\u001b[0;32m     73\u001b[0m             \u001b[1;31m# Computer prediction and error\u001b[0m\u001b[1;33m\u001b[0m\u001b[1;33m\u001b[0m\u001b[1;33m\u001b[0m\u001b[0m\n\u001b[1;32m---> 74\u001b[1;33m             \u001b[0mprediction\u001b[0m \u001b[1;33m=\u001b[0m \u001b[0mself\u001b[0m\u001b[1;33m.\u001b[0m\u001b[0mget_rating\u001b[0m\u001b[1;33m(\u001b[0m\u001b[0mi\u001b[0m\u001b[1;33m,\u001b[0m \u001b[0mj\u001b[0m\u001b[1;33m)\u001b[0m\u001b[1;33m\u001b[0m\u001b[1;33m\u001b[0m\u001b[0m\n\u001b[0m\u001b[0;32m     75\u001b[0m             \u001b[0me\u001b[0m \u001b[1;33m=\u001b[0m \u001b[1;33m(\u001b[0m\u001b[0mr\u001b[0m \u001b[1;33m-\u001b[0m \u001b[0mprediction\u001b[0m\u001b[1;33m)\u001b[0m\u001b[1;33m\u001b[0m\u001b[1;33m\u001b[0m\u001b[0m\n\u001b[0;32m     76\u001b[0m \u001b[1;33m\u001b[0m\u001b[0m\n",
      "\u001b[1;32m<ipython-input-183-3daaf9f2db61>\u001b[0m in \u001b[0;36mget_rating\u001b[1;34m(self, i, j)\u001b[0m\n\u001b[0;32m     90\u001b[0m         \u001b[0mGet\u001b[0m \u001b[0mthe\u001b[0m \u001b[0mpredicted\u001b[0m \u001b[0mrating\u001b[0m \u001b[0mof\u001b[0m \u001b[0muser\u001b[0m \u001b[0mi\u001b[0m \u001b[1;32mand\u001b[0m \u001b[0mitem\u001b[0m \u001b[0mj\u001b[0m\u001b[1;33m\u001b[0m\u001b[1;33m\u001b[0m\u001b[0m\n\u001b[0;32m     91\u001b[0m         \"\"\"\n\u001b[1;32m---> 92\u001b[1;33m         \u001b[0mprediction\u001b[0m \u001b[1;33m=\u001b[0m \u001b[0mself\u001b[0m\u001b[1;33m.\u001b[0m\u001b[0mb\u001b[0m \u001b[1;33m+\u001b[0m \u001b[0mself\u001b[0m\u001b[1;33m.\u001b[0m\u001b[0mb_u\u001b[0m\u001b[1;33m[\u001b[0m\u001b[0mi\u001b[0m\u001b[1;33m]\u001b[0m \u001b[1;33m+\u001b[0m \u001b[0mself\u001b[0m\u001b[1;33m.\u001b[0m\u001b[0mb_i\u001b[0m\u001b[1;33m[\u001b[0m\u001b[0mj\u001b[0m\u001b[1;33m]\u001b[0m \u001b[1;33m+\u001b[0m \u001b[0mself\u001b[0m\u001b[1;33m.\u001b[0m\u001b[0mP\u001b[0m\u001b[1;33m[\u001b[0m\u001b[0mi\u001b[0m\u001b[1;33m,\u001b[0m \u001b[1;33m:\u001b[0m\u001b[1;33m]\u001b[0m\u001b[1;33m.\u001b[0m\u001b[0mdot\u001b[0m\u001b[1;33m(\u001b[0m\u001b[0mself\u001b[0m\u001b[1;33m.\u001b[0m\u001b[0mQ\u001b[0m\u001b[1;33m[\u001b[0m\u001b[0mj\u001b[0m\u001b[1;33m,\u001b[0m \u001b[1;33m:\u001b[0m\u001b[1;33m]\u001b[0m\u001b[1;33m.\u001b[0m\u001b[0mT\u001b[0m\u001b[1;33m)\u001b[0m\u001b[1;33m\u001b[0m\u001b[1;33m\u001b[0m\u001b[0m\n\u001b[0m\u001b[0;32m     93\u001b[0m         \u001b[1;32mreturn\u001b[0m \u001b[0mprediction\u001b[0m\u001b[1;33m\u001b[0m\u001b[1;33m\u001b[0m\u001b[0m\n\u001b[0;32m     94\u001b[0m \u001b[1;33m\u001b[0m\u001b[0m\n",
      "\u001b[1;31mKeyboardInterrupt\u001b[0m: "
     ]
    }
   ],
   "source": [
    "kmax = 30\n",
    "ks  = range(2, kmax+1, 2)\n",
    "alphas = [10**i for i in range(-5,0)]\n",
    "betas = [10**i for i in range(-5,0)]\n",
    "lambdas = [10**i for i in range(-5,0)]\n",
    "best_test_error = {}\n",
    "for k in ks:\n",
    "    print(f'running k = {k}')\n",
    "    if k > 5:\n",
    "        for a in alphas:\n",
    "            for beta in betas:\n",
    "                for lambda_bias in lambdas:\n",
    "                    mf = MF(train, K=k, alpha=a, beta=beta, iterations=300, lambda_bias=lambda_bias)\n",
    "                    training_process, test_process = mf.train()\n",
    "                    best_test_error[(k, a, beta, lambda_bias)] = min(test_process)\n",
    "\n",
    "print()\n",
    "# print(\"P x Q:\")\n",
    "# print(mf.full_matrix())\n",
    "# print()\n",
    "print(\"Global bias:\")\n",
    "print(mf.b)\n",
    "# print()\n",
    "# print(\"User bias:\")\n",
    "# print(mf.b_u)\n",
    "# print()\n",
    "# print(\"Item bias:\")\n",
    "# print(mf.b_i)"
   ]
  },
  {
   "cell_type": "code",
   "execution_count": 160,
   "metadata": {},
   "outputs": [
    {
     "data": {
      "image/png": "[encoded data removed]",
      "text/plain": [
       "<Figure size 1152x288 with 1 Axes>"
      ]
     },
     "metadata": {
      "needs_background": "light"
     },
     "output_type": "display_data"
    }
   ],
   "source": [
    "x = [val[0] for i, val in enumerate(training_process) if i%20 == 0]\n",
    "y = [val[1] for i, val in enumerate(training_process) if i%20 == 0]\n",
    "plt.figure(figsize=((16,4)))\n",
    "plt.plot(x, y)\n",
    "plt.xticks(x, x)\n",
    "plt.xlabel(\"Iterations\")\n",
    "plt.ylabel(\"Mean Square Error\")\n",
    "plt.grid(axis=\"y\")\n"
   ]
  },
  {
   "cell_type": "code",
   "execution_count": 161,
   "metadata": {},
   "outputs": [
    {
     "data": {
      "text/plain": [
       "(array([5.00000e+00, 1.20000e+01, 9.00000e+01, 4.99000e+02, 6.73100e+03,\n",
       "        2.32476e+05, 5.33860e+04, 8.62000e+02, 6.20000e+01, 5.00000e+00]),\n",
       " array([-0.32300702, -0.2612652 , -0.19952338, -0.13778156, -0.07603974,\n",
       "        -0.01429792,  0.0474439 ,  0.10918572,  0.17092754,  0.23266936,\n",
       "         0.29441118]),\n",
       " <a list of 10 Patch objects>)"
      ]
     },
     "execution_count": 161,
     "metadata": {},
     "output_type": "execute_result"
    },
    {
     "data": {
      "image/png": "[encoded data removed]",
      "text/plain": [
       "<Figure size 432x288 with 1 Axes>"
      ]
     },
     "metadata": {
      "needs_background": "light"
     },
     "output_type": "display_data"
    }
   ],
   "source": [
    "pred = mf.full_matrix()\n",
    "plt.hist(np.reshape(pred, train.shape[0]*train.shape[1], 1))"
   ]
  },
  {
   "cell_type": "code",
   "execution_count": 162,
   "metadata": {},
   "outputs": [],
   "source": [
    "res = np.exp(pred)"
   ]
  },
  {
   "cell_type": "code",
   "execution_count": 163,
   "metadata": {},
   "outputs": [
    {
     "data": {
      "text/plain": [
       "(array([9.00000e+00, 3.70000e+01, 3.10000e+02, 3.08200e+03, 1.60843e+05,\n",
       "        1.27831e+05, 1.78100e+03, 2.11000e+02, 2.10000e+01, 3.00000e+00]),\n",
       " array([0.72396878, 0.78580547, 0.84764217, 0.90947886, 0.97131556,\n",
       "        1.03315225, 1.09498895, 1.15682564, 1.21866234, 1.28049904,\n",
       "        1.34233573]),\n",
       " <a list of 10 Patch objects>)"
      ]
     },
     "execution_count": 163,
     "metadata": {},
     "output_type": "execute_result"
    },
    {
     "data": {
      "image/png": "[encoded data removed]",
      "text/plain": [
       "<Figure size 432x288 with 1 Axes>"
      ]
     },
     "metadata": {
      "needs_background": "light"
     },
     "output_type": "display_data"
    }
   ],
   "source": [
    "plt.hist(np.reshape(res, train.shape[0]*train.shape[1], 1))"
   ]
  },
  {
   "cell_type": "code",
   "execution_count": 164,
   "metadata": {},
   "outputs": [
    {
     "data": {
      "text/plain": [
       "0.6502730801666666"
      ]
     },
     "execution_count": 164,
     "metadata": {},
     "output_type": "execute_result"
    }
   ],
   "source": [
    "np.exp(train_df['YIELD']).min()"
   ]
  },
  {
   "cell_type": "code",
   "execution_count": 165,
   "metadata": {},
   "outputs": [
    {
     "data": {
      "text/plain": [
       "1.2400148732500003"
      ]
     },
     "execution_count": 165,
     "metadata": {},
     "output_type": "execute_result"
    }
   ],
   "source": [
    "np.exp(train_df['YIELD']).max()"
   ]
  },
  {
   "cell_type": "code",
   "execution_count": 166,
   "metadata": {},
   "outputs": [
    {
     "data": {
      "text/plain": [
       "0.0014978309380041688"
      ]
     },
     "execution_count": 166,
     "metadata": {},
     "output_type": "execute_result"
    }
   ],
   "source": [
    "get_mse(res,np.exp(test))"
   ]
  },
  {
   "cell_type": "code",
   "execution_count": 167,
   "metadata": {},
   "outputs": [
    {
     "data": {
      "text/plain": [
       "0.04183300132670378"
      ]
     },
     "execution_count": 167,
     "metadata": {},
     "output_type": "execute_result"
    }
   ],
   "source": [
    "np.sqrt(0.00175)"
   ]
  },
  {
   "cell_type": "code",
   "execution_count": 168,
   "metadata": {},
   "outputs": [
    {
     "data": {
      "text/plain": [
       "0.723968775585488"
      ]
     },
     "execution_count": 168,
     "metadata": {},
     "output_type": "execute_result"
    }
   ],
   "source": [
    "res.min()"
   ]
  },
  {
   "cell_type": "code",
   "execution_count": 169,
   "metadata": {},
   "outputs": [
    {
     "data": {
      "text/plain": [
       "1.3423357308543296"
      ]
     },
     "execution_count": 169,
     "metadata": {},
     "output_type": "execute_result"
    }
   ],
   "source": [
    "res.max()"
   ]
  },
  {
   "cell_type": "code",
   "execution_count": 182,
   "metadata": {},
   "outputs": [
    {
     "data": {
      "text/plain": [
       "{(2, 1e-05, 1e-05, 1e-05): 0.1080783328260332,\n",
       " (2, 1e-05, 1e-05, 0.0001): 0.12129882545125063,\n",
       " (2, 1e-05, 1e-05, 0.001): 0.10833931407682157,\n",
       " (2, 1e-05, 1e-05, 0.01): 0.12336927238037892,\n",
       " (2, 1e-05, 1e-05, 0.1): 0.14105513001223083,\n",
       " (2, 1e-05, 0.0001, 1e-05): 0.14146415498809548,\n",
       " (2, 1e-05, 0.0001, 0.0001): 0.12631253642232185,\n",
       " (2, 1e-05, 0.0001, 0.001): 0.11593906786755469,\n",
       " (2, 1e-05, 0.0001, 0.01): 0.11589492579072433,\n",
       " (2, 1e-05, 0.0001, 0.1): 0.12572362931219955,\n",
       " (2, 1e-05, 0.001, 1e-05): 0.11882174071107422,\n",
       " (2, 1e-05, 0.001, 0.0001): 0.12177563751539501,\n",
       " (2, 1e-05, 0.001, 0.001): 0.12742475832402367,\n",
       " (2, 1e-05, 0.001, 0.01): 0.1196093108906674,\n",
       " (2, 1e-05, 0.001, 0.1): 0.11768574179267466,\n",
       " (2, 1e-05, 0.01, 1e-05): 0.13526909089801628,\n",
       " (2, 1e-05, 0.01, 0.0001): 0.1323897605553742,\n",
       " (2, 1e-05, 0.01, 0.001): 0.12862801480122069,\n",
       " (2, 1e-05, 0.01, 0.01): 0.1429405836819949,\n",
       " (2, 1e-05, 0.01, 0.1): 0.13313725396506335,\n",
       " (2, 1e-05, 0.1, 1e-05): 0.1257454481498162,\n",
       " (2, 1e-05, 0.1, 0.0001): 0.11467893314292324,\n",
       " (2, 1e-05, 0.1, 0.001): 0.10828963207455902,\n",
       " (2, 1e-05, 0.1, 0.01): 0.11783163794268744,\n",
       " (2, 1e-05, 0.1, 0.1): 0.11998574636727297,\n",
       " (2, 0.0001, 1e-05, 1e-05): 0.09857844919267768,\n",
       " (2, 0.0001, 1e-05, 0.0001): 0.09694544888558962,\n",
       " (2, 0.0001, 1e-05, 0.001): 0.10130351734626794,\n",
       " (2, 0.0001, 1e-05, 0.01): 0.0891760835883712,\n",
       " (2, 0.0001, 1e-05, 0.1): 0.09288319225847469,\n",
       " (2, 0.0001, 0.0001, 1e-05): 0.08569563625000133,\n",
       " (2, 0.0001, 0.0001, 0.0001): 0.0896899349691626,\n",
       " (2, 0.0001, 0.0001, 0.001): 0.10183576394407354,\n",
       " (2, 0.0001, 0.0001, 0.01): 0.09848707078562537,\n",
       " (2, 0.0001, 0.0001, 0.1): 0.08690965574776001,\n",
       " (2, 0.0001, 0.001, 1e-05): 0.0744101226593577,\n",
       " (2, 0.0001, 0.001, 0.0001): 0.09439757700183929,\n",
       " (2, 0.0001, 0.001, 0.001): 0.0879588993083253,\n",
       " (2, 0.0001, 0.001, 0.01): 0.07817323137807465,\n",
       " (2, 0.0001, 0.001, 0.1): 0.09035623242153983,\n",
       " (2, 0.0001, 0.01, 1e-05): 0.09395464548754205,\n",
       " (2, 0.0001, 0.01, 0.0001): 0.0797968595738139,\n",
       " (2, 0.0001, 0.01, 0.001): 0.08420935170674143,\n",
       " (2, 0.0001, 0.01, 0.01): 0.08003496184270027,\n",
       " (2, 0.0001, 0.01, 0.1): 0.07771473189168504,\n",
       " (2, 0.0001, 0.1, 1e-05): 0.09233874841706045,\n",
       " (2, 0.0001, 0.1, 0.0001): 0.06957124594067857,\n",
       " (2, 0.0001, 0.1, 0.001): 0.0654447324993674,\n",
       " (2, 0.0001, 0.1, 0.01): 0.07260127372775395,\n",
       " (2, 0.0001, 0.1, 0.1): 0.07480134672783173,\n",
       " (2, 0.001, 1e-05, 1e-05): 0.045598526266557596,\n",
       " (2, 0.001, 1e-05, 0.0001): 0.03424440148350455,\n",
       " (2, 0.001, 1e-05, 0.001): 0.03680353409008499,\n",
       " (2, 0.001, 1e-05, 0.01): 0.03231298204833567,\n",
       " (2, 0.001, 1e-05, 0.1): 0.038374870713169036,\n",
       " (2, 0.001, 0.0001, 1e-05): 0.035543161313058305,\n",
       " (2, 0.001, 0.0001, 0.0001): 0.03753659130987731,\n",
       " (2, 0.001, 0.0001, 0.001): 0.04563991902459854,\n",
       " (2, 0.001, 0.0001, 0.01): 0.03644603912732091,\n",
       " (2, 0.001, 0.0001, 0.1): 0.03501002892833566,\n",
       " (2, 0.001, 0.001, 1e-05): 0.030692837354883342,\n",
       " (2, 0.001, 0.001, 0.0001): 0.039763246740588516,\n",
       " (2, 0.001, 0.001, 0.001): 0.031038085422840526,\n",
       " (2, 0.001, 0.001, 0.01): 0.037053511373058574,\n",
       " (2, 0.001, 0.001, 0.1): 0.02992035053962432,\n",
       " (2, 0.001, 0.01, 1e-05): 0.03338690891746023,\n",
       " (2, 0.001, 0.01, 0.0001): 0.033696227278413066,\n",
       " (2, 0.001, 0.01, 0.001): 0.029372125937778184,\n",
       " (2, 0.001, 0.01, 0.01): 0.030478805521557396,\n",
       " (2, 0.001, 0.01, 0.1): 0.03336316995255176,\n",
       " (2, 0.001, 0.1, 1e-05): 0.02095648155792941,\n",
       " (2, 0.001, 0.1, 0.0001): 0.02127038772899384,\n",
       " (2, 0.001, 0.1, 0.001): 0.019696239477332483,\n",
       " (2, 0.001, 0.1, 0.01): 0.020438445713646718,\n",
       " (2, 0.001, 0.1, 0.1): 0.020671566442431278,\n",
       " (2, 0.01, 1e-05, 1e-05): 0.016642180834704545,\n",
       " (2, 0.01, 1e-05, 0.0001): 0.015378940808280691,\n",
       " (2, 0.01, 1e-05, 0.001): 0.01802399917032886,\n",
       " (2, 0.01, 1e-05, 0.01): 0.020786185826008358,\n",
       " (2, 0.01, 1e-05, 0.1): 0.01737953059679249,\n",
       " (2, 0.01, 0.0001, 1e-05): 0.020959313010570312,\n",
       " (2, 0.01, 0.0001, 0.0001): 0.019641076726831363,\n",
       " (2, 0.01, 0.0001, 0.001): 0.02037137221621219,\n",
       " (2, 0.01, 0.0001, 0.01): 0.01521755727046982,\n",
       " (2, 0.01, 0.0001, 0.1): 0.021579190574999376,\n",
       " (2, 0.01, 0.001, 1e-05): 0.017896947249844607,\n",
       " (2, 0.01, 0.001, 0.0001): 0.015398576066232348,\n",
       " (2, 0.01, 0.001, 0.001): 0.01628098285068593,\n",
       " (2, 0.01, 0.001, 0.01): 0.014789779564751653,\n",
       " (2, 0.01, 0.001, 0.1): 0.019526250710562118,\n",
       " (2, 0.01, 0.01, 1e-05): 0.012907121048159708,\n",
       " (2, 0.01, 0.01, 0.0001): 0.010851284677401646,\n",
       " (2, 0.01, 0.01, 0.001): 0.016431088012251755,\n",
       " (2, 0.01, 0.01, 0.01): 0.01141132187673509,\n",
       " (2, 0.01, 0.01, 0.1): 0.015304882238800735,\n",
       " (2, 0.01, 0.1, 1e-05): 0.007974238402333116,\n",
       " (2, 0.01, 0.1, 0.0001): 0.005724046167605488,\n",
       " (2, 0.01, 0.1, 0.001): 0.0050969085866723746,\n",
       " (2, 0.01, 0.1, 0.01): 0.00547374637917589,\n",
       " (2, 0.01, 0.1, 0.1): 0.005768800619130541,\n",
       " (2, 0.1, 1e-05, 1e-05): 0.017042371650086315,\n",
       " (2, 0.1, 1e-05, 0.0001): 0.01691992651927135,\n",
       " (2, 0.1, 1e-05, 0.001): 0.017471747699821624,\n",
       " (2, 0.1, 1e-05, 0.01): 0.012683657473251026,\n",
       " (2, 0.1, 1e-05, 0.1): 0.013154850832147354,\n",
       " (2, 0.1, 0.0001, 1e-05): 0.016625118034310514,\n",
       " (2, 0.1, 0.0001, 0.0001): 0.012542349189207552,\n",
       " (2, 0.1, 0.0001, 0.001): 0.015952032602899093,\n",
       " (2, 0.1, 0.0001, 0.01): 0.013023382383182916,\n",
       " (2, 0.1, 0.0001, 0.1): 0.01660220101073069,\n",
       " (2, 0.1, 0.001, 1e-05): 0.013464646699240366,\n",
       " (2, 0.1, 0.001, 0.0001): 0.013701033079400356,\n",
       " (2, 0.1, 0.001, 0.001): 0.012259776886309092,\n",
       " (2, 0.1, 0.001, 0.01): 0.013234378590478978,\n",
       " (2, 0.1, 0.001, 0.1): 0.010744672368102401,\n",
       " (2, 0.1, 0.01, 1e-05): 0.0057456621130745995,\n",
       " (2, 0.1, 0.01, 0.0001): 0.005632075464105594,\n",
       " (2, 0.1, 0.01, 0.001): 0.005389912928697765,\n",
       " (2, 0.1, 0.01, 0.01): 0.006120621395020883,\n",
       " (2, 0.1, 0.01, 0.1): 0.005327151337317985,\n",
       " (2, 0.1, 0.1, 1e-05): 0.004929488379060537,\n",
       " (2, 0.1, 0.1, 0.0001): 0.004873197158578244,\n",
       " (2, 0.1, 0.1, 0.001): 0.005003467262272037,\n",
       " (2, 0.1, 0.1, 0.01): 0.005065545756703908,\n",
       " (2, 0.1, 0.1, 0.1): 0.004873527589424758,\n",
       " (4, 1e-05, 1e-05, 1e-05): 0.0180291297181439,\n",
       " (4, 1e-05, 1e-05, 0.0001): 0.019001950161179174,\n",
       " (4, 1e-05, 1e-05, 0.001): 0.017417990860930366,\n",
       " (4, 1e-05, 1e-05, 0.01): 0.019372202866788226,\n",
       " (4, 1e-05, 1e-05, 0.1): 0.018768595655428006,\n",
       " (4, 1e-05, 0.0001, 1e-05): 0.017828571339716784,\n",
       " (4, 1e-05, 0.0001, 0.0001): 0.02197466827445608,\n",
       " (4, 1e-05, 0.0001, 0.001): 0.019465586206912636,\n",
       " (4, 1e-05, 0.0001, 0.01): 0.017087021546946152,\n",
       " (4, 1e-05, 0.0001, 0.1): 0.019174603110199136,\n",
       " (4, 1e-05, 0.001, 1e-05): 0.018224982898567978,\n",
       " (4, 1e-05, 0.001, 0.0001): 0.018327810757142723,\n",
       " (4, 1e-05, 0.001, 0.001): 0.018843480317818084,\n",
       " (4, 1e-05, 0.001, 0.01): 0.01881250803706595,\n",
       " (4, 1e-05, 0.001, 0.1): 0.018714409338035885,\n",
       " (4, 1e-05, 0.01, 1e-05): 0.019210516074048604,\n",
       " (4, 1e-05, 0.01, 0.0001): 0.018643582977315838,\n",
       " (4, 1e-05, 0.01, 0.001): 0.017002923184528663,\n",
       " (4, 1e-05, 0.01, 0.01): 0.019160592227052874,\n",
       " (4, 1e-05, 0.01, 0.1): 0.019895655386618173,\n",
       " (4, 1e-05, 0.1, 1e-05): 0.01950494144089374,\n",
       " (4, 1e-05, 0.1, 0.0001): 0.021532861557038225,\n",
       " (4, 1e-05, 0.1, 0.001): 0.018274013616592998,\n",
       " (4, 1e-05, 0.1, 0.01): 0.02062247956452094,\n",
       " (4, 1e-05, 0.1, 0.1): 0.017816795654021417,\n",
       " (4, 0.0001, 1e-05, 1e-05): 0.019762900264395297,\n",
       " (4, 0.0001, 1e-05, 0.0001): 0.016205731312951555,\n",
       " (4, 0.0001, 1e-05, 0.001): 0.016067132454334568,\n",
       " (4, 0.0001, 1e-05, 0.01): 0.017966733395658855,\n",
       " (4, 0.0001, 1e-05, 0.1): 0.018784703287456454,\n",
       " (4, 0.0001, 0.0001, 1e-05): 0.016678651403628543,\n",
       " (4, 0.0001, 0.0001, 0.0001): 0.019632053871957426,\n",
       " (4, 0.0001, 0.0001, 0.001): 0.017981300312291188,\n",
       " (4, 0.0001, 0.0001, 0.01): 0.019555338883339955,\n",
       " (4, 0.0001, 0.0001, 0.1): 0.018286919614493524,\n",
       " (4, 0.0001, 0.001, 1e-05): 0.016828447775361067,\n",
       " (4, 0.0001, 0.001, 0.0001): 0.018664391516791057}"
      ]
     },
     "execution_count": 182,
     "metadata": {},
     "output_type": "execute_result"
    }
   ],
   "source": [
    "best_test_error"
   ]
  },
  {
   "cell_type": "code",
   "execution_count": null,
   "metadata": {},
   "outputs": [],
   "source": [
    "\n"
   ]
  }
 ],
 "metadata": {
  "anaconda-cloud": {},
  "colab": {
   "collapsed_sections": [],
   "name": "syngenta_crop_challenge.ipynb",
   "provenance": []
  },
  "kernelspec": {
   "display_name": "Python 3",
   "language": "python",
   "name": "python3"
  },
  "language_info": {
   "codemirror_mode": {
    "name": "ipython",
    "version": 3
   },
   "file_extension": ".py",
   "mimetype": "text/x-python",
   "name": "python",
   "nbconvert_exporter": "python",
   "pygments_lexer": "ipython3",
   "version": "3.7.3"
  }
 },
 "nbformat": 4,
 "nbformat_minor": 4
}
